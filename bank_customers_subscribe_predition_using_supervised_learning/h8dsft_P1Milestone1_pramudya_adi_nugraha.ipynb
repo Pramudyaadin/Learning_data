{
  "cells": [
    {
      "cell_type": "markdown",
      "metadata": {
        "id": "dIIfxFfGKoM6"
      },
      "source": [
        "# Perkenalan"
      ]
    },
    {
      "cell_type": "markdown",
      "metadata": {
        "id": "JanWjgRqKrua"
      },
      "source": [
        "Nama : Pramudya Adi Nugraha\n",
        "\n",
        "Batch : 10\n",
        "\n",
        "Dataset : Bank Marketing Data Set\n",
        "\n",
        "Objective :\n",
        "- Mampu memahami konsep supervised learning\n",
        "- Mampu mempersiapkan data untuk digunakan dalam model supervised learning\n",
        "- Mampu mengimplementasikan supervised learning dengan data yang diberikan\n",
        "- Mampu melakukan evaluasi model\n",
        "- Mampu melakukan model tuning"
      ]
    },
    {
      "cell_type": "markdown",
      "metadata": {
        "id": "fprqUishKzl6"
      },
      "source": [
        "# Import Libraries"
      ]
    },
    {
      "cell_type": "code",
      "execution_count": 1,
      "metadata": {
        "id": "D_vcVTbeK53T"
      },
      "outputs": [],
      "source": [
        "# Import Libraries\n",
        "\n",
        "import pandas as pd\n",
        "import numpy as np\n",
        "import seaborn as sns\n",
        "import matplotlib.pyplot as plt\n",
        "from sklearn.model_selection import train_test_split, cross_val_score, GridSearchCV\n",
        "from sklearn.preprocessing import PowerTransformer, OneHotEncoder, OrdinalEncoder,StandardScaler\n",
        "import scipy.stats as stats\n",
        "from scipy.stats import norm\n",
        "from feature_engine.outliers import OutlierTrimmer, Winsorizer\n",
        "from feature_engine.imputation import MeanMedianImputer, CategoricalImputer\n",
        "from sklearn.linear_model import LogisticRegression\n",
        "from sklearn.metrics import classification_report\n",
        "from sklearn.metrics import confusion_matrix, classification_report, accuracy_score, ConfusionMatrixDisplay, f1_score\n",
        "from sklearn.svm import SVC\n",
        "from sklearn.tree import DecisionTreeClassifier\n",
        "from sklearn.ensemble import RandomForestClassifier\n",
        "from sklearn.neighbors import KNeighborsClassifier\n",
        "from sklearn.naive_bayes import GaussianNB\n",
        "from xgboost import XGBClassifier\n",
        "import warnings\n",
        "warnings.filterwarnings('ignore')"
      ]
    },
    {
      "cell_type": "markdown",
      "metadata": {
        "id": "nIF2-I5OLa_a"
      },
      "source": [
        "# Data Loading"
      ]
    },
    {
      "cell_type": "code",
      "execution_count": 2,
      "metadata": {
        "colab": {
          "base_uri": "https://localhost:8080/",
          "height": 432
        },
        "id": "vIUkGYd5LhEL",
        "outputId": "2f2d14df-822f-4d49-8341-192ca7d63aeb"
      },
      "outputs": [
        {
          "data": {
            "text/html": [
              "<div>\n",
              "<style scoped>\n",
              "    .dataframe tbody tr th:only-of-type {\n",
              "        vertical-align: middle;\n",
              "    }\n",
              "\n",
              "    .dataframe tbody tr th {\n",
              "        vertical-align: top;\n",
              "    }\n",
              "\n",
              "    .dataframe thead th {\n",
              "        text-align: right;\n",
              "    }\n",
              "</style>\n",
              "<table border=\"1\" class=\"dataframe\">\n",
              "  <thead>\n",
              "    <tr style=\"text-align: right;\">\n",
              "      <th></th>\n",
              "      <th>age</th>\n",
              "      <th>job</th>\n",
              "      <th>marital</th>\n",
              "      <th>education</th>\n",
              "      <th>default</th>\n",
              "      <th>housing</th>\n",
              "      <th>loan</th>\n",
              "      <th>contact</th>\n",
              "      <th>month</th>\n",
              "      <th>day_of_week</th>\n",
              "      <th>...</th>\n",
              "      <th>campaign</th>\n",
              "      <th>pdays</th>\n",
              "      <th>previous</th>\n",
              "      <th>poutcome</th>\n",
              "      <th>emp.var.rate</th>\n",
              "      <th>cons.price.idx</th>\n",
              "      <th>cons.conf.idx</th>\n",
              "      <th>euribor3m</th>\n",
              "      <th>nr.employed</th>\n",
              "      <th>y</th>\n",
              "    </tr>\n",
              "  </thead>\n",
              "  <tbody>\n",
              "    <tr>\n",
              "      <th>0</th>\n",
              "      <td>56</td>\n",
              "      <td>housemaid</td>\n",
              "      <td>married</td>\n",
              "      <td>basic.4y</td>\n",
              "      <td>no</td>\n",
              "      <td>no</td>\n",
              "      <td>no</td>\n",
              "      <td>telephone</td>\n",
              "      <td>may</td>\n",
              "      <td>mon</td>\n",
              "      <td>...</td>\n",
              "      <td>1</td>\n",
              "      <td>999</td>\n",
              "      <td>0</td>\n",
              "      <td>nonexistent</td>\n",
              "      <td>1.1</td>\n",
              "      <td>93.994</td>\n",
              "      <td>-36.4</td>\n",
              "      <td>4.857</td>\n",
              "      <td>5191.0</td>\n",
              "      <td>no</td>\n",
              "    </tr>\n",
              "    <tr>\n",
              "      <th>1</th>\n",
              "      <td>57</td>\n",
              "      <td>services</td>\n",
              "      <td>married</td>\n",
              "      <td>high.school</td>\n",
              "      <td>unknown</td>\n",
              "      <td>no</td>\n",
              "      <td>no</td>\n",
              "      <td>telephone</td>\n",
              "      <td>may</td>\n",
              "      <td>mon</td>\n",
              "      <td>...</td>\n",
              "      <td>1</td>\n",
              "      <td>999</td>\n",
              "      <td>0</td>\n",
              "      <td>nonexistent</td>\n",
              "      <td>1.1</td>\n",
              "      <td>93.994</td>\n",
              "      <td>-36.4</td>\n",
              "      <td>4.857</td>\n",
              "      <td>5191.0</td>\n",
              "      <td>no</td>\n",
              "    </tr>\n",
              "    <tr>\n",
              "      <th>2</th>\n",
              "      <td>37</td>\n",
              "      <td>services</td>\n",
              "      <td>married</td>\n",
              "      <td>high.school</td>\n",
              "      <td>no</td>\n",
              "      <td>yes</td>\n",
              "      <td>no</td>\n",
              "      <td>telephone</td>\n",
              "      <td>may</td>\n",
              "      <td>mon</td>\n",
              "      <td>...</td>\n",
              "      <td>1</td>\n",
              "      <td>999</td>\n",
              "      <td>0</td>\n",
              "      <td>nonexistent</td>\n",
              "      <td>1.1</td>\n",
              "      <td>93.994</td>\n",
              "      <td>-36.4</td>\n",
              "      <td>4.857</td>\n",
              "      <td>5191.0</td>\n",
              "      <td>no</td>\n",
              "    </tr>\n",
              "    <tr>\n",
              "      <th>3</th>\n",
              "      <td>40</td>\n",
              "      <td>admin.</td>\n",
              "      <td>married</td>\n",
              "      <td>basic.6y</td>\n",
              "      <td>no</td>\n",
              "      <td>no</td>\n",
              "      <td>no</td>\n",
              "      <td>telephone</td>\n",
              "      <td>may</td>\n",
              "      <td>mon</td>\n",
              "      <td>...</td>\n",
              "      <td>1</td>\n",
              "      <td>999</td>\n",
              "      <td>0</td>\n",
              "      <td>nonexistent</td>\n",
              "      <td>1.1</td>\n",
              "      <td>93.994</td>\n",
              "      <td>-36.4</td>\n",
              "      <td>4.857</td>\n",
              "      <td>5191.0</td>\n",
              "      <td>no</td>\n",
              "    </tr>\n",
              "    <tr>\n",
              "      <th>4</th>\n",
              "      <td>56</td>\n",
              "      <td>services</td>\n",
              "      <td>married</td>\n",
              "      <td>high.school</td>\n",
              "      <td>no</td>\n",
              "      <td>no</td>\n",
              "      <td>yes</td>\n",
              "      <td>telephone</td>\n",
              "      <td>may</td>\n",
              "      <td>mon</td>\n",
              "      <td>...</td>\n",
              "      <td>1</td>\n",
              "      <td>999</td>\n",
              "      <td>0</td>\n",
              "      <td>nonexistent</td>\n",
              "      <td>1.1</td>\n",
              "      <td>93.994</td>\n",
              "      <td>-36.4</td>\n",
              "      <td>4.857</td>\n",
              "      <td>5191.0</td>\n",
              "      <td>no</td>\n",
              "    </tr>\n",
              "    <tr>\n",
              "      <th>...</th>\n",
              "      <td>...</td>\n",
              "      <td>...</td>\n",
              "      <td>...</td>\n",
              "      <td>...</td>\n",
              "      <td>...</td>\n",
              "      <td>...</td>\n",
              "      <td>...</td>\n",
              "      <td>...</td>\n",
              "      <td>...</td>\n",
              "      <td>...</td>\n",
              "      <td>...</td>\n",
              "      <td>...</td>\n",
              "      <td>...</td>\n",
              "      <td>...</td>\n",
              "      <td>...</td>\n",
              "      <td>...</td>\n",
              "      <td>...</td>\n",
              "      <td>...</td>\n",
              "      <td>...</td>\n",
              "      <td>...</td>\n",
              "      <td>...</td>\n",
              "    </tr>\n",
              "    <tr>\n",
              "      <th>41183</th>\n",
              "      <td>73</td>\n",
              "      <td>retired</td>\n",
              "      <td>married</td>\n",
              "      <td>professional.course</td>\n",
              "      <td>no</td>\n",
              "      <td>yes</td>\n",
              "      <td>no</td>\n",
              "      <td>cellular</td>\n",
              "      <td>nov</td>\n",
              "      <td>fri</td>\n",
              "      <td>...</td>\n",
              "      <td>1</td>\n",
              "      <td>999</td>\n",
              "      <td>0</td>\n",
              "      <td>nonexistent</td>\n",
              "      <td>-1.1</td>\n",
              "      <td>94.767</td>\n",
              "      <td>-50.8</td>\n",
              "      <td>1.028</td>\n",
              "      <td>4963.6</td>\n",
              "      <td>yes</td>\n",
              "    </tr>\n",
              "    <tr>\n",
              "      <th>41184</th>\n",
              "      <td>46</td>\n",
              "      <td>blue-collar</td>\n",
              "      <td>married</td>\n",
              "      <td>professional.course</td>\n",
              "      <td>no</td>\n",
              "      <td>no</td>\n",
              "      <td>no</td>\n",
              "      <td>cellular</td>\n",
              "      <td>nov</td>\n",
              "      <td>fri</td>\n",
              "      <td>...</td>\n",
              "      <td>1</td>\n",
              "      <td>999</td>\n",
              "      <td>0</td>\n",
              "      <td>nonexistent</td>\n",
              "      <td>-1.1</td>\n",
              "      <td>94.767</td>\n",
              "      <td>-50.8</td>\n",
              "      <td>1.028</td>\n",
              "      <td>4963.6</td>\n",
              "      <td>no</td>\n",
              "    </tr>\n",
              "    <tr>\n",
              "      <th>41185</th>\n",
              "      <td>56</td>\n",
              "      <td>retired</td>\n",
              "      <td>married</td>\n",
              "      <td>university.degree</td>\n",
              "      <td>no</td>\n",
              "      <td>yes</td>\n",
              "      <td>no</td>\n",
              "      <td>cellular</td>\n",
              "      <td>nov</td>\n",
              "      <td>fri</td>\n",
              "      <td>...</td>\n",
              "      <td>2</td>\n",
              "      <td>999</td>\n",
              "      <td>0</td>\n",
              "      <td>nonexistent</td>\n",
              "      <td>-1.1</td>\n",
              "      <td>94.767</td>\n",
              "      <td>-50.8</td>\n",
              "      <td>1.028</td>\n",
              "      <td>4963.6</td>\n",
              "      <td>no</td>\n",
              "    </tr>\n",
              "    <tr>\n",
              "      <th>41186</th>\n",
              "      <td>44</td>\n",
              "      <td>technician</td>\n",
              "      <td>married</td>\n",
              "      <td>professional.course</td>\n",
              "      <td>no</td>\n",
              "      <td>no</td>\n",
              "      <td>no</td>\n",
              "      <td>cellular</td>\n",
              "      <td>nov</td>\n",
              "      <td>fri</td>\n",
              "      <td>...</td>\n",
              "      <td>1</td>\n",
              "      <td>999</td>\n",
              "      <td>0</td>\n",
              "      <td>nonexistent</td>\n",
              "      <td>-1.1</td>\n",
              "      <td>94.767</td>\n",
              "      <td>-50.8</td>\n",
              "      <td>1.028</td>\n",
              "      <td>4963.6</td>\n",
              "      <td>yes</td>\n",
              "    </tr>\n",
              "    <tr>\n",
              "      <th>41187</th>\n",
              "      <td>74</td>\n",
              "      <td>retired</td>\n",
              "      <td>married</td>\n",
              "      <td>professional.course</td>\n",
              "      <td>no</td>\n",
              "      <td>yes</td>\n",
              "      <td>no</td>\n",
              "      <td>cellular</td>\n",
              "      <td>nov</td>\n",
              "      <td>fri</td>\n",
              "      <td>...</td>\n",
              "      <td>3</td>\n",
              "      <td>999</td>\n",
              "      <td>1</td>\n",
              "      <td>failure</td>\n",
              "      <td>-1.1</td>\n",
              "      <td>94.767</td>\n",
              "      <td>-50.8</td>\n",
              "      <td>1.028</td>\n",
              "      <td>4963.6</td>\n",
              "      <td>no</td>\n",
              "    </tr>\n",
              "  </tbody>\n",
              "</table>\n",
              "<p>41188 rows × 21 columns</p>\n",
              "</div>"
            ],
            "text/plain": [
              "       age          job  marital            education  default housing loan  \\\n",
              "0       56    housemaid  married             basic.4y       no      no   no   \n",
              "1       57     services  married          high.school  unknown      no   no   \n",
              "2       37     services  married          high.school       no     yes   no   \n",
              "3       40       admin.  married             basic.6y       no      no   no   \n",
              "4       56     services  married          high.school       no      no  yes   \n",
              "...    ...          ...      ...                  ...      ...     ...  ...   \n",
              "41183   73      retired  married  professional.course       no     yes   no   \n",
              "41184   46  blue-collar  married  professional.course       no      no   no   \n",
              "41185   56      retired  married    university.degree       no     yes   no   \n",
              "41186   44   technician  married  professional.course       no      no   no   \n",
              "41187   74      retired  married  professional.course       no     yes   no   \n",
              "\n",
              "         contact month day_of_week  ...  campaign  pdays  previous  \\\n",
              "0      telephone   may         mon  ...         1    999         0   \n",
              "1      telephone   may         mon  ...         1    999         0   \n",
              "2      telephone   may         mon  ...         1    999         0   \n",
              "3      telephone   may         mon  ...         1    999         0   \n",
              "4      telephone   may         mon  ...         1    999         0   \n",
              "...          ...   ...         ...  ...       ...    ...       ...   \n",
              "41183   cellular   nov         fri  ...         1    999         0   \n",
              "41184   cellular   nov         fri  ...         1    999         0   \n",
              "41185   cellular   nov         fri  ...         2    999         0   \n",
              "41186   cellular   nov         fri  ...         1    999         0   \n",
              "41187   cellular   nov         fri  ...         3    999         1   \n",
              "\n",
              "          poutcome emp.var.rate  cons.price.idx  cons.conf.idx  euribor3m  \\\n",
              "0      nonexistent          1.1          93.994          -36.4      4.857   \n",
              "1      nonexistent          1.1          93.994          -36.4      4.857   \n",
              "2      nonexistent          1.1          93.994          -36.4      4.857   \n",
              "3      nonexistent          1.1          93.994          -36.4      4.857   \n",
              "4      nonexistent          1.1          93.994          -36.4      4.857   \n",
              "...            ...          ...             ...            ...        ...   \n",
              "41183  nonexistent         -1.1          94.767          -50.8      1.028   \n",
              "41184  nonexistent         -1.1          94.767          -50.8      1.028   \n",
              "41185  nonexistent         -1.1          94.767          -50.8      1.028   \n",
              "41186  nonexistent         -1.1          94.767          -50.8      1.028   \n",
              "41187      failure         -1.1          94.767          -50.8      1.028   \n",
              "\n",
              "       nr.employed    y  \n",
              "0           5191.0   no  \n",
              "1           5191.0   no  \n",
              "2           5191.0   no  \n",
              "3           5191.0   no  \n",
              "4           5191.0   no  \n",
              "...            ...  ...  \n",
              "41183       4963.6  yes  \n",
              "41184       4963.6   no  \n",
              "41185       4963.6   no  \n",
              "41186       4963.6  yes  \n",
              "41187       4963.6   no  \n",
              "\n",
              "[41188 rows x 21 columns]"
            ]
          },
          "execution_count": 2,
          "metadata": {},
          "output_type": "execute_result"
        }
      ],
      "source": [
        "# Load Dataset \n",
        "\n",
        "data = pd.read_csv('bank-additional-full.csv', delimiter= ';')\n",
        "data"
      ]
    },
    {
      "cell_type": "code",
      "execution_count": 3,
      "metadata": {},
      "outputs": [
        {
          "data": {
            "text/html": [
              "<div>\n",
              "<style scoped>\n",
              "    .dataframe tbody tr th:only-of-type {\n",
              "        vertical-align: middle;\n",
              "    }\n",
              "\n",
              "    .dataframe tbody tr th {\n",
              "        vertical-align: top;\n",
              "    }\n",
              "\n",
              "    .dataframe thead th {\n",
              "        text-align: right;\n",
              "    }\n",
              "</style>\n",
              "<table border=\"1\" class=\"dataframe\">\n",
              "  <thead>\n",
              "    <tr style=\"text-align: right;\">\n",
              "      <th></th>\n",
              "      <th>age</th>\n",
              "      <th>job</th>\n",
              "      <th>marital</th>\n",
              "      <th>education</th>\n",
              "      <th>default</th>\n",
              "      <th>housing</th>\n",
              "      <th>loan</th>\n",
              "      <th>contact</th>\n",
              "      <th>month</th>\n",
              "      <th>day_of_week</th>\n",
              "      <th>...</th>\n",
              "      <th>campaign</th>\n",
              "      <th>pdays</th>\n",
              "      <th>previous</th>\n",
              "      <th>poutcome</th>\n",
              "      <th>emp.var.rate</th>\n",
              "      <th>cons.price.idx</th>\n",
              "      <th>cons.conf.idx</th>\n",
              "      <th>euribor3m</th>\n",
              "      <th>nr.employed</th>\n",
              "      <th>y</th>\n",
              "    </tr>\n",
              "  </thead>\n",
              "  <tbody>\n",
              "    <tr>\n",
              "      <th>0</th>\n",
              "      <td>56</td>\n",
              "      <td>housemaid</td>\n",
              "      <td>married</td>\n",
              "      <td>basic.4y</td>\n",
              "      <td>no</td>\n",
              "      <td>no</td>\n",
              "      <td>no</td>\n",
              "      <td>telephone</td>\n",
              "      <td>may</td>\n",
              "      <td>mon</td>\n",
              "      <td>...</td>\n",
              "      <td>1</td>\n",
              "      <td>999</td>\n",
              "      <td>0</td>\n",
              "      <td>nonexistent</td>\n",
              "      <td>1.1</td>\n",
              "      <td>93.994</td>\n",
              "      <td>-36.4</td>\n",
              "      <td>4.857</td>\n",
              "      <td>5191.0</td>\n",
              "      <td>no</td>\n",
              "    </tr>\n",
              "    <tr>\n",
              "      <th>1</th>\n",
              "      <td>57</td>\n",
              "      <td>services</td>\n",
              "      <td>married</td>\n",
              "      <td>high.school</td>\n",
              "      <td>unknown</td>\n",
              "      <td>no</td>\n",
              "      <td>no</td>\n",
              "      <td>telephone</td>\n",
              "      <td>may</td>\n",
              "      <td>mon</td>\n",
              "      <td>...</td>\n",
              "      <td>1</td>\n",
              "      <td>999</td>\n",
              "      <td>0</td>\n",
              "      <td>nonexistent</td>\n",
              "      <td>1.1</td>\n",
              "      <td>93.994</td>\n",
              "      <td>-36.4</td>\n",
              "      <td>4.857</td>\n",
              "      <td>5191.0</td>\n",
              "      <td>no</td>\n",
              "    </tr>\n",
              "    <tr>\n",
              "      <th>2</th>\n",
              "      <td>37</td>\n",
              "      <td>services</td>\n",
              "      <td>married</td>\n",
              "      <td>high.school</td>\n",
              "      <td>no</td>\n",
              "      <td>yes</td>\n",
              "      <td>no</td>\n",
              "      <td>telephone</td>\n",
              "      <td>may</td>\n",
              "      <td>mon</td>\n",
              "      <td>...</td>\n",
              "      <td>1</td>\n",
              "      <td>999</td>\n",
              "      <td>0</td>\n",
              "      <td>nonexistent</td>\n",
              "      <td>1.1</td>\n",
              "      <td>93.994</td>\n",
              "      <td>-36.4</td>\n",
              "      <td>4.857</td>\n",
              "      <td>5191.0</td>\n",
              "      <td>no</td>\n",
              "    </tr>\n",
              "    <tr>\n",
              "      <th>3</th>\n",
              "      <td>40</td>\n",
              "      <td>admin.</td>\n",
              "      <td>married</td>\n",
              "      <td>basic.6y</td>\n",
              "      <td>no</td>\n",
              "      <td>no</td>\n",
              "      <td>no</td>\n",
              "      <td>telephone</td>\n",
              "      <td>may</td>\n",
              "      <td>mon</td>\n",
              "      <td>...</td>\n",
              "      <td>1</td>\n",
              "      <td>999</td>\n",
              "      <td>0</td>\n",
              "      <td>nonexistent</td>\n",
              "      <td>1.1</td>\n",
              "      <td>93.994</td>\n",
              "      <td>-36.4</td>\n",
              "      <td>4.857</td>\n",
              "      <td>5191.0</td>\n",
              "      <td>no</td>\n",
              "    </tr>\n",
              "    <tr>\n",
              "      <th>4</th>\n",
              "      <td>56</td>\n",
              "      <td>services</td>\n",
              "      <td>married</td>\n",
              "      <td>high.school</td>\n",
              "      <td>no</td>\n",
              "      <td>no</td>\n",
              "      <td>yes</td>\n",
              "      <td>telephone</td>\n",
              "      <td>may</td>\n",
              "      <td>mon</td>\n",
              "      <td>...</td>\n",
              "      <td>1</td>\n",
              "      <td>999</td>\n",
              "      <td>0</td>\n",
              "      <td>nonexistent</td>\n",
              "      <td>1.1</td>\n",
              "      <td>93.994</td>\n",
              "      <td>-36.4</td>\n",
              "      <td>4.857</td>\n",
              "      <td>5191.0</td>\n",
              "      <td>no</td>\n",
              "    </tr>\n",
              "  </tbody>\n",
              "</table>\n",
              "<p>5 rows × 21 columns</p>\n",
              "</div>"
            ],
            "text/plain": [
              "   age        job  marital    education  default housing loan    contact  \\\n",
              "0   56  housemaid  married     basic.4y       no      no   no  telephone   \n",
              "1   57   services  married  high.school  unknown      no   no  telephone   \n",
              "2   37   services  married  high.school       no     yes   no  telephone   \n",
              "3   40     admin.  married     basic.6y       no      no   no  telephone   \n",
              "4   56   services  married  high.school       no      no  yes  telephone   \n",
              "\n",
              "  month day_of_week  ...  campaign  pdays  previous     poutcome emp.var.rate  \\\n",
              "0   may         mon  ...         1    999         0  nonexistent          1.1   \n",
              "1   may         mon  ...         1    999         0  nonexistent          1.1   \n",
              "2   may         mon  ...         1    999         0  nonexistent          1.1   \n",
              "3   may         mon  ...         1    999         0  nonexistent          1.1   \n",
              "4   may         mon  ...         1    999         0  nonexistent          1.1   \n",
              "\n",
              "   cons.price.idx  cons.conf.idx  euribor3m  nr.employed   y  \n",
              "0          93.994          -36.4      4.857       5191.0  no  \n",
              "1          93.994          -36.4      4.857       5191.0  no  \n",
              "2          93.994          -36.4      4.857       5191.0  no  \n",
              "3          93.994          -36.4      4.857       5191.0  no  \n",
              "4          93.994          -36.4      4.857       5191.0  no  \n",
              "\n",
              "[5 rows x 21 columns]"
            ]
          },
          "execution_count": 3,
          "metadata": {},
          "output_type": "execute_result"
        }
      ],
      "source": [
        "# Melihat 5 data teratas\n",
        "\n",
        "data.head()"
      ]
    },
    {
      "cell_type": "code",
      "execution_count": 4,
      "metadata": {
        "id": "wrSU6XkJL4kT"
      },
      "outputs": [],
      "source": [
        "# Duplicate Dataset\n",
        "\n",
        "data_copy = data.copy()"
      ]
    },
    {
      "cell_type": "code",
      "execution_count": 5,
      "metadata": {
        "colab": {
          "base_uri": "https://localhost:8080/"
        },
        "id": "oDtUXuxLMd4R",
        "outputId": "8a7d68bf-3b9d-40be-ae33-c05776c7da60"
      },
      "outputs": [
        {
          "name": "stdout",
          "output_type": "stream",
          "text": [
            "<class 'pandas.core.frame.DataFrame'>\n",
            "RangeIndex: 41188 entries, 0 to 41187\n",
            "Data columns (total 21 columns):\n",
            " #   Column          Non-Null Count  Dtype  \n",
            "---  ------          --------------  -----  \n",
            " 0   age             41188 non-null  int64  \n",
            " 1   job             41188 non-null  object \n",
            " 2   marital         41188 non-null  object \n",
            " 3   education       41188 non-null  object \n",
            " 4   default         41188 non-null  object \n",
            " 5   housing         41188 non-null  object \n",
            " 6   loan            41188 non-null  object \n",
            " 7   contact         41188 non-null  object \n",
            " 8   month           41188 non-null  object \n",
            " 9   day_of_week     41188 non-null  object \n",
            " 10  duration        41188 non-null  int64  \n",
            " 11  campaign        41188 non-null  int64  \n",
            " 12  pdays           41188 non-null  int64  \n",
            " 13  previous        41188 non-null  int64  \n",
            " 14  poutcome        41188 non-null  object \n",
            " 15  emp.var.rate    41188 non-null  float64\n",
            " 16  cons.price.idx  41188 non-null  float64\n",
            " 17  cons.conf.idx   41188 non-null  float64\n",
            " 18  euribor3m       41188 non-null  float64\n",
            " 19  nr.employed     41188 non-null  float64\n",
            " 20  y               41188 non-null  object \n",
            "dtypes: float64(5), int64(5), object(11)\n",
            "memory usage: 6.6+ MB\n"
          ]
        }
      ],
      "source": [
        "# Check Dataset Info\n",
        "\n",
        "data.info()"
      ]
    },
    {
      "cell_type": "code",
      "execution_count": 6,
      "metadata": {},
      "outputs": [
        {
          "data": {
            "text/plain": [
              "Index(['age', 'job', 'marital', 'education', 'default', 'housing', 'loan',\n",
              "       'contact', 'month', 'day_of_week', 'duration', 'campaign', 'pdays',\n",
              "       'previous', 'poutcome', 'emp.var.rate', 'cons.price.idx',\n",
              "       'cons.conf.idx', 'euribor3m', 'nr.employed', 'y'],\n",
              "      dtype='object')"
            ]
          },
          "execution_count": 6,
          "metadata": {},
          "output_type": "execute_result"
        }
      ],
      "source": [
        "# Check dataset column\n",
        "\n",
        "data.columns"
      ]
    },
    {
      "cell_type": "code",
      "execution_count": 7,
      "metadata": {
        "colab": {
          "base_uri": "https://localhost:8080/",
          "height": 300
        },
        "id": "mOHBexeTMnMu",
        "outputId": "b7ec9227-37ab-43f7-dfb8-d5b00a1b83b6"
      },
      "outputs": [
        {
          "data": {
            "text/html": [
              "<div>\n",
              "<style scoped>\n",
              "    .dataframe tbody tr th:only-of-type {\n",
              "        vertical-align: middle;\n",
              "    }\n",
              "\n",
              "    .dataframe tbody tr th {\n",
              "        vertical-align: top;\n",
              "    }\n",
              "\n",
              "    .dataframe thead th {\n",
              "        text-align: right;\n",
              "    }\n",
              "</style>\n",
              "<table border=\"1\" class=\"dataframe\">\n",
              "  <thead>\n",
              "    <tr style=\"text-align: right;\">\n",
              "      <th></th>\n",
              "      <th>age</th>\n",
              "      <th>duration</th>\n",
              "      <th>campaign</th>\n",
              "      <th>pdays</th>\n",
              "      <th>previous</th>\n",
              "      <th>emp.var.rate</th>\n",
              "      <th>cons.price.idx</th>\n",
              "      <th>cons.conf.idx</th>\n",
              "      <th>euribor3m</th>\n",
              "      <th>nr.employed</th>\n",
              "    </tr>\n",
              "  </thead>\n",
              "  <tbody>\n",
              "    <tr>\n",
              "      <th>count</th>\n",
              "      <td>41188.00000</td>\n",
              "      <td>41188.000000</td>\n",
              "      <td>41188.000000</td>\n",
              "      <td>41188.000000</td>\n",
              "      <td>41188.000000</td>\n",
              "      <td>41188.000000</td>\n",
              "      <td>41188.000000</td>\n",
              "      <td>41188.000000</td>\n",
              "      <td>41188.000000</td>\n",
              "      <td>41188.000000</td>\n",
              "    </tr>\n",
              "    <tr>\n",
              "      <th>mean</th>\n",
              "      <td>40.02406</td>\n",
              "      <td>258.285010</td>\n",
              "      <td>2.567593</td>\n",
              "      <td>962.475454</td>\n",
              "      <td>0.172963</td>\n",
              "      <td>0.081886</td>\n",
              "      <td>93.575664</td>\n",
              "      <td>-40.502600</td>\n",
              "      <td>3.621291</td>\n",
              "      <td>5167.035911</td>\n",
              "    </tr>\n",
              "    <tr>\n",
              "      <th>std</th>\n",
              "      <td>10.42125</td>\n",
              "      <td>259.279249</td>\n",
              "      <td>2.770014</td>\n",
              "      <td>186.910907</td>\n",
              "      <td>0.494901</td>\n",
              "      <td>1.570960</td>\n",
              "      <td>0.578840</td>\n",
              "      <td>4.628198</td>\n",
              "      <td>1.734447</td>\n",
              "      <td>72.251528</td>\n",
              "    </tr>\n",
              "    <tr>\n",
              "      <th>min</th>\n",
              "      <td>17.00000</td>\n",
              "      <td>0.000000</td>\n",
              "      <td>1.000000</td>\n",
              "      <td>0.000000</td>\n",
              "      <td>0.000000</td>\n",
              "      <td>-3.400000</td>\n",
              "      <td>92.201000</td>\n",
              "      <td>-50.800000</td>\n",
              "      <td>0.634000</td>\n",
              "      <td>4963.600000</td>\n",
              "    </tr>\n",
              "    <tr>\n",
              "      <th>25%</th>\n",
              "      <td>32.00000</td>\n",
              "      <td>102.000000</td>\n",
              "      <td>1.000000</td>\n",
              "      <td>999.000000</td>\n",
              "      <td>0.000000</td>\n",
              "      <td>-1.800000</td>\n",
              "      <td>93.075000</td>\n",
              "      <td>-42.700000</td>\n",
              "      <td>1.344000</td>\n",
              "      <td>5099.100000</td>\n",
              "    </tr>\n",
              "    <tr>\n",
              "      <th>50%</th>\n",
              "      <td>38.00000</td>\n",
              "      <td>180.000000</td>\n",
              "      <td>2.000000</td>\n",
              "      <td>999.000000</td>\n",
              "      <td>0.000000</td>\n",
              "      <td>1.100000</td>\n",
              "      <td>93.749000</td>\n",
              "      <td>-41.800000</td>\n",
              "      <td>4.857000</td>\n",
              "      <td>5191.000000</td>\n",
              "    </tr>\n",
              "    <tr>\n",
              "      <th>75%</th>\n",
              "      <td>47.00000</td>\n",
              "      <td>319.000000</td>\n",
              "      <td>3.000000</td>\n",
              "      <td>999.000000</td>\n",
              "      <td>0.000000</td>\n",
              "      <td>1.400000</td>\n",
              "      <td>93.994000</td>\n",
              "      <td>-36.400000</td>\n",
              "      <td>4.961000</td>\n",
              "      <td>5228.100000</td>\n",
              "    </tr>\n",
              "    <tr>\n",
              "      <th>max</th>\n",
              "      <td>98.00000</td>\n",
              "      <td>4918.000000</td>\n",
              "      <td>56.000000</td>\n",
              "      <td>999.000000</td>\n",
              "      <td>7.000000</td>\n",
              "      <td>1.400000</td>\n",
              "      <td>94.767000</td>\n",
              "      <td>-26.900000</td>\n",
              "      <td>5.045000</td>\n",
              "      <td>5228.100000</td>\n",
              "    </tr>\n",
              "  </tbody>\n",
              "</table>\n",
              "</div>"
            ],
            "text/plain": [
              "               age      duration      campaign         pdays      previous  \\\n",
              "count  41188.00000  41188.000000  41188.000000  41188.000000  41188.000000   \n",
              "mean      40.02406    258.285010      2.567593    962.475454      0.172963   \n",
              "std       10.42125    259.279249      2.770014    186.910907      0.494901   \n",
              "min       17.00000      0.000000      1.000000      0.000000      0.000000   \n",
              "25%       32.00000    102.000000      1.000000    999.000000      0.000000   \n",
              "50%       38.00000    180.000000      2.000000    999.000000      0.000000   \n",
              "75%       47.00000    319.000000      3.000000    999.000000      0.000000   \n",
              "max       98.00000   4918.000000     56.000000    999.000000      7.000000   \n",
              "\n",
              "       emp.var.rate  cons.price.idx  cons.conf.idx     euribor3m   nr.employed  \n",
              "count  41188.000000    41188.000000   41188.000000  41188.000000  41188.000000  \n",
              "mean       0.081886       93.575664     -40.502600      3.621291   5167.035911  \n",
              "std        1.570960        0.578840       4.628198      1.734447     72.251528  \n",
              "min       -3.400000       92.201000     -50.800000      0.634000   4963.600000  \n",
              "25%       -1.800000       93.075000     -42.700000      1.344000   5099.100000  \n",
              "50%        1.100000       93.749000     -41.800000      4.857000   5191.000000  \n",
              "75%        1.400000       93.994000     -36.400000      4.961000   5228.100000  \n",
              "max        1.400000       94.767000     -26.900000      5.045000   5228.100000  "
            ]
          },
          "execution_count": 7,
          "metadata": {},
          "output_type": "execute_result"
        }
      ],
      "source": [
        "# Dataset describe\n",
        "\n",
        "data.describe()"
      ]
    },
    {
      "cell_type": "markdown",
      "metadata": {
        "id": "plL7gqIeNEnk"
      },
      "source": [
        "# Exploratory Data Analysis (EDA)"
      ]
    },
    {
      "cell_type": "code",
      "execution_count": 8,
      "metadata": {},
      "outputs": [
        {
          "data": {
            "text/plain": [
              "(41188, 21)"
            ]
          },
          "execution_count": 8,
          "metadata": {},
          "output_type": "execute_result"
        }
      ],
      "source": [
        "# mencari tahu shape dari dataset\n",
        "\n",
        "data.shape"
      ]
    },
    {
      "cell_type": "code",
      "execution_count": 9,
      "metadata": {
        "colab": {
          "base_uri": "https://localhost:8080/",
          "height": 350
        },
        "id": "GF2wyVXRNIUE",
        "outputId": "b49de820-db79-40e5-d915-1b4af76b08cf"
      },
      "outputs": [
        {
          "data": {
            "text/plain": [
              "age               0\n",
              "euribor3m         0\n",
              "cons.conf.idx     0\n",
              "cons.price.idx    0\n",
              "emp.var.rate      0\n",
              "poutcome          0\n",
              "previous          0\n",
              "pdays             0\n",
              "campaign          0\n",
              "nr.employed       0\n",
              "duration          0\n",
              "month             0\n",
              "contact           0\n",
              "loan              0\n",
              "housing           0\n",
              "default           0\n",
              "education         0\n",
              "marital           0\n",
              "job               0\n",
              "day_of_week       0\n",
              "y                 0\n",
              "dtype: int64"
            ]
          },
          "execution_count": 9,
          "metadata": {},
          "output_type": "execute_result"
        }
      ],
      "source": [
        "# mencari tahu jumlah missing data pada masing-masing kolom\n",
        "\n",
        "data_miss = data.isnull().sum()\n",
        "data_miss.sort_values()"
      ]
    },
    {
      "cell_type": "code",
      "execution_count": 10,
      "metadata": {},
      "outputs": [
        {
          "data": {
            "text/plain": [
              "age                   0\n",
              "euribor3m             0\n",
              "cons.conf.idx         0\n",
              "cons.price.idx        0\n",
              "emp.var.rate          0\n",
              "poutcome              0\n",
              "previous              0\n",
              "campaign              0\n",
              "nr.employed           0\n",
              "y                     0\n",
              "month                 0\n",
              "contact               0\n",
              "day_of_week           0\n",
              "duration              2\n",
              "marital              80\n",
              "job                 330\n",
              "loan                990\n",
              "housing             990\n",
              "education          1731\n",
              "default            8597\n",
              "pdays             39673\n",
              "dtype: int64"
            ]
          },
          "execution_count": 10,
          "metadata": {},
          "output_type": "execute_result"
        }
      ],
      "source": [
        "# Pada dataset dijelaskan bahwa pada setiap kolom yang nilai missing value diberikan label 'unknow'\n",
        "# Maka akan dilakukan perubahan label dari 'unknown' menjadi 'NaN'\n",
        "# Pada kolom pdays terdapat label 999, label tersebut juga termasuk dengan missing value, maka akan dilakukan perubahan label juga\n",
        "\n",
        "data.replace({'unknown' : np.nan,\n",
        "              999 : np.nan}, inplace= True)\n",
        "data.isnull().sum().sort_values()"
      ]
    },
    {
      "cell_type": "code",
      "execution_count": 11,
      "metadata": {},
      "outputs": [
        {
          "data": {
            "image/png": "[encoded data removed]",
            "text/plain": [
              "<Figure size 1152x720 with 2 Axes>"
            ]
          },
          "metadata": {
            "needs_background": "light"
          },
          "output_type": "display_data"
        }
      ],
      "source": [
        "# mencari tahu hubungan antar column pada datset dengan menggunakan heatmap \n",
        "\n",
        "correlation = data.corr()\n",
        "\n",
        "plt.figure(figsize=(16,10))\n",
        "plt.title('Correlation Heatmap')\n",
        "ax = sns.heatmap(correlation, square=True, annot=True, fmt='.2f', linecolor='white')\n",
        "ax.set_xticklabels(ax.get_xticklabels(), rotation=90)\n",
        "ax.set_yticklabels(ax.get_yticklabels(), rotation=30)           \n",
        "plt.show()"
      ]
    },
    {
      "cell_type": "code",
      "execution_count": 12,
      "metadata": {},
      "outputs": [
        {
          "name": "stdout",
          "output_type": "stream",
          "text": [
            "Kolom bertype numeric pada dataset : ['age', 'duration', 'campaign', 'pdays', 'previous', 'emp.var.rate', 'cons.price.idx', 'cons.conf.idx', 'euribor3m', 'nr.employed']\n",
            "Kolom bertype catagorical pada dataset : ['job', 'marital', 'education', 'default', 'housing', 'loan', 'contact', 'month', 'day_of_week', 'poutcome', 'y']\n"
          ]
        }
      ],
      "source": [
        "# Mencari tahu tabel yang memiliki bentuk numerical dan catagorical\n",
        "\n",
        "data_num = data.select_dtypes(include= np.number).columns.tolist()\n",
        "data_cat = data.select_dtypes(include=['object']).columns.tolist()\n",
        "\n",
        "print('Kolom bertype numeric pada dataset :', data_num)\n",
        "print('Kolom bertype catagorical pada dataset :', data_cat)"
      ]
    },
    {
      "cell_type": "code",
      "execution_count": 13,
      "metadata": {},
      "outputs": [
        {
          "data": {
            "text/plain": [
              "age                 78\n",
              "job                 11\n",
              "marital              3\n",
              "education            7\n",
              "default              2\n",
              "housing              2\n",
              "loan                 2\n",
              "contact              2\n",
              "month               10\n",
              "day_of_week          5\n",
              "duration          1543\n",
              "campaign            42\n",
              "pdays               26\n",
              "previous             8\n",
              "poutcome             3\n",
              "emp.var.rate        10\n",
              "cons.price.idx      26\n",
              "cons.conf.idx       26\n",
              "euribor3m          316\n",
              "nr.employed         11\n",
              "y                    2\n",
              "dtype: int64"
            ]
          },
          "execution_count": 13,
          "metadata": {},
          "output_type": "execute_result"
        }
      ],
      "source": [
        "data.nunique()"
      ]
    },
    {
      "cell_type": "code",
      "execution_count": 14,
      "metadata": {},
      "outputs": [
        {
          "data": {
            "text/plain": [
              "0"
            ]
          },
          "execution_count": 14,
          "metadata": {},
          "output_type": "execute_result"
        }
      ],
      "source": [
        "# Check missing value in `y` Column\n",
        "\n",
        "data['y'].isnull().sum()"
      ]
    },
    {
      "cell_type": "code",
      "execution_count": 15,
      "metadata": {},
      "outputs": [
        {
          "data": {
            "text/plain": [
              "array(['no', 'yes'], dtype=object)"
            ]
          },
          "execution_count": 15,
          "metadata": {},
          "output_type": "execute_result"
        }
      ],
      "source": [
        "# Check unique values in `y` Column\n",
        "\n",
        "data['y'].unique()"
      ]
    },
    {
      "cell_type": "code",
      "execution_count": 16,
      "metadata": {},
      "outputs": [
        {
          "data": {
            "text/plain": [
              "no     36548\n",
              "yes     4640\n",
              "Name: y, dtype: int64"
            ]
          },
          "execution_count": 16,
          "metadata": {},
          "output_type": "execute_result"
        }
      ],
      "source": [
        "# Frekuensi distribusi value pada kolom `y`\n",
        "\n",
        "data['y'].value_counts()"
      ]
    },
    {
      "cell_type": "code",
      "execution_count": 17,
      "metadata": {},
      "outputs": [
        {
          "data": {
            "text/plain": [
              "no     88.734583\n",
              "yes    11.265417\n",
              "Name: y, dtype: float64"
            ]
          },
          "execution_count": 17,
          "metadata": {},
          "output_type": "execute_result"
        }
      ],
      "source": [
        "# Frekuensi distribusi value pada kolom `y` dalam persentase\n",
        "\n",
        "data['y'].value_counts()/len(data) * 100"
      ]
    },
    {
      "cell_type": "code",
      "execution_count": 18,
      "metadata": {},
      "outputs": [
        {
          "data": {
            "text/plain": [
              "80"
            ]
          },
          "execution_count": 18,
          "metadata": {},
          "output_type": "execute_result"
        }
      ],
      "source": [
        "# Check missing value in `marital` Column\n",
        "\n",
        "data['marital'].isnull().sum()"
      ]
    },
    {
      "cell_type": "code",
      "execution_count": 19,
      "metadata": {},
      "outputs": [
        {
          "data": {
            "text/plain": [
              "array(['married', 'single', 'divorced', nan], dtype=object)"
            ]
          },
          "execution_count": 19,
          "metadata": {},
          "output_type": "execute_result"
        }
      ],
      "source": [
        "# Check unique values in `marital` Column\n",
        "\n",
        "data['marital'].unique()"
      ]
    },
    {
      "cell_type": "code",
      "execution_count": 20,
      "metadata": {},
      "outputs": [
        {
          "data": {
            "text/plain": [
              "married     24928\n",
              "single      11568\n",
              "divorced     4612\n",
              "Name: marital, dtype: int64"
            ]
          },
          "execution_count": 20,
          "metadata": {},
          "output_type": "execute_result"
        }
      ],
      "source": [
        "# Frekuensi distribusi value pada kolom `marital`\n",
        "\n",
        "data['marital'].value_counts()"
      ]
    },
    {
      "cell_type": "code",
      "execution_count": 21,
      "metadata": {},
      "outputs": [
        {
          "data": {
            "text/plain": [
              "married     60.522482\n",
              "single      28.085850\n",
              "divorced    11.197436\n",
              "Name: marital, dtype: float64"
            ]
          },
          "execution_count": 21,
          "metadata": {},
          "output_type": "execute_result"
        }
      ],
      "source": [
        "# Frekuensi distribusi value pada kolom `marital` dalam persentase\n",
        "\n",
        "data['marital'].value_counts()/len(data) * 100"
      ]
    },
    {
      "cell_type": "code",
      "execution_count": 22,
      "metadata": {},
      "outputs": [
        {
          "name": "stdout",
          "output_type": "stream",
          "text": [
            "Presentase data tidak NaN :  99.80576867048654\n",
            "Persentase data NaN :  0.1942313295134505\n"
          ]
        }
      ],
      "source": [
        "# Persentase perbandindingan data tidak missing dengan data missing pada kolom `marital`\n",
        "\n",
        "print('Presentase data tidak NaN : ', data['marital'].value_counts().sum()/len(data)*100)\n",
        "print('Persentase data NaN : ', data['marital'].isnull().sum()/len(data)*100)"
      ]
    },
    {
      "cell_type": "code",
      "execution_count": 23,
      "metadata": {},
      "outputs": [
        {
          "data": {
            "text/plain": [
              "39673"
            ]
          },
          "execution_count": 23,
          "metadata": {},
          "output_type": "execute_result"
        }
      ],
      "source": [
        "# Check missing value in `pdays` Column\n",
        "\n",
        "data['pdays'].isnull().sum()"
      ]
    },
    {
      "cell_type": "code",
      "execution_count": 24,
      "metadata": {},
      "outputs": [
        {
          "data": {
            "text/plain": [
              "array([nan,  6.,  4.,  3.,  5.,  1.,  0., 10.,  7.,  8.,  9., 11.,  2.,\n",
              "       12., 13., 14., 15., 16., 21., 17., 18., 22., 25., 26., 19., 27.,\n",
              "       20.])"
            ]
          },
          "execution_count": 24,
          "metadata": {},
          "output_type": "execute_result"
        }
      ],
      "source": [
        "# Check unique values in `pdays` Column\n",
        "\n",
        "data['pdays'].unique()"
      ]
    },
    {
      "cell_type": "code",
      "execution_count": 25,
      "metadata": {},
      "outputs": [
        {
          "data": {
            "text/plain": [
              "NaN     39673\n",
              "3.0       439\n",
              "6.0       412\n",
              "4.0       118\n",
              "9.0        64\n",
              "2.0        61\n",
              "7.0        60\n",
              "12.0       58\n",
              "10.0       52\n",
              "5.0        46\n",
              "13.0       36\n",
              "11.0       28\n",
              "1.0        26\n",
              "15.0       24\n",
              "14.0       20\n",
              "8.0        18\n",
              "0.0        15\n",
              "16.0       11\n",
              "17.0        8\n",
              "18.0        7\n",
              "22.0        3\n",
              "19.0        3\n",
              "21.0        2\n",
              "25.0        1\n",
              "26.0        1\n",
              "27.0        1\n",
              "20.0        1\n",
              "Name: pdays, dtype: int64"
            ]
          },
          "execution_count": 25,
          "metadata": {},
          "output_type": "execute_result"
        }
      ],
      "source": [
        "# Frekuensi distribusi value pada kolom `pdays`\n",
        "\n",
        "data['pdays'].value_counts(dropna= False)"
      ]
    },
    {
      "cell_type": "code",
      "execution_count": 26,
      "metadata": {},
      "outputs": [
        {
          "data": {
            "text/plain": [
              "NaN     96.321744\n",
              "3.0      1.065844\n",
              "6.0      1.000291\n",
              "4.0      0.286491\n",
              "9.0      0.155385\n",
              "2.0      0.148101\n",
              "7.0      0.145673\n",
              "12.0     0.140818\n",
              "10.0     0.126250\n",
              "5.0      0.111683\n",
              "13.0     0.087404\n",
              "11.0     0.067981\n",
              "1.0      0.063125\n",
              "15.0     0.058269\n",
              "14.0     0.048558\n",
              "8.0      0.043702\n",
              "0.0      0.036418\n",
              "16.0     0.026707\n",
              "17.0     0.019423\n",
              "18.0     0.016995\n",
              "22.0     0.007284\n",
              "19.0     0.007284\n",
              "21.0     0.004856\n",
              "25.0     0.002428\n",
              "26.0     0.002428\n",
              "27.0     0.002428\n",
              "20.0     0.002428\n",
              "Name: pdays, dtype: float64"
            ]
          },
          "execution_count": 26,
          "metadata": {},
          "output_type": "execute_result"
        }
      ],
      "source": [
        "# Frekuensi distribusi value pada kolom `pdays` dalam persentase\n",
        "\n",
        "data['pdays'].value_counts(dropna= False)/len(data) * 100"
      ]
    },
    {
      "cell_type": "code",
      "execution_count": 27,
      "metadata": {},
      "outputs": [
        {
          "name": "stdout",
          "output_type": "stream",
          "text": [
            "Presentase data tidak NaN :  3.6782558026609693\n",
            "Persentase data NaN :  96.32174419733903\n"
          ]
        }
      ],
      "source": [
        "# Persentase perbandindingan data tidak missing dengan data missing pada kolom `pdays`\n",
        "\n",
        "print('Presentase data tidak NaN : ', data['pdays'].value_counts().sum()/len(data)*100)\n",
        "print('Persentase data NaN : ', data['pdays'].isnull().sum()/len(data)*100)"
      ]
    },
    {
      "cell_type": "markdown",
      "metadata": {
        "id": "MWR9w_kfOxPY"
      },
      "source": [
        "# Data Preprocessing"
      ]
    },
    {
      "cell_type": "code",
      "execution_count": 28,
      "metadata": {},
      "outputs": [],
      "source": [
        "# Karena pada kolom `pdays` teradapat nilai missing value yang sangat banyak dengan persentase sebesar 96.322%, maka kolom tersebut akan dilakukan drop\n",
        "# Drop dilakukan karena missing value tersebut tidak dapat diisi menggunakan mean ataupun median dan kolom tersebut juga tidak memiliki nilai korelasi yang begitu besar dengan kolom lainnya\n",
        "# Pada kolom duration juga dilakukan drop, karena menurut author dataset jika ingin mendapatkan prediksi yang lebih realistis\n",
        "\n",
        "data.drop(['pdays', 'duration'], axis= 1, inplace= True)"
      ]
    },
    {
      "cell_type": "code",
      "execution_count": 29,
      "metadata": {},
      "outputs": [
        {
          "data": {
            "text/html": [
              "<div>\n",
              "<style scoped>\n",
              "    .dataframe tbody tr th:only-of-type {\n",
              "        vertical-align: middle;\n",
              "    }\n",
              "\n",
              "    .dataframe tbody tr th {\n",
              "        vertical-align: top;\n",
              "    }\n",
              "\n",
              "    .dataframe thead th {\n",
              "        text-align: right;\n",
              "    }\n",
              "</style>\n",
              "<table border=\"1\" class=\"dataframe\">\n",
              "  <thead>\n",
              "    <tr style=\"text-align: right;\">\n",
              "      <th></th>\n",
              "      <th>age</th>\n",
              "      <th>job</th>\n",
              "      <th>marital</th>\n",
              "      <th>education</th>\n",
              "      <th>default</th>\n",
              "      <th>housing</th>\n",
              "      <th>loan</th>\n",
              "      <th>contact</th>\n",
              "      <th>month</th>\n",
              "      <th>day_of_week</th>\n",
              "      <th>campaign</th>\n",
              "      <th>previous</th>\n",
              "      <th>poutcome</th>\n",
              "      <th>emp.var.rate</th>\n",
              "      <th>cons.price.idx</th>\n",
              "      <th>cons.conf.idx</th>\n",
              "      <th>euribor3m</th>\n",
              "      <th>nr.employed</th>\n",
              "      <th>y</th>\n",
              "    </tr>\n",
              "  </thead>\n",
              "  <tbody>\n",
              "    <tr>\n",
              "      <th>0</th>\n",
              "      <td>56.0</td>\n",
              "      <td>housemaid</td>\n",
              "      <td>married</td>\n",
              "      <td>basic.4y</td>\n",
              "      <td>no</td>\n",
              "      <td>no</td>\n",
              "      <td>no</td>\n",
              "      <td>telephone</td>\n",
              "      <td>may</td>\n",
              "      <td>mon</td>\n",
              "      <td>1.0</td>\n",
              "      <td>0.0</td>\n",
              "      <td>nonexistent</td>\n",
              "      <td>1.1</td>\n",
              "      <td>93.994</td>\n",
              "      <td>-36.4</td>\n",
              "      <td>4.857</td>\n",
              "      <td>5191.0</td>\n",
              "      <td>no</td>\n",
              "    </tr>\n",
              "    <tr>\n",
              "      <th>1</th>\n",
              "      <td>57.0</td>\n",
              "      <td>services</td>\n",
              "      <td>married</td>\n",
              "      <td>high.school</td>\n",
              "      <td>NaN</td>\n",
              "      <td>no</td>\n",
              "      <td>no</td>\n",
              "      <td>telephone</td>\n",
              "      <td>may</td>\n",
              "      <td>mon</td>\n",
              "      <td>1.0</td>\n",
              "      <td>0.0</td>\n",
              "      <td>nonexistent</td>\n",
              "      <td>1.1</td>\n",
              "      <td>93.994</td>\n",
              "      <td>-36.4</td>\n",
              "      <td>4.857</td>\n",
              "      <td>5191.0</td>\n",
              "      <td>no</td>\n",
              "    </tr>\n",
              "    <tr>\n",
              "      <th>2</th>\n",
              "      <td>37.0</td>\n",
              "      <td>services</td>\n",
              "      <td>married</td>\n",
              "      <td>high.school</td>\n",
              "      <td>no</td>\n",
              "      <td>yes</td>\n",
              "      <td>no</td>\n",
              "      <td>telephone</td>\n",
              "      <td>may</td>\n",
              "      <td>mon</td>\n",
              "      <td>1.0</td>\n",
              "      <td>0.0</td>\n",
              "      <td>nonexistent</td>\n",
              "      <td>1.1</td>\n",
              "      <td>93.994</td>\n",
              "      <td>-36.4</td>\n",
              "      <td>4.857</td>\n",
              "      <td>5191.0</td>\n",
              "      <td>no</td>\n",
              "    </tr>\n",
              "    <tr>\n",
              "      <th>3</th>\n",
              "      <td>40.0</td>\n",
              "      <td>admin.</td>\n",
              "      <td>married</td>\n",
              "      <td>basic.6y</td>\n",
              "      <td>no</td>\n",
              "      <td>no</td>\n",
              "      <td>no</td>\n",
              "      <td>telephone</td>\n",
              "      <td>may</td>\n",
              "      <td>mon</td>\n",
              "      <td>1.0</td>\n",
              "      <td>0.0</td>\n",
              "      <td>nonexistent</td>\n",
              "      <td>1.1</td>\n",
              "      <td>93.994</td>\n",
              "      <td>-36.4</td>\n",
              "      <td>4.857</td>\n",
              "      <td>5191.0</td>\n",
              "      <td>no</td>\n",
              "    </tr>\n",
              "    <tr>\n",
              "      <th>4</th>\n",
              "      <td>56.0</td>\n",
              "      <td>services</td>\n",
              "      <td>married</td>\n",
              "      <td>high.school</td>\n",
              "      <td>no</td>\n",
              "      <td>no</td>\n",
              "      <td>yes</td>\n",
              "      <td>telephone</td>\n",
              "      <td>may</td>\n",
              "      <td>mon</td>\n",
              "      <td>1.0</td>\n",
              "      <td>0.0</td>\n",
              "      <td>nonexistent</td>\n",
              "      <td>1.1</td>\n",
              "      <td>93.994</td>\n",
              "      <td>-36.4</td>\n",
              "      <td>4.857</td>\n",
              "      <td>5191.0</td>\n",
              "      <td>no</td>\n",
              "    </tr>\n",
              "    <tr>\n",
              "      <th>...</th>\n",
              "      <td>...</td>\n",
              "      <td>...</td>\n",
              "      <td>...</td>\n",
              "      <td>...</td>\n",
              "      <td>...</td>\n",
              "      <td>...</td>\n",
              "      <td>...</td>\n",
              "      <td>...</td>\n",
              "      <td>...</td>\n",
              "      <td>...</td>\n",
              "      <td>...</td>\n",
              "      <td>...</td>\n",
              "      <td>...</td>\n",
              "      <td>...</td>\n",
              "      <td>...</td>\n",
              "      <td>...</td>\n",
              "      <td>...</td>\n",
              "      <td>...</td>\n",
              "      <td>...</td>\n",
              "    </tr>\n",
              "    <tr>\n",
              "      <th>41183</th>\n",
              "      <td>73.0</td>\n",
              "      <td>retired</td>\n",
              "      <td>married</td>\n",
              "      <td>professional.course</td>\n",
              "      <td>no</td>\n",
              "      <td>yes</td>\n",
              "      <td>no</td>\n",
              "      <td>cellular</td>\n",
              "      <td>nov</td>\n",
              "      <td>fri</td>\n",
              "      <td>1.0</td>\n",
              "      <td>0.0</td>\n",
              "      <td>nonexistent</td>\n",
              "      <td>-1.1</td>\n",
              "      <td>94.767</td>\n",
              "      <td>-50.8</td>\n",
              "      <td>1.028</td>\n",
              "      <td>4963.6</td>\n",
              "      <td>yes</td>\n",
              "    </tr>\n",
              "    <tr>\n",
              "      <th>41184</th>\n",
              "      <td>46.0</td>\n",
              "      <td>blue-collar</td>\n",
              "      <td>married</td>\n",
              "      <td>professional.course</td>\n",
              "      <td>no</td>\n",
              "      <td>no</td>\n",
              "      <td>no</td>\n",
              "      <td>cellular</td>\n",
              "      <td>nov</td>\n",
              "      <td>fri</td>\n",
              "      <td>1.0</td>\n",
              "      <td>0.0</td>\n",
              "      <td>nonexistent</td>\n",
              "      <td>-1.1</td>\n",
              "      <td>94.767</td>\n",
              "      <td>-50.8</td>\n",
              "      <td>1.028</td>\n",
              "      <td>4963.6</td>\n",
              "      <td>no</td>\n",
              "    </tr>\n",
              "    <tr>\n",
              "      <th>41185</th>\n",
              "      <td>56.0</td>\n",
              "      <td>retired</td>\n",
              "      <td>married</td>\n",
              "      <td>university.degree</td>\n",
              "      <td>no</td>\n",
              "      <td>yes</td>\n",
              "      <td>no</td>\n",
              "      <td>cellular</td>\n",
              "      <td>nov</td>\n",
              "      <td>fri</td>\n",
              "      <td>2.0</td>\n",
              "      <td>0.0</td>\n",
              "      <td>nonexistent</td>\n",
              "      <td>-1.1</td>\n",
              "      <td>94.767</td>\n",
              "      <td>-50.8</td>\n",
              "      <td>1.028</td>\n",
              "      <td>4963.6</td>\n",
              "      <td>no</td>\n",
              "    </tr>\n",
              "    <tr>\n",
              "      <th>41186</th>\n",
              "      <td>44.0</td>\n",
              "      <td>technician</td>\n",
              "      <td>married</td>\n",
              "      <td>professional.course</td>\n",
              "      <td>no</td>\n",
              "      <td>no</td>\n",
              "      <td>no</td>\n",
              "      <td>cellular</td>\n",
              "      <td>nov</td>\n",
              "      <td>fri</td>\n",
              "      <td>1.0</td>\n",
              "      <td>0.0</td>\n",
              "      <td>nonexistent</td>\n",
              "      <td>-1.1</td>\n",
              "      <td>94.767</td>\n",
              "      <td>-50.8</td>\n",
              "      <td>1.028</td>\n",
              "      <td>4963.6</td>\n",
              "      <td>yes</td>\n",
              "    </tr>\n",
              "    <tr>\n",
              "      <th>41187</th>\n",
              "      <td>74.0</td>\n",
              "      <td>retired</td>\n",
              "      <td>married</td>\n",
              "      <td>professional.course</td>\n",
              "      <td>no</td>\n",
              "      <td>yes</td>\n",
              "      <td>no</td>\n",
              "      <td>cellular</td>\n",
              "      <td>nov</td>\n",
              "      <td>fri</td>\n",
              "      <td>3.0</td>\n",
              "      <td>1.0</td>\n",
              "      <td>failure</td>\n",
              "      <td>-1.1</td>\n",
              "      <td>94.767</td>\n",
              "      <td>-50.8</td>\n",
              "      <td>1.028</td>\n",
              "      <td>4963.6</td>\n",
              "      <td>no</td>\n",
              "    </tr>\n",
              "  </tbody>\n",
              "</table>\n",
              "<p>41188 rows × 19 columns</p>\n",
              "</div>"
            ],
            "text/plain": [
              "        age          job  marital            education default housing loan  \\\n",
              "0      56.0    housemaid  married             basic.4y      no      no   no   \n",
              "1      57.0     services  married          high.school     NaN      no   no   \n",
              "2      37.0     services  married          high.school      no     yes   no   \n",
              "3      40.0       admin.  married             basic.6y      no      no   no   \n",
              "4      56.0     services  married          high.school      no      no  yes   \n",
              "...     ...          ...      ...                  ...     ...     ...  ...   \n",
              "41183  73.0      retired  married  professional.course      no     yes   no   \n",
              "41184  46.0  blue-collar  married  professional.course      no      no   no   \n",
              "41185  56.0      retired  married    university.degree      no     yes   no   \n",
              "41186  44.0   technician  married  professional.course      no      no   no   \n",
              "41187  74.0      retired  married  professional.course      no     yes   no   \n",
              "\n",
              "         contact month day_of_week  campaign  previous     poutcome  \\\n",
              "0      telephone   may         mon       1.0       0.0  nonexistent   \n",
              "1      telephone   may         mon       1.0       0.0  nonexistent   \n",
              "2      telephone   may         mon       1.0       0.0  nonexistent   \n",
              "3      telephone   may         mon       1.0       0.0  nonexistent   \n",
              "4      telephone   may         mon       1.0       0.0  nonexistent   \n",
              "...          ...   ...         ...       ...       ...          ...   \n",
              "41183   cellular   nov         fri       1.0       0.0  nonexistent   \n",
              "41184   cellular   nov         fri       1.0       0.0  nonexistent   \n",
              "41185   cellular   nov         fri       2.0       0.0  nonexistent   \n",
              "41186   cellular   nov         fri       1.0       0.0  nonexistent   \n",
              "41187   cellular   nov         fri       3.0       1.0      failure   \n",
              "\n",
              "       emp.var.rate  cons.price.idx  cons.conf.idx  euribor3m  nr.employed  \\\n",
              "0               1.1          93.994          -36.4      4.857       5191.0   \n",
              "1               1.1          93.994          -36.4      4.857       5191.0   \n",
              "2               1.1          93.994          -36.4      4.857       5191.0   \n",
              "3               1.1          93.994          -36.4      4.857       5191.0   \n",
              "4               1.1          93.994          -36.4      4.857       5191.0   \n",
              "...             ...             ...            ...        ...          ...   \n",
              "41183          -1.1          94.767          -50.8      1.028       4963.6   \n",
              "41184          -1.1          94.767          -50.8      1.028       4963.6   \n",
              "41185          -1.1          94.767          -50.8      1.028       4963.6   \n",
              "41186          -1.1          94.767          -50.8      1.028       4963.6   \n",
              "41187          -1.1          94.767          -50.8      1.028       4963.6   \n",
              "\n",
              "         y  \n",
              "0       no  \n",
              "1       no  \n",
              "2       no  \n",
              "3       no  \n",
              "4       no  \n",
              "...    ...  \n",
              "41183  yes  \n",
              "41184   no  \n",
              "41185   no  \n",
              "41186  yes  \n",
              "41187   no  \n",
              "\n",
              "[41188 rows x 19 columns]"
            ]
          },
          "execution_count": 29,
          "metadata": {},
          "output_type": "execute_result"
        }
      ],
      "source": [
        "data"
      ]
    },
    {
      "cell_type": "code",
      "execution_count": 30,
      "metadata": {},
      "outputs": [
        {
          "data": {
            "text/plain": [
              "0    36548\n",
              "1     4640\n",
              "Name: y, dtype: int64"
            ]
          },
          "execution_count": 30,
          "metadata": {},
          "output_type": "execute_result"
        }
      ],
      "source": [
        "# Dilakukan perubahan bentuk pada kolom `RainTomorrow` dari catagorical menjadi numerical\n",
        "\n",
        "data['y'] = data['y'].map({'no' : 0,\n",
        "                           'yes' : 1})\n",
        "data['y'].value_counts()"
      ]
    },
    {
      "cell_type": "code",
      "execution_count": 31,
      "metadata": {},
      "outputs": [
        {
          "data": {
            "text/html": [
              "<div>\n",
              "<style scoped>\n",
              "    .dataframe tbody tr th:only-of-type {\n",
              "        vertical-align: middle;\n",
              "    }\n",
              "\n",
              "    .dataframe tbody tr th {\n",
              "        vertical-align: top;\n",
              "    }\n",
              "\n",
              "    .dataframe thead th {\n",
              "        text-align: right;\n",
              "    }\n",
              "</style>\n",
              "<table border=\"1\" class=\"dataframe\">\n",
              "  <thead>\n",
              "    <tr style=\"text-align: right;\">\n",
              "      <th></th>\n",
              "      <th>age</th>\n",
              "      <th>job</th>\n",
              "      <th>marital</th>\n",
              "      <th>education</th>\n",
              "      <th>default</th>\n",
              "      <th>housing</th>\n",
              "      <th>loan</th>\n",
              "      <th>contact</th>\n",
              "      <th>month</th>\n",
              "      <th>day_of_week</th>\n",
              "      <th>campaign</th>\n",
              "      <th>previous</th>\n",
              "      <th>poutcome</th>\n",
              "      <th>emp.var.rate</th>\n",
              "      <th>cons.price.idx</th>\n",
              "      <th>cons.conf.idx</th>\n",
              "      <th>euribor3m</th>\n",
              "      <th>nr.employed</th>\n",
              "      <th>y</th>\n",
              "    </tr>\n",
              "  </thead>\n",
              "  <tbody>\n",
              "    <tr>\n",
              "      <th>19829</th>\n",
              "      <td>49.0</td>\n",
              "      <td>admin.</td>\n",
              "      <td>married</td>\n",
              "      <td>high.school</td>\n",
              "      <td>no</td>\n",
              "      <td>no</td>\n",
              "      <td>no</td>\n",
              "      <td>cellular</td>\n",
              "      <td>aug</td>\n",
              "      <td>fri</td>\n",
              "      <td>1.0</td>\n",
              "      <td>0.0</td>\n",
              "      <td>nonexistent</td>\n",
              "      <td>1.4</td>\n",
              "      <td>93.444</td>\n",
              "      <td>-36.1</td>\n",
              "      <td>4.966</td>\n",
              "      <td>5228.1</td>\n",
              "      <td>0</td>\n",
              "    </tr>\n",
              "    <tr>\n",
              "      <th>28042</th>\n",
              "      <td>32.0</td>\n",
              "      <td>technician</td>\n",
              "      <td>single</td>\n",
              "      <td>university.degree</td>\n",
              "      <td>no</td>\n",
              "      <td>yes</td>\n",
              "      <td>no</td>\n",
              "      <td>cellular</td>\n",
              "      <td>apr</td>\n",
              "      <td>thu</td>\n",
              "      <td>2.0</td>\n",
              "      <td>1.0</td>\n",
              "      <td>failure</td>\n",
              "      <td>-1.8</td>\n",
              "      <td>93.075</td>\n",
              "      <td>-47.1</td>\n",
              "      <td>1.483</td>\n",
              "      <td>5099.1</td>\n",
              "      <td>0</td>\n",
              "    </tr>\n",
              "    <tr>\n",
              "      <th>22342</th>\n",
              "      <td>31.0</td>\n",
              "      <td>technician</td>\n",
              "      <td>divorced</td>\n",
              "      <td>university.degree</td>\n",
              "      <td>no</td>\n",
              "      <td>yes</td>\n",
              "      <td>no</td>\n",
              "      <td>cellular</td>\n",
              "      <td>aug</td>\n",
              "      <td>thu</td>\n",
              "      <td>2.0</td>\n",
              "      <td>0.0</td>\n",
              "      <td>nonexistent</td>\n",
              "      <td>1.4</td>\n",
              "      <td>93.444</td>\n",
              "      <td>-36.1</td>\n",
              "      <td>4.963</td>\n",
              "      <td>5228.1</td>\n",
              "      <td>0</td>\n",
              "    </tr>\n",
              "    <tr>\n",
              "      <th>25731</th>\n",
              "      <td>29.0</td>\n",
              "      <td>management</td>\n",
              "      <td>single</td>\n",
              "      <td>university.degree</td>\n",
              "      <td>no</td>\n",
              "      <td>no</td>\n",
              "      <td>no</td>\n",
              "      <td>cellular</td>\n",
              "      <td>nov</td>\n",
              "      <td>wed</td>\n",
              "      <td>1.0</td>\n",
              "      <td>0.0</td>\n",
              "      <td>nonexistent</td>\n",
              "      <td>-0.1</td>\n",
              "      <td>93.200</td>\n",
              "      <td>-42.0</td>\n",
              "      <td>4.120</td>\n",
              "      <td>5195.8</td>\n",
              "      <td>1</td>\n",
              "    </tr>\n",
              "    <tr>\n",
              "      <th>34144</th>\n",
              "      <td>28.0</td>\n",
              "      <td>services</td>\n",
              "      <td>single</td>\n",
              "      <td>high.school</td>\n",
              "      <td>no</td>\n",
              "      <td>no</td>\n",
              "      <td>no</td>\n",
              "      <td>cellular</td>\n",
              "      <td>may</td>\n",
              "      <td>wed</td>\n",
              "      <td>2.0</td>\n",
              "      <td>0.0</td>\n",
              "      <td>nonexistent</td>\n",
              "      <td>-1.8</td>\n",
              "      <td>92.893</td>\n",
              "      <td>-46.2</td>\n",
              "      <td>1.281</td>\n",
              "      <td>5099.1</td>\n",
              "      <td>1</td>\n",
              "    </tr>\n",
              "    <tr>\n",
              "      <th>32306</th>\n",
              "      <td>43.0</td>\n",
              "      <td>blue-collar</td>\n",
              "      <td>married</td>\n",
              "      <td>basic.9y</td>\n",
              "      <td>no</td>\n",
              "      <td>yes</td>\n",
              "      <td>no</td>\n",
              "      <td>cellular</td>\n",
              "      <td>may</td>\n",
              "      <td>fri</td>\n",
              "      <td>1.0</td>\n",
              "      <td>1.0</td>\n",
              "      <td>failure</td>\n",
              "      <td>-1.8</td>\n",
              "      <td>92.893</td>\n",
              "      <td>-46.2</td>\n",
              "      <td>1.313</td>\n",
              "      <td>5099.1</td>\n",
              "      <td>0</td>\n",
              "    </tr>\n",
              "    <tr>\n",
              "      <th>27749</th>\n",
              "      <td>23.0</td>\n",
              "      <td>admin.</td>\n",
              "      <td>single</td>\n",
              "      <td>university.degree</td>\n",
              "      <td>no</td>\n",
              "      <td>yes</td>\n",
              "      <td>no</td>\n",
              "      <td>cellular</td>\n",
              "      <td>mar</td>\n",
              "      <td>thu</td>\n",
              "      <td>2.0</td>\n",
              "      <td>0.0</td>\n",
              "      <td>nonexistent</td>\n",
              "      <td>-1.8</td>\n",
              "      <td>92.843</td>\n",
              "      <td>-50.0</td>\n",
              "      <td>1.757</td>\n",
              "      <td>5099.1</td>\n",
              "      <td>0</td>\n",
              "    </tr>\n",
              "    <tr>\n",
              "      <th>4614</th>\n",
              "      <td>46.0</td>\n",
              "      <td>services</td>\n",
              "      <td>married</td>\n",
              "      <td>professional.course</td>\n",
              "      <td>no</td>\n",
              "      <td>yes</td>\n",
              "      <td>no</td>\n",
              "      <td>telephone</td>\n",
              "      <td>may</td>\n",
              "      <td>tue</td>\n",
              "      <td>4.0</td>\n",
              "      <td>0.0</td>\n",
              "      <td>nonexistent</td>\n",
              "      <td>1.1</td>\n",
              "      <td>93.994</td>\n",
              "      <td>-36.4</td>\n",
              "      <td>4.856</td>\n",
              "      <td>5191.0</td>\n",
              "      <td>0</td>\n",
              "    </tr>\n",
              "  </tbody>\n",
              "</table>\n",
              "</div>"
            ],
            "text/plain": [
              "        age          job   marital            education default housing loan  \\\n",
              "19829  49.0       admin.   married          high.school      no      no   no   \n",
              "28042  32.0   technician    single    university.degree      no     yes   no   \n",
              "22342  31.0   technician  divorced    university.degree      no     yes   no   \n",
              "25731  29.0   management    single    university.degree      no      no   no   \n",
              "34144  28.0     services    single          high.school      no      no   no   \n",
              "32306  43.0  blue-collar   married             basic.9y      no     yes   no   \n",
              "27749  23.0       admin.    single    university.degree      no     yes   no   \n",
              "4614   46.0     services   married  professional.course      no     yes   no   \n",
              "\n",
              "         contact month day_of_week  campaign  previous     poutcome  \\\n",
              "19829   cellular   aug         fri       1.0       0.0  nonexistent   \n",
              "28042   cellular   apr         thu       2.0       1.0      failure   \n",
              "22342   cellular   aug         thu       2.0       0.0  nonexistent   \n",
              "25731   cellular   nov         wed       1.0       0.0  nonexistent   \n",
              "34144   cellular   may         wed       2.0       0.0  nonexistent   \n",
              "32306   cellular   may         fri       1.0       1.0      failure   \n",
              "27749   cellular   mar         thu       2.0       0.0  nonexistent   \n",
              "4614   telephone   may         tue       4.0       0.0  nonexistent   \n",
              "\n",
              "       emp.var.rate  cons.price.idx  cons.conf.idx  euribor3m  nr.employed  y  \n",
              "19829           1.4          93.444          -36.1      4.966       5228.1  0  \n",
              "28042          -1.8          93.075          -47.1      1.483       5099.1  0  \n",
              "22342           1.4          93.444          -36.1      4.963       5228.1  0  \n",
              "25731          -0.1          93.200          -42.0      4.120       5195.8  1  \n",
              "34144          -1.8          92.893          -46.2      1.281       5099.1  1  \n",
              "32306          -1.8          92.893          -46.2      1.313       5099.1  0  \n",
              "27749          -1.8          92.843          -50.0      1.757       5099.1  0  \n",
              "4614            1.1          93.994          -36.4      4.856       5191.0  0  "
            ]
          },
          "execution_count": 31,
          "metadata": {},
          "output_type": "execute_result"
        }
      ],
      "source": [
        "# Get Data for Model Inference\n",
        "\n",
        "data_inf = data.sample(10, random_state= 18)\n",
        "data_inf_clear = data_inf.dropna()\n",
        "data_inf_clear"
      ]
    },
    {
      "cell_type": "code",
      "execution_count": 32,
      "metadata": {},
      "outputs": [
        {
          "data": {
            "text/html": [
              "<div>\n",
              "<style scoped>\n",
              "    .dataframe tbody tr th:only-of-type {\n",
              "        vertical-align: middle;\n",
              "    }\n",
              "\n",
              "    .dataframe tbody tr th {\n",
              "        vertical-align: top;\n",
              "    }\n",
              "\n",
              "    .dataframe thead th {\n",
              "        text-align: right;\n",
              "    }\n",
              "</style>\n",
              "<table border=\"1\" class=\"dataframe\">\n",
              "  <thead>\n",
              "    <tr style=\"text-align: right;\">\n",
              "      <th></th>\n",
              "      <th>age</th>\n",
              "      <th>job</th>\n",
              "      <th>marital</th>\n",
              "      <th>education</th>\n",
              "      <th>default</th>\n",
              "      <th>housing</th>\n",
              "      <th>loan</th>\n",
              "      <th>contact</th>\n",
              "      <th>month</th>\n",
              "      <th>day_of_week</th>\n",
              "      <th>campaign</th>\n",
              "      <th>previous</th>\n",
              "      <th>poutcome</th>\n",
              "      <th>emp.var.rate</th>\n",
              "      <th>cons.price.idx</th>\n",
              "      <th>cons.conf.idx</th>\n",
              "      <th>euribor3m</th>\n",
              "      <th>nr.employed</th>\n",
              "      <th>y</th>\n",
              "    </tr>\n",
              "  </thead>\n",
              "  <tbody>\n",
              "    <tr>\n",
              "      <th>0</th>\n",
              "      <td>56.0</td>\n",
              "      <td>housemaid</td>\n",
              "      <td>married</td>\n",
              "      <td>basic.4y</td>\n",
              "      <td>no</td>\n",
              "      <td>no</td>\n",
              "      <td>no</td>\n",
              "      <td>telephone</td>\n",
              "      <td>may</td>\n",
              "      <td>mon</td>\n",
              "      <td>1.0</td>\n",
              "      <td>0.0</td>\n",
              "      <td>nonexistent</td>\n",
              "      <td>1.1</td>\n",
              "      <td>93.994</td>\n",
              "      <td>-36.4</td>\n",
              "      <td>4.857</td>\n",
              "      <td>5191.0</td>\n",
              "      <td>0</td>\n",
              "    </tr>\n",
              "    <tr>\n",
              "      <th>1</th>\n",
              "      <td>57.0</td>\n",
              "      <td>services</td>\n",
              "      <td>married</td>\n",
              "      <td>high.school</td>\n",
              "      <td>NaN</td>\n",
              "      <td>no</td>\n",
              "      <td>no</td>\n",
              "      <td>telephone</td>\n",
              "      <td>may</td>\n",
              "      <td>mon</td>\n",
              "      <td>1.0</td>\n",
              "      <td>0.0</td>\n",
              "      <td>nonexistent</td>\n",
              "      <td>1.1</td>\n",
              "      <td>93.994</td>\n",
              "      <td>-36.4</td>\n",
              "      <td>4.857</td>\n",
              "      <td>5191.0</td>\n",
              "      <td>0</td>\n",
              "    </tr>\n",
              "    <tr>\n",
              "      <th>2</th>\n",
              "      <td>37.0</td>\n",
              "      <td>services</td>\n",
              "      <td>married</td>\n",
              "      <td>high.school</td>\n",
              "      <td>no</td>\n",
              "      <td>yes</td>\n",
              "      <td>no</td>\n",
              "      <td>telephone</td>\n",
              "      <td>may</td>\n",
              "      <td>mon</td>\n",
              "      <td>1.0</td>\n",
              "      <td>0.0</td>\n",
              "      <td>nonexistent</td>\n",
              "      <td>1.1</td>\n",
              "      <td>93.994</td>\n",
              "      <td>-36.4</td>\n",
              "      <td>4.857</td>\n",
              "      <td>5191.0</td>\n",
              "      <td>0</td>\n",
              "    </tr>\n",
              "    <tr>\n",
              "      <th>3</th>\n",
              "      <td>40.0</td>\n",
              "      <td>admin.</td>\n",
              "      <td>married</td>\n",
              "      <td>basic.6y</td>\n",
              "      <td>no</td>\n",
              "      <td>no</td>\n",
              "      <td>no</td>\n",
              "      <td>telephone</td>\n",
              "      <td>may</td>\n",
              "      <td>mon</td>\n",
              "      <td>1.0</td>\n",
              "      <td>0.0</td>\n",
              "      <td>nonexistent</td>\n",
              "      <td>1.1</td>\n",
              "      <td>93.994</td>\n",
              "      <td>-36.4</td>\n",
              "      <td>4.857</td>\n",
              "      <td>5191.0</td>\n",
              "      <td>0</td>\n",
              "    </tr>\n",
              "    <tr>\n",
              "      <th>4</th>\n",
              "      <td>56.0</td>\n",
              "      <td>services</td>\n",
              "      <td>married</td>\n",
              "      <td>high.school</td>\n",
              "      <td>no</td>\n",
              "      <td>no</td>\n",
              "      <td>yes</td>\n",
              "      <td>telephone</td>\n",
              "      <td>may</td>\n",
              "      <td>mon</td>\n",
              "      <td>1.0</td>\n",
              "      <td>0.0</td>\n",
              "      <td>nonexistent</td>\n",
              "      <td>1.1</td>\n",
              "      <td>93.994</td>\n",
              "      <td>-36.4</td>\n",
              "      <td>4.857</td>\n",
              "      <td>5191.0</td>\n",
              "      <td>0</td>\n",
              "    </tr>\n",
              "    <tr>\n",
              "      <th>...</th>\n",
              "      <td>...</td>\n",
              "      <td>...</td>\n",
              "      <td>...</td>\n",
              "      <td>...</td>\n",
              "      <td>...</td>\n",
              "      <td>...</td>\n",
              "      <td>...</td>\n",
              "      <td>...</td>\n",
              "      <td>...</td>\n",
              "      <td>...</td>\n",
              "      <td>...</td>\n",
              "      <td>...</td>\n",
              "      <td>...</td>\n",
              "      <td>...</td>\n",
              "      <td>...</td>\n",
              "      <td>...</td>\n",
              "      <td>...</td>\n",
              "      <td>...</td>\n",
              "      <td>...</td>\n",
              "    </tr>\n",
              "    <tr>\n",
              "      <th>41183</th>\n",
              "      <td>73.0</td>\n",
              "      <td>retired</td>\n",
              "      <td>married</td>\n",
              "      <td>professional.course</td>\n",
              "      <td>no</td>\n",
              "      <td>yes</td>\n",
              "      <td>no</td>\n",
              "      <td>cellular</td>\n",
              "      <td>nov</td>\n",
              "      <td>fri</td>\n",
              "      <td>1.0</td>\n",
              "      <td>0.0</td>\n",
              "      <td>nonexistent</td>\n",
              "      <td>-1.1</td>\n",
              "      <td>94.767</td>\n",
              "      <td>-50.8</td>\n",
              "      <td>1.028</td>\n",
              "      <td>4963.6</td>\n",
              "      <td>1</td>\n",
              "    </tr>\n",
              "    <tr>\n",
              "      <th>41184</th>\n",
              "      <td>46.0</td>\n",
              "      <td>blue-collar</td>\n",
              "      <td>married</td>\n",
              "      <td>professional.course</td>\n",
              "      <td>no</td>\n",
              "      <td>no</td>\n",
              "      <td>no</td>\n",
              "      <td>cellular</td>\n",
              "      <td>nov</td>\n",
              "      <td>fri</td>\n",
              "      <td>1.0</td>\n",
              "      <td>0.0</td>\n",
              "      <td>nonexistent</td>\n",
              "      <td>-1.1</td>\n",
              "      <td>94.767</td>\n",
              "      <td>-50.8</td>\n",
              "      <td>1.028</td>\n",
              "      <td>4963.6</td>\n",
              "      <td>0</td>\n",
              "    </tr>\n",
              "    <tr>\n",
              "      <th>41185</th>\n",
              "      <td>56.0</td>\n",
              "      <td>retired</td>\n",
              "      <td>married</td>\n",
              "      <td>university.degree</td>\n",
              "      <td>no</td>\n",
              "      <td>yes</td>\n",
              "      <td>no</td>\n",
              "      <td>cellular</td>\n",
              "      <td>nov</td>\n",
              "      <td>fri</td>\n",
              "      <td>2.0</td>\n",
              "      <td>0.0</td>\n",
              "      <td>nonexistent</td>\n",
              "      <td>-1.1</td>\n",
              "      <td>94.767</td>\n",
              "      <td>-50.8</td>\n",
              "      <td>1.028</td>\n",
              "      <td>4963.6</td>\n",
              "      <td>0</td>\n",
              "    </tr>\n",
              "    <tr>\n",
              "      <th>41186</th>\n",
              "      <td>44.0</td>\n",
              "      <td>technician</td>\n",
              "      <td>married</td>\n",
              "      <td>professional.course</td>\n",
              "      <td>no</td>\n",
              "      <td>no</td>\n",
              "      <td>no</td>\n",
              "      <td>cellular</td>\n",
              "      <td>nov</td>\n",
              "      <td>fri</td>\n",
              "      <td>1.0</td>\n",
              "      <td>0.0</td>\n",
              "      <td>nonexistent</td>\n",
              "      <td>-1.1</td>\n",
              "      <td>94.767</td>\n",
              "      <td>-50.8</td>\n",
              "      <td>1.028</td>\n",
              "      <td>4963.6</td>\n",
              "      <td>1</td>\n",
              "    </tr>\n",
              "    <tr>\n",
              "      <th>41187</th>\n",
              "      <td>74.0</td>\n",
              "      <td>retired</td>\n",
              "      <td>married</td>\n",
              "      <td>professional.course</td>\n",
              "      <td>no</td>\n",
              "      <td>yes</td>\n",
              "      <td>no</td>\n",
              "      <td>cellular</td>\n",
              "      <td>nov</td>\n",
              "      <td>fri</td>\n",
              "      <td>3.0</td>\n",
              "      <td>1.0</td>\n",
              "      <td>failure</td>\n",
              "      <td>-1.1</td>\n",
              "      <td>94.767</td>\n",
              "      <td>-50.8</td>\n",
              "      <td>1.028</td>\n",
              "      <td>4963.6</td>\n",
              "      <td>0</td>\n",
              "    </tr>\n",
              "  </tbody>\n",
              "</table>\n",
              "<p>41180 rows × 19 columns</p>\n",
              "</div>"
            ],
            "text/plain": [
              "        age          job  marital            education default housing loan  \\\n",
              "0      56.0    housemaid  married             basic.4y      no      no   no   \n",
              "1      57.0     services  married          high.school     NaN      no   no   \n",
              "2      37.0     services  married          high.school      no     yes   no   \n",
              "3      40.0       admin.  married             basic.6y      no      no   no   \n",
              "4      56.0     services  married          high.school      no      no  yes   \n",
              "...     ...          ...      ...                  ...     ...     ...  ...   \n",
              "41183  73.0      retired  married  professional.course      no     yes   no   \n",
              "41184  46.0  blue-collar  married  professional.course      no      no   no   \n",
              "41185  56.0      retired  married    university.degree      no     yes   no   \n",
              "41186  44.0   technician  married  professional.course      no      no   no   \n",
              "41187  74.0      retired  married  professional.course      no     yes   no   \n",
              "\n",
              "         contact month day_of_week  campaign  previous     poutcome  \\\n",
              "0      telephone   may         mon       1.0       0.0  nonexistent   \n",
              "1      telephone   may         mon       1.0       0.0  nonexistent   \n",
              "2      telephone   may         mon       1.0       0.0  nonexistent   \n",
              "3      telephone   may         mon       1.0       0.0  nonexistent   \n",
              "4      telephone   may         mon       1.0       0.0  nonexistent   \n",
              "...          ...   ...         ...       ...       ...          ...   \n",
              "41183   cellular   nov         fri       1.0       0.0  nonexistent   \n",
              "41184   cellular   nov         fri       1.0       0.0  nonexistent   \n",
              "41185   cellular   nov         fri       2.0       0.0  nonexistent   \n",
              "41186   cellular   nov         fri       1.0       0.0  nonexistent   \n",
              "41187   cellular   nov         fri       3.0       1.0      failure   \n",
              "\n",
              "       emp.var.rate  cons.price.idx  cons.conf.idx  euribor3m  nr.employed  y  \n",
              "0               1.1          93.994          -36.4      4.857       5191.0  0  \n",
              "1               1.1          93.994          -36.4      4.857       5191.0  0  \n",
              "2               1.1          93.994          -36.4      4.857       5191.0  0  \n",
              "3               1.1          93.994          -36.4      4.857       5191.0  0  \n",
              "4               1.1          93.994          -36.4      4.857       5191.0  0  \n",
              "...             ...             ...            ...        ...          ... ..  \n",
              "41183          -1.1          94.767          -50.8      1.028       4963.6  1  \n",
              "41184          -1.1          94.767          -50.8      1.028       4963.6  0  \n",
              "41185          -1.1          94.767          -50.8      1.028       4963.6  0  \n",
              "41186          -1.1          94.767          -50.8      1.028       4963.6  1  \n",
              "41187          -1.1          94.767          -50.8      1.028       4963.6  0  \n",
              "\n",
              "[41180 rows x 19 columns]"
            ]
          },
          "execution_count": 32,
          "metadata": {},
          "output_type": "execute_result"
        }
      ],
      "source": [
        "# Remove Inference-Set from Dataset\n",
        "\n",
        "data_new = data.drop(data_inf_clear.index)\n",
        "data_new"
      ]
    },
    {
      "cell_type": "code",
      "execution_count": 33,
      "metadata": {},
      "outputs": [
        {
          "data": {
            "text/html": [
              "<div>\n",
              "<style scoped>\n",
              "    .dataframe tbody tr th:only-of-type {\n",
              "        vertical-align: middle;\n",
              "    }\n",
              "\n",
              "    .dataframe tbody tr th {\n",
              "        vertical-align: top;\n",
              "    }\n",
              "\n",
              "    .dataframe thead th {\n",
              "        text-align: right;\n",
              "    }\n",
              "</style>\n",
              "<table border=\"1\" class=\"dataframe\">\n",
              "  <thead>\n",
              "    <tr style=\"text-align: right;\">\n",
              "      <th></th>\n",
              "      <th>age</th>\n",
              "      <th>job</th>\n",
              "      <th>marital</th>\n",
              "      <th>education</th>\n",
              "      <th>default</th>\n",
              "      <th>housing</th>\n",
              "      <th>loan</th>\n",
              "      <th>contact</th>\n",
              "      <th>month</th>\n",
              "      <th>day_of_week</th>\n",
              "      <th>campaign</th>\n",
              "      <th>previous</th>\n",
              "      <th>poutcome</th>\n",
              "      <th>emp.var.rate</th>\n",
              "      <th>cons.price.idx</th>\n",
              "      <th>cons.conf.idx</th>\n",
              "      <th>euribor3m</th>\n",
              "      <th>nr.employed</th>\n",
              "      <th>y</th>\n",
              "    </tr>\n",
              "  </thead>\n",
              "  <tbody>\n",
              "    <tr>\n",
              "      <th>0</th>\n",
              "      <td>49.0</td>\n",
              "      <td>admin.</td>\n",
              "      <td>married</td>\n",
              "      <td>high.school</td>\n",
              "      <td>no</td>\n",
              "      <td>no</td>\n",
              "      <td>no</td>\n",
              "      <td>cellular</td>\n",
              "      <td>aug</td>\n",
              "      <td>fri</td>\n",
              "      <td>1.0</td>\n",
              "      <td>0.0</td>\n",
              "      <td>nonexistent</td>\n",
              "      <td>1.4</td>\n",
              "      <td>93.444</td>\n",
              "      <td>-36.1</td>\n",
              "      <td>4.966</td>\n",
              "      <td>5228.1</td>\n",
              "      <td>0</td>\n",
              "    </tr>\n",
              "    <tr>\n",
              "      <th>1</th>\n",
              "      <td>32.0</td>\n",
              "      <td>technician</td>\n",
              "      <td>single</td>\n",
              "      <td>university.degree</td>\n",
              "      <td>no</td>\n",
              "      <td>yes</td>\n",
              "      <td>no</td>\n",
              "      <td>cellular</td>\n",
              "      <td>apr</td>\n",
              "      <td>thu</td>\n",
              "      <td>2.0</td>\n",
              "      <td>1.0</td>\n",
              "      <td>failure</td>\n",
              "      <td>-1.8</td>\n",
              "      <td>93.075</td>\n",
              "      <td>-47.1</td>\n",
              "      <td>1.483</td>\n",
              "      <td>5099.1</td>\n",
              "      <td>0</td>\n",
              "    </tr>\n",
              "    <tr>\n",
              "      <th>2</th>\n",
              "      <td>31.0</td>\n",
              "      <td>technician</td>\n",
              "      <td>divorced</td>\n",
              "      <td>university.degree</td>\n",
              "      <td>no</td>\n",
              "      <td>yes</td>\n",
              "      <td>no</td>\n",
              "      <td>cellular</td>\n",
              "      <td>aug</td>\n",
              "      <td>thu</td>\n",
              "      <td>2.0</td>\n",
              "      <td>0.0</td>\n",
              "      <td>nonexistent</td>\n",
              "      <td>1.4</td>\n",
              "      <td>93.444</td>\n",
              "      <td>-36.1</td>\n",
              "      <td>4.963</td>\n",
              "      <td>5228.1</td>\n",
              "      <td>0</td>\n",
              "    </tr>\n",
              "    <tr>\n",
              "      <th>3</th>\n",
              "      <td>29.0</td>\n",
              "      <td>management</td>\n",
              "      <td>single</td>\n",
              "      <td>university.degree</td>\n",
              "      <td>no</td>\n",
              "      <td>no</td>\n",
              "      <td>no</td>\n",
              "      <td>cellular</td>\n",
              "      <td>nov</td>\n",
              "      <td>wed</td>\n",
              "      <td>1.0</td>\n",
              "      <td>0.0</td>\n",
              "      <td>nonexistent</td>\n",
              "      <td>-0.1</td>\n",
              "      <td>93.200</td>\n",
              "      <td>-42.0</td>\n",
              "      <td>4.120</td>\n",
              "      <td>5195.8</td>\n",
              "      <td>1</td>\n",
              "    </tr>\n",
              "    <tr>\n",
              "      <th>4</th>\n",
              "      <td>28.0</td>\n",
              "      <td>services</td>\n",
              "      <td>single</td>\n",
              "      <td>high.school</td>\n",
              "      <td>no</td>\n",
              "      <td>no</td>\n",
              "      <td>no</td>\n",
              "      <td>cellular</td>\n",
              "      <td>may</td>\n",
              "      <td>wed</td>\n",
              "      <td>2.0</td>\n",
              "      <td>0.0</td>\n",
              "      <td>nonexistent</td>\n",
              "      <td>-1.8</td>\n",
              "      <td>92.893</td>\n",
              "      <td>-46.2</td>\n",
              "      <td>1.281</td>\n",
              "      <td>5099.1</td>\n",
              "      <td>1</td>\n",
              "    </tr>\n",
              "    <tr>\n",
              "      <th>5</th>\n",
              "      <td>43.0</td>\n",
              "      <td>blue-collar</td>\n",
              "      <td>married</td>\n",
              "      <td>basic.9y</td>\n",
              "      <td>no</td>\n",
              "      <td>yes</td>\n",
              "      <td>no</td>\n",
              "      <td>cellular</td>\n",
              "      <td>may</td>\n",
              "      <td>fri</td>\n",
              "      <td>1.0</td>\n",
              "      <td>1.0</td>\n",
              "      <td>failure</td>\n",
              "      <td>-1.8</td>\n",
              "      <td>92.893</td>\n",
              "      <td>-46.2</td>\n",
              "      <td>1.313</td>\n",
              "      <td>5099.1</td>\n",
              "      <td>0</td>\n",
              "    </tr>\n",
              "    <tr>\n",
              "      <th>6</th>\n",
              "      <td>23.0</td>\n",
              "      <td>admin.</td>\n",
              "      <td>single</td>\n",
              "      <td>university.degree</td>\n",
              "      <td>no</td>\n",
              "      <td>yes</td>\n",
              "      <td>no</td>\n",
              "      <td>cellular</td>\n",
              "      <td>mar</td>\n",
              "      <td>thu</td>\n",
              "      <td>2.0</td>\n",
              "      <td>0.0</td>\n",
              "      <td>nonexistent</td>\n",
              "      <td>-1.8</td>\n",
              "      <td>92.843</td>\n",
              "      <td>-50.0</td>\n",
              "      <td>1.757</td>\n",
              "      <td>5099.1</td>\n",
              "      <td>0</td>\n",
              "    </tr>\n",
              "    <tr>\n",
              "      <th>7</th>\n",
              "      <td>46.0</td>\n",
              "      <td>services</td>\n",
              "      <td>married</td>\n",
              "      <td>professional.course</td>\n",
              "      <td>no</td>\n",
              "      <td>yes</td>\n",
              "      <td>no</td>\n",
              "      <td>telephone</td>\n",
              "      <td>may</td>\n",
              "      <td>tue</td>\n",
              "      <td>4.0</td>\n",
              "      <td>0.0</td>\n",
              "      <td>nonexistent</td>\n",
              "      <td>1.1</td>\n",
              "      <td>93.994</td>\n",
              "      <td>-36.4</td>\n",
              "      <td>4.856</td>\n",
              "      <td>5191.0</td>\n",
              "      <td>0</td>\n",
              "    </tr>\n",
              "  </tbody>\n",
              "</table>\n",
              "</div>"
            ],
            "text/plain": [
              "    age          job   marital            education default housing loan  \\\n",
              "0  49.0       admin.   married          high.school      no      no   no   \n",
              "1  32.0   technician    single    university.degree      no     yes   no   \n",
              "2  31.0   technician  divorced    university.degree      no     yes   no   \n",
              "3  29.0   management    single    university.degree      no      no   no   \n",
              "4  28.0     services    single          high.school      no      no   no   \n",
              "5  43.0  blue-collar   married             basic.9y      no     yes   no   \n",
              "6  23.0       admin.    single    university.degree      no     yes   no   \n",
              "7  46.0     services   married  professional.course      no     yes   no   \n",
              "\n",
              "     contact month day_of_week  campaign  previous     poutcome  emp.var.rate  \\\n",
              "0   cellular   aug         fri       1.0       0.0  nonexistent           1.4   \n",
              "1   cellular   apr         thu       2.0       1.0      failure          -1.8   \n",
              "2   cellular   aug         thu       2.0       0.0  nonexistent           1.4   \n",
              "3   cellular   nov         wed       1.0       0.0  nonexistent          -0.1   \n",
              "4   cellular   may         wed       2.0       0.0  nonexistent          -1.8   \n",
              "5   cellular   may         fri       1.0       1.0      failure          -1.8   \n",
              "6   cellular   mar         thu       2.0       0.0  nonexistent          -1.8   \n",
              "7  telephone   may         tue       4.0       0.0  nonexistent           1.1   \n",
              "\n",
              "   cons.price.idx  cons.conf.idx  euribor3m  nr.employed  y  \n",
              "0          93.444          -36.1      4.966       5228.1  0  \n",
              "1          93.075          -47.1      1.483       5099.1  0  \n",
              "2          93.444          -36.1      4.963       5228.1  0  \n",
              "3          93.200          -42.0      4.120       5195.8  1  \n",
              "4          92.893          -46.2      1.281       5099.1  1  \n",
              "5          92.893          -46.2      1.313       5099.1  0  \n",
              "6          92.843          -50.0      1.757       5099.1  0  \n",
              "7          93.994          -36.4      4.856       5191.0  0  "
            ]
          },
          "execution_count": 33,
          "metadata": {},
          "output_type": "execute_result"
        }
      ],
      "source": [
        "# Reset Index\n",
        "\n",
        "data_new.reset_index(drop=True, inplace=True)\n",
        "data_inf_clear.reset_index(drop=True, inplace=True)\n",
        "data_inf_clear"
      ]
    },
    {
      "cell_type": "markdown",
      "metadata": {
        "id": "uM0NHiW6R7_n"
      },
      "source": [
        "## Splitting Dataset"
      ]
    },
    {
      "cell_type": "code",
      "execution_count": 34,
      "metadata": {
        "colab": {
          "base_uri": "https://localhost:8080/",
          "height": 539
        },
        "id": "wYcgxGFiR9w3",
        "outputId": "95058189-5db7-438a-acc8-d55d24dd6f37"
      },
      "outputs": [
        {
          "data": {
            "text/html": [
              "<div>\n",
              "<style scoped>\n",
              "    .dataframe tbody tr th:only-of-type {\n",
              "        vertical-align: middle;\n",
              "    }\n",
              "\n",
              "    .dataframe tbody tr th {\n",
              "        vertical-align: top;\n",
              "    }\n",
              "\n",
              "    .dataframe thead th {\n",
              "        text-align: right;\n",
              "    }\n",
              "</style>\n",
              "<table border=\"1\" class=\"dataframe\">\n",
              "  <thead>\n",
              "    <tr style=\"text-align: right;\">\n",
              "      <th></th>\n",
              "      <th>age</th>\n",
              "      <th>job</th>\n",
              "      <th>marital</th>\n",
              "      <th>education</th>\n",
              "      <th>default</th>\n",
              "      <th>housing</th>\n",
              "      <th>loan</th>\n",
              "      <th>contact</th>\n",
              "      <th>month</th>\n",
              "      <th>day_of_week</th>\n",
              "      <th>campaign</th>\n",
              "      <th>previous</th>\n",
              "      <th>poutcome</th>\n",
              "      <th>emp.var.rate</th>\n",
              "      <th>cons.price.idx</th>\n",
              "      <th>cons.conf.idx</th>\n",
              "      <th>euribor3m</th>\n",
              "      <th>nr.employed</th>\n",
              "    </tr>\n",
              "  </thead>\n",
              "  <tbody>\n",
              "    <tr>\n",
              "      <th>0</th>\n",
              "      <td>56.0</td>\n",
              "      <td>housemaid</td>\n",
              "      <td>married</td>\n",
              "      <td>basic.4y</td>\n",
              "      <td>no</td>\n",
              "      <td>no</td>\n",
              "      <td>no</td>\n",
              "      <td>telephone</td>\n",
              "      <td>may</td>\n",
              "      <td>mon</td>\n",
              "      <td>1.0</td>\n",
              "      <td>0.0</td>\n",
              "      <td>nonexistent</td>\n",
              "      <td>1.1</td>\n",
              "      <td>93.994</td>\n",
              "      <td>-36.4</td>\n",
              "      <td>4.857</td>\n",
              "      <td>5191.0</td>\n",
              "    </tr>\n",
              "    <tr>\n",
              "      <th>1</th>\n",
              "      <td>57.0</td>\n",
              "      <td>services</td>\n",
              "      <td>married</td>\n",
              "      <td>high.school</td>\n",
              "      <td>NaN</td>\n",
              "      <td>no</td>\n",
              "      <td>no</td>\n",
              "      <td>telephone</td>\n",
              "      <td>may</td>\n",
              "      <td>mon</td>\n",
              "      <td>1.0</td>\n",
              "      <td>0.0</td>\n",
              "      <td>nonexistent</td>\n",
              "      <td>1.1</td>\n",
              "      <td>93.994</td>\n",
              "      <td>-36.4</td>\n",
              "      <td>4.857</td>\n",
              "      <td>5191.0</td>\n",
              "    </tr>\n",
              "    <tr>\n",
              "      <th>2</th>\n",
              "      <td>37.0</td>\n",
              "      <td>services</td>\n",
              "      <td>married</td>\n",
              "      <td>high.school</td>\n",
              "      <td>no</td>\n",
              "      <td>yes</td>\n",
              "      <td>no</td>\n",
              "      <td>telephone</td>\n",
              "      <td>may</td>\n",
              "      <td>mon</td>\n",
              "      <td>1.0</td>\n",
              "      <td>0.0</td>\n",
              "      <td>nonexistent</td>\n",
              "      <td>1.1</td>\n",
              "      <td>93.994</td>\n",
              "      <td>-36.4</td>\n",
              "      <td>4.857</td>\n",
              "      <td>5191.0</td>\n",
              "    </tr>\n",
              "    <tr>\n",
              "      <th>3</th>\n",
              "      <td>40.0</td>\n",
              "      <td>admin.</td>\n",
              "      <td>married</td>\n",
              "      <td>basic.6y</td>\n",
              "      <td>no</td>\n",
              "      <td>no</td>\n",
              "      <td>no</td>\n",
              "      <td>telephone</td>\n",
              "      <td>may</td>\n",
              "      <td>mon</td>\n",
              "      <td>1.0</td>\n",
              "      <td>0.0</td>\n",
              "      <td>nonexistent</td>\n",
              "      <td>1.1</td>\n",
              "      <td>93.994</td>\n",
              "      <td>-36.4</td>\n",
              "      <td>4.857</td>\n",
              "      <td>5191.0</td>\n",
              "    </tr>\n",
              "    <tr>\n",
              "      <th>4</th>\n",
              "      <td>56.0</td>\n",
              "      <td>services</td>\n",
              "      <td>married</td>\n",
              "      <td>high.school</td>\n",
              "      <td>no</td>\n",
              "      <td>no</td>\n",
              "      <td>yes</td>\n",
              "      <td>telephone</td>\n",
              "      <td>may</td>\n",
              "      <td>mon</td>\n",
              "      <td>1.0</td>\n",
              "      <td>0.0</td>\n",
              "      <td>nonexistent</td>\n",
              "      <td>1.1</td>\n",
              "      <td>93.994</td>\n",
              "      <td>-36.4</td>\n",
              "      <td>4.857</td>\n",
              "      <td>5191.0</td>\n",
              "    </tr>\n",
              "    <tr>\n",
              "      <th>...</th>\n",
              "      <td>...</td>\n",
              "      <td>...</td>\n",
              "      <td>...</td>\n",
              "      <td>...</td>\n",
              "      <td>...</td>\n",
              "      <td>...</td>\n",
              "      <td>...</td>\n",
              "      <td>...</td>\n",
              "      <td>...</td>\n",
              "      <td>...</td>\n",
              "      <td>...</td>\n",
              "      <td>...</td>\n",
              "      <td>...</td>\n",
              "      <td>...</td>\n",
              "      <td>...</td>\n",
              "      <td>...</td>\n",
              "      <td>...</td>\n",
              "      <td>...</td>\n",
              "    </tr>\n",
              "    <tr>\n",
              "      <th>41175</th>\n",
              "      <td>73.0</td>\n",
              "      <td>retired</td>\n",
              "      <td>married</td>\n",
              "      <td>professional.course</td>\n",
              "      <td>no</td>\n",
              "      <td>yes</td>\n",
              "      <td>no</td>\n",
              "      <td>cellular</td>\n",
              "      <td>nov</td>\n",
              "      <td>fri</td>\n",
              "      <td>1.0</td>\n",
              "      <td>0.0</td>\n",
              "      <td>nonexistent</td>\n",
              "      <td>-1.1</td>\n",
              "      <td>94.767</td>\n",
              "      <td>-50.8</td>\n",
              "      <td>1.028</td>\n",
              "      <td>4963.6</td>\n",
              "    </tr>\n",
              "    <tr>\n",
              "      <th>41176</th>\n",
              "      <td>46.0</td>\n",
              "      <td>blue-collar</td>\n",
              "      <td>married</td>\n",
              "      <td>professional.course</td>\n",
              "      <td>no</td>\n",
              "      <td>no</td>\n",
              "      <td>no</td>\n",
              "      <td>cellular</td>\n",
              "      <td>nov</td>\n",
              "      <td>fri</td>\n",
              "      <td>1.0</td>\n",
              "      <td>0.0</td>\n",
              "      <td>nonexistent</td>\n",
              "      <td>-1.1</td>\n",
              "      <td>94.767</td>\n",
              "      <td>-50.8</td>\n",
              "      <td>1.028</td>\n",
              "      <td>4963.6</td>\n",
              "    </tr>\n",
              "    <tr>\n",
              "      <th>41177</th>\n",
              "      <td>56.0</td>\n",
              "      <td>retired</td>\n",
              "      <td>married</td>\n",
              "      <td>university.degree</td>\n",
              "      <td>no</td>\n",
              "      <td>yes</td>\n",
              "      <td>no</td>\n",
              "      <td>cellular</td>\n",
              "      <td>nov</td>\n",
              "      <td>fri</td>\n",
              "      <td>2.0</td>\n",
              "      <td>0.0</td>\n",
              "      <td>nonexistent</td>\n",
              "      <td>-1.1</td>\n",
              "      <td>94.767</td>\n",
              "      <td>-50.8</td>\n",
              "      <td>1.028</td>\n",
              "      <td>4963.6</td>\n",
              "    </tr>\n",
              "    <tr>\n",
              "      <th>41178</th>\n",
              "      <td>44.0</td>\n",
              "      <td>technician</td>\n",
              "      <td>married</td>\n",
              "      <td>professional.course</td>\n",
              "      <td>no</td>\n",
              "      <td>no</td>\n",
              "      <td>no</td>\n",
              "      <td>cellular</td>\n",
              "      <td>nov</td>\n",
              "      <td>fri</td>\n",
              "      <td>1.0</td>\n",
              "      <td>0.0</td>\n",
              "      <td>nonexistent</td>\n",
              "      <td>-1.1</td>\n",
              "      <td>94.767</td>\n",
              "      <td>-50.8</td>\n",
              "      <td>1.028</td>\n",
              "      <td>4963.6</td>\n",
              "    </tr>\n",
              "    <tr>\n",
              "      <th>41179</th>\n",
              "      <td>74.0</td>\n",
              "      <td>retired</td>\n",
              "      <td>married</td>\n",
              "      <td>professional.course</td>\n",
              "      <td>no</td>\n",
              "      <td>yes</td>\n",
              "      <td>no</td>\n",
              "      <td>cellular</td>\n",
              "      <td>nov</td>\n",
              "      <td>fri</td>\n",
              "      <td>3.0</td>\n",
              "      <td>1.0</td>\n",
              "      <td>failure</td>\n",
              "      <td>-1.1</td>\n",
              "      <td>94.767</td>\n",
              "      <td>-50.8</td>\n",
              "      <td>1.028</td>\n",
              "      <td>4963.6</td>\n",
              "    </tr>\n",
              "  </tbody>\n",
              "</table>\n",
              "<p>41180 rows × 18 columns</p>\n",
              "</div>"
            ],
            "text/plain": [
              "        age          job  marital            education default housing loan  \\\n",
              "0      56.0    housemaid  married             basic.4y      no      no   no   \n",
              "1      57.0     services  married          high.school     NaN      no   no   \n",
              "2      37.0     services  married          high.school      no     yes   no   \n",
              "3      40.0       admin.  married             basic.6y      no      no   no   \n",
              "4      56.0     services  married          high.school      no      no  yes   \n",
              "...     ...          ...      ...                  ...     ...     ...  ...   \n",
              "41175  73.0      retired  married  professional.course      no     yes   no   \n",
              "41176  46.0  blue-collar  married  professional.course      no      no   no   \n",
              "41177  56.0      retired  married    university.degree      no     yes   no   \n",
              "41178  44.0   technician  married  professional.course      no      no   no   \n",
              "41179  74.0      retired  married  professional.course      no     yes   no   \n",
              "\n",
              "         contact month day_of_week  campaign  previous     poutcome  \\\n",
              "0      telephone   may         mon       1.0       0.0  nonexistent   \n",
              "1      telephone   may         mon       1.0       0.0  nonexistent   \n",
              "2      telephone   may         mon       1.0       0.0  nonexistent   \n",
              "3      telephone   may         mon       1.0       0.0  nonexistent   \n",
              "4      telephone   may         mon       1.0       0.0  nonexistent   \n",
              "...          ...   ...         ...       ...       ...          ...   \n",
              "41175   cellular   nov         fri       1.0       0.0  nonexistent   \n",
              "41176   cellular   nov         fri       1.0       0.0  nonexistent   \n",
              "41177   cellular   nov         fri       2.0       0.0  nonexistent   \n",
              "41178   cellular   nov         fri       1.0       0.0  nonexistent   \n",
              "41179   cellular   nov         fri       3.0       1.0      failure   \n",
              "\n",
              "       emp.var.rate  cons.price.idx  cons.conf.idx  euribor3m  nr.employed  \n",
              "0               1.1          93.994          -36.4      4.857       5191.0  \n",
              "1               1.1          93.994          -36.4      4.857       5191.0  \n",
              "2               1.1          93.994          -36.4      4.857       5191.0  \n",
              "3               1.1          93.994          -36.4      4.857       5191.0  \n",
              "4               1.1          93.994          -36.4      4.857       5191.0  \n",
              "...             ...             ...            ...        ...          ...  \n",
              "41175          -1.1          94.767          -50.8      1.028       4963.6  \n",
              "41176          -1.1          94.767          -50.8      1.028       4963.6  \n",
              "41177          -1.1          94.767          -50.8      1.028       4963.6  \n",
              "41178          -1.1          94.767          -50.8      1.028       4963.6  \n",
              "41179          -1.1          94.767          -50.8      1.028       4963.6  \n",
              "\n",
              "[41180 rows x 18 columns]"
            ]
          },
          "execution_count": 34,
          "metadata": {},
          "output_type": "execute_result"
        }
      ],
      "source": [
        "# Split between X (features) and y (target)\n",
        "\n",
        "X = data_new.drop('y', axis=1)\n",
        "y = data_new['y']\n",
        "X"
      ]
    },
    {
      "cell_type": "code",
      "execution_count": 35,
      "metadata": {},
      "outputs": [
        {
          "data": {
            "text/plain": [
              "0        0\n",
              "1        0\n",
              "2        0\n",
              "3        0\n",
              "4        0\n",
              "        ..\n",
              "41175    1\n",
              "41176    0\n",
              "41177    0\n",
              "41178    1\n",
              "41179    0\n",
              "Name: y, Length: 41180, dtype: int64"
            ]
          },
          "execution_count": 35,
          "metadata": {},
          "output_type": "execute_result"
        }
      ],
      "source": [
        "y"
      ]
    },
    {
      "cell_type": "code",
      "execution_count": 36,
      "metadata": {
        "colab": {
          "base_uri": "https://localhost:8080/"
        },
        "id": "n4A8_aFPS3_I",
        "outputId": "53509ca9-369a-4da6-a79f-8478f600298a"
      },
      "outputs": [
        {
          "name": "stdout",
          "output_type": "stream",
          "text": [
            "X Train Size :  (32944, 18)\n",
            "X Test Size  :  (8236, 18)\n",
            "y Train Size :  (32944,)\n",
            "y Test Size  :  (8236,)\n"
          ]
        }
      ],
      "source": [
        "# Split between Train-Set and Test-Set\n",
        "\n",
        "\n",
        "X_train, X_test, y_train, y_test = train_test_split(X, y, test_size=0.2, random_state=18)\n",
        "\n",
        "print('X Train Size : ', X_train.shape)\n",
        "print('X Test Size  : ', X_test.shape)\n",
        "print('y Train Size : ', y_train.shape)\n",
        "print('y Test Size  : ', y_test.shape)"
      ]
    },
    {
      "cell_type": "markdown",
      "metadata": {
        "id": "aYKlxTPcUxQF"
      },
      "source": [
        "---\n",
        "## Handling Outlier"
      ]
    },
    {
      "cell_type": "code",
      "execution_count": 37,
      "metadata": {},
      "outputs": [
        {
          "data": {
            "image/png": "[encoded data removed]",
            "text/plain": [
              "<Figure size 1440x1080 with 9 Axes>"
            ]
          },
          "metadata": {
            "needs_background": "light"
          },
          "output_type": "display_data"
        }
      ],
      "source": [
        "# Mencari tahu distribusi data dan visualisasi\n",
        "\n",
        "X_train.hist(bins=50, figsize=(20,15))\n",
        "plt.show()"
      ]
    },
    {
      "cell_type": "code",
      "execution_count": 38,
      "metadata": {},
      "outputs": [],
      "source": [
        "def skew_func (data, column):\n",
        "    skewness = data[column].skew(axis = 0, skipna = True)\n",
        "    print(f'Skewness of {column} = ', skewness)"
      ]
    },
    {
      "cell_type": "code",
      "execution_count": 39,
      "metadata": {},
      "outputs": [],
      "source": [
        "num_columns = X_train.select_dtypes(include= np.number).columns.tolist()"
      ]
    },
    {
      "cell_type": "code",
      "execution_count": 40,
      "metadata": {},
      "outputs": [
        {
          "name": "stdout",
          "output_type": "stream",
          "text": [
            "Skewness of age =  0.7846968157646645\n",
            "Skewness of campaign =  4.762506697067009\n",
            "Skewness of previous =  3.8320422428611836\n",
            "Skewness of emp.var.rate =  -0.7240955492472556\n",
            "Skewness of cons.price.idx =  -0.23088765135788006\n",
            "Skewness of cons.conf.idx =  0.30317985874819237\n",
            "Skewness of euribor3m =  -0.7091879563778298\n",
            "Skewness of nr.employed =  -1.044262407089151\n"
          ]
        }
      ],
      "source": [
        "for column in num_columns:\n",
        "    skew_func(data, column)"
      ]
    },
    {
      "cell_type": "code",
      "execution_count": 41,
      "metadata": {},
      "outputs": [],
      "source": [
        "def outiers_val(data, column):\n",
        "    skewness = data[column].skew(axis = 0, skipna = True)\n",
        "    if skewness <= 0.5 and skewness >= -0.5:\n",
        "        batas_atas = data[column].mean() + data[column].std()\n",
        "        batas_bawah =  data[column].mean() - data[column].std()\n",
        "        print('[Normal]')\n",
        "        print(f'Batas atas {column} = {batas_atas}')\n",
        "        print(f'Batas bawah {column} = {batas_bawah}')\n",
        "        print('Total data melebihi batas atas : {}'.format(len(data[data[column] > batas_atas])))\n",
        "        print('Total data kurang dari batas bawah : {}'.format(len(data[data[column] < batas_bawah])))\n",
        "        print('% melebihi batas atas : {}'.format(len(data[data[column] > batas_atas]) / len(data) * 100 ))\n",
        "        print('% kurang dari batas bawah : {}'.format(len(data[data[column] < batas_bawah]) / len(data) * 100 ))\n",
        "        print('-'*100)\n",
        "    else:\n",
        "        IQR = data[column].quantile(0.75) - data[column].quantile(0.25)\n",
        "        batas_bawah = data[column].quantile(0.25) - (IQR * 1.5)\n",
        "        batas_atas = data[column].quantile(0.75) + (IQR * 1.5)\n",
        "        print('[Skewed]')\n",
        "        print(f'Batas atas dari {column} = {batas_atas}')\n",
        "        print(f'Batas bawah dari {column} = {batas_bawah}')\n",
        "        print('Total data melebihi batas atas : {}'.format(len(data[data[column] > batas_atas])))\n",
        "        print('Total data kurang dari batas bawah : {}'.format(len(data[data[column] < batas_bawah])))\n",
        "        print('% melebihi batas atas : {}'.format(len(data[data[column] > batas_atas]) / len(data) * 100 ))\n",
        "        print('% kurang dari batas bawah : {}'.format(len(data[data[column] < batas_bawah]) / len(data) * 100 ))\n",
        "        print('-'*100)"
      ]
    },
    {
      "cell_type": "code",
      "execution_count": 42,
      "metadata": {},
      "outputs": [],
      "source": [
        "num_data_outlier = X_train.select_dtypes(include= np.number).columns.tolist()"
      ]
    },
    {
      "cell_type": "code",
      "execution_count": 43,
      "metadata": {},
      "outputs": [
        {
          "name": "stdout",
          "output_type": "stream",
          "text": [
            "[Skewed]\n",
            "Batas atas dari age = 69.5\n",
            "Batas bawah dari age = 9.5\n",
            "Total data melebihi batas atas : 376\n",
            "Total data kurang dari batas bawah : 0\n",
            "% melebihi batas atas : 1.1413307430791646\n",
            "% kurang dari batas bawah : 0.0\n",
            "----------------------------------------------------------------------------------------------------\n",
            "[Skewed]\n",
            "Batas atas dari campaign = 6.0\n",
            "Batas bawah dari campaign = -2.0\n",
            "Total data melebihi batas atas : 1954\n",
            "Total data kurang dari batas bawah : 0\n",
            "% melebihi batas atas : 5.931277319086935\n",
            "% kurang dari batas bawah : 0.0\n",
            "----------------------------------------------------------------------------------------------------\n",
            "[Skewed]\n",
            "Batas atas dari previous = 0.0\n",
            "Batas bawah dari previous = 0.0\n",
            "Total data melebihi batas atas : 4490\n",
            "Total data kurang dari batas bawah : 0\n",
            "% melebihi batas atas : 13.62918892666343\n",
            "% kurang dari batas bawah : 0.0\n",
            "----------------------------------------------------------------------------------------------------\n",
            "[Skewed]\n",
            "Batas atas dari emp.var.rate = 6.200000000000001\n",
            "Batas bawah dari emp.var.rate = -6.6000000000000005\n",
            "Total data melebihi batas atas : 0\n",
            "Total data kurang dari batas bawah : 0\n",
            "% melebihi batas atas : 0.0\n",
            "% kurang dari batas bawah : 0.0\n",
            "----------------------------------------------------------------------------------------------------\n",
            "[Normal]\n",
            "Batas atas cons.price.idx = 94.15482324382386\n",
            "Batas bawah cons.price.idx = 92.99759388828862\n",
            "Total data melebihi batas atas : 4268\n",
            "Total data kurang dari batas bawah : 7160\n",
            "% melebihi batas atas : 12.955318115590092\n",
            "% kurang dari batas bawah : 21.73385138416707\n",
            "----------------------------------------------------------------------------------------------------\n",
            "[Normal]\n",
            "Batas atas cons.conf.idx = -35.87951444866978\n",
            "Batas bawah cons.conf.idx = -45.128365590176585\n",
            "Total data melebihi batas atas : 2101\n",
            "Total data kurang dari batas bawah : 7087\n",
            "% melebihi batas atas : 6.377489072365226\n",
            "% kurang dari batas bawah : 21.512263234579894\n",
            "----------------------------------------------------------------------------------------------------\n",
            "[Skewed]\n",
            "Batas atas dari euribor3m = 10.3865\n",
            "Batas bawah dari euribor3m = -4.081499999999999\n",
            "Total data melebihi batas atas : 0\n",
            "Total data kurang dari batas bawah : 0\n",
            "% melebihi batas atas : 0.0\n",
            "% kurang dari batas bawah : 0.0\n",
            "----------------------------------------------------------------------------------------------------\n",
            "[Skewed]\n",
            "Batas atas dari nr.employed = 5421.6\n",
            "Batas bawah dari nr.employed = 4905.6\n",
            "Total data melebihi batas atas : 0\n",
            "Total data kurang dari batas bawah : 0\n",
            "% melebihi batas atas : 0.0\n",
            "% kurang dari batas bawah : 0.0\n",
            "----------------------------------------------------------------------------------------------------\n"
          ]
        }
      ],
      "source": [
        "for features in num_data_outlier:\n",
        "    outiers_val(X_train, features)"
      ]
    },
    {
      "cell_type": "markdown",
      "metadata": {},
      "source": [
        "### Capping"
      ]
    },
    {
      "cell_type": "code",
      "execution_count": 44,
      "metadata": {},
      "outputs": [
        {
          "name": "stdout",
          "output_type": "stream",
          "text": [
            "X_train shape sebelum dilakukan handling : (32944, 18)\n",
            "X_train shape setelah dilakukan handling : (32944, 18)\n"
          ]
        }
      ],
      "source": [
        "# Akan dilakukan capping pada kolom dengan persentase outlier 5 - 15% \n",
        "# Kolom yang akan dilakukan capping adalah campaign\n",
        "\n",
        "print('X_train shape sebelum dilakukan handling :', X_train.shape)\n",
        "outlier_trim = Winsorizer(capping_method= 'iqr',\n",
        "                              tail= 'both',\n",
        "                              fold = 1.5,\n",
        "                              variables= ['campaign'],\n",
        "                              missing_values= 'ignore')\n",
        "outlier_trim.fit(X_train)\n",
        "\n",
        "X_train = outlier_trim.transform(X_train)\n",
        "print('X_train shape setelah dilakukan handling :', X_train.shape)"
      ]
    },
    {
      "cell_type": "markdown",
      "metadata": {},
      "source": [
        "### Trimming"
      ]
    },
    {
      "cell_type": "code",
      "execution_count": 45,
      "metadata": {},
      "outputs": [
        {
          "name": "stdout",
          "output_type": "stream",
          "text": [
            "X_train shape sebelum dilakukan handling : (32944, 18)\n",
            "X_train shape setelah dilakukan handling : (32940, 18)\n"
          ]
        }
      ],
      "source": [
        "# Akan dilakukan capping pada kolom dengan persentase outlier > 5%\n",
        "# Kolom yang akan dilakukan capping adalah age\n",
        "\n",
        "print('X_train shape sebelum dilakukan handling :', X_train.shape)\n",
        "outlier_trim = OutlierTrimmer(capping_method= 'iqr',\n",
        "                              tail= 'both',\n",
        "                              fold = 3,\n",
        "                              variables= ['age'],\n",
        "                              missing_values= 'ignore')\n",
        "outlier_trim.fit(X_train)\n",
        "\n",
        "X_train = outlier_trim.transform(X_train)\n",
        "print('X_train shape setelah dilakukan handling :', X_train.shape)"
      ]
    },
    {
      "cell_type": "code",
      "execution_count": 46,
      "metadata": {},
      "outputs": [
        {
          "data": {
            "text/html": [
              "<div>\n",
              "<style scoped>\n",
              "    .dataframe tbody tr th:only-of-type {\n",
              "        vertical-align: middle;\n",
              "    }\n",
              "\n",
              "    .dataframe tbody tr th {\n",
              "        vertical-align: top;\n",
              "    }\n",
              "\n",
              "    .dataframe thead th {\n",
              "        text-align: right;\n",
              "    }\n",
              "</style>\n",
              "<table border=\"1\" class=\"dataframe\">\n",
              "  <thead>\n",
              "    <tr style=\"text-align: right;\">\n",
              "      <th></th>\n",
              "      <th>age</th>\n",
              "      <th>job</th>\n",
              "      <th>marital</th>\n",
              "      <th>education</th>\n",
              "      <th>default</th>\n",
              "      <th>housing</th>\n",
              "      <th>loan</th>\n",
              "      <th>contact</th>\n",
              "      <th>month</th>\n",
              "      <th>day_of_week</th>\n",
              "      <th>campaign</th>\n",
              "      <th>previous</th>\n",
              "      <th>poutcome</th>\n",
              "      <th>emp.var.rate</th>\n",
              "      <th>cons.price.idx</th>\n",
              "      <th>cons.conf.idx</th>\n",
              "      <th>euribor3m</th>\n",
              "      <th>nr.employed</th>\n",
              "    </tr>\n",
              "  </thead>\n",
              "  <tbody>\n",
              "    <tr>\n",
              "      <th>38857</th>\n",
              "      <td>25.0</td>\n",
              "      <td>admin.</td>\n",
              "      <td>single</td>\n",
              "      <td>NaN</td>\n",
              "      <td>no</td>\n",
              "      <td>yes</td>\n",
              "      <td>no</td>\n",
              "      <td>telephone</td>\n",
              "      <td>nov</td>\n",
              "      <td>mon</td>\n",
              "      <td>4.0</td>\n",
              "      <td>0.0</td>\n",
              "      <td>nonexistent</td>\n",
              "      <td>-3.4</td>\n",
              "      <td>92.649</td>\n",
              "      <td>-30.1</td>\n",
              "      <td>0.714</td>\n",
              "      <td>5017.5</td>\n",
              "    </tr>\n",
              "    <tr>\n",
              "      <th>18466</th>\n",
              "      <td>32.0</td>\n",
              "      <td>technician</td>\n",
              "      <td>single</td>\n",
              "      <td>professional.course</td>\n",
              "      <td>no</td>\n",
              "      <td>yes</td>\n",
              "      <td>yes</td>\n",
              "      <td>cellular</td>\n",
              "      <td>jul</td>\n",
              "      <td>thu</td>\n",
              "      <td>1.0</td>\n",
              "      <td>0.0</td>\n",
              "      <td>nonexistent</td>\n",
              "      <td>1.4</td>\n",
              "      <td>93.918</td>\n",
              "      <td>-42.7</td>\n",
              "      <td>4.968</td>\n",
              "      <td>5228.1</td>\n",
              "    </tr>\n",
              "    <tr>\n",
              "      <th>28455</th>\n",
              "      <td>46.0</td>\n",
              "      <td>admin.</td>\n",
              "      <td>married</td>\n",
              "      <td>professional.course</td>\n",
              "      <td>no</td>\n",
              "      <td>yes</td>\n",
              "      <td>no</td>\n",
              "      <td>cellular</td>\n",
              "      <td>apr</td>\n",
              "      <td>tue</td>\n",
              "      <td>1.0</td>\n",
              "      <td>0.0</td>\n",
              "      <td>nonexistent</td>\n",
              "      <td>-1.8</td>\n",
              "      <td>93.075</td>\n",
              "      <td>-47.1</td>\n",
              "      <td>1.423</td>\n",
              "      <td>5099.1</td>\n",
              "    </tr>\n",
              "    <tr>\n",
              "      <th>27621</th>\n",
              "      <td>42.0</td>\n",
              "      <td>admin.</td>\n",
              "      <td>married</td>\n",
              "      <td>high.school</td>\n",
              "      <td>no</td>\n",
              "      <td>yes</td>\n",
              "      <td>no</td>\n",
              "      <td>cellular</td>\n",
              "      <td>nov</td>\n",
              "      <td>fri</td>\n",
              "      <td>2.0</td>\n",
              "      <td>0.0</td>\n",
              "      <td>nonexistent</td>\n",
              "      <td>-0.1</td>\n",
              "      <td>93.200</td>\n",
              "      <td>-42.0</td>\n",
              "      <td>4.021</td>\n",
              "      <td>5195.8</td>\n",
              "    </tr>\n",
              "    <tr>\n",
              "      <th>6706</th>\n",
              "      <td>35.0</td>\n",
              "      <td>blue-collar</td>\n",
              "      <td>divorced</td>\n",
              "      <td>basic.4y</td>\n",
              "      <td>no</td>\n",
              "      <td>yes</td>\n",
              "      <td>yes</td>\n",
              "      <td>telephone</td>\n",
              "      <td>may</td>\n",
              "      <td>wed</td>\n",
              "      <td>3.0</td>\n",
              "      <td>0.0</td>\n",
              "      <td>nonexistent</td>\n",
              "      <td>1.1</td>\n",
              "      <td>93.994</td>\n",
              "      <td>-36.4</td>\n",
              "      <td>4.857</td>\n",
              "      <td>5191.0</td>\n",
              "    </tr>\n",
              "    <tr>\n",
              "      <th>...</th>\n",
              "      <td>...</td>\n",
              "      <td>...</td>\n",
              "      <td>...</td>\n",
              "      <td>...</td>\n",
              "      <td>...</td>\n",
              "      <td>...</td>\n",
              "      <td>...</td>\n",
              "      <td>...</td>\n",
              "      <td>...</td>\n",
              "      <td>...</td>\n",
              "      <td>...</td>\n",
              "      <td>...</td>\n",
              "      <td>...</td>\n",
              "      <td>...</td>\n",
              "      <td>...</td>\n",
              "      <td>...</td>\n",
              "      <td>...</td>\n",
              "      <td>...</td>\n",
              "    </tr>\n",
              "    <tr>\n",
              "      <th>5294</th>\n",
              "      <td>41.0</td>\n",
              "      <td>self-employed</td>\n",
              "      <td>married</td>\n",
              "      <td>university.degree</td>\n",
              "      <td>no</td>\n",
              "      <td>yes</td>\n",
              "      <td>no</td>\n",
              "      <td>telephone</td>\n",
              "      <td>may</td>\n",
              "      <td>fri</td>\n",
              "      <td>6.0</td>\n",
              "      <td>0.0</td>\n",
              "      <td>nonexistent</td>\n",
              "      <td>1.1</td>\n",
              "      <td>93.994</td>\n",
              "      <td>-36.4</td>\n",
              "      <td>4.857</td>\n",
              "      <td>5191.0</td>\n",
              "    </tr>\n",
              "    <tr>\n",
              "      <th>1726</th>\n",
              "      <td>59.0</td>\n",
              "      <td>admin.</td>\n",
              "      <td>married</td>\n",
              "      <td>university.degree</td>\n",
              "      <td>no</td>\n",
              "      <td>no</td>\n",
              "      <td>yes</td>\n",
              "      <td>telephone</td>\n",
              "      <td>may</td>\n",
              "      <td>fri</td>\n",
              "      <td>1.0</td>\n",
              "      <td>0.0</td>\n",
              "      <td>nonexistent</td>\n",
              "      <td>1.1</td>\n",
              "      <td>93.994</td>\n",
              "      <td>-36.4</td>\n",
              "      <td>4.855</td>\n",
              "      <td>5191.0</td>\n",
              "    </tr>\n",
              "    <tr>\n",
              "      <th>35653</th>\n",
              "      <td>34.0</td>\n",
              "      <td>admin.</td>\n",
              "      <td>married</td>\n",
              "      <td>university.degree</td>\n",
              "      <td>no</td>\n",
              "      <td>no</td>\n",
              "      <td>yes</td>\n",
              "      <td>cellular</td>\n",
              "      <td>may</td>\n",
              "      <td>mon</td>\n",
              "      <td>2.0</td>\n",
              "      <td>0.0</td>\n",
              "      <td>nonexistent</td>\n",
              "      <td>-1.8</td>\n",
              "      <td>92.893</td>\n",
              "      <td>-46.2</td>\n",
              "      <td>1.244</td>\n",
              "      <td>5099.1</td>\n",
              "    </tr>\n",
              "    <tr>\n",
              "      <th>25720</th>\n",
              "      <td>38.0</td>\n",
              "      <td>admin.</td>\n",
              "      <td>married</td>\n",
              "      <td>basic.9y</td>\n",
              "      <td>no</td>\n",
              "      <td>yes</td>\n",
              "      <td>yes</td>\n",
              "      <td>cellular</td>\n",
              "      <td>nov</td>\n",
              "      <td>wed</td>\n",
              "      <td>2.0</td>\n",
              "      <td>0.0</td>\n",
              "      <td>nonexistent</td>\n",
              "      <td>-0.1</td>\n",
              "      <td>93.200</td>\n",
              "      <td>-42.0</td>\n",
              "      <td>4.120</td>\n",
              "      <td>5195.8</td>\n",
              "    </tr>\n",
              "    <tr>\n",
              "      <th>28947</th>\n",
              "      <td>36.0</td>\n",
              "      <td>entrepreneur</td>\n",
              "      <td>married</td>\n",
              "      <td>university.degree</td>\n",
              "      <td>no</td>\n",
              "      <td>yes</td>\n",
              "      <td>no</td>\n",
              "      <td>cellular</td>\n",
              "      <td>apr</td>\n",
              "      <td>fri</td>\n",
              "      <td>2.0</td>\n",
              "      <td>0.0</td>\n",
              "      <td>nonexistent</td>\n",
              "      <td>-1.8</td>\n",
              "      <td>93.075</td>\n",
              "      <td>-47.1</td>\n",
              "      <td>1.405</td>\n",
              "      <td>5099.1</td>\n",
              "    </tr>\n",
              "  </tbody>\n",
              "</table>\n",
              "<p>32940 rows × 18 columns</p>\n",
              "</div>"
            ],
            "text/plain": [
              "        age            job   marital            education default housing  \\\n",
              "38857  25.0         admin.    single                  NaN      no     yes   \n",
              "18466  32.0     technician    single  professional.course      no     yes   \n",
              "28455  46.0         admin.   married  professional.course      no     yes   \n",
              "27621  42.0         admin.   married          high.school      no     yes   \n",
              "6706   35.0    blue-collar  divorced             basic.4y      no     yes   \n",
              "...     ...            ...       ...                  ...     ...     ...   \n",
              "5294   41.0  self-employed   married    university.degree      no     yes   \n",
              "1726   59.0         admin.   married    university.degree      no      no   \n",
              "35653  34.0         admin.   married    university.degree      no      no   \n",
              "25720  38.0         admin.   married             basic.9y      no     yes   \n",
              "28947  36.0   entrepreneur   married    university.degree      no     yes   \n",
              "\n",
              "      loan    contact month day_of_week  campaign  previous     poutcome  \\\n",
              "38857   no  telephone   nov         mon       4.0       0.0  nonexistent   \n",
              "18466  yes   cellular   jul         thu       1.0       0.0  nonexistent   \n",
              "28455   no   cellular   apr         tue       1.0       0.0  nonexistent   \n",
              "27621   no   cellular   nov         fri       2.0       0.0  nonexistent   \n",
              "6706   yes  telephone   may         wed       3.0       0.0  nonexistent   \n",
              "...    ...        ...   ...         ...       ...       ...          ...   \n",
              "5294    no  telephone   may         fri       6.0       0.0  nonexistent   \n",
              "1726   yes  telephone   may         fri       1.0       0.0  nonexistent   \n",
              "35653  yes   cellular   may         mon       2.0       0.0  nonexistent   \n",
              "25720  yes   cellular   nov         wed       2.0       0.0  nonexistent   \n",
              "28947   no   cellular   apr         fri       2.0       0.0  nonexistent   \n",
              "\n",
              "       emp.var.rate  cons.price.idx  cons.conf.idx  euribor3m  nr.employed  \n",
              "38857          -3.4          92.649          -30.1      0.714       5017.5  \n",
              "18466           1.4          93.918          -42.7      4.968       5228.1  \n",
              "28455          -1.8          93.075          -47.1      1.423       5099.1  \n",
              "27621          -0.1          93.200          -42.0      4.021       5195.8  \n",
              "6706            1.1          93.994          -36.4      4.857       5191.0  \n",
              "...             ...             ...            ...        ...          ...  \n",
              "5294            1.1          93.994          -36.4      4.857       5191.0  \n",
              "1726            1.1          93.994          -36.4      4.855       5191.0  \n",
              "35653          -1.8          92.893          -46.2      1.244       5099.1  \n",
              "25720          -0.1          93.200          -42.0      4.120       5195.8  \n",
              "28947          -1.8          93.075          -47.1      1.405       5099.1  \n",
              "\n",
              "[32940 rows x 18 columns]"
            ]
          },
          "execution_count": 46,
          "metadata": {},
          "output_type": "execute_result"
        }
      ],
      "source": [
        "X_train"
      ]
    },
    {
      "cell_type": "code",
      "execution_count": 47,
      "metadata": {},
      "outputs": [
        {
          "data": {
            "text/plain": [
              "(32940,)"
            ]
          },
          "execution_count": 47,
          "metadata": {},
          "output_type": "execute_result"
        }
      ],
      "source": [
        "y_train_new = y_train[X_train.index]\n",
        "y_train_new.shape"
      ]
    },
    {
      "cell_type": "markdown",
      "metadata": {
        "id": "Jbj7zYHMU44K"
      },
      "source": [
        "---\n",
        "## Handling Missing Values"
      ]
    },
    {
      "cell_type": "code",
      "execution_count": 48,
      "metadata": {},
      "outputs": [
        {
          "name": "stdout",
          "output_type": "stream",
          "text": [
            "<class 'pandas.core.frame.DataFrame'>\n",
            "Int64Index: 32940 entries, 38857 to 28947\n",
            "Data columns (total 18 columns):\n",
            " #   Column          Non-Null Count  Dtype  \n",
            "---  ------          --------------  -----  \n",
            " 0   age             32940 non-null  float64\n",
            " 1   job             32664 non-null  object \n",
            " 2   marital         32873 non-null  object \n",
            " 3   education       31552 non-null  object \n",
            " 4   default         26032 non-null  object \n",
            " 5   housing         32159 non-null  object \n",
            " 6   loan            32159 non-null  object \n",
            " 7   contact         32940 non-null  object \n",
            " 8   month           32940 non-null  object \n",
            " 9   day_of_week     32940 non-null  object \n",
            " 10  campaign        32940 non-null  float64\n",
            " 11  previous        32940 non-null  float64\n",
            " 12  poutcome        32940 non-null  object \n",
            " 13  emp.var.rate    32940 non-null  float64\n",
            " 14  cons.price.idx  32940 non-null  float64\n",
            " 15  cons.conf.idx   32940 non-null  float64\n",
            " 16  euribor3m       32940 non-null  float64\n",
            " 17  nr.employed     32940 non-null  float64\n",
            "dtypes: float64(8), object(10)\n",
            "memory usage: 4.8+ MB\n"
          ]
        }
      ],
      "source": [
        "X_train.info()"
      ]
    },
    {
      "cell_type": "code",
      "execution_count": 49,
      "metadata": {
        "colab": {
          "base_uri": "https://localhost:8080/"
        },
        "id": "RJVbDSwlU-12",
        "outputId": "a3a26462-9aca-4598-b1bc-2e845887a332"
      },
      "outputs": [
        {
          "data": {
            "text/plain": [
              "age                  0\n",
              "job                276\n",
              "marital             67\n",
              "education         1388\n",
              "default           6908\n",
              "housing            781\n",
              "loan               781\n",
              "contact              0\n",
              "month                0\n",
              "day_of_week          0\n",
              "campaign             0\n",
              "previous             0\n",
              "poutcome             0\n",
              "emp.var.rate         0\n",
              "cons.price.idx       0\n",
              "cons.conf.idx        0\n",
              "euribor3m            0\n",
              "nr.employed          0\n",
              "dtype: int64"
            ]
          },
          "execution_count": 49,
          "metadata": {},
          "output_type": "execute_result"
        }
      ],
      "source": [
        "# Check missing values on X_train\n",
        "\n",
        "X_train.isnull().sum()"
      ]
    },
    {
      "cell_type": "code",
      "execution_count": 50,
      "metadata": {},
      "outputs": [],
      "source": [
        "# handling missing value pada kolom catagorical\n",
        "\n",
        "miss_cat = CategoricalImputer(imputation_method= 'frequent',\n",
        "                              variables= ['job',\n",
        "                                          'marital',\n",
        "                                          'education',\n",
        "                                          'default',\n",
        "                                          'housing',\n",
        "                                          'loan'],\n",
        "                              return_object= False,\n",
        "                              ignore_format=False)\n",
        "miss_cat.fit(X_train)\n",
        "X_train_handled = miss_cat.transform(X_train)\n",
        "X_test = miss_cat.transform(X_test)"
      ]
    },
    {
      "cell_type": "code",
      "execution_count": 51,
      "metadata": {},
      "outputs": [
        {
          "data": {
            "text/plain": [
              "age               0\n",
              "job               0\n",
              "marital           0\n",
              "education         0\n",
              "default           0\n",
              "housing           0\n",
              "loan              0\n",
              "contact           0\n",
              "month             0\n",
              "day_of_week       0\n",
              "campaign          0\n",
              "previous          0\n",
              "poutcome          0\n",
              "emp.var.rate      0\n",
              "cons.price.idx    0\n",
              "cons.conf.idx     0\n",
              "euribor3m         0\n",
              "nr.employed       0\n",
              "dtype: int64"
            ]
          },
          "execution_count": 51,
          "metadata": {},
          "output_type": "execute_result"
        }
      ],
      "source": [
        "X_train_handled.isnull().sum()"
      ]
    },
    {
      "cell_type": "code",
      "execution_count": 52,
      "metadata": {},
      "outputs": [
        {
          "data": {
            "text/plain": [
              "age               0\n",
              "job               0\n",
              "marital           0\n",
              "education         0\n",
              "default           0\n",
              "housing           0\n",
              "loan              0\n",
              "contact           0\n",
              "month             0\n",
              "day_of_week       0\n",
              "campaign          0\n",
              "previous          0\n",
              "poutcome          0\n",
              "emp.var.rate      0\n",
              "cons.price.idx    0\n",
              "cons.conf.idx     0\n",
              "euribor3m         0\n",
              "nr.employed       0\n",
              "dtype: int64"
            ]
          },
          "execution_count": 52,
          "metadata": {},
          "output_type": "execute_result"
        }
      ],
      "source": [
        "# Check missing values on X_test\n",
        "\n",
        "X_test.isnull().sum()"
      ]
    },
    {
      "cell_type": "code",
      "execution_count": 53,
      "metadata": {
        "colab": {
          "base_uri": "https://localhost:8080/"
        },
        "id": "kjA0qHYdVTDO",
        "outputId": "d6c80465-6d70-4e65-cc3d-8636c5937f88"
      },
      "outputs": [
        {
          "data": {
            "text/plain": [
              "0"
            ]
          },
          "execution_count": 53,
          "metadata": {},
          "output_type": "execute_result"
        }
      ],
      "source": [
        "# Check missing values on y_train\n",
        "\n",
        "y_train_new.isnull().sum()"
      ]
    },
    {
      "cell_type": "code",
      "execution_count": 54,
      "metadata": {
        "colab": {
          "base_uri": "https://localhost:8080/"
        },
        "id": "MhVcQiK0VZ9H",
        "outputId": "7aa78dc9-9539-417c-cd81-5b17269b96dc"
      },
      "outputs": [
        {
          "data": {
            "text/plain": [
              "0"
            ]
          },
          "execution_count": 54,
          "metadata": {},
          "output_type": "execute_result"
        }
      ],
      "source": [
        "# Check missing values on y_test\n",
        "\n",
        "y_test.isnull().sum()"
      ]
    },
    {
      "cell_type": "markdown",
      "metadata": {
        "id": "Cvp33WdhVZS5"
      },
      "source": [
        "---\n",
        "## Feature Selection"
      ]
    },
    {
      "cell_type": "code",
      "execution_count": 55,
      "metadata": {
        "colab": {
          "base_uri": "https://localhost:8080/",
          "height": 609
        },
        "id": "WM2saWa_VlHb",
        "outputId": "8547c3bc-0627-45eb-c790-bdc7d525d221"
      },
      "outputs": [
        {
          "data": {
            "text/html": [
              "<div>\n",
              "<style scoped>\n",
              "    .dataframe tbody tr th:only-of-type {\n",
              "        vertical-align: middle;\n",
              "    }\n",
              "\n",
              "    .dataframe tbody tr th {\n",
              "        vertical-align: top;\n",
              "    }\n",
              "\n",
              "    .dataframe thead th {\n",
              "        text-align: right;\n",
              "    }\n",
              "</style>\n",
              "<table border=\"1\" class=\"dataframe\">\n",
              "  <thead>\n",
              "    <tr style=\"text-align: right;\">\n",
              "      <th></th>\n",
              "      <th>age</th>\n",
              "      <th>job</th>\n",
              "      <th>marital</th>\n",
              "      <th>education</th>\n",
              "      <th>default</th>\n",
              "      <th>housing</th>\n",
              "      <th>loan</th>\n",
              "      <th>contact</th>\n",
              "      <th>month</th>\n",
              "      <th>day_of_week</th>\n",
              "      <th>campaign</th>\n",
              "      <th>previous</th>\n",
              "      <th>poutcome</th>\n",
              "      <th>emp.var.rate</th>\n",
              "      <th>cons.price.idx</th>\n",
              "      <th>cons.conf.idx</th>\n",
              "      <th>euribor3m</th>\n",
              "      <th>nr.employed</th>\n",
              "    </tr>\n",
              "  </thead>\n",
              "  <tbody>\n",
              "    <tr>\n",
              "      <th>38857</th>\n",
              "      <td>25.0</td>\n",
              "      <td>admin.</td>\n",
              "      <td>single</td>\n",
              "      <td>university.degree</td>\n",
              "      <td>no</td>\n",
              "      <td>yes</td>\n",
              "      <td>no</td>\n",
              "      <td>telephone</td>\n",
              "      <td>nov</td>\n",
              "      <td>mon</td>\n",
              "      <td>4.0</td>\n",
              "      <td>0.0</td>\n",
              "      <td>nonexistent</td>\n",
              "      <td>-3.4</td>\n",
              "      <td>92.649</td>\n",
              "      <td>-30.1</td>\n",
              "      <td>0.714</td>\n",
              "      <td>5017.5</td>\n",
              "    </tr>\n",
              "    <tr>\n",
              "      <th>18466</th>\n",
              "      <td>32.0</td>\n",
              "      <td>technician</td>\n",
              "      <td>single</td>\n",
              "      <td>professional.course</td>\n",
              "      <td>no</td>\n",
              "      <td>yes</td>\n",
              "      <td>yes</td>\n",
              "      <td>cellular</td>\n",
              "      <td>jul</td>\n",
              "      <td>thu</td>\n",
              "      <td>1.0</td>\n",
              "      <td>0.0</td>\n",
              "      <td>nonexistent</td>\n",
              "      <td>1.4</td>\n",
              "      <td>93.918</td>\n",
              "      <td>-42.7</td>\n",
              "      <td>4.968</td>\n",
              "      <td>5228.1</td>\n",
              "    </tr>\n",
              "    <tr>\n",
              "      <th>28455</th>\n",
              "      <td>46.0</td>\n",
              "      <td>admin.</td>\n",
              "      <td>married</td>\n",
              "      <td>professional.course</td>\n",
              "      <td>no</td>\n",
              "      <td>yes</td>\n",
              "      <td>no</td>\n",
              "      <td>cellular</td>\n",
              "      <td>apr</td>\n",
              "      <td>tue</td>\n",
              "      <td>1.0</td>\n",
              "      <td>0.0</td>\n",
              "      <td>nonexistent</td>\n",
              "      <td>-1.8</td>\n",
              "      <td>93.075</td>\n",
              "      <td>-47.1</td>\n",
              "      <td>1.423</td>\n",
              "      <td>5099.1</td>\n",
              "    </tr>\n",
              "    <tr>\n",
              "      <th>27621</th>\n",
              "      <td>42.0</td>\n",
              "      <td>admin.</td>\n",
              "      <td>married</td>\n",
              "      <td>high.school</td>\n",
              "      <td>no</td>\n",
              "      <td>yes</td>\n",
              "      <td>no</td>\n",
              "      <td>cellular</td>\n",
              "      <td>nov</td>\n",
              "      <td>fri</td>\n",
              "      <td>2.0</td>\n",
              "      <td>0.0</td>\n",
              "      <td>nonexistent</td>\n",
              "      <td>-0.1</td>\n",
              "      <td>93.200</td>\n",
              "      <td>-42.0</td>\n",
              "      <td>4.021</td>\n",
              "      <td>5195.8</td>\n",
              "    </tr>\n",
              "    <tr>\n",
              "      <th>6706</th>\n",
              "      <td>35.0</td>\n",
              "      <td>blue-collar</td>\n",
              "      <td>divorced</td>\n",
              "      <td>basic.4y</td>\n",
              "      <td>no</td>\n",
              "      <td>yes</td>\n",
              "      <td>yes</td>\n",
              "      <td>telephone</td>\n",
              "      <td>may</td>\n",
              "      <td>wed</td>\n",
              "      <td>3.0</td>\n",
              "      <td>0.0</td>\n",
              "      <td>nonexistent</td>\n",
              "      <td>1.1</td>\n",
              "      <td>93.994</td>\n",
              "      <td>-36.4</td>\n",
              "      <td>4.857</td>\n",
              "      <td>5191.0</td>\n",
              "    </tr>\n",
              "    <tr>\n",
              "      <th>...</th>\n",
              "      <td>...</td>\n",
              "      <td>...</td>\n",
              "      <td>...</td>\n",
              "      <td>...</td>\n",
              "      <td>...</td>\n",
              "      <td>...</td>\n",
              "      <td>...</td>\n",
              "      <td>...</td>\n",
              "      <td>...</td>\n",
              "      <td>...</td>\n",
              "      <td>...</td>\n",
              "      <td>...</td>\n",
              "      <td>...</td>\n",
              "      <td>...</td>\n",
              "      <td>...</td>\n",
              "      <td>...</td>\n",
              "      <td>...</td>\n",
              "      <td>...</td>\n",
              "    </tr>\n",
              "    <tr>\n",
              "      <th>5294</th>\n",
              "      <td>41.0</td>\n",
              "      <td>self-employed</td>\n",
              "      <td>married</td>\n",
              "      <td>university.degree</td>\n",
              "      <td>no</td>\n",
              "      <td>yes</td>\n",
              "      <td>no</td>\n",
              "      <td>telephone</td>\n",
              "      <td>may</td>\n",
              "      <td>fri</td>\n",
              "      <td>6.0</td>\n",
              "      <td>0.0</td>\n",
              "      <td>nonexistent</td>\n",
              "      <td>1.1</td>\n",
              "      <td>93.994</td>\n",
              "      <td>-36.4</td>\n",
              "      <td>4.857</td>\n",
              "      <td>5191.0</td>\n",
              "    </tr>\n",
              "    <tr>\n",
              "      <th>1726</th>\n",
              "      <td>59.0</td>\n",
              "      <td>admin.</td>\n",
              "      <td>married</td>\n",
              "      <td>university.degree</td>\n",
              "      <td>no</td>\n",
              "      <td>no</td>\n",
              "      <td>yes</td>\n",
              "      <td>telephone</td>\n",
              "      <td>may</td>\n",
              "      <td>fri</td>\n",
              "      <td>1.0</td>\n",
              "      <td>0.0</td>\n",
              "      <td>nonexistent</td>\n",
              "      <td>1.1</td>\n",
              "      <td>93.994</td>\n",
              "      <td>-36.4</td>\n",
              "      <td>4.855</td>\n",
              "      <td>5191.0</td>\n",
              "    </tr>\n",
              "    <tr>\n",
              "      <th>35653</th>\n",
              "      <td>34.0</td>\n",
              "      <td>admin.</td>\n",
              "      <td>married</td>\n",
              "      <td>university.degree</td>\n",
              "      <td>no</td>\n",
              "      <td>no</td>\n",
              "      <td>yes</td>\n",
              "      <td>cellular</td>\n",
              "      <td>may</td>\n",
              "      <td>mon</td>\n",
              "      <td>2.0</td>\n",
              "      <td>0.0</td>\n",
              "      <td>nonexistent</td>\n",
              "      <td>-1.8</td>\n",
              "      <td>92.893</td>\n",
              "      <td>-46.2</td>\n",
              "      <td>1.244</td>\n",
              "      <td>5099.1</td>\n",
              "    </tr>\n",
              "    <tr>\n",
              "      <th>25720</th>\n",
              "      <td>38.0</td>\n",
              "      <td>admin.</td>\n",
              "      <td>married</td>\n",
              "      <td>basic.9y</td>\n",
              "      <td>no</td>\n",
              "      <td>yes</td>\n",
              "      <td>yes</td>\n",
              "      <td>cellular</td>\n",
              "      <td>nov</td>\n",
              "      <td>wed</td>\n",
              "      <td>2.0</td>\n",
              "      <td>0.0</td>\n",
              "      <td>nonexistent</td>\n",
              "      <td>-0.1</td>\n",
              "      <td>93.200</td>\n",
              "      <td>-42.0</td>\n",
              "      <td>4.120</td>\n",
              "      <td>5195.8</td>\n",
              "    </tr>\n",
              "    <tr>\n",
              "      <th>28947</th>\n",
              "      <td>36.0</td>\n",
              "      <td>entrepreneur</td>\n",
              "      <td>married</td>\n",
              "      <td>university.degree</td>\n",
              "      <td>no</td>\n",
              "      <td>yes</td>\n",
              "      <td>no</td>\n",
              "      <td>cellular</td>\n",
              "      <td>apr</td>\n",
              "      <td>fri</td>\n",
              "      <td>2.0</td>\n",
              "      <td>0.0</td>\n",
              "      <td>nonexistent</td>\n",
              "      <td>-1.8</td>\n",
              "      <td>93.075</td>\n",
              "      <td>-47.1</td>\n",
              "      <td>1.405</td>\n",
              "      <td>5099.1</td>\n",
              "    </tr>\n",
              "  </tbody>\n",
              "</table>\n",
              "<p>32940 rows × 18 columns</p>\n",
              "</div>"
            ],
            "text/plain": [
              "        age            job   marital            education default housing  \\\n",
              "38857  25.0         admin.    single    university.degree      no     yes   \n",
              "18466  32.0     technician    single  professional.course      no     yes   \n",
              "28455  46.0         admin.   married  professional.course      no     yes   \n",
              "27621  42.0         admin.   married          high.school      no     yes   \n",
              "6706   35.0    blue-collar  divorced             basic.4y      no     yes   \n",
              "...     ...            ...       ...                  ...     ...     ...   \n",
              "5294   41.0  self-employed   married    university.degree      no     yes   \n",
              "1726   59.0         admin.   married    university.degree      no      no   \n",
              "35653  34.0         admin.   married    university.degree      no      no   \n",
              "25720  38.0         admin.   married             basic.9y      no     yes   \n",
              "28947  36.0   entrepreneur   married    university.degree      no     yes   \n",
              "\n",
              "      loan    contact month day_of_week  campaign  previous     poutcome  \\\n",
              "38857   no  telephone   nov         mon       4.0       0.0  nonexistent   \n",
              "18466  yes   cellular   jul         thu       1.0       0.0  nonexistent   \n",
              "28455   no   cellular   apr         tue       1.0       0.0  nonexistent   \n",
              "27621   no   cellular   nov         fri       2.0       0.0  nonexistent   \n",
              "6706   yes  telephone   may         wed       3.0       0.0  nonexistent   \n",
              "...    ...        ...   ...         ...       ...       ...          ...   \n",
              "5294    no  telephone   may         fri       6.0       0.0  nonexistent   \n",
              "1726   yes  telephone   may         fri       1.0       0.0  nonexistent   \n",
              "35653  yes   cellular   may         mon       2.0       0.0  nonexistent   \n",
              "25720  yes   cellular   nov         wed       2.0       0.0  nonexistent   \n",
              "28947   no   cellular   apr         fri       2.0       0.0  nonexistent   \n",
              "\n",
              "       emp.var.rate  cons.price.idx  cons.conf.idx  euribor3m  nr.employed  \n",
              "38857          -3.4          92.649          -30.1      0.714       5017.5  \n",
              "18466           1.4          93.918          -42.7      4.968       5228.1  \n",
              "28455          -1.8          93.075          -47.1      1.423       5099.1  \n",
              "27621          -0.1          93.200          -42.0      4.021       5195.8  \n",
              "6706            1.1          93.994          -36.4      4.857       5191.0  \n",
              "...             ...             ...            ...        ...          ...  \n",
              "5294            1.1          93.994          -36.4      4.857       5191.0  \n",
              "1726            1.1          93.994          -36.4      4.855       5191.0  \n",
              "35653          -1.8          92.893          -46.2      1.244       5099.1  \n",
              "25720          -0.1          93.200          -42.0      4.120       5195.8  \n",
              "28947          -1.8          93.075          -47.1      1.405       5099.1  \n",
              "\n",
              "[32940 rows x 18 columns]"
            ]
          },
          "execution_count": 55,
          "metadata": {},
          "output_type": "execute_result"
        }
      ],
      "source": [
        "# Display X_train_handled\n",
        "\n",
        "X_train_handled"
      ]
    },
    {
      "cell_type": "code",
      "execution_count": 56,
      "metadata": {},
      "outputs": [
        {
          "data": {
            "text/html": [
              "<div>\n",
              "<style scoped>\n",
              "    .dataframe tbody tr th:only-of-type {\n",
              "        vertical-align: middle;\n",
              "    }\n",
              "\n",
              "    .dataframe tbody tr th {\n",
              "        vertical-align: top;\n",
              "    }\n",
              "\n",
              "    .dataframe thead th {\n",
              "        text-align: right;\n",
              "    }\n",
              "</style>\n",
              "<table border=\"1\" class=\"dataframe\">\n",
              "  <thead>\n",
              "    <tr style=\"text-align: right;\">\n",
              "      <th></th>\n",
              "      <th>age</th>\n",
              "      <th>job</th>\n",
              "      <th>marital</th>\n",
              "      <th>education</th>\n",
              "      <th>default</th>\n",
              "      <th>housing</th>\n",
              "      <th>loan</th>\n",
              "      <th>contact</th>\n",
              "      <th>month</th>\n",
              "      <th>day_of_week</th>\n",
              "      <th>campaign</th>\n",
              "      <th>previous</th>\n",
              "      <th>poutcome</th>\n",
              "      <th>emp.var.rate</th>\n",
              "      <th>cons.price.idx</th>\n",
              "      <th>cons.conf.idx</th>\n",
              "      <th>euribor3m</th>\n",
              "      <th>nr.employed</th>\n",
              "    </tr>\n",
              "  </thead>\n",
              "  <tbody>\n",
              "    <tr>\n",
              "      <th>2166</th>\n",
              "      <td>56.0</td>\n",
              "      <td>admin.</td>\n",
              "      <td>married</td>\n",
              "      <td>high.school</td>\n",
              "      <td>no</td>\n",
              "      <td>yes</td>\n",
              "      <td>no</td>\n",
              "      <td>telephone</td>\n",
              "      <td>may</td>\n",
              "      <td>mon</td>\n",
              "      <td>2.0</td>\n",
              "      <td>0.0</td>\n",
              "      <td>nonexistent</td>\n",
              "      <td>1.1</td>\n",
              "      <td>93.994</td>\n",
              "      <td>-36.4</td>\n",
              "      <td>4.857</td>\n",
              "      <td>5191.0</td>\n",
              "    </tr>\n",
              "    <tr>\n",
              "      <th>8656</th>\n",
              "      <td>40.0</td>\n",
              "      <td>blue-collar</td>\n",
              "      <td>married</td>\n",
              "      <td>basic.4y</td>\n",
              "      <td>no</td>\n",
              "      <td>no</td>\n",
              "      <td>no</td>\n",
              "      <td>telephone</td>\n",
              "      <td>jun</td>\n",
              "      <td>wed</td>\n",
              "      <td>1.0</td>\n",
              "      <td>0.0</td>\n",
              "      <td>nonexistent</td>\n",
              "      <td>1.4</td>\n",
              "      <td>94.465</td>\n",
              "      <td>-41.8</td>\n",
              "      <td>4.864</td>\n",
              "      <td>5228.1</td>\n",
              "    </tr>\n",
              "    <tr>\n",
              "      <th>33448</th>\n",
              "      <td>55.0</td>\n",
              "      <td>blue-collar</td>\n",
              "      <td>married</td>\n",
              "      <td>basic.4y</td>\n",
              "      <td>no</td>\n",
              "      <td>yes</td>\n",
              "      <td>no</td>\n",
              "      <td>telephone</td>\n",
              "      <td>may</td>\n",
              "      <td>tue</td>\n",
              "      <td>2.0</td>\n",
              "      <td>0.0</td>\n",
              "      <td>nonexistent</td>\n",
              "      <td>-1.8</td>\n",
              "      <td>92.893</td>\n",
              "      <td>-46.2</td>\n",
              "      <td>1.291</td>\n",
              "      <td>5099.1</td>\n",
              "    </tr>\n",
              "    <tr>\n",
              "      <th>4910</th>\n",
              "      <td>29.0</td>\n",
              "      <td>admin.</td>\n",
              "      <td>single</td>\n",
              "      <td>basic.9y</td>\n",
              "      <td>no</td>\n",
              "      <td>yes</td>\n",
              "      <td>no</td>\n",
              "      <td>telephone</td>\n",
              "      <td>may</td>\n",
              "      <td>wed</td>\n",
              "      <td>2.0</td>\n",
              "      <td>0.0</td>\n",
              "      <td>nonexistent</td>\n",
              "      <td>1.1</td>\n",
              "      <td>93.994</td>\n",
              "      <td>-36.4</td>\n",
              "      <td>4.858</td>\n",
              "      <td>5191.0</td>\n",
              "    </tr>\n",
              "    <tr>\n",
              "      <th>23296</th>\n",
              "      <td>52.0</td>\n",
              "      <td>admin.</td>\n",
              "      <td>divorced</td>\n",
              "      <td>university.degree</td>\n",
              "      <td>no</td>\n",
              "      <td>no</td>\n",
              "      <td>no</td>\n",
              "      <td>cellular</td>\n",
              "      <td>aug</td>\n",
              "      <td>wed</td>\n",
              "      <td>2.0</td>\n",
              "      <td>0.0</td>\n",
              "      <td>nonexistent</td>\n",
              "      <td>1.4</td>\n",
              "      <td>93.444</td>\n",
              "      <td>-36.1</td>\n",
              "      <td>4.964</td>\n",
              "      <td>5228.1</td>\n",
              "    </tr>\n",
              "    <tr>\n",
              "      <th>...</th>\n",
              "      <td>...</td>\n",
              "      <td>...</td>\n",
              "      <td>...</td>\n",
              "      <td>...</td>\n",
              "      <td>...</td>\n",
              "      <td>...</td>\n",
              "      <td>...</td>\n",
              "      <td>...</td>\n",
              "      <td>...</td>\n",
              "      <td>...</td>\n",
              "      <td>...</td>\n",
              "      <td>...</td>\n",
              "      <td>...</td>\n",
              "      <td>...</td>\n",
              "      <td>...</td>\n",
              "      <td>...</td>\n",
              "      <td>...</td>\n",
              "      <td>...</td>\n",
              "    </tr>\n",
              "    <tr>\n",
              "      <th>22163</th>\n",
              "      <td>35.0</td>\n",
              "      <td>technician</td>\n",
              "      <td>single</td>\n",
              "      <td>professional.course</td>\n",
              "      <td>no</td>\n",
              "      <td>yes</td>\n",
              "      <td>no</td>\n",
              "      <td>cellular</td>\n",
              "      <td>aug</td>\n",
              "      <td>thu</td>\n",
              "      <td>2.0</td>\n",
              "      <td>0.0</td>\n",
              "      <td>nonexistent</td>\n",
              "      <td>1.4</td>\n",
              "      <td>93.444</td>\n",
              "      <td>-36.1</td>\n",
              "      <td>4.963</td>\n",
              "      <td>5228.1</td>\n",
              "    </tr>\n",
              "    <tr>\n",
              "      <th>8498</th>\n",
              "      <td>26.0</td>\n",
              "      <td>blue-collar</td>\n",
              "      <td>married</td>\n",
              "      <td>basic.9y</td>\n",
              "      <td>no</td>\n",
              "      <td>yes</td>\n",
              "      <td>no</td>\n",
              "      <td>telephone</td>\n",
              "      <td>jun</td>\n",
              "      <td>wed</td>\n",
              "      <td>1.0</td>\n",
              "      <td>0.0</td>\n",
              "      <td>nonexistent</td>\n",
              "      <td>1.4</td>\n",
              "      <td>94.465</td>\n",
              "      <td>-41.8</td>\n",
              "      <td>4.864</td>\n",
              "      <td>5228.1</td>\n",
              "    </tr>\n",
              "    <tr>\n",
              "      <th>33804</th>\n",
              "      <td>41.0</td>\n",
              "      <td>technician</td>\n",
              "      <td>married</td>\n",
              "      <td>basic.9y</td>\n",
              "      <td>no</td>\n",
              "      <td>yes</td>\n",
              "      <td>no</td>\n",
              "      <td>cellular</td>\n",
              "      <td>may</td>\n",
              "      <td>wed</td>\n",
              "      <td>1.0</td>\n",
              "      <td>1.0</td>\n",
              "      <td>failure</td>\n",
              "      <td>-1.8</td>\n",
              "      <td>92.893</td>\n",
              "      <td>-46.2</td>\n",
              "      <td>1.281</td>\n",
              "      <td>5099.1</td>\n",
              "    </tr>\n",
              "    <tr>\n",
              "      <th>21679</th>\n",
              "      <td>47.0</td>\n",
              "      <td>blue-collar</td>\n",
              "      <td>married</td>\n",
              "      <td>basic.6y</td>\n",
              "      <td>no</td>\n",
              "      <td>yes</td>\n",
              "      <td>no</td>\n",
              "      <td>cellular</td>\n",
              "      <td>aug</td>\n",
              "      <td>tue</td>\n",
              "      <td>1.0</td>\n",
              "      <td>0.0</td>\n",
              "      <td>nonexistent</td>\n",
              "      <td>1.4</td>\n",
              "      <td>93.444</td>\n",
              "      <td>-36.1</td>\n",
              "      <td>4.963</td>\n",
              "      <td>5228.1</td>\n",
              "    </tr>\n",
              "    <tr>\n",
              "      <th>24500</th>\n",
              "      <td>48.0</td>\n",
              "      <td>management</td>\n",
              "      <td>married</td>\n",
              "      <td>university.degree</td>\n",
              "      <td>no</td>\n",
              "      <td>yes</td>\n",
              "      <td>yes</td>\n",
              "      <td>cellular</td>\n",
              "      <td>nov</td>\n",
              "      <td>mon</td>\n",
              "      <td>3.0</td>\n",
              "      <td>0.0</td>\n",
              "      <td>nonexistent</td>\n",
              "      <td>-0.1</td>\n",
              "      <td>93.200</td>\n",
              "      <td>-42.0</td>\n",
              "      <td>4.191</td>\n",
              "      <td>5195.8</td>\n",
              "    </tr>\n",
              "  </tbody>\n",
              "</table>\n",
              "<p>8236 rows × 18 columns</p>\n",
              "</div>"
            ],
            "text/plain": [
              "        age          job   marital            education default housing loan  \\\n",
              "2166   56.0       admin.   married          high.school      no     yes   no   \n",
              "8656   40.0  blue-collar   married             basic.4y      no      no   no   \n",
              "33448  55.0  blue-collar   married             basic.4y      no     yes   no   \n",
              "4910   29.0       admin.    single             basic.9y      no     yes   no   \n",
              "23296  52.0       admin.  divorced    university.degree      no      no   no   \n",
              "...     ...          ...       ...                  ...     ...     ...  ...   \n",
              "22163  35.0   technician    single  professional.course      no     yes   no   \n",
              "8498   26.0  blue-collar   married             basic.9y      no     yes   no   \n",
              "33804  41.0   technician   married             basic.9y      no     yes   no   \n",
              "21679  47.0  blue-collar   married             basic.6y      no     yes   no   \n",
              "24500  48.0   management   married    university.degree      no     yes  yes   \n",
              "\n",
              "         contact month day_of_week  campaign  previous     poutcome  \\\n",
              "2166   telephone   may         mon       2.0       0.0  nonexistent   \n",
              "8656   telephone   jun         wed       1.0       0.0  nonexistent   \n",
              "33448  telephone   may         tue       2.0       0.0  nonexistent   \n",
              "4910   telephone   may         wed       2.0       0.0  nonexistent   \n",
              "23296   cellular   aug         wed       2.0       0.0  nonexistent   \n",
              "...          ...   ...         ...       ...       ...          ...   \n",
              "22163   cellular   aug         thu       2.0       0.0  nonexistent   \n",
              "8498   telephone   jun         wed       1.0       0.0  nonexistent   \n",
              "33804   cellular   may         wed       1.0       1.0      failure   \n",
              "21679   cellular   aug         tue       1.0       0.0  nonexistent   \n",
              "24500   cellular   nov         mon       3.0       0.0  nonexistent   \n",
              "\n",
              "       emp.var.rate  cons.price.idx  cons.conf.idx  euribor3m  nr.employed  \n",
              "2166            1.1          93.994          -36.4      4.857       5191.0  \n",
              "8656            1.4          94.465          -41.8      4.864       5228.1  \n",
              "33448          -1.8          92.893          -46.2      1.291       5099.1  \n",
              "4910            1.1          93.994          -36.4      4.858       5191.0  \n",
              "23296           1.4          93.444          -36.1      4.964       5228.1  \n",
              "...             ...             ...            ...        ...          ...  \n",
              "22163           1.4          93.444          -36.1      4.963       5228.1  \n",
              "8498            1.4          94.465          -41.8      4.864       5228.1  \n",
              "33804          -1.8          92.893          -46.2      1.281       5099.1  \n",
              "21679           1.4          93.444          -36.1      4.963       5228.1  \n",
              "24500          -0.1          93.200          -42.0      4.191       5195.8  \n",
              "\n",
              "[8236 rows x 18 columns]"
            ]
          },
          "execution_count": 56,
          "metadata": {},
          "output_type": "execute_result"
        }
      ],
      "source": [
        "X_test"
      ]
    },
    {
      "cell_type": "code",
      "execution_count": 57,
      "metadata": {},
      "outputs": [
        {
          "data": {
            "text/html": [
              "<div>\n",
              "<style scoped>\n",
              "    .dataframe tbody tr th:only-of-type {\n",
              "        vertical-align: middle;\n",
              "    }\n",
              "\n",
              "    .dataframe tbody tr th {\n",
              "        vertical-align: top;\n",
              "    }\n",
              "\n",
              "    .dataframe thead th {\n",
              "        text-align: right;\n",
              "    }\n",
              "</style>\n",
              "<table border=\"1\" class=\"dataframe\">\n",
              "  <thead>\n",
              "    <tr style=\"text-align: right;\">\n",
              "      <th></th>\n",
              "      <th>y</th>\n",
              "    </tr>\n",
              "  </thead>\n",
              "  <tbody>\n",
              "    <tr>\n",
              "      <th>38857</th>\n",
              "      <td>0</td>\n",
              "    </tr>\n",
              "    <tr>\n",
              "      <th>18466</th>\n",
              "      <td>0</td>\n",
              "    </tr>\n",
              "    <tr>\n",
              "      <th>28455</th>\n",
              "      <td>0</td>\n",
              "    </tr>\n",
              "    <tr>\n",
              "      <th>27621</th>\n",
              "      <td>0</td>\n",
              "    </tr>\n",
              "    <tr>\n",
              "      <th>6706</th>\n",
              "      <td>0</td>\n",
              "    </tr>\n",
              "    <tr>\n",
              "      <th>...</th>\n",
              "      <td>...</td>\n",
              "    </tr>\n",
              "    <tr>\n",
              "      <th>5294</th>\n",
              "      <td>0</td>\n",
              "    </tr>\n",
              "    <tr>\n",
              "      <th>1726</th>\n",
              "      <td>0</td>\n",
              "    </tr>\n",
              "    <tr>\n",
              "      <th>35653</th>\n",
              "      <td>0</td>\n",
              "    </tr>\n",
              "    <tr>\n",
              "      <th>25720</th>\n",
              "      <td>0</td>\n",
              "    </tr>\n",
              "    <tr>\n",
              "      <th>28947</th>\n",
              "      <td>0</td>\n",
              "    </tr>\n",
              "  </tbody>\n",
              "</table>\n",
              "<p>32940 rows × 1 columns</p>\n",
              "</div>"
            ],
            "text/plain": [
              "       y\n",
              "38857  0\n",
              "18466  0\n",
              "28455  0\n",
              "27621  0\n",
              "6706   0\n",
              "...   ..\n",
              "5294   0\n",
              "1726   0\n",
              "35653  0\n",
              "25720  0\n",
              "28947  0\n",
              "\n",
              "[32940 rows x 1 columns]"
            ]
          },
          "execution_count": 57,
          "metadata": {},
          "output_type": "execute_result"
        }
      ],
      "source": [
        "y_train_table = pd.DataFrame(y_train_new, columns= ['y'])\n",
        "y_train_table"
      ]
    },
    {
      "cell_type": "code",
      "execution_count": 58,
      "metadata": {},
      "outputs": [
        {
          "data": {
            "text/plain": [
              "(32940, 19)"
            ]
          },
          "execution_count": 58,
          "metadata": {},
          "output_type": "execute_result"
        }
      ],
      "source": [
        "# menggabungkan X_train_handled dan y_train_table\n",
        "\n",
        "data_kor = X_train_handled.copy()\n",
        "data_kor['y'] = y_train_table['y']\n",
        "data_kor.shape"
      ]
    },
    {
      "cell_type": "code",
      "execution_count": 59,
      "metadata": {},
      "outputs": [
        {
          "data": {
            "text/plain": [
              "<AxesSubplot:>"
            ]
          },
          "execution_count": 59,
          "metadata": {},
          "output_type": "execute_result"
        },
        {
          "data": {
            "image/png": "[encoded data removed]",
            "text/plain": [
              "<Figure size 1440x432 with 2 Axes>"
            ]
          },
          "metadata": {
            "needs_background": "light"
          },
          "output_type": "display_data"
        }
      ],
      "source": [
        "plt.figure(figsize=(20,6))\n",
        "sns.heatmap(data_kor.corr(),annot=True, mask=np.triu(data_kor.corr()))"
      ]
    },
    {
      "cell_type": "markdown",
      "metadata": {},
      "source": [
        "- Dari hasil visualisasi heatmap di atas dapat dilihat bahwa kolom yang memiliki korelasi paling tinggi terhadap kolom `y` adalah kolom `duration` dan yang terkecil adalah kolom `age`\n",
        "- kolom dengan tingkat korelasi dibawah 0.1, maka akan dilakukan drop yaitu kolom `age`, `campaign`, dan `cons.conf.idx`"
      ]
    },
    {
      "cell_type": "code",
      "execution_count": 60,
      "metadata": {},
      "outputs": [
        {
          "name": "stdout",
          "output_type": "stream",
          "text": [
            "Kolom bertype numeric pada dataset : ['age', 'campaign', 'previous', 'emp.var.rate', 'cons.price.idx', 'cons.conf.idx', 'euribor3m', 'nr.employed']\n",
            "Kolom bertype catagorical pada dataset : ['job', 'marital', 'education', 'default', 'housing', 'loan', 'contact', 'month', 'day_of_week', 'poutcome']\n"
          ]
        }
      ],
      "source": [
        "num_col = X_train_handled.select_dtypes(include= np.number).columns.tolist()\n",
        "cat_col = X_train_handled.select_dtypes(include=['object']).columns.tolist()\n",
        "\n",
        "print('Kolom bertype numeric pada dataset :', num_col)\n",
        "print('Kolom bertype catagorical pada dataset :', cat_col)"
      ]
    },
    {
      "cell_type": "code",
      "execution_count": 61,
      "metadata": {},
      "outputs": [],
      "source": [
        "X_train_handled.drop(['age', 'campaign', 'cons.conf.idx', 'default', 'contact', 'month', 'day_of_week', 'previous'], axis = 1, inplace= True)\n",
        "X_test.drop(['age', 'campaign', 'cons.conf.idx', 'default', 'contact', 'month', 'day_of_week', 'previous'], axis = 1, inplace= True)"
      ]
    },
    {
      "cell_type": "markdown",
      "metadata": {
        "id": "N5TTpAjrXwDt"
      },
      "source": [
        "---\n",
        "## Split between numerical and categorical columns\n"
      ]
    },
    {
      "cell_type": "code",
      "execution_count": 62,
      "metadata": {},
      "outputs": [
        {
          "data": {
            "text/html": [
              "<div>\n",
              "<style scoped>\n",
              "    .dataframe tbody tr th:only-of-type {\n",
              "        vertical-align: middle;\n",
              "    }\n",
              "\n",
              "    .dataframe tbody tr th {\n",
              "        vertical-align: top;\n",
              "    }\n",
              "\n",
              "    .dataframe thead th {\n",
              "        text-align: right;\n",
              "    }\n",
              "</style>\n",
              "<table border=\"1\" class=\"dataframe\">\n",
              "  <thead>\n",
              "    <tr style=\"text-align: right;\">\n",
              "      <th></th>\n",
              "      <th>job</th>\n",
              "      <th>marital</th>\n",
              "      <th>education</th>\n",
              "      <th>housing</th>\n",
              "      <th>loan</th>\n",
              "      <th>poutcome</th>\n",
              "      <th>emp.var.rate</th>\n",
              "      <th>cons.price.idx</th>\n",
              "      <th>euribor3m</th>\n",
              "      <th>nr.employed</th>\n",
              "    </tr>\n",
              "  </thead>\n",
              "  <tbody>\n",
              "    <tr>\n",
              "      <th>38857</th>\n",
              "      <td>admin.</td>\n",
              "      <td>single</td>\n",
              "      <td>university.degree</td>\n",
              "      <td>yes</td>\n",
              "      <td>no</td>\n",
              "      <td>nonexistent</td>\n",
              "      <td>-3.4</td>\n",
              "      <td>92.649</td>\n",
              "      <td>0.714</td>\n",
              "      <td>5017.5</td>\n",
              "    </tr>\n",
              "    <tr>\n",
              "      <th>18466</th>\n",
              "      <td>technician</td>\n",
              "      <td>single</td>\n",
              "      <td>professional.course</td>\n",
              "      <td>yes</td>\n",
              "      <td>yes</td>\n",
              "      <td>nonexistent</td>\n",
              "      <td>1.4</td>\n",
              "      <td>93.918</td>\n",
              "      <td>4.968</td>\n",
              "      <td>5228.1</td>\n",
              "    </tr>\n",
              "    <tr>\n",
              "      <th>28455</th>\n",
              "      <td>admin.</td>\n",
              "      <td>married</td>\n",
              "      <td>professional.course</td>\n",
              "      <td>yes</td>\n",
              "      <td>no</td>\n",
              "      <td>nonexistent</td>\n",
              "      <td>-1.8</td>\n",
              "      <td>93.075</td>\n",
              "      <td>1.423</td>\n",
              "      <td>5099.1</td>\n",
              "    </tr>\n",
              "    <tr>\n",
              "      <th>27621</th>\n",
              "      <td>admin.</td>\n",
              "      <td>married</td>\n",
              "      <td>high.school</td>\n",
              "      <td>yes</td>\n",
              "      <td>no</td>\n",
              "      <td>nonexistent</td>\n",
              "      <td>-0.1</td>\n",
              "      <td>93.200</td>\n",
              "      <td>4.021</td>\n",
              "      <td>5195.8</td>\n",
              "    </tr>\n",
              "    <tr>\n",
              "      <th>6706</th>\n",
              "      <td>blue-collar</td>\n",
              "      <td>divorced</td>\n",
              "      <td>basic.4y</td>\n",
              "      <td>yes</td>\n",
              "      <td>yes</td>\n",
              "      <td>nonexistent</td>\n",
              "      <td>1.1</td>\n",
              "      <td>93.994</td>\n",
              "      <td>4.857</td>\n",
              "      <td>5191.0</td>\n",
              "    </tr>\n",
              "    <tr>\n",
              "      <th>...</th>\n",
              "      <td>...</td>\n",
              "      <td>...</td>\n",
              "      <td>...</td>\n",
              "      <td>...</td>\n",
              "      <td>...</td>\n",
              "      <td>...</td>\n",
              "      <td>...</td>\n",
              "      <td>...</td>\n",
              "      <td>...</td>\n",
              "      <td>...</td>\n",
              "    </tr>\n",
              "    <tr>\n",
              "      <th>5294</th>\n",
              "      <td>self-employed</td>\n",
              "      <td>married</td>\n",
              "      <td>university.degree</td>\n",
              "      <td>yes</td>\n",
              "      <td>no</td>\n",
              "      <td>nonexistent</td>\n",
              "      <td>1.1</td>\n",
              "      <td>93.994</td>\n",
              "      <td>4.857</td>\n",
              "      <td>5191.0</td>\n",
              "    </tr>\n",
              "    <tr>\n",
              "      <th>1726</th>\n",
              "      <td>admin.</td>\n",
              "      <td>married</td>\n",
              "      <td>university.degree</td>\n",
              "      <td>no</td>\n",
              "      <td>yes</td>\n",
              "      <td>nonexistent</td>\n",
              "      <td>1.1</td>\n",
              "      <td>93.994</td>\n",
              "      <td>4.855</td>\n",
              "      <td>5191.0</td>\n",
              "    </tr>\n",
              "    <tr>\n",
              "      <th>35653</th>\n",
              "      <td>admin.</td>\n",
              "      <td>married</td>\n",
              "      <td>university.degree</td>\n",
              "      <td>no</td>\n",
              "      <td>yes</td>\n",
              "      <td>nonexistent</td>\n",
              "      <td>-1.8</td>\n",
              "      <td>92.893</td>\n",
              "      <td>1.244</td>\n",
              "      <td>5099.1</td>\n",
              "    </tr>\n",
              "    <tr>\n",
              "      <th>25720</th>\n",
              "      <td>admin.</td>\n",
              "      <td>married</td>\n",
              "      <td>basic.9y</td>\n",
              "      <td>yes</td>\n",
              "      <td>yes</td>\n",
              "      <td>nonexistent</td>\n",
              "      <td>-0.1</td>\n",
              "      <td>93.200</td>\n",
              "      <td>4.120</td>\n",
              "      <td>5195.8</td>\n",
              "    </tr>\n",
              "    <tr>\n",
              "      <th>28947</th>\n",
              "      <td>entrepreneur</td>\n",
              "      <td>married</td>\n",
              "      <td>university.degree</td>\n",
              "      <td>yes</td>\n",
              "      <td>no</td>\n",
              "      <td>nonexistent</td>\n",
              "      <td>-1.8</td>\n",
              "      <td>93.075</td>\n",
              "      <td>1.405</td>\n",
              "      <td>5099.1</td>\n",
              "    </tr>\n",
              "  </tbody>\n",
              "</table>\n",
              "<p>32940 rows × 10 columns</p>\n",
              "</div>"
            ],
            "text/plain": [
              "                 job   marital            education housing loan     poutcome  \\\n",
              "38857         admin.    single    university.degree     yes   no  nonexistent   \n",
              "18466     technician    single  professional.course     yes  yes  nonexistent   \n",
              "28455         admin.   married  professional.course     yes   no  nonexistent   \n",
              "27621         admin.   married          high.school     yes   no  nonexistent   \n",
              "6706     blue-collar  divorced             basic.4y     yes  yes  nonexistent   \n",
              "...              ...       ...                  ...     ...  ...          ...   \n",
              "5294   self-employed   married    university.degree     yes   no  nonexistent   \n",
              "1726          admin.   married    university.degree      no  yes  nonexistent   \n",
              "35653         admin.   married    university.degree      no  yes  nonexistent   \n",
              "25720         admin.   married             basic.9y     yes  yes  nonexistent   \n",
              "28947   entrepreneur   married    university.degree     yes   no  nonexistent   \n",
              "\n",
              "       emp.var.rate  cons.price.idx  euribor3m  nr.employed  \n",
              "38857          -3.4          92.649      0.714       5017.5  \n",
              "18466           1.4          93.918      4.968       5228.1  \n",
              "28455          -1.8          93.075      1.423       5099.1  \n",
              "27621          -0.1          93.200      4.021       5195.8  \n",
              "6706            1.1          93.994      4.857       5191.0  \n",
              "...             ...             ...        ...          ...  \n",
              "5294            1.1          93.994      4.857       5191.0  \n",
              "1726            1.1          93.994      4.855       5191.0  \n",
              "35653          -1.8          92.893      1.244       5099.1  \n",
              "25720          -0.1          93.200      4.120       5195.8  \n",
              "28947          -1.8          93.075      1.405       5099.1  \n",
              "\n",
              "[32940 rows x 10 columns]"
            ]
          },
          "execution_count": 62,
          "metadata": {},
          "output_type": "execute_result"
        }
      ],
      "source": [
        "X_train_handled"
      ]
    },
    {
      "cell_type": "code",
      "execution_count": 63,
      "metadata": {
        "colab": {
          "base_uri": "https://localhost:8080/"
        },
        "id": "BMJSwH3RXpbK",
        "outputId": "b649f571-8f77-45eb-f350-5905f81b34d5"
      },
      "outputs": [
        {
          "name": "stdout",
          "output_type": "stream",
          "text": [
            "Numerical Columns :  ['emp.var.rate', 'cons.price.idx', 'euribor3m', 'nr.employed']\n",
            "Categorical Columns ordinal :  ['education']\n",
            "Categorical Columns nominal :  ['marital', 'job', 'housing', 'loan', 'poutcome']\n"
          ]
        }
      ],
      "source": [
        "# Get Numerical Columns and Categorical Columns\n",
        "\n",
        "num_columns = X_train_handled.select_dtypes(include=np.number).columns.tolist()\n",
        "cat_columns_ordinal = X_train_handled[['education']].columns.to_list()\n",
        "cat_columns_nominal = X_train_handled[['marital', 'job', 'housing', 'loan', 'poutcome']].columns.to_list()\n",
        "\n",
        "print('Numerical Columns : ', num_columns)\n",
        "print('Categorical Columns ordinal : ', cat_columns_ordinal)\n",
        "print('Categorical Columns nominal : ', cat_columns_nominal)"
      ]
    },
    {
      "cell_type": "code",
      "execution_count": 64,
      "metadata": {
        "id": "GqgVmfNeYrjw"
      },
      "outputs": [],
      "source": [
        "# Split Train-Set and Test-Set based on Column Type (Numerical/Categorical)\n",
        "\n",
        "X_train_num = X_train_handled[num_columns]\n",
        "X_train_cat_ordinal = X_train_handled[cat_columns_ordinal]\n",
        "X_train_cat_nominal = X_train_handled[cat_columns_nominal]\n",
        "\n",
        "X_test_num = X_test[num_columns]\n",
        "X_test_cat_ordinal = X_test[cat_columns_ordinal]\n",
        "X_test_cat_nominal = X_test[cat_columns_nominal]"
      ]
    },
    {
      "cell_type": "markdown",
      "metadata": {
        "id": "t15ve41sZULO"
      },
      "source": [
        "---\n",
        "## Feature Scaling"
      ]
    },
    {
      "cell_type": "code",
      "execution_count": 65,
      "metadata": {
        "colab": {
          "base_uri": "https://localhost:8080/",
          "height": 423
        },
        "id": "5LO7gS_0ZXVj",
        "outputId": "daf07dba-9b44-4e6f-9b8a-c2831fa83834"
      },
      "outputs": [
        {
          "data": {
            "text/html": [
              "<div>\n",
              "<style scoped>\n",
              "    .dataframe tbody tr th:only-of-type {\n",
              "        vertical-align: middle;\n",
              "    }\n",
              "\n",
              "    .dataframe tbody tr th {\n",
              "        vertical-align: top;\n",
              "    }\n",
              "\n",
              "    .dataframe thead th {\n",
              "        text-align: right;\n",
              "    }\n",
              "</style>\n",
              "<table border=\"1\" class=\"dataframe\">\n",
              "  <thead>\n",
              "    <tr style=\"text-align: right;\">\n",
              "      <th></th>\n",
              "      <th>emp.var.rate</th>\n",
              "      <th>cons.price.idx</th>\n",
              "      <th>euribor3m</th>\n",
              "      <th>nr.employed</th>\n",
              "    </tr>\n",
              "  </thead>\n",
              "  <tbody>\n",
              "    <tr>\n",
              "      <th>38857</th>\n",
              "      <td>-3.4</td>\n",
              "      <td>92.649</td>\n",
              "      <td>0.714</td>\n",
              "      <td>5017.5</td>\n",
              "    </tr>\n",
              "    <tr>\n",
              "      <th>18466</th>\n",
              "      <td>1.4</td>\n",
              "      <td>93.918</td>\n",
              "      <td>4.968</td>\n",
              "      <td>5228.1</td>\n",
              "    </tr>\n",
              "    <tr>\n",
              "      <th>28455</th>\n",
              "      <td>-1.8</td>\n",
              "      <td>93.075</td>\n",
              "      <td>1.423</td>\n",
              "      <td>5099.1</td>\n",
              "    </tr>\n",
              "    <tr>\n",
              "      <th>27621</th>\n",
              "      <td>-0.1</td>\n",
              "      <td>93.200</td>\n",
              "      <td>4.021</td>\n",
              "      <td>5195.8</td>\n",
              "    </tr>\n",
              "    <tr>\n",
              "      <th>6706</th>\n",
              "      <td>1.1</td>\n",
              "      <td>93.994</td>\n",
              "      <td>4.857</td>\n",
              "      <td>5191.0</td>\n",
              "    </tr>\n",
              "    <tr>\n",
              "      <th>...</th>\n",
              "      <td>...</td>\n",
              "      <td>...</td>\n",
              "      <td>...</td>\n",
              "      <td>...</td>\n",
              "    </tr>\n",
              "    <tr>\n",
              "      <th>5294</th>\n",
              "      <td>1.1</td>\n",
              "      <td>93.994</td>\n",
              "      <td>4.857</td>\n",
              "      <td>5191.0</td>\n",
              "    </tr>\n",
              "    <tr>\n",
              "      <th>1726</th>\n",
              "      <td>1.1</td>\n",
              "      <td>93.994</td>\n",
              "      <td>4.855</td>\n",
              "      <td>5191.0</td>\n",
              "    </tr>\n",
              "    <tr>\n",
              "      <th>35653</th>\n",
              "      <td>-1.8</td>\n",
              "      <td>92.893</td>\n",
              "      <td>1.244</td>\n",
              "      <td>5099.1</td>\n",
              "    </tr>\n",
              "    <tr>\n",
              "      <th>25720</th>\n",
              "      <td>-0.1</td>\n",
              "      <td>93.200</td>\n",
              "      <td>4.120</td>\n",
              "      <td>5195.8</td>\n",
              "    </tr>\n",
              "    <tr>\n",
              "      <th>28947</th>\n",
              "      <td>-1.8</td>\n",
              "      <td>93.075</td>\n",
              "      <td>1.405</td>\n",
              "      <td>5099.1</td>\n",
              "    </tr>\n",
              "  </tbody>\n",
              "</table>\n",
              "<p>32940 rows × 4 columns</p>\n",
              "</div>"
            ],
            "text/plain": [
              "       emp.var.rate  cons.price.idx  euribor3m  nr.employed\n",
              "38857          -3.4          92.649      0.714       5017.5\n",
              "18466           1.4          93.918      4.968       5228.1\n",
              "28455          -1.8          93.075      1.423       5099.1\n",
              "27621          -0.1          93.200      4.021       5195.8\n",
              "6706            1.1          93.994      4.857       5191.0\n",
              "...             ...             ...        ...          ...\n",
              "5294            1.1          93.994      4.857       5191.0\n",
              "1726            1.1          93.994      4.855       5191.0\n",
              "35653          -1.8          92.893      1.244       5099.1\n",
              "25720          -0.1          93.200      4.120       5195.8\n",
              "28947          -1.8          93.075      1.405       5099.1\n",
              "\n",
              "[32940 rows x 4 columns]"
            ]
          },
          "execution_count": 65,
          "metadata": {},
          "output_type": "execute_result"
        }
      ],
      "source": [
        "# Display X_train_num\n",
        "\n",
        "X_train_num"
      ]
    },
    {
      "cell_type": "code",
      "execution_count": 66,
      "metadata": {
        "colab": {
          "base_uri": "https://localhost:8080/"
        },
        "id": "PjTDb3yeZbBv",
        "outputId": "ba1273c1-0c59-4fcf-dc9c-7202e1a0e0e6"
      },
      "outputs": [
        {
          "data": {
            "text/plain": [
              "array([[-2.22180619, -1.60288943, -1.68187062, -2.0803381 ],\n",
              "       [ 0.83673205,  0.59057995,  0.77419992,  0.84337054],\n",
              "       [-1.20229345, -0.86654746, -1.27252553, -0.94750512],\n",
              "       ...,\n",
              "       [-1.20229345, -1.18113488, -1.37587217, -0.94750512],\n",
              "       [-0.11906115, -0.65048468,  0.28460241,  0.39495748],\n",
              "       [-1.20229345, -0.86654746, -1.28291793, -0.94750512]])"
            ]
          },
          "execution_count": 66,
          "metadata": {},
          "output_type": "execute_result"
        }
      ],
      "source": [
        "# Feature Scaling using StandardScaler\n",
        "\n",
        "scaler = StandardScaler()\n",
        "scaler.fit(X_train_num)\n",
        "\n",
        "X_train_num_scaled = scaler.transform(X_train_num)\n",
        "X_test_num_scaled = scaler.transform(X_test_num)\n",
        "\n",
        "X_train_num_scaled"
      ]
    },
    {
      "cell_type": "markdown",
      "metadata": {
        "id": "rOQSfNZdbpZf"
      },
      "source": [
        "---\n",
        "## Feature Encoding"
      ]
    },
    {
      "cell_type": "code",
      "execution_count": 67,
      "metadata": {
        "colab": {
          "base_uri": "https://localhost:8080/",
          "height": 423
        },
        "id": "f2MaaAdqc5bL",
        "outputId": "48559b77-b7bf-436f-9553-7b00a3f26784"
      },
      "outputs": [
        {
          "data": {
            "text/html": [
              "<div>\n",
              "<style scoped>\n",
              "    .dataframe tbody tr th:only-of-type {\n",
              "        vertical-align: middle;\n",
              "    }\n",
              "\n",
              "    .dataframe tbody tr th {\n",
              "        vertical-align: top;\n",
              "    }\n",
              "\n",
              "    .dataframe thead th {\n",
              "        text-align: right;\n",
              "    }\n",
              "</style>\n",
              "<table border=\"1\" class=\"dataframe\">\n",
              "  <thead>\n",
              "    <tr style=\"text-align: right;\">\n",
              "      <th></th>\n",
              "      <th>marital</th>\n",
              "      <th>job</th>\n",
              "      <th>housing</th>\n",
              "      <th>loan</th>\n",
              "      <th>poutcome</th>\n",
              "    </tr>\n",
              "  </thead>\n",
              "  <tbody>\n",
              "    <tr>\n",
              "      <th>38857</th>\n",
              "      <td>single</td>\n",
              "      <td>admin.</td>\n",
              "      <td>yes</td>\n",
              "      <td>no</td>\n",
              "      <td>nonexistent</td>\n",
              "    </tr>\n",
              "    <tr>\n",
              "      <th>18466</th>\n",
              "      <td>single</td>\n",
              "      <td>technician</td>\n",
              "      <td>yes</td>\n",
              "      <td>yes</td>\n",
              "      <td>nonexistent</td>\n",
              "    </tr>\n",
              "    <tr>\n",
              "      <th>28455</th>\n",
              "      <td>married</td>\n",
              "      <td>admin.</td>\n",
              "      <td>yes</td>\n",
              "      <td>no</td>\n",
              "      <td>nonexistent</td>\n",
              "    </tr>\n",
              "    <tr>\n",
              "      <th>27621</th>\n",
              "      <td>married</td>\n",
              "      <td>admin.</td>\n",
              "      <td>yes</td>\n",
              "      <td>no</td>\n",
              "      <td>nonexistent</td>\n",
              "    </tr>\n",
              "    <tr>\n",
              "      <th>6706</th>\n",
              "      <td>divorced</td>\n",
              "      <td>blue-collar</td>\n",
              "      <td>yes</td>\n",
              "      <td>yes</td>\n",
              "      <td>nonexistent</td>\n",
              "    </tr>\n",
              "    <tr>\n",
              "      <th>...</th>\n",
              "      <td>...</td>\n",
              "      <td>...</td>\n",
              "      <td>...</td>\n",
              "      <td>...</td>\n",
              "      <td>...</td>\n",
              "    </tr>\n",
              "    <tr>\n",
              "      <th>5294</th>\n",
              "      <td>married</td>\n",
              "      <td>self-employed</td>\n",
              "      <td>yes</td>\n",
              "      <td>no</td>\n",
              "      <td>nonexistent</td>\n",
              "    </tr>\n",
              "    <tr>\n",
              "      <th>1726</th>\n",
              "      <td>married</td>\n",
              "      <td>admin.</td>\n",
              "      <td>no</td>\n",
              "      <td>yes</td>\n",
              "      <td>nonexistent</td>\n",
              "    </tr>\n",
              "    <tr>\n",
              "      <th>35653</th>\n",
              "      <td>married</td>\n",
              "      <td>admin.</td>\n",
              "      <td>no</td>\n",
              "      <td>yes</td>\n",
              "      <td>nonexistent</td>\n",
              "    </tr>\n",
              "    <tr>\n",
              "      <th>25720</th>\n",
              "      <td>married</td>\n",
              "      <td>admin.</td>\n",
              "      <td>yes</td>\n",
              "      <td>yes</td>\n",
              "      <td>nonexistent</td>\n",
              "    </tr>\n",
              "    <tr>\n",
              "      <th>28947</th>\n",
              "      <td>married</td>\n",
              "      <td>entrepreneur</td>\n",
              "      <td>yes</td>\n",
              "      <td>no</td>\n",
              "      <td>nonexistent</td>\n",
              "    </tr>\n",
              "  </tbody>\n",
              "</table>\n",
              "<p>32940 rows × 5 columns</p>\n",
              "</div>"
            ],
            "text/plain": [
              "        marital            job housing loan     poutcome\n",
              "38857    single         admin.     yes   no  nonexistent\n",
              "18466    single     technician     yes  yes  nonexistent\n",
              "28455   married         admin.     yes   no  nonexistent\n",
              "27621   married         admin.     yes   no  nonexistent\n",
              "6706   divorced    blue-collar     yes  yes  nonexistent\n",
              "...         ...            ...     ...  ...          ...\n",
              "5294    married  self-employed     yes   no  nonexistent\n",
              "1726    married         admin.      no  yes  nonexistent\n",
              "35653   married         admin.      no  yes  nonexistent\n",
              "25720   married         admin.     yes  yes  nonexistent\n",
              "28947   married   entrepreneur     yes   no  nonexistent\n",
              "\n",
              "[32940 rows x 5 columns]"
            ]
          },
          "execution_count": 67,
          "metadata": {},
          "output_type": "execute_result"
        }
      ],
      "source": [
        "# Display X_train_cat_nominal\n",
        "\n",
        "X_train_cat_nominal"
      ]
    },
    {
      "cell_type": "code",
      "execution_count": 68,
      "metadata": {
        "colab": {
          "base_uri": "https://localhost:8080/"
        },
        "id": "6g57I1rkbuL-",
        "outputId": "ec4faa48-ab6a-4ade-e993-c67be5c64084"
      },
      "outputs": [
        {
          "data": {
            "text/plain": [
              "array([[0., 0., 1., ..., 0., 1., 0.],\n",
              "       [0., 0., 1., ..., 0., 1., 0.],\n",
              "       [0., 1., 0., ..., 0., 1., 0.],\n",
              "       ...,\n",
              "       [0., 1., 0., ..., 0., 1., 0.],\n",
              "       [0., 1., 0., ..., 0., 1., 0.],\n",
              "       [0., 1., 0., ..., 0., 1., 0.]])"
            ]
          },
          "execution_count": 68,
          "metadata": {},
          "output_type": "execute_result"
        }
      ],
      "source": [
        "# Feature Encoding using OneHotEncoder\n",
        "# Encoding pada kolom dengan type categorical nominal\n",
        "\n",
        "encoder = OneHotEncoder(handle_unknown='ignore', sparse= False)\n",
        "\n",
        "X_train_cat_nominal_enc = encoder.fit_transform(X_train_cat_nominal)\n",
        "X_test_cat_nominal_enc = encoder.transform(X_test_cat_nominal)\n",
        "X_train_cat_nominal_enc"
      ]
    },
    {
      "cell_type": "code",
      "execution_count": 69,
      "metadata": {},
      "outputs": [
        {
          "data": {
            "text/html": [
              "<div>\n",
              "<style scoped>\n",
              "    .dataframe tbody tr th:only-of-type {\n",
              "        vertical-align: middle;\n",
              "    }\n",
              "\n",
              "    .dataframe tbody tr th {\n",
              "        vertical-align: top;\n",
              "    }\n",
              "\n",
              "    .dataframe thead th {\n",
              "        text-align: right;\n",
              "    }\n",
              "</style>\n",
              "<table border=\"1\" class=\"dataframe\">\n",
              "  <thead>\n",
              "    <tr style=\"text-align: right;\">\n",
              "      <th></th>\n",
              "      <th>education</th>\n",
              "    </tr>\n",
              "  </thead>\n",
              "  <tbody>\n",
              "    <tr>\n",
              "      <th>38857</th>\n",
              "      <td>university.degree</td>\n",
              "    </tr>\n",
              "    <tr>\n",
              "      <th>18466</th>\n",
              "      <td>professional.course</td>\n",
              "    </tr>\n",
              "    <tr>\n",
              "      <th>28455</th>\n",
              "      <td>professional.course</td>\n",
              "    </tr>\n",
              "    <tr>\n",
              "      <th>27621</th>\n",
              "      <td>high.school</td>\n",
              "    </tr>\n",
              "    <tr>\n",
              "      <th>6706</th>\n",
              "      <td>basic.4y</td>\n",
              "    </tr>\n",
              "    <tr>\n",
              "      <th>...</th>\n",
              "      <td>...</td>\n",
              "    </tr>\n",
              "    <tr>\n",
              "      <th>5294</th>\n",
              "      <td>university.degree</td>\n",
              "    </tr>\n",
              "    <tr>\n",
              "      <th>1726</th>\n",
              "      <td>university.degree</td>\n",
              "    </tr>\n",
              "    <tr>\n",
              "      <th>35653</th>\n",
              "      <td>university.degree</td>\n",
              "    </tr>\n",
              "    <tr>\n",
              "      <th>25720</th>\n",
              "      <td>basic.9y</td>\n",
              "    </tr>\n",
              "    <tr>\n",
              "      <th>28947</th>\n",
              "      <td>university.degree</td>\n",
              "    </tr>\n",
              "  </tbody>\n",
              "</table>\n",
              "<p>32940 rows × 1 columns</p>\n",
              "</div>"
            ],
            "text/plain": [
              "                 education\n",
              "38857    university.degree\n",
              "18466  professional.course\n",
              "28455  professional.course\n",
              "27621          high.school\n",
              "6706              basic.4y\n",
              "...                    ...\n",
              "5294     university.degree\n",
              "1726     university.degree\n",
              "35653    university.degree\n",
              "25720             basic.9y\n",
              "28947    university.degree\n",
              "\n",
              "[32940 rows x 1 columns]"
            ]
          },
          "execution_count": 69,
          "metadata": {},
          "output_type": "execute_result"
        }
      ],
      "source": [
        "# Display X_train_cat_ordinal\n",
        "\n",
        "X_train_cat_ordinal"
      ]
    },
    {
      "cell_type": "code",
      "execution_count": 70,
      "metadata": {},
      "outputs": [
        {
          "data": {
            "text/plain": [
              "array([[6.],\n",
              "       [5.],\n",
              "       [5.],\n",
              "       ...,\n",
              "       [6.],\n",
              "       [2.],\n",
              "       [6.]])"
            ]
          },
          "execution_count": 70,
          "metadata": {},
          "output_type": "execute_result"
        }
      ],
      "source": [
        "# Feature Encoding using OrdinalEncoder\n",
        "# Encoding pada kolom dengan type categorical ordinal\n",
        "\n",
        "encoder2 = OrdinalEncoder()\n",
        "\n",
        "X_train_cat_ordinal_enc = encoder2.fit_transform(X_train_cat_ordinal)\n",
        "X_test_cat_ordinal_enc = encoder2.transform(X_test_cat_ordinal)\n",
        "X_train_cat_ordinal_enc"
      ]
    },
    {
      "cell_type": "markdown",
      "metadata": {
        "id": "C0PP-0spdeee"
      },
      "source": [
        "---\n",
        "## Concat between Numerical Columns and Categorical Columns"
      ]
    },
    {
      "cell_type": "code",
      "execution_count": 71,
      "metadata": {
        "colab": {
          "base_uri": "https://localhost:8080/"
        },
        "id": "KNaP-yhzdkQP",
        "outputId": "bbc137f0-ba88-43ce-d0ea-50f61ff6b019"
      },
      "outputs": [
        {
          "data": {
            "text/plain": [
              "array([[-2.22180619, -1.60288943, -1.68187062, ...,  0.        ,\n",
              "         1.        ,  0.        ],\n",
              "       [ 0.83673205,  0.59057995,  0.77419992, ...,  0.        ,\n",
              "         1.        ,  0.        ],\n",
              "       [-1.20229345, -0.86654746, -1.27252553, ...,  0.        ,\n",
              "         1.        ,  0.        ],\n",
              "       ...,\n",
              "       [-1.20229345, -1.18113488, -1.37587217, ...,  0.        ,\n",
              "         1.        ,  0.        ],\n",
              "       [-0.11906115, -0.65048468,  0.28460241, ...,  0.        ,\n",
              "         1.        ,  0.        ],\n",
              "       [-1.20229345, -0.86654746, -1.28291793, ...,  0.        ,\n",
              "         1.        ,  0.        ]])"
            ]
          },
          "execution_count": 71,
          "metadata": {},
          "output_type": "execute_result"
        }
      ],
      "source": [
        "# Concate Columns\n",
        "\n",
        "X_train_final = np.concatenate([X_train_num_scaled, X_train_cat_ordinal_enc, X_train_cat_nominal_enc], axis=1)\n",
        "X_test_final = np.concatenate([X_test_num_scaled, X_test_cat_nominal_enc, X_test_cat_ordinal_enc], axis=1)\n",
        "X_train_final"
      ]
    },
    {
      "cell_type": "code",
      "execution_count": 72,
      "metadata": {},
      "outputs": [
        {
          "data": {
            "text/plain": [
              "(32940, 26)"
            ]
          },
          "execution_count": 72,
          "metadata": {},
          "output_type": "execute_result"
        }
      ],
      "source": [
        "X_train_final.shape"
      ]
    },
    {
      "cell_type": "markdown",
      "metadata": {
        "id": "J-bRMz1teacx"
      },
      "source": [
        "# Model Definition"
      ]
    },
    {
      "cell_type": "markdown",
      "metadata": {},
      "source": [
        "## Logistic Regression"
      ]
    },
    {
      "cell_type": "code",
      "execution_count": 73,
      "metadata": {
        "id": "T_xaMB3iec33"
      },
      "outputs": [],
      "source": [
        "# Training using Logistic Regression\n",
        "\n",
        "model_log_reg = LogisticRegression()"
      ]
    },
    {
      "cell_type": "markdown",
      "metadata": {},
      "source": [
        "## SVM"
      ]
    },
    {
      "cell_type": "code",
      "execution_count": 74,
      "metadata": {},
      "outputs": [],
      "source": [
        "# Training using polynomials\n",
        "\n",
        "model_svm = SVC()"
      ]
    },
    {
      "cell_type": "markdown",
      "metadata": {},
      "source": [
        "## Decission Tree"
      ]
    },
    {
      "cell_type": "code",
      "execution_count": 75,
      "metadata": {},
      "outputs": [],
      "source": [
        "# Training using Decission Tree\n",
        "\n",
        "model_dt = DecisionTreeClassifier()"
      ]
    },
    {
      "cell_type": "markdown",
      "metadata": {},
      "source": [
        "## Random Forest"
      ]
    },
    {
      "cell_type": "code",
      "execution_count": 76,
      "metadata": {},
      "outputs": [],
      "source": [
        "# Training using Random Forest\n",
        "\n",
        "model_rf = RandomForestClassifier()"
      ]
    },
    {
      "cell_type": "markdown",
      "metadata": {},
      "source": [
        "## KNN"
      ]
    },
    {
      "cell_type": "code",
      "execution_count": 77,
      "metadata": {},
      "outputs": [],
      "source": [
        "# Training using KNN\n",
        "\n",
        "model_knn = KNeighborsClassifier()"
      ]
    },
    {
      "cell_type": "markdown",
      "metadata": {},
      "source": [
        "## Naive Bayes"
      ]
    },
    {
      "cell_type": "code",
      "execution_count": 78,
      "metadata": {},
      "outputs": [],
      "source": [
        "# Training using Naive Bayes\n",
        "\n",
        "model_nb = GaussianNB()"
      ]
    },
    {
      "cell_type": "markdown",
      "metadata": {},
      "source": [
        "## XGBoost"
      ]
    },
    {
      "cell_type": "code",
      "execution_count": 79,
      "metadata": {},
      "outputs": [],
      "source": [
        "model_xgb = XGBClassifier()"
      ]
    },
    {
      "cell_type": "markdown",
      "metadata": {
        "id": "_ljzK9oWfe_H"
      },
      "source": [
        "# Model Training"
      ]
    },
    {
      "cell_type": "markdown",
      "metadata": {},
      "source": [
        "## Logistic Regression"
      ]
    },
    {
      "cell_type": "code",
      "execution_count": 80,
      "metadata": {
        "colab": {
          "base_uri": "https://localhost:8080/"
        },
        "id": "7VLXwbw2fnzy",
        "outputId": "d77320af-d7b0-4419-f036-3911f9d222ca"
      },
      "outputs": [
        {
          "data": {
            "text/plain": [
              "LogisticRegression()"
            ]
          },
          "execution_count": 80,
          "metadata": {},
          "output_type": "execute_result"
        }
      ],
      "source": [
        "# Train the Model\n",
        "\n",
        "model_log_reg.fit(X_train_final, y_train_new)"
      ]
    },
    {
      "cell_type": "markdown",
      "metadata": {},
      "source": [
        "## SVM"
      ]
    },
    {
      "cell_type": "code",
      "execution_count": 81,
      "metadata": {},
      "outputs": [
        {
          "data": {
            "text/plain": [
              "SVC()"
            ]
          },
          "execution_count": 81,
          "metadata": {},
          "output_type": "execute_result"
        }
      ],
      "source": [
        "model_svm.fit(X_train_final, y_train_new)"
      ]
    },
    {
      "cell_type": "markdown",
      "metadata": {},
      "source": [
        "## Decission Tree"
      ]
    },
    {
      "cell_type": "code",
      "execution_count": 82,
      "metadata": {},
      "outputs": [
        {
          "data": {
            "text/plain": [
              "DecisionTreeClassifier()"
            ]
          },
          "execution_count": 82,
          "metadata": {},
          "output_type": "execute_result"
        }
      ],
      "source": [
        "model_dt.fit(X_train_final, y_train_new)"
      ]
    },
    {
      "cell_type": "markdown",
      "metadata": {},
      "source": [
        "## Random Forest"
      ]
    },
    {
      "cell_type": "code",
      "execution_count": 83,
      "metadata": {},
      "outputs": [
        {
          "data": {
            "text/plain": [
              "RandomForestClassifier()"
            ]
          },
          "execution_count": 83,
          "metadata": {},
          "output_type": "execute_result"
        }
      ],
      "source": [
        "model_rf.fit(X_train_final, y_train_new)"
      ]
    },
    {
      "cell_type": "markdown",
      "metadata": {},
      "source": [
        "## KNN"
      ]
    },
    {
      "cell_type": "code",
      "execution_count": 84,
      "metadata": {},
      "outputs": [
        {
          "data": {
            "text/plain": [
              "KNeighborsClassifier()"
            ]
          },
          "execution_count": 84,
          "metadata": {},
          "output_type": "execute_result"
        }
      ],
      "source": [
        "model_knn.fit(X_train_final, y_train_new)"
      ]
    },
    {
      "cell_type": "markdown",
      "metadata": {},
      "source": [
        "## Naive Bayes"
      ]
    },
    {
      "cell_type": "code",
      "execution_count": 85,
      "metadata": {},
      "outputs": [
        {
          "data": {
            "text/plain": [
              "GaussianNB()"
            ]
          },
          "execution_count": 85,
          "metadata": {},
          "output_type": "execute_result"
        }
      ],
      "source": [
        "model_nb.fit(X_train_final, y_train_new)"
      ]
    },
    {
      "cell_type": "markdown",
      "metadata": {},
      "source": [
        "## XGBoost"
      ]
    },
    {
      "cell_type": "code",
      "execution_count": 86,
      "metadata": {},
      "outputs": [
        {
          "data": {
            "text/plain": [
              "XGBClassifier(base_score=0.5, booster='gbtree', callbacks=None,\n",
              "              colsample_bylevel=1, colsample_bynode=1, colsample_bytree=1,\n",
              "              early_stopping_rounds=None, enable_categorical=False,\n",
              "              eval_metric=None, gamma=0, gpu_id=-1, grow_policy='depthwise',\n",
              "              importance_type=None, interaction_constraints='',\n",
              "              learning_rate=0.300000012, max_bin=256, max_cat_to_onehot=4,\n",
              "              max_delta_step=0, max_depth=6, max_leaves=0, min_child_weight=1,\n",
              "              missing=nan, monotone_constraints='()', n_estimators=100,\n",
              "              n_jobs=0, num_parallel_tree=1, predictor='auto', random_state=0,\n",
              "              reg_alpha=0, reg_lambda=1, ...)"
            ]
          },
          "execution_count": 86,
          "metadata": {},
          "output_type": "execute_result"
        }
      ],
      "source": [
        "model_xgb.fit(X_train_final, y_train_new)"
      ]
    },
    {
      "cell_type": "markdown",
      "metadata": {
        "id": "HlyAVit0fzJC"
      },
      "source": [
        "# Model Evaluation"
      ]
    },
    {
      "cell_type": "markdown",
      "metadata": {},
      "source": [
        "## Logistic Regression"
      ]
    },
    {
      "cell_type": "code",
      "execution_count": 87,
      "metadata": {
        "id": "LjwBVvi5f452"
      },
      "outputs": [],
      "source": [
        "# Get Prediction of Train-Set and Test-Set\n",
        "\n",
        "y_pred_train_log = model_log_reg.predict(X_train_final)\n",
        "y_pred_test_log = model_log_reg.predict(X_test_final)"
      ]
    },
    {
      "cell_type": "markdown",
      "metadata": {},
      "source": [
        "## SVM"
      ]
    },
    {
      "cell_type": "code",
      "execution_count": 88,
      "metadata": {},
      "outputs": [],
      "source": [
        "y_pred_train_svm = model_svm.predict(X_train_final)\n",
        "y_pred_test_svm = model_svm.predict(X_test_final)"
      ]
    },
    {
      "cell_type": "markdown",
      "metadata": {},
      "source": [
        "## Decission Tree"
      ]
    },
    {
      "cell_type": "code",
      "execution_count": 89,
      "metadata": {},
      "outputs": [],
      "source": [
        "y_pred_train_dt = model_dt.predict(X_train_final)\n",
        "y_pred_test_dt = model_dt.predict(X_test_final)"
      ]
    },
    {
      "cell_type": "markdown",
      "metadata": {},
      "source": [
        "## Random Forest"
      ]
    },
    {
      "cell_type": "code",
      "execution_count": 90,
      "metadata": {},
      "outputs": [],
      "source": [
        "y_pred_train_rf = model_rf.predict(X_train_final)\n",
        "y_pred_test_rf = model_rf.predict(X_test_final)"
      ]
    },
    {
      "cell_type": "markdown",
      "metadata": {},
      "source": [
        "## KNN"
      ]
    },
    {
      "cell_type": "code",
      "execution_count": 91,
      "metadata": {},
      "outputs": [],
      "source": [
        "y_pred_train_knn = model_knn.predict(X_train_final)\n",
        "y_pred_test_knn = model_knn.predict(X_test_final)"
      ]
    },
    {
      "cell_type": "markdown",
      "metadata": {},
      "source": [
        "## Naive Bayes"
      ]
    },
    {
      "cell_type": "code",
      "execution_count": 92,
      "metadata": {},
      "outputs": [],
      "source": [
        "y_pred_train_nb = model_nb.predict(X_train_final)\n",
        "y_pred_test_nb = model_nb.predict(X_test_final)"
      ]
    },
    {
      "cell_type": "markdown",
      "metadata": {},
      "source": [
        "## XGBoost"
      ]
    },
    {
      "cell_type": "code",
      "execution_count": 93,
      "metadata": {},
      "outputs": [],
      "source": [
        "y_pred_train_xgb = model_xgb.predict(X_train_final)\n",
        "y_pred_test_xgb = model_xgb.predict(X_test_final)"
      ]
    },
    {
      "cell_type": "markdown",
      "metadata": {},
      "source": [
        "## Evaluate model using classification report"
      ]
    },
    {
      "cell_type": "markdown",
      "metadata": {},
      "source": [
        "### Logistic Regression"
      ]
    },
    {
      "cell_type": "code",
      "execution_count": 94,
      "metadata": {},
      "outputs": [
        {
          "name": "stdout",
          "output_type": "stream",
          "text": [
            "f1 score - All - Cross Validation  :  [0.86839909 0.87434671 0.87028985]\n",
            "f1 score - Mean - Cross Validation :  0.8710118810493409\n",
            "f1 score - Std - Cross Validation  :  0.0024812013480230797\n",
            "f1 score - Range of Test-Set       :  0.8685306797013178 - 0.873493082397364\n"
          ]
        }
      ],
      "source": [
        "logreg_train_cross_val = cross_val_score(model_log_reg, \n",
        "                                      X_train_final, \n",
        "                                      y_train_new, \n",
        "                                      cv=3, scoring=\"f1_weighted\")\n",
        "\n",
        "print('f1 score - All - Cross Validation  : ', logreg_train_cross_val)\n",
        "print('f1 score - Mean - Cross Validation : ', logreg_train_cross_val.mean())\n",
        "print('f1 score - Std - Cross Validation  : ', logreg_train_cross_val.std())\n",
        "print('f1 score - Range of Test-Set       : ', (logreg_train_cross_val.mean()-logreg_train_cross_val.std()) , '-', (logreg_train_cross_val.mean()+logreg_train_cross_val.std()))"
      ]
    },
    {
      "cell_type": "code",
      "execution_count": 95,
      "metadata": {
        "colab": {
          "base_uri": "https://localhost:8080/"
        },
        "id": "5G08AKHvgGo2",
        "outputId": "5a631877-7814-4820-db3a-1314551b8d88"
      },
      "outputs": [
        {
          "name": "stdout",
          "output_type": "stream",
          "text": [
            "Error - Train :                precision    recall  f1-score   support\n",
            "\n",
            "           0       0.90      0.99      0.95     29216\n",
            "           1       0.70      0.18      0.29      3724\n",
            "\n",
            "    accuracy                           0.90     32940\n",
            "   macro avg       0.80      0.59      0.62     32940\n",
            "weighted avg       0.88      0.90      0.87     32940\n",
            "\n",
            "Error - Test  :                precision    recall  f1-score   support\n",
            "\n",
            "           0       0.94      0.41      0.57      7324\n",
            "           1       0.14      0.79      0.24       912\n",
            "\n",
            "    accuracy                           0.45      8236\n",
            "   macro avg       0.54      0.60      0.41      8236\n",
            "weighted avg       0.85      0.45      0.53      8236\n",
            "\n"
          ]
        }
      ],
      "source": [
        "print('Error - Train : ', classification_report(y_train_new, y_pred_train_log))\n",
        "print('Error - Test  : ', classification_report(y_test, y_pred_test_log))"
      ]
    },
    {
      "cell_type": "code",
      "execution_count": 96,
      "metadata": {},
      "outputs": [
        {
          "name": "stdout",
          "output_type": "stream",
          "text": [
            "f1-score Train-set : 0.8711182478963215\n",
            "f1-score Test-set: 0.533783383090396\n",
            "f1-score - Range of Test-Set :  0.8685306797013178 - 0.873493082397364\n"
          ]
        }
      ],
      "source": [
        "print('f1-score Train-set :', f1_score(y_train_new, y_pred_train_log, average='weighted'))\n",
        "print('f1-score Test-set:', f1_score(y_test, y_pred_test_log, average='weighted'))\n",
        "print('f1-score - Range of Test-Set : ', (logreg_train_cross_val.mean()-logreg_train_cross_val.std()) , '-', (logreg_train_cross_val.mean()+logreg_train_cross_val.std()))"
      ]
    },
    {
      "cell_type": "markdown",
      "metadata": {},
      "source": [
        "### SVM"
      ]
    },
    {
      "cell_type": "code",
      "execution_count": 97,
      "metadata": {},
      "outputs": [
        {
          "name": "stdout",
          "output_type": "stream",
          "text": [
            "f1 score - All - Cross Validation  :  [0.86873781 0.87329013 0.87219027]\n",
            "f1 score - Mean - Cross Validation :  0.8714060729409018\n",
            "f1 score - Std - Cross Validation  :  0.0019394366057171363\n",
            "f1 score - Range of Test-Set       :  0.8694666363351846 - 0.8733455095466189\n"
          ]
        }
      ],
      "source": [
        "svm_train_cross_val = cross_val_score(model_svm, \n",
        "                                      X_train_final, \n",
        "                                      y_train_new, \n",
        "                                      cv=3, scoring=\"f1_weighted\")\n",
        "\n",
        "print('f1 score - All - Cross Validation  : ', svm_train_cross_val)\n",
        "print('f1 score - Mean - Cross Validation : ', svm_train_cross_val.mean())\n",
        "print('f1 score - Std - Cross Validation  : ', svm_train_cross_val.std())\n",
        "print('f1 score - Range of Test-Set       : ', (svm_train_cross_val.mean()-svm_train_cross_val.std()) , '-', (svm_train_cross_val.mean()+svm_train_cross_val.std()))"
      ]
    },
    {
      "cell_type": "code",
      "execution_count": 98,
      "metadata": {},
      "outputs": [
        {
          "name": "stdout",
          "output_type": "stream",
          "text": [
            "Error - Train :                precision    recall  f1-score   support\n",
            "\n",
            "           0       0.91      0.99      0.94     29216\n",
            "           1       0.67      0.19      0.30      3724\n",
            "\n",
            "    accuracy                           0.90     32940\n",
            "   macro avg       0.79      0.59      0.62     32940\n",
            "weighted avg       0.88      0.90      0.87     32940\n",
            "\n",
            "Error - Test  :                precision    recall  f1-score   support\n",
            "\n",
            "           0       0.95      0.75      0.84      7324\n",
            "           1       0.25      0.65      0.36       912\n",
            "\n",
            "    accuracy                           0.74      8236\n",
            "   macro avg       0.60      0.70      0.60      8236\n",
            "weighted avg       0.87      0.74      0.78      8236\n",
            "\n"
          ]
        }
      ],
      "source": [
        "print('Error - Train : ', classification_report(y_train_new, y_pred_train_svm))\n",
        "print('Error - Test  : ', classification_report(y_test, y_pred_test_svm))"
      ]
    },
    {
      "cell_type": "code",
      "execution_count": 99,
      "metadata": {},
      "outputs": [
        {
          "name": "stdout",
          "output_type": "stream",
          "text": [
            "f1-score Train-set : 0.8715084109770664\n",
            "f1-score Test-set: 0.7835098305863256\n",
            "f1-score - Range of Test-Set :  0.8694666363351846 - 0.8733455095466189\n"
          ]
        }
      ],
      "source": [
        "print('f1-score Train-set :', f1_score(y_train_new, y_pred_train_svm, average='weighted'))\n",
        "print('f1-score Test-set:', f1_score(y_test, y_pred_test_svm, average='weighted'))\n",
        "print('f1-score - Range of Test-Set : ', (svm_train_cross_val.mean()-svm_train_cross_val.std()) , '-', (svm_train_cross_val.mean()+svm_train_cross_val.std()))"
      ]
    },
    {
      "cell_type": "markdown",
      "metadata": {},
      "source": [
        "### Decission Tree"
      ]
    },
    {
      "cell_type": "code",
      "execution_count": 100,
      "metadata": {},
      "outputs": [
        {
          "name": "stdout",
          "output_type": "stream",
          "text": [
            "f1 score - All - Cross Validation  :  [0.85878868 0.85927245 0.85915652]\n",
            "f1 score - Mean - Cross Validation :  0.8590725480472954\n",
            "f1 score - Std - Cross Validation  :  0.0002062292982784155\n",
            "f1 score - Range of Test-Set       :  0.858866318749017 - 0.8592787773455738\n"
          ]
        }
      ],
      "source": [
        "dt_train_cross_val = cross_val_score(model_dt, \n",
        "                                      X_train_final, \n",
        "                                      y_train_new, \n",
        "                                      cv=3, scoring=\"f1_weighted\")\n",
        "\n",
        "print('f1 score - All - Cross Validation  : ', dt_train_cross_val)\n",
        "print('f1 score - Mean - Cross Validation : ', dt_train_cross_val.mean())\n",
        "print('f1 score - Std - Cross Validation  : ', dt_train_cross_val.std())\n",
        "print('f1 score - Range of Test-Set       : ', (dt_train_cross_val.mean()-dt_train_cross_val.std()) , '-', (dt_train_cross_val.mean()+dt_train_cross_val.std()))"
      ]
    },
    {
      "cell_type": "code",
      "execution_count": 101,
      "metadata": {},
      "outputs": [
        {
          "name": "stdout",
          "output_type": "stream",
          "text": [
            "Error - Train :                precision    recall  f1-score   support\n",
            "\n",
            "           0       0.95      1.00      0.98     29216\n",
            "           1       0.98      0.62      0.76      3724\n",
            "\n",
            "    accuracy                           0.96     32940\n",
            "   macro avg       0.97      0.81      0.87     32940\n",
            "weighted avg       0.96      0.96      0.95     32940\n",
            "\n",
            "Error - Test  :                precision    recall  f1-score   support\n",
            "\n",
            "           0       0.92      0.86      0.89      7324\n",
            "           1       0.26      0.38      0.31       912\n",
            "\n",
            "    accuracy                           0.81      8236\n",
            "   macro avg       0.59      0.62      0.60      8236\n",
            "weighted avg       0.84      0.81      0.82      8236\n",
            "\n"
          ]
        }
      ],
      "source": [
        "print('Error - Train : ', classification_report(y_train_new, y_pred_train_dt))\n",
        "print('Error - Test  : ', classification_report(y_test, y_pred_test_dt))"
      ]
    },
    {
      "cell_type": "code",
      "execution_count": 102,
      "metadata": {},
      "outputs": [
        {
          "name": "stdout",
          "output_type": "stream",
          "text": [
            "f1-score Train-set : 0.9507130725920957\n",
            "f1-score Test-set: 0.8241544093071002\n",
            "f1-score - Range of Test-Set :  0.858866318749017 - 0.8592787773455738\n"
          ]
        }
      ],
      "source": [
        "print('f1-score Train-set :', f1_score(y_train_new, y_pred_train_dt, average='weighted'))\n",
        "print('f1-score Test-set:', f1_score(y_test, y_pred_test_dt, average='weighted'))\n",
        "print('f1-score - Range of Test-Set : ', (dt_train_cross_val.mean()-dt_train_cross_val.std()) , '-', (dt_train_cross_val.mean()+dt_train_cross_val.std()))"
      ]
    },
    {
      "cell_type": "markdown",
      "metadata": {},
      "source": [
        "### Random Forest"
      ]
    },
    {
      "cell_type": "code",
      "execution_count": 103,
      "metadata": {},
      "outputs": [
        {
          "name": "stdout",
          "output_type": "stream",
          "text": [
            "f1 score - All - Cross Validation  :  [0.86776062 0.8680764  0.86737325]\n",
            "f1 score - Mean - Cross Validation :  0.8677367579992782\n",
            "f1 score - Std - Cross Validation  :  0.00028755656426306364\n",
            "f1 score - Range of Test-Set       :  0.8674492014350151 - 0.8680243145635412\n"
          ]
        }
      ],
      "source": [
        "rf_train_cross_val = cross_val_score(model_rf, \n",
        "                                      X_train_final, \n",
        "                                      y_train_new, \n",
        "                                      cv=3, scoring=\"f1_weighted\")\n",
        "\n",
        "print('f1 score - All - Cross Validation  : ', rf_train_cross_val)\n",
        "print('f1 score - Mean - Cross Validation : ', rf_train_cross_val.mean())\n",
        "print('f1 score - Std - Cross Validation  : ', rf_train_cross_val.std())\n",
        "print('f1 score - Range of Test-Set       : ', (rf_train_cross_val.mean()-rf_train_cross_val.std()) , '-', (rf_train_cross_val.mean()+rf_train_cross_val.std()))"
      ]
    },
    {
      "cell_type": "code",
      "execution_count": 104,
      "metadata": {},
      "outputs": [
        {
          "name": "stdout",
          "output_type": "stream",
          "text": [
            "Error - Train :                precision    recall  f1-score   support\n",
            "\n",
            "           0       0.96      0.99      0.98     29216\n",
            "           1       0.94      0.65      0.77      3724\n",
            "\n",
            "    accuracy                           0.96     32940\n",
            "   macro avg       0.95      0.82      0.87     32940\n",
            "weighted avg       0.95      0.96      0.95     32940\n",
            "\n",
            "Error - Test  :                precision    recall  f1-score   support\n",
            "\n",
            "           0       0.92      0.95      0.93      7324\n",
            "           1       0.44      0.33      0.38       912\n",
            "\n",
            "    accuracy                           0.88      8236\n",
            "   macro avg       0.68      0.64      0.65      8236\n",
            "weighted avg       0.87      0.88      0.87      8236\n",
            "\n"
          ]
        }
      ],
      "source": [
        "print('Error - Train : ', classification_report(y_train_new, y_pred_train_rf))\n",
        "print('Error - Test  : ', classification_report(y_test, y_pred_test_rf))"
      ]
    },
    {
      "cell_type": "code",
      "execution_count": 105,
      "metadata": {},
      "outputs": [
        {
          "name": "stdout",
          "output_type": "stream",
          "text": [
            "f1-score Train-set : 0.9515676678172958\n",
            "f1-score Test-set: 0.8717484510943574\n",
            "f1-score - Range of Test-Set :  0.8674492014350151 - 0.8680243145635412\n"
          ]
        }
      ],
      "source": [
        "print('f1-score Train-set :', f1_score(y_train_new, y_pred_train_rf, average='weighted'))\n",
        "print('f1-score Test-set:', f1_score(y_test, y_pred_test_rf, average='weighted'))\n",
        "print('f1-score - Range of Test-Set : ', (rf_train_cross_val.mean()-rf_train_cross_val.std()) , '-', (rf_train_cross_val.mean()+rf_train_cross_val.std()))"
      ]
    },
    {
      "cell_type": "markdown",
      "metadata": {},
      "source": [
        "### KNN"
      ]
    },
    {
      "cell_type": "code",
      "execution_count": 106,
      "metadata": {},
      "outputs": [
        {
          "name": "stdout",
          "output_type": "stream",
          "text": [
            "f1 score - All - Cross Validation  :  [0.87035121 0.87333013 0.86840771]\n",
            "f1 score - Mean - Cross Validation :  0.8706963527394559\n",
            "f1 score - Std - Cross Validation  :  0.0020243334862800454\n",
            "f1 score - Range of Test-Set       :  0.8686720192531758 - 0.872720686225736\n"
          ]
        }
      ],
      "source": [
        "knn_train_cross_val = cross_val_score(model_knn, \n",
        "                                      X_train_final, \n",
        "                                      y_train_new, \n",
        "                                      cv=3, scoring=\"f1_weighted\")\n",
        "\n",
        "print('f1 score - All - Cross Validation  : ', knn_train_cross_val)\n",
        "print('f1 score - Mean - Cross Validation : ', knn_train_cross_val.mean())\n",
        "print('f1 score - Std - Cross Validation  : ', knn_train_cross_val.std())\n",
        "print('f1 score - Range of Test-Set       : ', (knn_train_cross_val.mean()-knn_train_cross_val.std()) , '-', (knn_train_cross_val.mean()+knn_train_cross_val.std()))"
      ]
    },
    {
      "cell_type": "code",
      "execution_count": 107,
      "metadata": {},
      "outputs": [
        {
          "name": "stdout",
          "output_type": "stream",
          "text": [
            "Error - Train :                precision    recall  f1-score   support\n",
            "\n",
            "           0       0.92      0.98      0.95     29216\n",
            "           1       0.72      0.35      0.47      3724\n",
            "\n",
            "    accuracy                           0.91     32940\n",
            "   macro avg       0.82      0.67      0.71     32940\n",
            "weighted avg       0.90      0.91      0.90     32940\n",
            "\n",
            "Error - Test  :                precision    recall  f1-score   support\n",
            "\n",
            "           0       0.93      0.91      0.92      7324\n",
            "           1       0.36      0.41      0.39       912\n",
            "\n",
            "    accuracy                           0.85      8236\n",
            "   macro avg       0.64      0.66      0.65      8236\n",
            "weighted avg       0.86      0.85      0.86      8236\n",
            "\n"
          ]
        }
      ],
      "source": [
        "print('Error - Train : ', classification_report(y_train_new, y_pred_train_knn))\n",
        "print('Error - Test  : ', classification_report(y_test, y_pred_test_knn))"
      ]
    },
    {
      "cell_type": "code",
      "execution_count": 108,
      "metadata": {},
      "outputs": [
        {
          "name": "stdout",
          "output_type": "stream",
          "text": [
            "f1-score Train-set : 0.8970697849523818\n",
            "f1-score Test-set: 0.858199338600894\n",
            "f1-score - Range of Test-Set :  0.8686720192531758 - 0.872720686225736\n"
          ]
        }
      ],
      "source": [
        "print('f1-score Train-set :', f1_score(y_train_new, y_pred_train_knn, average='weighted'))\n",
        "print('f1-score Test-set:', f1_score(y_test, y_pred_test_knn, average='weighted'))\n",
        "print('f1-score - Range of Test-Set : ', (knn_train_cross_val.mean()-knn_train_cross_val.std()) , '-', (knn_train_cross_val.mean()+knn_train_cross_val.std()))"
      ]
    },
    {
      "cell_type": "markdown",
      "metadata": {},
      "source": [
        "### Naive Bayes"
      ]
    },
    {
      "cell_type": "code",
      "execution_count": 109,
      "metadata": {},
      "outputs": [
        {
          "name": "stdout",
          "output_type": "stream",
          "text": [
            "f1 score - All - Cross Validation  :  [0.84090848 0.83866205 0.83261969]\n",
            "f1 score - Mean - Cross Validation :  0.8373967391953623\n",
            "f1 score - Std - Cross Validation  :  0.0035001711081076325\n",
            "f1 score - Range of Test-Set       :  0.8338965680872547 - 0.8408969103034699\n"
          ]
        }
      ],
      "source": [
        "nb_train_cross_val = cross_val_score(model_nb, \n",
        "                                      X_train_final, \n",
        "                                      y_train_new, \n",
        "                                      cv=3, scoring=\"f1_weighted\")\n",
        "\n",
        "print('f1 score - All - Cross Validation  : ', nb_train_cross_val)\n",
        "print('f1 score - Mean - Cross Validation : ', nb_train_cross_val.mean())\n",
        "print('f1 score - Std - Cross Validation  : ', nb_train_cross_val.std())\n",
        "print('f1 score - Range of Test-Set       : ', (nb_train_cross_val.mean()-nb_train_cross_val.std()) , '-', (nb_train_cross_val.mean()+nb_train_cross_val.std()))"
      ]
    },
    {
      "cell_type": "code",
      "execution_count": 110,
      "metadata": {},
      "outputs": [
        {
          "name": "stdout",
          "output_type": "stream",
          "text": [
            "Error - Train :                precision    recall  f1-score   support\n",
            "\n",
            "           0       0.93      0.86      0.89     29216\n",
            "           1       0.31      0.49      0.38      3724\n",
            "\n",
            "    accuracy                           0.82     32940\n",
            "   macro avg       0.62      0.68      0.64     32940\n",
            "weighted avg       0.86      0.82      0.84     32940\n",
            "\n",
            "Error - Test  :                precision    recall  f1-score   support\n",
            "\n",
            "           0       0.94      0.05      0.09      7324\n",
            "           1       0.11      0.97      0.20       912\n",
            "\n",
            "    accuracy                           0.15      8236\n",
            "   macro avg       0.53      0.51      0.15      8236\n",
            "weighted avg       0.85      0.15      0.11      8236\n",
            "\n"
          ]
        }
      ],
      "source": [
        "print('Error - Train : ', classification_report(y_train_new, y_pred_train_nb))\n",
        "print('Error - Test  : ', classification_report(y_test, y_pred_test_nb))"
      ]
    },
    {
      "cell_type": "code",
      "execution_count": 111,
      "metadata": {},
      "outputs": [
        {
          "name": "stdout",
          "output_type": "stream",
          "text": [
            "f1-score Train-set : 0.8367841846212773\n",
            "f1-score Test-set: 0.10665124707283048\n",
            "f1-score - Range of Test-Set :  0.8338965680872547 - 0.8408969103034699\n"
          ]
        }
      ],
      "source": [
        "print('f1-score Train-set :', f1_score(y_train_new, y_pred_train_nb, average='weighted')) \n",
        "print('f1-score Test-set:', f1_score(y_test, y_pred_test_nb, average='weighted'))\n",
        "print('f1-score - Range of Test-Set : ', (nb_train_cross_val.mean()-nb_train_cross_val.std()) , '-', (nb_train_cross_val.mean()+nb_train_cross_val.std()))"
      ]
    },
    {
      "cell_type": "markdown",
      "metadata": {},
      "source": [
        "### XGBoost"
      ]
    },
    {
      "cell_type": "code",
      "execution_count": 112,
      "metadata": {},
      "outputs": [
        {
          "name": "stdout",
          "output_type": "stream",
          "text": [
            "f1 score - All - Cross Validation  :  [0.87455428 0.87651759 0.87697996]\n",
            "f1 score - Mean - Cross Validation :  0.876017276082541\n",
            "f1 score - Std - Cross Validation  :  0.001051575817002768\n",
            "f1 score - Range of Test-Set       :  0.8749657002655382 - 0.8770688518995438\n"
          ]
        }
      ],
      "source": [
        "xgb_train_cross_val = cross_val_score(model_xgb, \n",
        "                                      X_train_final, \n",
        "                                      y_train_new, \n",
        "                                      cv=3, scoring=\"f1_weighted\")\n",
        "\n",
        "print('f1 score - All - Cross Validation  : ', xgb_train_cross_val)\n",
        "print('f1 score - Mean - Cross Validation : ', xgb_train_cross_val.mean())\n",
        "print('f1 score - Std - Cross Validation  : ', xgb_train_cross_val.std())\n",
        "print('f1 score - Range of Test-Set       : ', (xgb_train_cross_val.mean()-xgb_train_cross_val.std()) , '-', (xgb_train_cross_val.mean()+xgb_train_cross_val.std()))"
      ]
    },
    {
      "cell_type": "code",
      "execution_count": 113,
      "metadata": {},
      "outputs": [
        {
          "name": "stdout",
          "output_type": "stream",
          "text": [
            "Error - Train :                precision    recall  f1-score   support\n",
            "\n",
            "           0       0.92      0.99      0.96     29216\n",
            "           1       0.84      0.36      0.50      3724\n",
            "\n",
            "    accuracy                           0.92     32940\n",
            "   macro avg       0.88      0.68      0.73     32940\n",
            "weighted avg       0.91      0.92      0.91     32940\n",
            "\n",
            "Error - Test  :                precision    recall  f1-score   support\n",
            "\n",
            "           0       0.93      0.93      0.93      7324\n",
            "           1       0.44      0.44      0.44       912\n",
            "\n",
            "    accuracy                           0.88      8236\n",
            "   macro avg       0.69      0.69      0.69      8236\n",
            "weighted avg       0.88      0.88      0.88      8236\n",
            "\n"
          ]
        }
      ],
      "source": [
        "print('Error - Train : ', classification_report(y_train_new, y_pred_train_xgb))\n",
        "print('Error - Test  : ', classification_report(y_test, y_pred_test_xgb))"
      ]
    },
    {
      "cell_type": "code",
      "execution_count": 114,
      "metadata": {},
      "outputs": [
        {
          "name": "stdout",
          "output_type": "stream",
          "text": [
            "f1-score Train-set : 0.9050759141398964\n",
            "f1-score Test-set: 0.8767634926449885\n",
            "f1-score - Range of Test-Set :  0.8749657002655382 - 0.8770688518995438\n"
          ]
        }
      ],
      "source": [
        "print('f1-score Train-set :', f1_score(y_train_new, y_pred_train_xgb, average='weighted'))\n",
        "print('f1-score Test-set:', f1_score(y_test, y_pred_test_xgb, average='weighted'))\n",
        "print('f1-score - Range of Test-Set : ', (xgb_train_cross_val.mean()-xgb_train_cross_val.std()) , '-', (xgb_train_cross_val.mean()+xgb_train_cross_val.std()))"
      ]
    },
    {
      "cell_type": "code",
      "execution_count": 137,
      "metadata": {},
      "outputs": [
        {
          "name": "stdout",
          "output_type": "stream",
          "text": [
            "f1 score - Train Set  :  0.8711182478963215 \n",
            "\n",
            "Classification Report : \n",
            "               precision    recall  f1-score   support\n",
            "\n",
            "           0       0.90      0.99      0.95     29216\n",
            "           1       0.70      0.18      0.29      3724\n",
            "\n",
            "    accuracy                           0.90     32940\n",
            "   macro avg       0.80      0.59      0.62     32940\n",
            "weighted avg       0.88      0.90      0.87     32940\n",
            " \n",
            "\n",
            "Confusion Matrix      : \n",
            " <sklearn.metrics._plot.confusion_matrix.ConfusionMatrixDisplay object at 0x0000021E4334F460>\n"
          ]
        },
        {
          "data": {
            "image/png": "[encoded data removed]",
            "text/plain": [
              "<Figure size 432x288 with 2 Axes>"
            ]
          },
          "metadata": {
            "needs_background": "light"
          },
          "output_type": "display_data"
        }
      ],
      "source": [
        "# Check Performance Model against Train-Set \n",
        "\n",
        "y_pred_train_log = model_log_reg.predict(X_train_final)\n",
        "\n",
        "print('f1 score - Train Set  : ', f1_score(y_train_new, y_pred_train_log, average= 'weighted'), '\\n')\n",
        "print('Classification Report : \\n', classification_report(y_train_new, y_pred_train_log), '\\n')\n",
        "print('Confusion Matrix      : \\n', ConfusionMatrixDisplay.from_estimator(model_log_reg, X_train_final, y_train_new, cmap='Reds'))"
      ]
    },
    {
      "cell_type": "code",
      "execution_count": 136,
      "metadata": {},
      "outputs": [
        {
          "name": "stdout",
          "output_type": "stream",
          "text": [
            "f1 score - Train Set  :  0.8715084109770664 \n",
            "\n",
            "Classification Report : \n",
            "               precision    recall  f1-score   support\n",
            "\n",
            "           0       0.91      0.99      0.94     29216\n",
            "           1       0.67      0.19      0.30      3724\n",
            "\n",
            "    accuracy                           0.90     32940\n",
            "   macro avg       0.79      0.59      0.62     32940\n",
            "weighted avg       0.88      0.90      0.87     32940\n",
            " \n",
            "\n",
            "Confusion Matrix      : \n",
            " <sklearn.metrics._plot.confusion_matrix.ConfusionMatrixDisplay object at 0x0000021E42058AF0>\n"
          ]
        },
        {
          "data": {
            "image/png": "[encoded data removed]",
            "text/plain": [
              "<Figure size 432x288 with 2 Axes>"
            ]
          },
          "metadata": {
            "needs_background": "light"
          },
          "output_type": "display_data"
        }
      ],
      "source": [
        "y_pred_train_svm = model_svm.predict(X_train_final)\n",
        "\n",
        "print('f1 score - Train Set  : ', f1_score(y_train_new, y_pred_train_svm, average= 'weighted'), '\\n')\n",
        "print('Classification Report : \\n', classification_report(y_train_new, y_pred_train_svm), '\\n')\n",
        "print('Confusion Matrix      : \\n', ConfusionMatrixDisplay.from_estimator(model_svm, X_train_final, y_train_new, cmap='Reds'))"
      ]
    },
    {
      "cell_type": "code",
      "execution_count": 135,
      "metadata": {},
      "outputs": [
        {
          "name": "stdout",
          "output_type": "stream",
          "text": [
            "f1 score - Train Set  :  0.9507130725920957 \n",
            "\n",
            "Classification Report : \n",
            "               precision    recall  f1-score   support\n",
            "\n",
            "           0       0.95      1.00      0.98     29216\n",
            "           1       0.98      0.62      0.76      3724\n",
            "\n",
            "    accuracy                           0.96     32940\n",
            "   macro avg       0.97      0.81      0.87     32940\n",
            "weighted avg       0.96      0.96      0.95     32940\n",
            " \n",
            "\n",
            "Confusion Matrix      : \n",
            " <sklearn.metrics._plot.confusion_matrix.ConfusionMatrixDisplay object at 0x0000021E42055820>\n"
          ]
        },
        {
          "data": {
            "image/png": "[encoded data removed]",
            "text/plain": [
              "<Figure size 432x288 with 2 Axes>"
            ]
          },
          "metadata": {
            "needs_background": "light"
          },
          "output_type": "display_data"
        }
      ],
      "source": [
        "y_pred_train_dt = model_dt.predict(X_train_final)\n",
        "\n",
        "print('f1 score - Train Set  : ', f1_score(y_train_new, y_pred_train_dt, average= 'weighted'), '\\n')\n",
        "print('Classification Report : \\n', classification_report(y_train_new, y_pred_train_dt), '\\n')\n",
        "print('Confusion Matrix      : \\n', ConfusionMatrixDisplay.from_estimator(model_dt, X_train_final, y_train_new, cmap='Reds'))"
      ]
    },
    {
      "cell_type": "code",
      "execution_count": 134,
      "metadata": {},
      "outputs": [
        {
          "name": "stdout",
          "output_type": "stream",
          "text": [
            "f1 score - Train Set  :  0.9515676678172958 \n",
            "\n",
            "Classification Report : \n",
            "               precision    recall  f1-score   support\n",
            "\n",
            "           0       0.96      0.99      0.98     29216\n",
            "           1       0.94      0.65      0.77      3724\n",
            "\n",
            "    accuracy                           0.96     32940\n",
            "   macro avg       0.95      0.82      0.87     32940\n",
            "weighted avg       0.95      0.96      0.95     32940\n",
            " \n",
            "\n",
            "Confusion Matrix      : \n",
            " <sklearn.metrics._plot.confusion_matrix.ConfusionMatrixDisplay object at 0x0000021E41E89A00>\n"
          ]
        },
        {
          "data": {
            "image/png": "[encoded data removed]",
            "text/plain": [
              "<Figure size 432x288 with 2 Axes>"
            ]
          },
          "metadata": {
            "needs_background": "light"
          },
          "output_type": "display_data"
        }
      ],
      "source": [
        "y_pred_train_rf = model_rf.predict(X_train_final)\n",
        "\n",
        "print('f1 score - Train Set  : ', f1_score(y_train_new, y_pred_train_rf, average= 'weighted'), '\\n')\n",
        "print('Classification Report : \\n', classification_report(y_train_new, y_pred_train_rf), '\\n')\n",
        "print('Confusion Matrix      : \\n', ConfusionMatrixDisplay.from_estimator(model_rf, X_train_final, y_train_new, cmap='Reds'))"
      ]
    },
    {
      "cell_type": "code",
      "execution_count": 119,
      "metadata": {},
      "outputs": [
        {
          "name": "stdout",
          "output_type": "stream",
          "text": [
            "f1 score - Train Set  :  0.8970697849523818 \n",
            "\n",
            "Classification Report : \n",
            "               precision    recall  f1-score   support\n",
            "\n",
            "           0       0.92      0.98      0.95     29216\n",
            "           1       0.72      0.35      0.47      3724\n",
            "\n",
            "    accuracy                           0.91     32940\n",
            "   macro avg       0.82      0.67      0.71     32940\n",
            "weighted avg       0.90      0.91      0.90     32940\n",
            " \n",
            "\n",
            "Confusion Matrix      : \n",
            " <sklearn.metrics._plot.confusion_matrix.ConfusionMatrixDisplay object at 0x0000021E420A9550>\n"
          ]
        },
        {
          "data": {
            "image/png": "[encoded data removed]",
            "text/plain": [
              "<Figure size 432x288 with 2 Axes>"
            ]
          },
          "metadata": {
            "needs_background": "light"
          },
          "output_type": "display_data"
        }
      ],
      "source": [
        "y_pred_train_knn = model_knn.predict(X_train_final)\n",
        "\n",
        "print('f1 score - Train Set  : ', f1_score(y_train_new, y_pred_train_knn, average= 'weighted'), '\\n')\n",
        "print('Classification Report : \\n', classification_report(y_train_new, y_pred_train_knn), '\\n')\n",
        "print('Confusion Matrix      : \\n', ConfusionMatrixDisplay.from_estimator(model_knn, X_train_final, y_train_new, cmap='Reds'))"
      ]
    },
    {
      "cell_type": "code",
      "execution_count": 120,
      "metadata": {},
      "outputs": [
        {
          "name": "stdout",
          "output_type": "stream",
          "text": [
            "f1 score- Train Set  :  0.8367841846212773 \n",
            "\n",
            "Classification Report : \n",
            "               precision    recall  f1-score   support\n",
            "\n",
            "           0       0.93      0.86      0.89     29216\n",
            "           1       0.31      0.49      0.38      3724\n",
            "\n",
            "    accuracy                           0.82     32940\n",
            "   macro avg       0.62      0.68      0.64     32940\n",
            "weighted avg       0.86      0.82      0.84     32940\n",
            " \n",
            "\n",
            "Confusion Matrix      : \n",
            " <sklearn.metrics._plot.confusion_matrix.ConfusionMatrixDisplay object at 0x0000021E4203D580>\n"
          ]
        },
        {
          "data": {
            "image/png": "[encoded data removed]",
            "text/plain": [
              "<Figure size 432x288 with 2 Axes>"
            ]
          },
          "metadata": {
            "needs_background": "light"
          },
          "output_type": "display_data"
        }
      ],
      "source": [
        "y_pred_train_nb = model_nb.predict(X_train_final)\n",
        "\n",
        "print('f1 score- Train Set  : ', f1_score(y_train_new, y_pred_train_nb, average= 'weighted'), '\\n')\n",
        "print('Classification Report : \\n', classification_report(y_train_new, y_pred_train_nb), '\\n')\n",
        "print('Confusion Matrix      : \\n', ConfusionMatrixDisplay.from_estimator(model_nb, X_train_final, y_train_new, cmap='Reds'))"
      ]
    },
    {
      "cell_type": "code",
      "execution_count": 121,
      "metadata": {},
      "outputs": [
        {
          "name": "stdout",
          "output_type": "stream",
          "text": [
            "f1 score - Train Set  :  0.9050759141398964 \n",
            "\n",
            "Classification Report : \n",
            "               precision    recall  f1-score   support\n",
            "\n",
            "           0       0.92      0.99      0.96     29216\n",
            "           1       0.84      0.36      0.50      3724\n",
            "\n",
            "    accuracy                           0.92     32940\n",
            "   macro avg       0.88      0.68      0.73     32940\n",
            "weighted avg       0.91      0.92      0.91     32940\n",
            " \n",
            "\n",
            "Confusion Matrix      : \n",
            " <sklearn.metrics._plot.confusion_matrix.ConfusionMatrixDisplay object at 0x0000021E441A9550>\n"
          ]
        },
        {
          "data": {
            "image/png": "[encoded data removed]",
            "text/plain": [
              "<Figure size 432x288 with 2 Axes>"
            ]
          },
          "metadata": {
            "needs_background": "light"
          },
          "output_type": "display_data"
        }
      ],
      "source": [
        "y_pred_train_xgb = model_xgb.predict(X_train_final)\n",
        "\n",
        "print('f1 score - Train Set  : ', f1_score(y_train_new, y_pred_train_xgb, average= 'weighted'), '\\n')\n",
        "print('Classification Report : \\n', classification_report(y_train_new, y_pred_train_xgb), '\\n')\n",
        "print('Confusion Matrix      : \\n', ConfusionMatrixDisplay.from_estimator(model_xgb, X_train_final, y_train_new, cmap='Reds'))"
      ]
    },
    {
      "cell_type": "markdown",
      "metadata": {},
      "source": [
        "### Hyperparameter tunning"
      ]
    },
    {
      "cell_type": "code",
      "execution_count": 138,
      "metadata": {},
      "outputs": [
        {
          "data": {
            "text/plain": [
              "['objective', 'use_label_encoder']"
            ]
          },
          "execution_count": 138,
          "metadata": {},
          "output_type": "execute_result"
        }
      ],
      "source": [
        "XGBClassifier._get_param_names()"
      ]
    },
    {
      "cell_type": "code",
      "execution_count": 148,
      "metadata": {},
      "outputs": [
        {
          "name": "stdout",
          "output_type": "stream",
          "text": [
            "Fitting 3 folds for each of 324 candidates, totalling 972 fits\n"
          ]
        },
        {
          "data": {
            "text/plain": [
              "GridSearchCV(cv=3,\n",
              "             estimator=XGBClassifier(base_score=None, booster=None,\n",
              "                                     callbacks=None, colsample_bylevel=None,\n",
              "                                     colsample_bynode=None,\n",
              "                                     colsample_bytree=None,\n",
              "                                     early_stopping_rounds=None,\n",
              "                                     enable_categorical=False, eval_metric=None,\n",
              "                                     gamma=None, gpu_id=None, grow_policy=None,\n",
              "                                     importance_type=None,\n",
              "                                     interaction_constraints=None,\n",
              "                                     learning_rate=None, max_bin=None,\n",
              "                                     max_ca...\n",
              "                                     max_leaves=None, min_child_weight=None,\n",
              "                                     missing=nan, monotone_constraints=None,\n",
              "                                     n_estimators=100, n_jobs=None,\n",
              "                                     num_parallel_tree=None, predictor=None,\n",
              "                                     random_state=None, reg_alpha=None,\n",
              "                                     reg_lambda=None, ...),\n",
              "             n_jobs=-1,\n",
              "             param_grid={'colsample_bytree': [0.6, 0.8, 1.0],\n",
              "                         'gamma': [0.5, 1, 1.5, 2], 'max_depth': [3, 4, 5],\n",
              "                         'min_child_weight': [1, 5, 10],\n",
              "                         'subsample': [0.6, 0.8, 1.0]},\n",
              "             verbose=2)"
            ]
          },
          "execution_count": 148,
          "metadata": {},
          "output_type": "execute_result"
        }
      ],
      "source": [
        "param_grid = {\n",
        "        'min_child_weight': [1, 5, 10],\n",
        "        'gamma': [0.5, 1, 1.5, 2],\n",
        "        'subsample': [0.6, 0.8, 1.0],\n",
        "        'colsample_bytree': [0.6, 0.8, 1.0],\n",
        "        'max_depth': [3, 4, 5]\n",
        "        }\n",
        "\n",
        "xgboost_gridcv = GridSearchCV(estimator=XGBClassifier(),\n",
        "                         param_grid=param_grid,\n",
        "                         cv=3,\n",
        "                         n_jobs=-1,\n",
        "                         verbose=2)\n",
        "\n",
        "xgboost_gridcv.fit(X_train_final, y_train_new)"
      ]
    },
    {
      "cell_type": "code",
      "execution_count": 149,
      "metadata": {},
      "outputs": [
        {
          "data": {
            "text/plain": [
              "{'colsample_bytree': 1.0,\n",
              " 'gamma': 2,\n",
              " 'max_depth': 4,\n",
              " 'min_child_weight': 5,\n",
              " 'subsample': 1.0}"
            ]
          },
          "execution_count": 149,
          "metadata": {},
          "output_type": "execute_result"
        }
      ],
      "source": [
        "# Get Best Hyperparameters\n",
        "\n",
        "xgboost_gridcv.best_params_"
      ]
    },
    {
      "cell_type": "code",
      "execution_count": 150,
      "metadata": {},
      "outputs": [],
      "source": [
        "# Get Best Estimator\n",
        "\n",
        "xgboost_gridcv_best = xgboost_gridcv.best_estimator_"
      ]
    },
    {
      "cell_type": "code",
      "execution_count": 151,
      "metadata": {},
      "outputs": [],
      "source": [
        "# Check Performance Model against Test-Set\n",
        "\n",
        "y_pred_test_xgboost_best = xgboost_gridcv_best.predict(X_test_final)"
      ]
    },
    {
      "cell_type": "code",
      "execution_count": 152,
      "metadata": {},
      "outputs": [
        {
          "name": "stdout",
          "output_type": "stream",
          "text": [
            "f1-score - Test-set before tunning   :  0.8767634926449885 \n",
            "\n",
            "f1 score - Test Set after tunning    :  0.8784292238832064 \n",
            "\n",
            "Classification Report : \n",
            "               precision    recall  f1-score   support\n",
            "\n",
            "           0       0.93      0.94      0.93      7324\n",
            "           1       0.45      0.43      0.44       912\n",
            "\n",
            "    accuracy                           0.88      8236\n",
            "   macro avg       0.69      0.68      0.69      8236\n",
            "weighted avg       0.88      0.88      0.88      8236\n",
            " \n",
            "\n",
            "Confusion Matrix      : \n",
            " <sklearn.metrics._plot.confusion_matrix.ConfusionMatrixDisplay object at 0x0000021E420919D0>\n"
          ]
        },
        {
          "data": {
            "image/png": "[encoded data removed]",
            "text/plain": [
              "<Figure size 432x288 with 2 Axes>"
            ]
          },
          "metadata": {
            "needs_background": "light"
          },
          "output_type": "display_data"
        }
      ],
      "source": [
        "print('f1-score - Test-set before tunning   : ', f1_score(y_test, y_pred_test_xgb, average='weighted'), '\\n')\n",
        "print('f1 score - Test Set after tunning    : ', f1_score(y_test, y_pred_test_xgboost_best, average= 'weighted'), '\\n')\n",
        "print('Classification Report : \\n', classification_report(y_test, y_pred_test_xgboost_best), '\\n')\n",
        "print('Confusion Matrix      : \\n', ConfusionMatrixDisplay.from_estimator(xgboost_gridcv_best, X_test_final, y_test, cmap='Reds'))"
      ]
    },
    {
      "cell_type": "markdown",
      "metadata": {
        "id": "RWJ6uKfPhH8B"
      },
      "source": [
        "# Model Inference"
      ]
    },
    {
      "cell_type": "code",
      "execution_count": 153,
      "metadata": {
        "colab": {
          "base_uri": "https://localhost:8080/",
          "height": 461
        },
        "id": "M7GJPfKAhLVo",
        "outputId": "9452f235-2a88-4354-9ee4-6843cb7775c6"
      },
      "outputs": [
        {
          "data": {
            "text/html": [
              "<div>\n",
              "<style scoped>\n",
              "    .dataframe tbody tr th:only-of-type {\n",
              "        vertical-align: middle;\n",
              "    }\n",
              "\n",
              "    .dataframe tbody tr th {\n",
              "        vertical-align: top;\n",
              "    }\n",
              "\n",
              "    .dataframe thead th {\n",
              "        text-align: right;\n",
              "    }\n",
              "</style>\n",
              "<table border=\"1\" class=\"dataframe\">\n",
              "  <thead>\n",
              "    <tr style=\"text-align: right;\">\n",
              "      <th></th>\n",
              "      <th>age</th>\n",
              "      <th>job</th>\n",
              "      <th>marital</th>\n",
              "      <th>education</th>\n",
              "      <th>default</th>\n",
              "      <th>housing</th>\n",
              "      <th>loan</th>\n",
              "      <th>contact</th>\n",
              "      <th>month</th>\n",
              "      <th>day_of_week</th>\n",
              "      <th>campaign</th>\n",
              "      <th>previous</th>\n",
              "      <th>poutcome</th>\n",
              "      <th>emp.var.rate</th>\n",
              "      <th>cons.price.idx</th>\n",
              "      <th>cons.conf.idx</th>\n",
              "      <th>euribor3m</th>\n",
              "      <th>nr.employed</th>\n",
              "      <th>y</th>\n",
              "    </tr>\n",
              "  </thead>\n",
              "  <tbody>\n",
              "    <tr>\n",
              "      <th>0</th>\n",
              "      <td>49.0</td>\n",
              "      <td>admin.</td>\n",
              "      <td>married</td>\n",
              "      <td>high.school</td>\n",
              "      <td>no</td>\n",
              "      <td>no</td>\n",
              "      <td>no</td>\n",
              "      <td>cellular</td>\n",
              "      <td>aug</td>\n",
              "      <td>fri</td>\n",
              "      <td>1.0</td>\n",
              "      <td>0.0</td>\n",
              "      <td>nonexistent</td>\n",
              "      <td>1.4</td>\n",
              "      <td>93.444</td>\n",
              "      <td>-36.1</td>\n",
              "      <td>4.966</td>\n",
              "      <td>5228.1</td>\n",
              "      <td>0</td>\n",
              "    </tr>\n",
              "    <tr>\n",
              "      <th>1</th>\n",
              "      <td>32.0</td>\n",
              "      <td>technician</td>\n",
              "      <td>single</td>\n",
              "      <td>university.degree</td>\n",
              "      <td>no</td>\n",
              "      <td>yes</td>\n",
              "      <td>no</td>\n",
              "      <td>cellular</td>\n",
              "      <td>apr</td>\n",
              "      <td>thu</td>\n",
              "      <td>2.0</td>\n",
              "      <td>1.0</td>\n",
              "      <td>failure</td>\n",
              "      <td>-1.8</td>\n",
              "      <td>93.075</td>\n",
              "      <td>-47.1</td>\n",
              "      <td>1.483</td>\n",
              "      <td>5099.1</td>\n",
              "      <td>0</td>\n",
              "    </tr>\n",
              "    <tr>\n",
              "      <th>2</th>\n",
              "      <td>31.0</td>\n",
              "      <td>technician</td>\n",
              "      <td>divorced</td>\n",
              "      <td>university.degree</td>\n",
              "      <td>no</td>\n",
              "      <td>yes</td>\n",
              "      <td>no</td>\n",
              "      <td>cellular</td>\n",
              "      <td>aug</td>\n",
              "      <td>thu</td>\n",
              "      <td>2.0</td>\n",
              "      <td>0.0</td>\n",
              "      <td>nonexistent</td>\n",
              "      <td>1.4</td>\n",
              "      <td>93.444</td>\n",
              "      <td>-36.1</td>\n",
              "      <td>4.963</td>\n",
              "      <td>5228.1</td>\n",
              "      <td>0</td>\n",
              "    </tr>\n",
              "    <tr>\n",
              "      <th>3</th>\n",
              "      <td>29.0</td>\n",
              "      <td>management</td>\n",
              "      <td>single</td>\n",
              "      <td>university.degree</td>\n",
              "      <td>no</td>\n",
              "      <td>no</td>\n",
              "      <td>no</td>\n",
              "      <td>cellular</td>\n",
              "      <td>nov</td>\n",
              "      <td>wed</td>\n",
              "      <td>1.0</td>\n",
              "      <td>0.0</td>\n",
              "      <td>nonexistent</td>\n",
              "      <td>-0.1</td>\n",
              "      <td>93.200</td>\n",
              "      <td>-42.0</td>\n",
              "      <td>4.120</td>\n",
              "      <td>5195.8</td>\n",
              "      <td>1</td>\n",
              "    </tr>\n",
              "    <tr>\n",
              "      <th>4</th>\n",
              "      <td>28.0</td>\n",
              "      <td>services</td>\n",
              "      <td>single</td>\n",
              "      <td>high.school</td>\n",
              "      <td>no</td>\n",
              "      <td>no</td>\n",
              "      <td>no</td>\n",
              "      <td>cellular</td>\n",
              "      <td>may</td>\n",
              "      <td>wed</td>\n",
              "      <td>2.0</td>\n",
              "      <td>0.0</td>\n",
              "      <td>nonexistent</td>\n",
              "      <td>-1.8</td>\n",
              "      <td>92.893</td>\n",
              "      <td>-46.2</td>\n",
              "      <td>1.281</td>\n",
              "      <td>5099.1</td>\n",
              "      <td>1</td>\n",
              "    </tr>\n",
              "    <tr>\n",
              "      <th>5</th>\n",
              "      <td>43.0</td>\n",
              "      <td>blue-collar</td>\n",
              "      <td>married</td>\n",
              "      <td>basic.9y</td>\n",
              "      <td>no</td>\n",
              "      <td>yes</td>\n",
              "      <td>no</td>\n",
              "      <td>cellular</td>\n",
              "      <td>may</td>\n",
              "      <td>fri</td>\n",
              "      <td>1.0</td>\n",
              "      <td>1.0</td>\n",
              "      <td>failure</td>\n",
              "      <td>-1.8</td>\n",
              "      <td>92.893</td>\n",
              "      <td>-46.2</td>\n",
              "      <td>1.313</td>\n",
              "      <td>5099.1</td>\n",
              "      <td>0</td>\n",
              "    </tr>\n",
              "    <tr>\n",
              "      <th>6</th>\n",
              "      <td>23.0</td>\n",
              "      <td>admin.</td>\n",
              "      <td>single</td>\n",
              "      <td>university.degree</td>\n",
              "      <td>no</td>\n",
              "      <td>yes</td>\n",
              "      <td>no</td>\n",
              "      <td>cellular</td>\n",
              "      <td>mar</td>\n",
              "      <td>thu</td>\n",
              "      <td>2.0</td>\n",
              "      <td>0.0</td>\n",
              "      <td>nonexistent</td>\n",
              "      <td>-1.8</td>\n",
              "      <td>92.843</td>\n",
              "      <td>-50.0</td>\n",
              "      <td>1.757</td>\n",
              "      <td>5099.1</td>\n",
              "      <td>0</td>\n",
              "    </tr>\n",
              "    <tr>\n",
              "      <th>7</th>\n",
              "      <td>46.0</td>\n",
              "      <td>services</td>\n",
              "      <td>married</td>\n",
              "      <td>professional.course</td>\n",
              "      <td>no</td>\n",
              "      <td>yes</td>\n",
              "      <td>no</td>\n",
              "      <td>telephone</td>\n",
              "      <td>may</td>\n",
              "      <td>tue</td>\n",
              "      <td>4.0</td>\n",
              "      <td>0.0</td>\n",
              "      <td>nonexistent</td>\n",
              "      <td>1.1</td>\n",
              "      <td>93.994</td>\n",
              "      <td>-36.4</td>\n",
              "      <td>4.856</td>\n",
              "      <td>5191.0</td>\n",
              "      <td>0</td>\n",
              "    </tr>\n",
              "  </tbody>\n",
              "</table>\n",
              "</div>"
            ],
            "text/plain": [
              "    age          job   marital            education default housing loan  \\\n",
              "0  49.0       admin.   married          high.school      no      no   no   \n",
              "1  32.0   technician    single    university.degree      no     yes   no   \n",
              "2  31.0   technician  divorced    university.degree      no     yes   no   \n",
              "3  29.0   management    single    university.degree      no      no   no   \n",
              "4  28.0     services    single          high.school      no      no   no   \n",
              "5  43.0  blue-collar   married             basic.9y      no     yes   no   \n",
              "6  23.0       admin.    single    university.degree      no     yes   no   \n",
              "7  46.0     services   married  professional.course      no     yes   no   \n",
              "\n",
              "     contact month day_of_week  campaign  previous     poutcome  emp.var.rate  \\\n",
              "0   cellular   aug         fri       1.0       0.0  nonexistent           1.4   \n",
              "1   cellular   apr         thu       2.0       1.0      failure          -1.8   \n",
              "2   cellular   aug         thu       2.0       0.0  nonexistent           1.4   \n",
              "3   cellular   nov         wed       1.0       0.0  nonexistent          -0.1   \n",
              "4   cellular   may         wed       2.0       0.0  nonexistent          -1.8   \n",
              "5   cellular   may         fri       1.0       1.0      failure          -1.8   \n",
              "6   cellular   mar         thu       2.0       0.0  nonexistent          -1.8   \n",
              "7  telephone   may         tue       4.0       0.0  nonexistent           1.1   \n",
              "\n",
              "   cons.price.idx  cons.conf.idx  euribor3m  nr.employed  y  \n",
              "0          93.444          -36.1      4.966       5228.1  0  \n",
              "1          93.075          -47.1      1.483       5099.1  0  \n",
              "2          93.444          -36.1      4.963       5228.1  0  \n",
              "3          93.200          -42.0      4.120       5195.8  1  \n",
              "4          92.893          -46.2      1.281       5099.1  1  \n",
              "5          92.893          -46.2      1.313       5099.1  0  \n",
              "6          92.843          -50.0      1.757       5099.1  0  \n",
              "7          93.994          -36.4      4.856       5191.0  0  "
            ]
          },
          "execution_count": 153,
          "metadata": {},
          "output_type": "execute_result"
        }
      ],
      "source": [
        "# Display Inference-Set\n",
        "\n",
        "data_inf_clear"
      ]
    },
    {
      "cell_type": "code",
      "execution_count": 154,
      "metadata": {
        "id": "0Cxa6LJ6hGAJ"
      },
      "outputs": [],
      "source": [
        "# Split between Numerical Columns and Categorical Columns\n",
        "\n",
        "data_inf_num = data_inf_clear[num_columns]\n",
        "data_inf_cat_ordinal = data_inf_clear[cat_columns_ordinal]\n",
        "data_inf_cat_nominal = data_inf_clear[cat_columns_nominal]"
      ]
    },
    {
      "cell_type": "code",
      "execution_count": 155,
      "metadata": {
        "id": "OsCVhsyqhdKi"
      },
      "outputs": [],
      "source": [
        "# Feature Scaling and Feature Encoding\n",
        "\n",
        "data_inf_num_scaled = scaler.transform(data_inf_num)\n",
        "data_inf_cat_ordinal_scaled = encoder2.transform(data_inf_cat_ordinal)\n",
        "data_inf_cat_nominal_scaled = encoder.transform(data_inf_cat_nominal)"
      ]
    },
    {
      "cell_type": "code",
      "execution_count": 156,
      "metadata": {
        "colab": {
          "base_uri": "https://localhost:8080/",
          "height": 407
        },
        "id": "lr9Nlxdoh706",
        "outputId": "c4eccd81-4785-4978-a299-f2540a271f34"
      },
      "outputs": [],
      "source": [
        "# Merge Numerical Data and Categorical Data\n",
        "\n",
        "data_inf_final = np.concatenate([data_inf_num_scaled, data_inf_cat_ordinal_scaled, data_inf_cat_nominal_scaled], axis=1)"
      ]
    },
    {
      "cell_type": "code",
      "execution_count": 157,
      "metadata": {
        "colab": {
          "base_uri": "https://localhost:8080/",
          "height": 362
        },
        "id": "7c-IJxDoieJz",
        "outputId": "984af52f-73c4-465e-99d8-ecdcdf874de1"
      },
      "outputs": [],
      "source": [
        "# Predict Inference-Set\n",
        "\n",
        "y_pred_inf = model_xgb.predict(data_inf_final)\n",
        "y_pred_inf_df = pd.DataFrame(y_pred_inf, columns=['Subscribe-prediction'])"
      ]
    },
    {
      "cell_type": "code",
      "execution_count": 158,
      "metadata": {
        "colab": {
          "base_uri": "https://localhost:8080/",
          "height": 479
        },
        "id": "QTK8sb8Wi5Ct",
        "outputId": "9046b2b6-bebc-4560-ed89-f351599ad624"
      },
      "outputs": [
        {
          "data": {
            "text/html": [
              "<div>\n",
              "<style scoped>\n",
              "    .dataframe tbody tr th:only-of-type {\n",
              "        vertical-align: middle;\n",
              "    }\n",
              "\n",
              "    .dataframe tbody tr th {\n",
              "        vertical-align: top;\n",
              "    }\n",
              "\n",
              "    .dataframe thead th {\n",
              "        text-align: right;\n",
              "    }\n",
              "</style>\n",
              "<table border=\"1\" class=\"dataframe\">\n",
              "  <thead>\n",
              "    <tr style=\"text-align: right;\">\n",
              "      <th></th>\n",
              "      <th>age</th>\n",
              "      <th>job</th>\n",
              "      <th>marital</th>\n",
              "      <th>education</th>\n",
              "      <th>default</th>\n",
              "      <th>housing</th>\n",
              "      <th>loan</th>\n",
              "      <th>contact</th>\n",
              "      <th>month</th>\n",
              "      <th>day_of_week</th>\n",
              "      <th>campaign</th>\n",
              "      <th>previous</th>\n",
              "      <th>poutcome</th>\n",
              "      <th>emp.var.rate</th>\n",
              "      <th>cons.price.idx</th>\n",
              "      <th>cons.conf.idx</th>\n",
              "      <th>euribor3m</th>\n",
              "      <th>nr.employed</th>\n",
              "      <th>y</th>\n",
              "      <th>Subscribe-prediction</th>\n",
              "    </tr>\n",
              "  </thead>\n",
              "  <tbody>\n",
              "    <tr>\n",
              "      <th>0</th>\n",
              "      <td>49.0</td>\n",
              "      <td>admin.</td>\n",
              "      <td>married</td>\n",
              "      <td>high.school</td>\n",
              "      <td>no</td>\n",
              "      <td>no</td>\n",
              "      <td>no</td>\n",
              "      <td>cellular</td>\n",
              "      <td>aug</td>\n",
              "      <td>fri</td>\n",
              "      <td>1.0</td>\n",
              "      <td>0.0</td>\n",
              "      <td>nonexistent</td>\n",
              "      <td>1.4</td>\n",
              "      <td>93.444</td>\n",
              "      <td>-36.1</td>\n",
              "      <td>4.966</td>\n",
              "      <td>5228.1</td>\n",
              "      <td>0</td>\n",
              "      <td>0</td>\n",
              "    </tr>\n",
              "    <tr>\n",
              "      <th>1</th>\n",
              "      <td>32.0</td>\n",
              "      <td>technician</td>\n",
              "      <td>single</td>\n",
              "      <td>university.degree</td>\n",
              "      <td>no</td>\n",
              "      <td>yes</td>\n",
              "      <td>no</td>\n",
              "      <td>cellular</td>\n",
              "      <td>apr</td>\n",
              "      <td>thu</td>\n",
              "      <td>2.0</td>\n",
              "      <td>1.0</td>\n",
              "      <td>failure</td>\n",
              "      <td>-1.8</td>\n",
              "      <td>93.075</td>\n",
              "      <td>-47.1</td>\n",
              "      <td>1.483</td>\n",
              "      <td>5099.1</td>\n",
              "      <td>0</td>\n",
              "      <td>0</td>\n",
              "    </tr>\n",
              "    <tr>\n",
              "      <th>2</th>\n",
              "      <td>31.0</td>\n",
              "      <td>technician</td>\n",
              "      <td>divorced</td>\n",
              "      <td>university.degree</td>\n",
              "      <td>no</td>\n",
              "      <td>yes</td>\n",
              "      <td>no</td>\n",
              "      <td>cellular</td>\n",
              "      <td>aug</td>\n",
              "      <td>thu</td>\n",
              "      <td>2.0</td>\n",
              "      <td>0.0</td>\n",
              "      <td>nonexistent</td>\n",
              "      <td>1.4</td>\n",
              "      <td>93.444</td>\n",
              "      <td>-36.1</td>\n",
              "      <td>4.963</td>\n",
              "      <td>5228.1</td>\n",
              "      <td>0</td>\n",
              "      <td>0</td>\n",
              "    </tr>\n",
              "    <tr>\n",
              "      <th>3</th>\n",
              "      <td>29.0</td>\n",
              "      <td>management</td>\n",
              "      <td>single</td>\n",
              "      <td>university.degree</td>\n",
              "      <td>no</td>\n",
              "      <td>no</td>\n",
              "      <td>no</td>\n",
              "      <td>cellular</td>\n",
              "      <td>nov</td>\n",
              "      <td>wed</td>\n",
              "      <td>1.0</td>\n",
              "      <td>0.0</td>\n",
              "      <td>nonexistent</td>\n",
              "      <td>-0.1</td>\n",
              "      <td>93.200</td>\n",
              "      <td>-42.0</td>\n",
              "      <td>4.120</td>\n",
              "      <td>5195.8</td>\n",
              "      <td>1</td>\n",
              "      <td>0</td>\n",
              "    </tr>\n",
              "    <tr>\n",
              "      <th>4</th>\n",
              "      <td>28.0</td>\n",
              "      <td>services</td>\n",
              "      <td>single</td>\n",
              "      <td>high.school</td>\n",
              "      <td>no</td>\n",
              "      <td>no</td>\n",
              "      <td>no</td>\n",
              "      <td>cellular</td>\n",
              "      <td>may</td>\n",
              "      <td>wed</td>\n",
              "      <td>2.0</td>\n",
              "      <td>0.0</td>\n",
              "      <td>nonexistent</td>\n",
              "      <td>-1.8</td>\n",
              "      <td>92.893</td>\n",
              "      <td>-46.2</td>\n",
              "      <td>1.281</td>\n",
              "      <td>5099.1</td>\n",
              "      <td>1</td>\n",
              "      <td>0</td>\n",
              "    </tr>\n",
              "    <tr>\n",
              "      <th>5</th>\n",
              "      <td>43.0</td>\n",
              "      <td>blue-collar</td>\n",
              "      <td>married</td>\n",
              "      <td>basic.9y</td>\n",
              "      <td>no</td>\n",
              "      <td>yes</td>\n",
              "      <td>no</td>\n",
              "      <td>cellular</td>\n",
              "      <td>may</td>\n",
              "      <td>fri</td>\n",
              "      <td>1.0</td>\n",
              "      <td>1.0</td>\n",
              "      <td>failure</td>\n",
              "      <td>-1.8</td>\n",
              "      <td>92.893</td>\n",
              "      <td>-46.2</td>\n",
              "      <td>1.313</td>\n",
              "      <td>5099.1</td>\n",
              "      <td>0</td>\n",
              "      <td>0</td>\n",
              "    </tr>\n",
              "    <tr>\n",
              "      <th>6</th>\n",
              "      <td>23.0</td>\n",
              "      <td>admin.</td>\n",
              "      <td>single</td>\n",
              "      <td>university.degree</td>\n",
              "      <td>no</td>\n",
              "      <td>yes</td>\n",
              "      <td>no</td>\n",
              "      <td>cellular</td>\n",
              "      <td>mar</td>\n",
              "      <td>thu</td>\n",
              "      <td>2.0</td>\n",
              "      <td>0.0</td>\n",
              "      <td>nonexistent</td>\n",
              "      <td>-1.8</td>\n",
              "      <td>92.843</td>\n",
              "      <td>-50.0</td>\n",
              "      <td>1.757</td>\n",
              "      <td>5099.1</td>\n",
              "      <td>0</td>\n",
              "      <td>0</td>\n",
              "    </tr>\n",
              "    <tr>\n",
              "      <th>7</th>\n",
              "      <td>46.0</td>\n",
              "      <td>services</td>\n",
              "      <td>married</td>\n",
              "      <td>professional.course</td>\n",
              "      <td>no</td>\n",
              "      <td>yes</td>\n",
              "      <td>no</td>\n",
              "      <td>telephone</td>\n",
              "      <td>may</td>\n",
              "      <td>tue</td>\n",
              "      <td>4.0</td>\n",
              "      <td>0.0</td>\n",
              "      <td>nonexistent</td>\n",
              "      <td>1.1</td>\n",
              "      <td>93.994</td>\n",
              "      <td>-36.4</td>\n",
              "      <td>4.856</td>\n",
              "      <td>5191.0</td>\n",
              "      <td>0</td>\n",
              "      <td>0</td>\n",
              "    </tr>\n",
              "  </tbody>\n",
              "</table>\n",
              "</div>"
            ],
            "text/plain": [
              "    age          job   marital            education default housing loan  \\\n",
              "0  49.0       admin.   married          high.school      no      no   no   \n",
              "1  32.0   technician    single    university.degree      no     yes   no   \n",
              "2  31.0   technician  divorced    university.degree      no     yes   no   \n",
              "3  29.0   management    single    university.degree      no      no   no   \n",
              "4  28.0     services    single          high.school      no      no   no   \n",
              "5  43.0  blue-collar   married             basic.9y      no     yes   no   \n",
              "6  23.0       admin.    single    university.degree      no     yes   no   \n",
              "7  46.0     services   married  professional.course      no     yes   no   \n",
              "\n",
              "     contact month day_of_week  campaign  previous     poutcome  emp.var.rate  \\\n",
              "0   cellular   aug         fri       1.0       0.0  nonexistent           1.4   \n",
              "1   cellular   apr         thu       2.0       1.0      failure          -1.8   \n",
              "2   cellular   aug         thu       2.0       0.0  nonexistent           1.4   \n",
              "3   cellular   nov         wed       1.0       0.0  nonexistent          -0.1   \n",
              "4   cellular   may         wed       2.0       0.0  nonexistent          -1.8   \n",
              "5   cellular   may         fri       1.0       1.0      failure          -1.8   \n",
              "6   cellular   mar         thu       2.0       0.0  nonexistent          -1.8   \n",
              "7  telephone   may         tue       4.0       0.0  nonexistent           1.1   \n",
              "\n",
              "   cons.price.idx  cons.conf.idx  euribor3m  nr.employed  y  \\\n",
              "0          93.444          -36.1      4.966       5228.1  0   \n",
              "1          93.075          -47.1      1.483       5099.1  0   \n",
              "2          93.444          -36.1      4.963       5228.1  0   \n",
              "3          93.200          -42.0      4.120       5195.8  1   \n",
              "4          92.893          -46.2      1.281       5099.1  1   \n",
              "5          92.893          -46.2      1.313       5099.1  0   \n",
              "6          92.843          -50.0      1.757       5099.1  0   \n",
              "7          93.994          -36.4      4.856       5191.0  0   \n",
              "\n",
              "   Subscribe-prediction  \n",
              "0                     0  \n",
              "1                     0  \n",
              "2                     0  \n",
              "3                     0  \n",
              "4                     0  \n",
              "5                     0  \n",
              "6                     0  \n",
              "7                     0  "
            ]
          },
          "execution_count": 158,
          "metadata": {},
          "output_type": "execute_result"
        }
      ],
      "source": [
        "# Concat Inference-Set with Prediction\n",
        "\n",
        "pd.concat([data_inf_clear, y_pred_inf_df], axis=1)"
      ]
    },
    {
      "cell_type": "markdown",
      "metadata": {
        "id": "K4tqPWDJjU3S"
      },
      "source": [
        "# Pengambilan Kesimpulan"
      ]
    },
    {
      "cell_type": "markdown",
      "metadata": {},
      "source": [
        "- Pada dataset ini dilakukan pemodelan menggunakan 7 type pemodelan, yaitu LogisticRegression, SVM, Decission tree, random forest, kNN, Naive bayes, dan XGBoost\n",
        "- Dari hasil pemodelan yang sudah dilakukan selain XGBoost pemodelan yang lain terdapat nilai overfit antara train-set dengan test-set nya\n",
        "- Dari hasil pemodelan yang sudah dilakukan didapati nilai f1 score terbesar terdapat pada pemodelan XGBoost dengan nilai f1 score pada train-set sebesar : 0.9050759141398964 dan pada test-set sebesar : 0.8767634926449885\n",
        "- Sedangkan didapati nilai f1 score terkecil terdapat pada pemodelan Naive bayes dengan nilai f1 score pada train-set sebesar : 0.8367841846212773 dan pada test-set sebesar : 0.10665124707283048\n",
        "- Overfit yang didapati pada pemodelan selain XGBosst dapat disebabkan karena terdapat banyak nilai missing value pada data, sehingga pada saat melakukan handling terdapat beberapa label yang kurang tepat. Disarankan untuk divisi terkait untuk menindak lanjuti lagi setiap nilai yang terdapat pada kolom tersebut\n",
        "- Pada pemodelan XGBoost dilakukan Hyperparameter tunning menggunakan GridSearchCV untuk menentukan parameter terbaik yang dapat digunakan untuk meningkatkan akurasi dari pemodelan tersebut\n",
        "- Setelah dilakukan Hyperparameter tunning, akurasi f1 score pada test-set yang sebelumnya bernilai : 0.8767634926449885 mengalami peningkatan menjadi 0.8784292238832064\n",
        "- Ada kemungkinan jika dilakukan eksplorasi lebih lanjut terkait missing value serta algoritma lian yang digunakan mungkin tingkat akurasi dari machine learning ini dapat lebih baik lagi"
      ]
    }
  ],
  "metadata": {
    "colab": {
      "collapsed_sections": [],
      "name": "h8dsft_P1W1Reg_pramudya_adi_nugraha.ipynb",
      "provenance": [],
      "toc_visible": true
    },
    "interpreter": {
      "hash": "6952929d4dcd0c6575c658c04f5c0742a0ef0370b77b7240455d92649572fbf7"
    },
    "kernelspec": {
      "display_name": "Python 3.9.7 ('base')",
      "language": "python",
      "name": "python3"
    },
    "language_info": {
      "codemirror_mode": {
        "name": "ipython",
        "version": 3
      },
      "file_extension": ".py",
      "mimetype": "text/x-python",
      "name": "python",
      "nbconvert_exporter": "python",
      "pygments_lexer": "ipython3",
      "version": "3.9.7"
    }
  },
  "nbformat": 4,
  "nbformat_minor": 0
}
