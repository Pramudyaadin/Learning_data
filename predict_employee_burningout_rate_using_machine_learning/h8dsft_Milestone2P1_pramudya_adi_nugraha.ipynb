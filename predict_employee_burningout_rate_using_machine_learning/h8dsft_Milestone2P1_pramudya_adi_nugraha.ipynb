{
  "cells": [
    {
      "cell_type": "markdown",
      "metadata": {
        "id": "dIIfxFfGKoM6"
      },
      "source": [
        "# Perkenalan"
      ]
    },
    {
      "cell_type": "markdown",
      "metadata": {
        "id": "JanWjgRqKrua"
      },
      "source": [
        "Nama : Pramudya Adi Nugraha\n",
        "\n",
        "Batch : 10\n",
        "\n",
        "Dataset : Employees Burning Out Dataset\n",
        "\n",
        "Objective :\n",
        "- Mampu memahami konsep supervised learning dan unsupervised learning\n",
        "- Mampu mempersiapkan data untuk digunakan dalam model supervised learning dan unsupervised learning\n",
        "- Mampu mengimplementasikan supervised learning dan unsupervised learning dengan dataset yang baru\n",
        "- Mampu melakukan evaluasi model\n",
        "- Mampu melakukan model tuning\n",
        "- Mampu melakukan model deployment"
      ]
    },
    {
      "cell_type": "markdown",
      "metadata": {
        "id": "fprqUishKzl6"
      },
      "source": [
        "# Import Libraries"
      ]
    },
    {
      "cell_type": "code",
      "execution_count": 1,
      "metadata": {
        "id": "D_vcVTbeK53T"
      },
      "outputs": [],
      "source": [
        "# Import Libraries\n",
        "\n",
        "import pandas as pd\n",
        "import numpy as np\n",
        "import seaborn as sns\n",
        "import matplotlib.pyplot as plt\n",
        "from sklearn.model_selection import train_test_split,  GridSearchCV\n",
        "from sklearn.preprocessing import OneHotEncoder ,StandardScaler\n",
        "import scipy.stats as stats\n",
        "from scipy.stats import norm\n",
        "from feature_engine.imputation import MeanMedianImputer\n",
        "from sklearn.linear_model import LinearRegression\n",
        "from sklearn.metrics import classification_report, r2_score, mean_absolute_error as mae\n",
        "from statsmodels.tools.eval_measures import mse, rmse\n",
        "from sklearn.svm import SVR\n",
        "from sklearn.tree import DecisionTreeRegressor\n",
        "from sklearn.ensemble import RandomForestRegressor\n",
        "from sklearn.neighbors import KNeighborsRegressor\n",
        "from xgboost import XGBRegressor\n",
        "from sklearn.pipeline import Pipeline, make_pipeline\n",
        "from sklearn.compose import ColumnTransformer\n",
        "import pickle\n",
        "import warnings\n",
        "warnings.filterwarnings('ignore')"
      ]
    },
    {
      "cell_type": "markdown",
      "metadata": {
        "id": "nIF2-I5OLa_a"
      },
      "source": [
        "# Data Loading"
      ]
    },
    {
      "cell_type": "code",
      "execution_count": 2,
      "metadata": {
        "colab": {
          "base_uri": "https://localhost:8080/",
          "height": 432
        },
        "id": "vIUkGYd5LhEL",
        "outputId": "2f2d14df-822f-4d49-8341-192ca7d63aeb"
      },
      "outputs": [
        {
          "data": {
            "text/html": [
              "<div>\n",
              "<style scoped>\n",
              "    .dataframe tbody tr th:only-of-type {\n",
              "        vertical-align: middle;\n",
              "    }\n",
              "\n",
              "    .dataframe tbody tr th {\n",
              "        vertical-align: top;\n",
              "    }\n",
              "\n",
              "    .dataframe thead th {\n",
              "        text-align: right;\n",
              "    }\n",
              "</style>\n",
              "<table border=\"1\" class=\"dataframe\">\n",
              "  <thead>\n",
              "    <tr style=\"text-align: right;\">\n",
              "      <th></th>\n",
              "      <th>Employee ID</th>\n",
              "      <th>Date of Joining</th>\n",
              "      <th>Gender</th>\n",
              "      <th>Company Type</th>\n",
              "      <th>WFH Setup Available</th>\n",
              "      <th>Designation</th>\n",
              "      <th>Resource Allocation</th>\n",
              "      <th>Mental Fatigue Score</th>\n",
              "      <th>Burn Rate</th>\n",
              "    </tr>\n",
              "  </thead>\n",
              "  <tbody>\n",
              "    <tr>\n",
              "      <th>0</th>\n",
              "      <td>fffe32003000360033003200</td>\n",
              "      <td>2008-09-30</td>\n",
              "      <td>Female</td>\n",
              "      <td>Service</td>\n",
              "      <td>No</td>\n",
              "      <td>2.0</td>\n",
              "      <td>3.0</td>\n",
              "      <td>3.8</td>\n",
              "      <td>0.16</td>\n",
              "    </tr>\n",
              "    <tr>\n",
              "      <th>1</th>\n",
              "      <td>fffe3700360033003500</td>\n",
              "      <td>2008-11-30</td>\n",
              "      <td>Male</td>\n",
              "      <td>Service</td>\n",
              "      <td>Yes</td>\n",
              "      <td>1.0</td>\n",
              "      <td>2.0</td>\n",
              "      <td>5.0</td>\n",
              "      <td>0.36</td>\n",
              "    </tr>\n",
              "    <tr>\n",
              "      <th>2</th>\n",
              "      <td>fffe31003300320037003900</td>\n",
              "      <td>2008-03-10</td>\n",
              "      <td>Female</td>\n",
              "      <td>Product</td>\n",
              "      <td>Yes</td>\n",
              "      <td>2.0</td>\n",
              "      <td>NaN</td>\n",
              "      <td>5.8</td>\n",
              "      <td>0.49</td>\n",
              "    </tr>\n",
              "    <tr>\n",
              "      <th>3</th>\n",
              "      <td>fffe32003400380032003900</td>\n",
              "      <td>2008-11-03</td>\n",
              "      <td>Male</td>\n",
              "      <td>Service</td>\n",
              "      <td>Yes</td>\n",
              "      <td>1.0</td>\n",
              "      <td>1.0</td>\n",
              "      <td>2.6</td>\n",
              "      <td>0.20</td>\n",
              "    </tr>\n",
              "    <tr>\n",
              "      <th>4</th>\n",
              "      <td>fffe31003900340031003600</td>\n",
              "      <td>2008-07-24</td>\n",
              "      <td>Female</td>\n",
              "      <td>Service</td>\n",
              "      <td>No</td>\n",
              "      <td>3.0</td>\n",
              "      <td>7.0</td>\n",
              "      <td>6.9</td>\n",
              "      <td>0.52</td>\n",
              "    </tr>\n",
              "    <tr>\n",
              "      <th>...</th>\n",
              "      <td>...</td>\n",
              "      <td>...</td>\n",
              "      <td>...</td>\n",
              "      <td>...</td>\n",
              "      <td>...</td>\n",
              "      <td>...</td>\n",
              "      <td>...</td>\n",
              "      <td>...</td>\n",
              "      <td>...</td>\n",
              "    </tr>\n",
              "    <tr>\n",
              "      <th>22745</th>\n",
              "      <td>fffe31003500370039003100</td>\n",
              "      <td>2008-12-30</td>\n",
              "      <td>Female</td>\n",
              "      <td>Service</td>\n",
              "      <td>No</td>\n",
              "      <td>1.0</td>\n",
              "      <td>3.0</td>\n",
              "      <td>NaN</td>\n",
              "      <td>0.41</td>\n",
              "    </tr>\n",
              "    <tr>\n",
              "      <th>22746</th>\n",
              "      <td>fffe33003000350031003800</td>\n",
              "      <td>2008-01-19</td>\n",
              "      <td>Female</td>\n",
              "      <td>Product</td>\n",
              "      <td>Yes</td>\n",
              "      <td>3.0</td>\n",
              "      <td>6.0</td>\n",
              "      <td>6.7</td>\n",
              "      <td>0.59</td>\n",
              "    </tr>\n",
              "    <tr>\n",
              "      <th>22747</th>\n",
              "      <td>fffe390032003000</td>\n",
              "      <td>2008-11-05</td>\n",
              "      <td>Male</td>\n",
              "      <td>Service</td>\n",
              "      <td>Yes</td>\n",
              "      <td>3.0</td>\n",
              "      <td>7.0</td>\n",
              "      <td>NaN</td>\n",
              "      <td>0.72</td>\n",
              "    </tr>\n",
              "    <tr>\n",
              "      <th>22748</th>\n",
              "      <td>fffe33003300320036003900</td>\n",
              "      <td>2008-01-10</td>\n",
              "      <td>Female</td>\n",
              "      <td>Service</td>\n",
              "      <td>No</td>\n",
              "      <td>2.0</td>\n",
              "      <td>5.0</td>\n",
              "      <td>5.9</td>\n",
              "      <td>0.52</td>\n",
              "    </tr>\n",
              "    <tr>\n",
              "      <th>22749</th>\n",
              "      <td>fffe3400350031003800</td>\n",
              "      <td>2008-01-06</td>\n",
              "      <td>Male</td>\n",
              "      <td>Product</td>\n",
              "      <td>No</td>\n",
              "      <td>3.0</td>\n",
              "      <td>6.0</td>\n",
              "      <td>7.8</td>\n",
              "      <td>0.61</td>\n",
              "    </tr>\n",
              "  </tbody>\n",
              "</table>\n",
              "<p>22750 rows × 9 columns</p>\n",
              "</div>"
            ],
            "text/plain": [
              "                    Employee ID Date of Joining  Gender Company Type  \\\n",
              "0      fffe32003000360033003200      2008-09-30  Female      Service   \n",
              "1          fffe3700360033003500      2008-11-30    Male      Service   \n",
              "2      fffe31003300320037003900      2008-03-10  Female      Product   \n",
              "3      fffe32003400380032003900      2008-11-03    Male      Service   \n",
              "4      fffe31003900340031003600      2008-07-24  Female      Service   \n",
              "...                         ...             ...     ...          ...   \n",
              "22745  fffe31003500370039003100      2008-12-30  Female      Service   \n",
              "22746  fffe33003000350031003800      2008-01-19  Female      Product   \n",
              "22747          fffe390032003000      2008-11-05    Male      Service   \n",
              "22748  fffe33003300320036003900      2008-01-10  Female      Service   \n",
              "22749      fffe3400350031003800      2008-01-06    Male      Product   \n",
              "\n",
              "      WFH Setup Available  Designation  Resource Allocation  \\\n",
              "0                      No          2.0                  3.0   \n",
              "1                     Yes          1.0                  2.0   \n",
              "2                     Yes          2.0                  NaN   \n",
              "3                     Yes          1.0                  1.0   \n",
              "4                      No          3.0                  7.0   \n",
              "...                   ...          ...                  ...   \n",
              "22745                  No          1.0                  3.0   \n",
              "22746                 Yes          3.0                  6.0   \n",
              "22747                 Yes          3.0                  7.0   \n",
              "22748                  No          2.0                  5.0   \n",
              "22749                  No          3.0                  6.0   \n",
              "\n",
              "       Mental Fatigue Score  Burn Rate  \n",
              "0                       3.8       0.16  \n",
              "1                       5.0       0.36  \n",
              "2                       5.8       0.49  \n",
              "3                       2.6       0.20  \n",
              "4                       6.9       0.52  \n",
              "...                     ...        ...  \n",
              "22745                   NaN       0.41  \n",
              "22746                   6.7       0.59  \n",
              "22747                   NaN       0.72  \n",
              "22748                   5.9       0.52  \n",
              "22749                   7.8       0.61  \n",
              "\n",
              "[22750 rows x 9 columns]"
            ]
          },
          "execution_count": 2,
          "metadata": {},
          "output_type": "execute_result"
        }
      ],
      "source": [
        "# Load Dataset \n",
        "\n",
        "data = pd.read_csv('train.csv')\n",
        "data"
      ]
    },
    {
      "cell_type": "code",
      "execution_count": 3,
      "metadata": {},
      "outputs": [
        {
          "data": {
            "text/html": [
              "<div>\n",
              "<style scoped>\n",
              "    .dataframe tbody tr th:only-of-type {\n",
              "        vertical-align: middle;\n",
              "    }\n",
              "\n",
              "    .dataframe tbody tr th {\n",
              "        vertical-align: top;\n",
              "    }\n",
              "\n",
              "    .dataframe thead th {\n",
              "        text-align: right;\n",
              "    }\n",
              "</style>\n",
              "<table border=\"1\" class=\"dataframe\">\n",
              "  <thead>\n",
              "    <tr style=\"text-align: right;\">\n",
              "      <th></th>\n",
              "      <th>Employee ID</th>\n",
              "      <th>Date of Joining</th>\n",
              "      <th>Gender</th>\n",
              "      <th>Company Type</th>\n",
              "      <th>WFH Setup Available</th>\n",
              "      <th>Designation</th>\n",
              "      <th>Resource Allocation</th>\n",
              "      <th>Mental Fatigue Score</th>\n",
              "      <th>Burn Rate</th>\n",
              "    </tr>\n",
              "  </thead>\n",
              "  <tbody>\n",
              "    <tr>\n",
              "      <th>0</th>\n",
              "      <td>fffe32003000360033003200</td>\n",
              "      <td>2008-09-30</td>\n",
              "      <td>Female</td>\n",
              "      <td>Service</td>\n",
              "      <td>No</td>\n",
              "      <td>2.0</td>\n",
              "      <td>3.0</td>\n",
              "      <td>3.8</td>\n",
              "      <td>0.16</td>\n",
              "    </tr>\n",
              "    <tr>\n",
              "      <th>1</th>\n",
              "      <td>fffe3700360033003500</td>\n",
              "      <td>2008-11-30</td>\n",
              "      <td>Male</td>\n",
              "      <td>Service</td>\n",
              "      <td>Yes</td>\n",
              "      <td>1.0</td>\n",
              "      <td>2.0</td>\n",
              "      <td>5.0</td>\n",
              "      <td>0.36</td>\n",
              "    </tr>\n",
              "    <tr>\n",
              "      <th>2</th>\n",
              "      <td>fffe31003300320037003900</td>\n",
              "      <td>2008-03-10</td>\n",
              "      <td>Female</td>\n",
              "      <td>Product</td>\n",
              "      <td>Yes</td>\n",
              "      <td>2.0</td>\n",
              "      <td>NaN</td>\n",
              "      <td>5.8</td>\n",
              "      <td>0.49</td>\n",
              "    </tr>\n",
              "    <tr>\n",
              "      <th>3</th>\n",
              "      <td>fffe32003400380032003900</td>\n",
              "      <td>2008-11-03</td>\n",
              "      <td>Male</td>\n",
              "      <td>Service</td>\n",
              "      <td>Yes</td>\n",
              "      <td>1.0</td>\n",
              "      <td>1.0</td>\n",
              "      <td>2.6</td>\n",
              "      <td>0.20</td>\n",
              "    </tr>\n",
              "    <tr>\n",
              "      <th>4</th>\n",
              "      <td>fffe31003900340031003600</td>\n",
              "      <td>2008-07-24</td>\n",
              "      <td>Female</td>\n",
              "      <td>Service</td>\n",
              "      <td>No</td>\n",
              "      <td>3.0</td>\n",
              "      <td>7.0</td>\n",
              "      <td>6.9</td>\n",
              "      <td>0.52</td>\n",
              "    </tr>\n",
              "  </tbody>\n",
              "</table>\n",
              "</div>"
            ],
            "text/plain": [
              "                Employee ID Date of Joining  Gender Company Type  \\\n",
              "0  fffe32003000360033003200      2008-09-30  Female      Service   \n",
              "1      fffe3700360033003500      2008-11-30    Male      Service   \n",
              "2  fffe31003300320037003900      2008-03-10  Female      Product   \n",
              "3  fffe32003400380032003900      2008-11-03    Male      Service   \n",
              "4  fffe31003900340031003600      2008-07-24  Female      Service   \n",
              "\n",
              "  WFH Setup Available  Designation  Resource Allocation  Mental Fatigue Score  \\\n",
              "0                  No          2.0                  3.0                   3.8   \n",
              "1                 Yes          1.0                  2.0                   5.0   \n",
              "2                 Yes          2.0                  NaN                   5.8   \n",
              "3                 Yes          1.0                  1.0                   2.6   \n",
              "4                  No          3.0                  7.0                   6.9   \n",
              "\n",
              "   Burn Rate  \n",
              "0       0.16  \n",
              "1       0.36  \n",
              "2       0.49  \n",
              "3       0.20  \n",
              "4       0.52  "
            ]
          },
          "execution_count": 3,
          "metadata": {},
          "output_type": "execute_result"
        }
      ],
      "source": [
        "# Melihat 5 data teratas\n",
        "\n",
        "data.head()"
      ]
    },
    {
      "cell_type": "code",
      "execution_count": 4,
      "metadata": {
        "id": "wrSU6XkJL4kT"
      },
      "outputs": [],
      "source": [
        "# Duplicate Dataset\n",
        "\n",
        "data_copy = data.copy()"
      ]
    },
    {
      "cell_type": "code",
      "execution_count": 5,
      "metadata": {
        "colab": {
          "base_uri": "https://localhost:8080/"
        },
        "id": "oDtUXuxLMd4R",
        "outputId": "8a7d68bf-3b9d-40be-ae33-c05776c7da60"
      },
      "outputs": [
        {
          "name": "stdout",
          "output_type": "stream",
          "text": [
            "<class 'pandas.core.frame.DataFrame'>\n",
            "RangeIndex: 22750 entries, 0 to 22749\n",
            "Data columns (total 9 columns):\n",
            " #   Column                Non-Null Count  Dtype  \n",
            "---  ------                --------------  -----  \n",
            " 0   Employee ID           22750 non-null  object \n",
            " 1   Date of Joining       22750 non-null  object \n",
            " 2   Gender                22750 non-null  object \n",
            " 3   Company Type          22750 non-null  object \n",
            " 4   WFH Setup Available   22750 non-null  object \n",
            " 5   Designation           22750 non-null  float64\n",
            " 6   Resource Allocation   21369 non-null  float64\n",
            " 7   Mental Fatigue Score  20633 non-null  float64\n",
            " 8   Burn Rate             21626 non-null  float64\n",
            "dtypes: float64(4), object(5)\n",
            "memory usage: 1.6+ MB\n"
          ]
        }
      ],
      "source": [
        "# Check Dataset Info\n",
        "\n",
        "data.info()"
      ]
    },
    {
      "cell_type": "code",
      "execution_count": 6,
      "metadata": {},
      "outputs": [
        {
          "data": {
            "text/plain": [
              "Index(['Employee ID', 'Date of Joining', 'Gender', 'Company Type',\n",
              "       'WFH Setup Available', 'Designation', 'Resource Allocation',\n",
              "       'Mental Fatigue Score', 'Burn Rate'],\n",
              "      dtype='object')"
            ]
          },
          "execution_count": 6,
          "metadata": {},
          "output_type": "execute_result"
        }
      ],
      "source": [
        "# Check dataset column\n",
        "\n",
        "data.columns"
      ]
    },
    {
      "cell_type": "code",
      "execution_count": 7,
      "metadata": {
        "colab": {
          "base_uri": "https://localhost:8080/",
          "height": 300
        },
        "id": "mOHBexeTMnMu",
        "outputId": "b7ec9227-37ab-43f7-dfb8-d5b00a1b83b6"
      },
      "outputs": [
        {
          "data": {
            "text/html": [
              "<div>\n",
              "<style scoped>\n",
              "    .dataframe tbody tr th:only-of-type {\n",
              "        vertical-align: middle;\n",
              "    }\n",
              "\n",
              "    .dataframe tbody tr th {\n",
              "        vertical-align: top;\n",
              "    }\n",
              "\n",
              "    .dataframe thead th {\n",
              "        text-align: right;\n",
              "    }\n",
              "</style>\n",
              "<table border=\"1\" class=\"dataframe\">\n",
              "  <thead>\n",
              "    <tr style=\"text-align: right;\">\n",
              "      <th></th>\n",
              "      <th>Designation</th>\n",
              "      <th>Resource Allocation</th>\n",
              "      <th>Mental Fatigue Score</th>\n",
              "      <th>Burn Rate</th>\n",
              "    </tr>\n",
              "  </thead>\n",
              "  <tbody>\n",
              "    <tr>\n",
              "      <th>count</th>\n",
              "      <td>22750.000000</td>\n",
              "      <td>21369.000000</td>\n",
              "      <td>20633.000000</td>\n",
              "      <td>21626.000000</td>\n",
              "    </tr>\n",
              "    <tr>\n",
              "      <th>mean</th>\n",
              "      <td>2.178725</td>\n",
              "      <td>4.481398</td>\n",
              "      <td>5.728188</td>\n",
              "      <td>0.452005</td>\n",
              "    </tr>\n",
              "    <tr>\n",
              "      <th>std</th>\n",
              "      <td>1.135145</td>\n",
              "      <td>2.047211</td>\n",
              "      <td>1.920839</td>\n",
              "      <td>0.198226</td>\n",
              "    </tr>\n",
              "    <tr>\n",
              "      <th>min</th>\n",
              "      <td>0.000000</td>\n",
              "      <td>1.000000</td>\n",
              "      <td>0.000000</td>\n",
              "      <td>0.000000</td>\n",
              "    </tr>\n",
              "    <tr>\n",
              "      <th>25%</th>\n",
              "      <td>1.000000</td>\n",
              "      <td>3.000000</td>\n",
              "      <td>4.600000</td>\n",
              "      <td>0.310000</td>\n",
              "    </tr>\n",
              "    <tr>\n",
              "      <th>50%</th>\n",
              "      <td>2.000000</td>\n",
              "      <td>4.000000</td>\n",
              "      <td>5.900000</td>\n",
              "      <td>0.450000</td>\n",
              "    </tr>\n",
              "    <tr>\n",
              "      <th>75%</th>\n",
              "      <td>3.000000</td>\n",
              "      <td>6.000000</td>\n",
              "      <td>7.100000</td>\n",
              "      <td>0.590000</td>\n",
              "    </tr>\n",
              "    <tr>\n",
              "      <th>max</th>\n",
              "      <td>5.000000</td>\n",
              "      <td>10.000000</td>\n",
              "      <td>10.000000</td>\n",
              "      <td>1.000000</td>\n",
              "    </tr>\n",
              "  </tbody>\n",
              "</table>\n",
              "</div>"
            ],
            "text/plain": [
              "        Designation  Resource Allocation  Mental Fatigue Score     Burn Rate\n",
              "count  22750.000000         21369.000000          20633.000000  21626.000000\n",
              "mean       2.178725             4.481398              5.728188      0.452005\n",
              "std        1.135145             2.047211              1.920839      0.198226\n",
              "min        0.000000             1.000000              0.000000      0.000000\n",
              "25%        1.000000             3.000000              4.600000      0.310000\n",
              "50%        2.000000             4.000000              5.900000      0.450000\n",
              "75%        3.000000             6.000000              7.100000      0.590000\n",
              "max        5.000000            10.000000             10.000000      1.000000"
            ]
          },
          "execution_count": 7,
          "metadata": {},
          "output_type": "execute_result"
        }
      ],
      "source": [
        "# Dataset describe\n",
        "\n",
        "data.describe()"
      ]
    },
    {
      "cell_type": "markdown",
      "metadata": {
        "id": "plL7gqIeNEnk"
      },
      "source": [
        "# Exploratory Data Analysis (EDA)"
      ]
    },
    {
      "cell_type": "code",
      "execution_count": 8,
      "metadata": {},
      "outputs": [
        {
          "data": {
            "text/plain": [
              "(22750, 9)"
            ]
          },
          "execution_count": 8,
          "metadata": {},
          "output_type": "execute_result"
        }
      ],
      "source": [
        "# mencari tahu shape dari dataset\n",
        "\n",
        "data.shape"
      ]
    },
    {
      "cell_type": "code",
      "execution_count": 9,
      "metadata": {
        "colab": {
          "base_uri": "https://localhost:8080/",
          "height": 350
        },
        "id": "GF2wyVXRNIUE",
        "outputId": "b49de820-db79-40e5-d915-1b4af76b08cf"
      },
      "outputs": [
        {
          "data": {
            "text/plain": [
              "Employee ID                0\n",
              "Date of Joining            0\n",
              "Gender                     0\n",
              "Company Type               0\n",
              "WFH Setup Available        0\n",
              "Designation                0\n",
              "Burn Rate               1124\n",
              "Resource Allocation     1381\n",
              "Mental Fatigue Score    2117\n",
              "dtype: int64"
            ]
          },
          "execution_count": 9,
          "metadata": {},
          "output_type": "execute_result"
        }
      ],
      "source": [
        "# mencari tahu jumlah missing data pada masing-masing kolom\n",
        "\n",
        "data_miss = data.isnull().sum()\n",
        "data_miss.sort_values()"
      ]
    },
    {
      "cell_type": "code",
      "execution_count": 10,
      "metadata": {},
      "outputs": [
        {
          "data": {
            "image/png": "[encoded data removed]",
            "text/plain": [
              "<Figure size 1152x720 with 2 Axes>"
            ]
          },
          "metadata": {
            "needs_background": "light"
          },
          "output_type": "display_data"
        }
      ],
      "source": [
        "# mencari tahu hubungan antar column pada datset dengan menggunakan heatmap \n",
        "\n",
        "correlation = data.corr()\n",
        "\n",
        "plt.figure(figsize=(16,10))\n",
        "plt.title('Correlation Heatmap')\n",
        "ax = sns.heatmap(correlation, square=True, annot=True, fmt='.2f', linecolor='white')\n",
        "ax.set_xticklabels(ax.get_xticklabels(), rotation=90)\n",
        "ax.set_yticklabels(ax.get_yticklabels(), rotation=30)           \n",
        "plt.show()"
      ]
    },
    {
      "cell_type": "code",
      "execution_count": 11,
      "metadata": {},
      "outputs": [
        {
          "name": "stdout",
          "output_type": "stream",
          "text": [
            "Kolom bertype numeric pada dataset : ['Designation', 'Resource Allocation', 'Mental Fatigue Score', 'Burn Rate']\n",
            "Kolom bertype catagorical pada dataset : ['Employee ID', 'Date of Joining', 'Gender', 'Company Type', 'WFH Setup Available']\n"
          ]
        }
      ],
      "source": [
        "# Mencari tahu tabel yang memiliki bentuk numerical dan catagorical\n",
        "\n",
        "data_num = data.select_dtypes(include= np.number).columns.tolist()\n",
        "data_cat = data.select_dtypes(include=['object']).columns.tolist()\n",
        "\n",
        "print('Kolom bertype numeric pada dataset :', data_num)\n",
        "print('Kolom bertype catagorical pada dataset :', data_cat)"
      ]
    },
    {
      "cell_type": "code",
      "execution_count": 12,
      "metadata": {},
      "outputs": [
        {
          "data": {
            "text/plain": [
              "Mental Fatigue Score    2117\n",
              "Resource Allocation     1381\n",
              "Burn Rate               1124\n",
              "Employee ID                0\n",
              "Date of Joining            0\n",
              "Gender                     0\n",
              "Company Type               0\n",
              "WFH Setup Available        0\n",
              "Designation                0\n",
              "dtype: int64"
            ]
          },
          "execution_count": 12,
          "metadata": {},
          "output_type": "execute_result"
        }
      ],
      "source": [
        "# Checking missing value for each column\n",
        "\n",
        "data_miss.sort_values(ascending= False)"
      ]
    },
    {
      "cell_type": "code",
      "execution_count": 13,
      "metadata": {},
      "outputs": [
        {
          "data": {
            "text/plain": [
              "2117"
            ]
          },
          "execution_count": 13,
          "metadata": {},
          "output_type": "execute_result"
        }
      ],
      "source": [
        "# Check missing value in `Mental Fatigue Score` Column\n",
        "\n",
        "data['Mental Fatigue Score'].isnull().sum()"
      ]
    },
    {
      "cell_type": "code",
      "execution_count": 14,
      "metadata": {},
      "outputs": [
        {
          "data": {
            "text/plain": [
              "array([ 3.8,  5. ,  5.8,  2.6,  6.9,  3.6,  7.9,  4.4,  nan,  5.3,  1.8,\n",
              "        4.7,  5.9,  6.7,  4. ,  7.6,  6.3,  7.7,  6.6,  7.4,  3.9,  3. ,\n",
              "        8.7,  7.3,  5.4,  6. ,  7.5, 10. ,  6.4,  5.1,  5.6,  6.1,  3.1,\n",
              "        8. ,  6.8,  4.9,  9.2,  6.5,  6.2,  8.2,  4.1,  4.3,  0.8,  2.9,\n",
              "        2. ,  9.1,  0. ,  5.7,  8.3,  5.5,  7. ,  3.3,  7.8,  7.2,  5.2,\n",
              "        8.9,  4.5,  8.1,  8.6,  9.5,  3.5,  4.8,  2.4,  3.7,  1. ,  8.8,\n",
              "        9.3,  4.6,  9.9,  0.5,  2.8,  9. ,  3.4,  4.2,  1.6,  2.7,  1.3,\n",
              "        3.2,  8.4,  7.1,  9.4,  2.1,  9.7,  2.5,  1.9,  1.7,  9.6,  0.7,\n",
              "        0.2,  1.2,  8.5,  9.8,  2.2,  1.1,  0.9,  2.3,  0.4,  1.4,  1.5,\n",
              "        0.6,  0.3,  0.1])"
            ]
          },
          "execution_count": 14,
          "metadata": {},
          "output_type": "execute_result"
        }
      ],
      "source": [
        "# Check unique values in `Mental Fatigue Score` Column\n",
        "\n",
        "data['Mental Fatigue Score'].unique()"
      ]
    },
    {
      "cell_type": "code",
      "execution_count": 15,
      "metadata": {},
      "outputs": [
        {
          "data": {
            "text/plain": [
              "6.0    470\n",
              "5.8    464\n",
              "5.9    458\n",
              "6.1    457\n",
              "6.3    454\n",
              "      ... \n",
              "0.5     24\n",
              "0.2     23\n",
              "0.4     19\n",
              "0.1     17\n",
              "0.3     13\n",
              "Name: Mental Fatigue Score, Length: 101, dtype: int64"
            ]
          },
          "execution_count": 15,
          "metadata": {},
          "output_type": "execute_result"
        }
      ],
      "source": [
        "# Frekuensi distribusi value pada kolom `Mental Fatigue Score`\n",
        "\n",
        "data['Mental Fatigue Score'].value_counts()"
      ]
    },
    {
      "cell_type": "code",
      "execution_count": 16,
      "metadata": {},
      "outputs": [
        {
          "data": {
            "text/plain": [
              "6.0    2.065934\n",
              "5.8    2.039560\n",
              "5.9    2.013187\n",
              "6.1    2.008791\n",
              "6.3    1.995604\n",
              "         ...   \n",
              "0.5    0.105495\n",
              "0.2    0.101099\n",
              "0.4    0.083516\n",
              "0.1    0.074725\n",
              "0.3    0.057143\n",
              "Name: Mental Fatigue Score, Length: 101, dtype: float64"
            ]
          },
          "execution_count": 16,
          "metadata": {},
          "output_type": "execute_result"
        }
      ],
      "source": [
        "# Frekuensi distribusi value pada kolom `Mental Fatigue Score` dalam persentase\n",
        "\n",
        "data['Mental Fatigue Score'].value_counts()/len(data) * 100"
      ]
    },
    {
      "cell_type": "code",
      "execution_count": 17,
      "metadata": {},
      "outputs": [
        {
          "name": "stdout",
          "output_type": "stream",
          "text": [
            "Presentase data tidak NaN :  90.69450549450549\n",
            "Persentase data NaN :  9.305494505494504\n"
          ]
        }
      ],
      "source": [
        "# Persentase perbandindingan data tidak missing dengan data missing pada kolom `Mental Fatigue Score`\n",
        "\n",
        "print('Presentase data tidak NaN : ', data['Mental Fatigue Score'].value_counts().sum()/len(data)*100)\n",
        "print('Persentase data NaN : ', data['Mental Fatigue Score'].isnull().sum()/len(data)*100)"
      ]
    },
    {
      "cell_type": "code",
      "execution_count": 18,
      "metadata": {},
      "outputs": [
        {
          "data": {
            "text/plain": [
              "1381"
            ]
          },
          "execution_count": 18,
          "metadata": {},
          "output_type": "execute_result"
        }
      ],
      "source": [
        "# Check missing value in `Resource Allocation` Column\n",
        "\n",
        "data['Resource Allocation'].isnull().sum()"
      ]
    },
    {
      "cell_type": "code",
      "execution_count": 19,
      "metadata": {},
      "outputs": [
        {
          "data": {
            "text/plain": [
              "array([ 3.,  2., nan,  1.,  7.,  4.,  6.,  5.,  8., 10.,  9.])"
            ]
          },
          "execution_count": 19,
          "metadata": {},
          "output_type": "execute_result"
        }
      ],
      "source": [
        "# Check unique values in `Resource Allocation` Column\n",
        "\n",
        "data['Resource Allocation'].unique()"
      ]
    },
    {
      "cell_type": "code",
      "execution_count": 20,
      "metadata": {},
      "outputs": [
        {
          "data": {
            "text/plain": [
              "4.0     3893\n",
              "5.0     3861\n",
              "3.0     3192\n",
              "6.0     2943\n",
              "2.0     2075\n",
              "7.0     1965\n",
              "1.0     1791\n",
              "8.0     1044\n",
              "9.0      446\n",
              "10.0     159\n",
              "Name: Resource Allocation, dtype: int64"
            ]
          },
          "execution_count": 20,
          "metadata": {},
          "output_type": "execute_result"
        }
      ],
      "source": [
        "# Frekuensi distribusi value pada kolom `Resource Allocation`\n",
        "\n",
        "data['Resource Allocation'].value_counts()"
      ]
    },
    {
      "cell_type": "code",
      "execution_count": 21,
      "metadata": {},
      "outputs": [
        {
          "data": {
            "text/plain": [
              "4.0     17.112088\n",
              "5.0     16.971429\n",
              "3.0     14.030769\n",
              "6.0     12.936264\n",
              "2.0      9.120879\n",
              "7.0      8.637363\n",
              "1.0      7.872527\n",
              "8.0      4.589011\n",
              "9.0      1.960440\n",
              "10.0     0.698901\n",
              "Name: Resource Allocation, dtype: float64"
            ]
          },
          "execution_count": 21,
          "metadata": {},
          "output_type": "execute_result"
        }
      ],
      "source": [
        "# Frekuensi distribusi value pada kolom `Resource Allocation` dalam persentase\n",
        "\n",
        "data['Resource Allocation'].value_counts()/len(data) * 100"
      ]
    },
    {
      "cell_type": "code",
      "execution_count": 22,
      "metadata": {},
      "outputs": [
        {
          "name": "stdout",
          "output_type": "stream",
          "text": [
            "Presentase data tidak NaN :  93.92967032967033\n",
            "Persentase data NaN :  6.07032967032967\n"
          ]
        }
      ],
      "source": [
        "# Persentase perbandindingan data tidak missing dengan data missing pada kolom `Resource Allocation`\n",
        "\n",
        "print('Presentase data tidak NaN : ', data['Resource Allocation'].value_counts().sum()/len(data)*100)\n",
        "print('Persentase data NaN : ', data['Resource Allocation'].isnull().sum()/len(data)*100)"
      ]
    },
    {
      "cell_type": "code",
      "execution_count": 23,
      "metadata": {},
      "outputs": [
        {
          "data": {
            "text/plain": [
              "1124"
            ]
          },
          "execution_count": 23,
          "metadata": {},
          "output_type": "execute_result"
        }
      ],
      "source": [
        "# Check missing value in `Burn Rate` Column\n",
        "\n",
        "data['Burn Rate'].isnull().sum()"
      ]
    },
    {
      "cell_type": "code",
      "execution_count": 24,
      "metadata": {},
      "outputs": [
        {
          "data": {
            "text/plain": [
              "array([0.16, 0.36, 0.49, 0.2 , 0.52, 0.29, 0.62, 0.33, 0.56, 0.67, 0.5 ,\n",
              "       0.12, 0.4 , 0.51, 0.32, 0.39, 0.59, 0.22, 0.68, 0.57, 0.47, 0.46,\n",
              "       0.61, 0.91, 0.44, 0.6 , 0.45, 0.19, 0.31, 0.81, 0.42, 0.53,  nan,\n",
              "       0.94, 0.37, 0.65, 0.38, 0.15, 0.26, 0.28, 0.71, 0.8 , 0.63, 0.79,\n",
              "       0.72, 0.34, 0.27, 0.66, 0.04, 0.05, 0.11, 0.41, 0.76, 0.43, 0.85,\n",
              "       0.35, 0.  , 0.55, 0.48, 0.7 , 0.18, 0.23, 0.25, 0.75, 0.1 , 0.73,\n",
              "       0.58, 0.88, 0.77, 0.3 , 0.06, 0.03, 0.69, 0.24, 0.74, 0.86, 0.92,\n",
              "       0.78, 0.21, 0.98, 0.02, 0.82, 0.93, 0.83, 0.87, 0.64, 0.54, 0.17,\n",
              "       1.  , 0.08, 0.09, 0.14, 0.13, 0.07, 0.84, 0.99, 0.01, 0.97, 0.95,\n",
              "       0.9 , 0.96, 0.89])"
            ]
          },
          "execution_count": 24,
          "metadata": {},
          "output_type": "execute_result"
        }
      ],
      "source": [
        "# Check unique values in `Burn Rate` Column\n",
        "\n",
        "data['Burn Rate'].unique()"
      ]
    },
    {
      "cell_type": "code",
      "execution_count": 25,
      "metadata": {},
      "outputs": [
        {
          "data": {
            "text/plain": [
              "NaN     1124\n",
              "0.47     475\n",
              "0.43     444\n",
              "0.41     434\n",
              "0.45     431\n",
              "        ... \n",
              "0.98      18\n",
              "0.97      17\n",
              "0.95      17\n",
              "0.96      13\n",
              "0.99       8\n",
              "Name: Burn Rate, Length: 102, dtype: int64"
            ]
          },
          "execution_count": 25,
          "metadata": {},
          "output_type": "execute_result"
        }
      ],
      "source": [
        "# Frekuensi distribusi value pada kolom `Burn Rate`\n",
        "\n",
        "data['Burn Rate'].value_counts(dropna= False)"
      ]
    },
    {
      "cell_type": "code",
      "execution_count": 26,
      "metadata": {},
      "outputs": [
        {
          "data": {
            "text/plain": [
              "NaN     4.940659\n",
              "0.47    2.087912\n",
              "0.43    1.951648\n",
              "0.41    1.907692\n",
              "0.45    1.894505\n",
              "          ...   \n",
              "0.98    0.079121\n",
              "0.97    0.074725\n",
              "0.95    0.074725\n",
              "0.96    0.057143\n",
              "0.99    0.035165\n",
              "Name: Burn Rate, Length: 102, dtype: float64"
            ]
          },
          "execution_count": 26,
          "metadata": {},
          "output_type": "execute_result"
        }
      ],
      "source": [
        "# Frekuensi distribusi value pada kolom `Burn Rate` dalam persentase\n",
        "\n",
        "data['Burn Rate'].value_counts(dropna= False)/len(data) * 100"
      ]
    },
    {
      "cell_type": "code",
      "execution_count": 27,
      "metadata": {},
      "outputs": [
        {
          "name": "stdout",
          "output_type": "stream",
          "text": [
            "Presentase data tidak NaN :  95.05934065934066\n",
            "Persentase data NaN :  4.94065934065934\n"
          ]
        }
      ],
      "source": [
        "# Persentase perbandindingan data tidak missing dengan data missing pada kolom `Burn Rate`\n",
        "\n",
        "print('Presentase data tidak NaN : ', data['Burn Rate'].value_counts().sum()/len(data)*100)\n",
        "print('Persentase data NaN : ', data['Burn Rate'].isnull().sum()/len(data)*100)"
      ]
    },
    {
      "cell_type": "markdown",
      "metadata": {
        "id": "MWR9w_kfOxPY"
      },
      "source": [
        "# Data Preprocessing"
      ]
    },
    {
      "cell_type": "code",
      "execution_count": 28,
      "metadata": {},
      "outputs": [
        {
          "data": {
            "text/html": [
              "<div>\n",
              "<style scoped>\n",
              "    .dataframe tbody tr th:only-of-type {\n",
              "        vertical-align: middle;\n",
              "    }\n",
              "\n",
              "    .dataframe tbody tr th {\n",
              "        vertical-align: top;\n",
              "    }\n",
              "\n",
              "    .dataframe thead th {\n",
              "        text-align: right;\n",
              "    }\n",
              "</style>\n",
              "<table border=\"1\" class=\"dataframe\">\n",
              "  <thead>\n",
              "    <tr style=\"text-align: right;\">\n",
              "      <th></th>\n",
              "      <th>Employee ID</th>\n",
              "      <th>Date of Joining</th>\n",
              "      <th>Gender</th>\n",
              "      <th>Company Type</th>\n",
              "      <th>WFH Setup Available</th>\n",
              "      <th>Designation</th>\n",
              "      <th>Resource Allocation</th>\n",
              "      <th>Mental Fatigue Score</th>\n",
              "      <th>Burn Rate</th>\n",
              "    </tr>\n",
              "  </thead>\n",
              "  <tbody>\n",
              "    <tr>\n",
              "      <th>0</th>\n",
              "      <td>fffe32003000360033003200</td>\n",
              "      <td>2008-09-30</td>\n",
              "      <td>Female</td>\n",
              "      <td>Service</td>\n",
              "      <td>No</td>\n",
              "      <td>2.0</td>\n",
              "      <td>3.0</td>\n",
              "      <td>3.8</td>\n",
              "      <td>0.16</td>\n",
              "    </tr>\n",
              "    <tr>\n",
              "      <th>1</th>\n",
              "      <td>fffe3700360033003500</td>\n",
              "      <td>2008-11-30</td>\n",
              "      <td>Male</td>\n",
              "      <td>Service</td>\n",
              "      <td>Yes</td>\n",
              "      <td>1.0</td>\n",
              "      <td>2.0</td>\n",
              "      <td>5.0</td>\n",
              "      <td>0.36</td>\n",
              "    </tr>\n",
              "    <tr>\n",
              "      <th>2</th>\n",
              "      <td>fffe31003300320037003900</td>\n",
              "      <td>2008-03-10</td>\n",
              "      <td>Female</td>\n",
              "      <td>Product</td>\n",
              "      <td>Yes</td>\n",
              "      <td>2.0</td>\n",
              "      <td>NaN</td>\n",
              "      <td>5.8</td>\n",
              "      <td>0.49</td>\n",
              "    </tr>\n",
              "    <tr>\n",
              "      <th>3</th>\n",
              "      <td>fffe32003400380032003900</td>\n",
              "      <td>2008-11-03</td>\n",
              "      <td>Male</td>\n",
              "      <td>Service</td>\n",
              "      <td>Yes</td>\n",
              "      <td>1.0</td>\n",
              "      <td>1.0</td>\n",
              "      <td>2.6</td>\n",
              "      <td>0.20</td>\n",
              "    </tr>\n",
              "    <tr>\n",
              "      <th>4</th>\n",
              "      <td>fffe31003900340031003600</td>\n",
              "      <td>2008-07-24</td>\n",
              "      <td>Female</td>\n",
              "      <td>Service</td>\n",
              "      <td>No</td>\n",
              "      <td>3.0</td>\n",
              "      <td>7.0</td>\n",
              "      <td>6.9</td>\n",
              "      <td>0.52</td>\n",
              "    </tr>\n",
              "    <tr>\n",
              "      <th>...</th>\n",
              "      <td>...</td>\n",
              "      <td>...</td>\n",
              "      <td>...</td>\n",
              "      <td>...</td>\n",
              "      <td>...</td>\n",
              "      <td>...</td>\n",
              "      <td>...</td>\n",
              "      <td>...</td>\n",
              "      <td>...</td>\n",
              "    </tr>\n",
              "    <tr>\n",
              "      <th>22745</th>\n",
              "      <td>fffe31003500370039003100</td>\n",
              "      <td>2008-12-30</td>\n",
              "      <td>Female</td>\n",
              "      <td>Service</td>\n",
              "      <td>No</td>\n",
              "      <td>1.0</td>\n",
              "      <td>3.0</td>\n",
              "      <td>NaN</td>\n",
              "      <td>0.41</td>\n",
              "    </tr>\n",
              "    <tr>\n",
              "      <th>22746</th>\n",
              "      <td>fffe33003000350031003800</td>\n",
              "      <td>2008-01-19</td>\n",
              "      <td>Female</td>\n",
              "      <td>Product</td>\n",
              "      <td>Yes</td>\n",
              "      <td>3.0</td>\n",
              "      <td>6.0</td>\n",
              "      <td>6.7</td>\n",
              "      <td>0.59</td>\n",
              "    </tr>\n",
              "    <tr>\n",
              "      <th>22747</th>\n",
              "      <td>fffe390032003000</td>\n",
              "      <td>2008-11-05</td>\n",
              "      <td>Male</td>\n",
              "      <td>Service</td>\n",
              "      <td>Yes</td>\n",
              "      <td>3.0</td>\n",
              "      <td>7.0</td>\n",
              "      <td>NaN</td>\n",
              "      <td>0.72</td>\n",
              "    </tr>\n",
              "    <tr>\n",
              "      <th>22748</th>\n",
              "      <td>fffe33003300320036003900</td>\n",
              "      <td>2008-01-10</td>\n",
              "      <td>Female</td>\n",
              "      <td>Service</td>\n",
              "      <td>No</td>\n",
              "      <td>2.0</td>\n",
              "      <td>5.0</td>\n",
              "      <td>5.9</td>\n",
              "      <td>0.52</td>\n",
              "    </tr>\n",
              "    <tr>\n",
              "      <th>22749</th>\n",
              "      <td>fffe3400350031003800</td>\n",
              "      <td>2008-01-06</td>\n",
              "      <td>Male</td>\n",
              "      <td>Product</td>\n",
              "      <td>No</td>\n",
              "      <td>3.0</td>\n",
              "      <td>6.0</td>\n",
              "      <td>7.8</td>\n",
              "      <td>0.61</td>\n",
              "    </tr>\n",
              "  </tbody>\n",
              "</table>\n",
              "<p>22750 rows × 9 columns</p>\n",
              "</div>"
            ],
            "text/plain": [
              "                    Employee ID Date of Joining  Gender Company Type  \\\n",
              "0      fffe32003000360033003200      2008-09-30  Female      Service   \n",
              "1          fffe3700360033003500      2008-11-30    Male      Service   \n",
              "2      fffe31003300320037003900      2008-03-10  Female      Product   \n",
              "3      fffe32003400380032003900      2008-11-03    Male      Service   \n",
              "4      fffe31003900340031003600      2008-07-24  Female      Service   \n",
              "...                         ...             ...     ...          ...   \n",
              "22745  fffe31003500370039003100      2008-12-30  Female      Service   \n",
              "22746  fffe33003000350031003800      2008-01-19  Female      Product   \n",
              "22747          fffe390032003000      2008-11-05    Male      Service   \n",
              "22748  fffe33003300320036003900      2008-01-10  Female      Service   \n",
              "22749      fffe3400350031003800      2008-01-06    Male      Product   \n",
              "\n",
              "      WFH Setup Available  Designation  Resource Allocation  \\\n",
              "0                      No          2.0                  3.0   \n",
              "1                     Yes          1.0                  2.0   \n",
              "2                     Yes          2.0                  NaN   \n",
              "3                     Yes          1.0                  1.0   \n",
              "4                      No          3.0                  7.0   \n",
              "...                   ...          ...                  ...   \n",
              "22745                  No          1.0                  3.0   \n",
              "22746                 Yes          3.0                  6.0   \n",
              "22747                 Yes          3.0                  7.0   \n",
              "22748                  No          2.0                  5.0   \n",
              "22749                  No          3.0                  6.0   \n",
              "\n",
              "       Mental Fatigue Score  Burn Rate  \n",
              "0                       3.8       0.16  \n",
              "1                       5.0       0.36  \n",
              "2                       5.8       0.49  \n",
              "3                       2.6       0.20  \n",
              "4                       6.9       0.52  \n",
              "...                     ...        ...  \n",
              "22745                   NaN       0.41  \n",
              "22746                   6.7       0.59  \n",
              "22747                   NaN       0.72  \n",
              "22748                   5.9       0.52  \n",
              "22749                   7.8       0.61  \n",
              "\n",
              "[22750 rows x 9 columns]"
            ]
          },
          "execution_count": 28,
          "metadata": {},
          "output_type": "execute_result"
        }
      ],
      "source": [
        "data"
      ]
    },
    {
      "cell_type": "code",
      "execution_count": 29,
      "metadata": {},
      "outputs": [
        {
          "data": {
            "text/plain": [
              "Mental Fatigue Score    2117\n",
              "Resource Allocation     1381\n",
              "Burn Rate               1124\n",
              "Employee ID                0\n",
              "Date of Joining            0\n",
              "Gender                     0\n",
              "Company Type               0\n",
              "WFH Setup Available        0\n",
              "Designation                0\n",
              "dtype: int64"
            ]
          },
          "execution_count": 29,
          "metadata": {},
          "output_type": "execute_result"
        }
      ],
      "source": [
        "data_miss.sort_values(ascending= False)"
      ]
    },
    {
      "cell_type": "code",
      "execution_count": 30,
      "metadata": {},
      "outputs": [],
      "source": [
        "# Karena pada kolom `Burn Rate` yang akan dijadikan sebagai target terdapat beberapa nilai missing value, maka akan dilakukan drop terhadap nilai missing value tersebut\n",
        "\n",
        "data.dropna(subset= ['Burn Rate'], inplace= True)"
      ]
    },
    {
      "cell_type": "code",
      "execution_count": 31,
      "metadata": {},
      "outputs": [
        {
          "data": {
            "text/plain": [
              "False    21626\n",
              "Name: Burn Rate, dtype: int64"
            ]
          },
          "execution_count": 31,
          "metadata": {},
          "output_type": "execute_result"
        }
      ],
      "source": [
        "data['Burn Rate'].isnull().value_counts()"
      ]
    },
    {
      "cell_type": "code",
      "execution_count": 32,
      "metadata": {},
      "outputs": [
        {
          "data": {
            "text/html": [
              "<div>\n",
              "<style scoped>\n",
              "    .dataframe tbody tr th:only-of-type {\n",
              "        vertical-align: middle;\n",
              "    }\n",
              "\n",
              "    .dataframe tbody tr th {\n",
              "        vertical-align: top;\n",
              "    }\n",
              "\n",
              "    .dataframe thead th {\n",
              "        text-align: right;\n",
              "    }\n",
              "</style>\n",
              "<table border=\"1\" class=\"dataframe\">\n",
              "  <thead>\n",
              "    <tr style=\"text-align: right;\">\n",
              "      <th></th>\n",
              "      <th>Employee ID</th>\n",
              "      <th>Date of Joining</th>\n",
              "      <th>Gender</th>\n",
              "      <th>Company Type</th>\n",
              "      <th>WFH Setup Available</th>\n",
              "      <th>Designation</th>\n",
              "      <th>Resource Allocation</th>\n",
              "      <th>Mental Fatigue Score</th>\n",
              "      <th>Burn Rate</th>\n",
              "    </tr>\n",
              "  </thead>\n",
              "  <tbody>\n",
              "    <tr>\n",
              "      <th>0</th>\n",
              "      <td>fffe32003000360033003200</td>\n",
              "      <td>2008-09-30</td>\n",
              "      <td>Female</td>\n",
              "      <td>Service</td>\n",
              "      <td>No</td>\n",
              "      <td>2.0</td>\n",
              "      <td>3.0</td>\n",
              "      <td>3.8</td>\n",
              "      <td>0.16</td>\n",
              "    </tr>\n",
              "    <tr>\n",
              "      <th>1</th>\n",
              "      <td>fffe3700360033003500</td>\n",
              "      <td>2008-11-30</td>\n",
              "      <td>Male</td>\n",
              "      <td>Service</td>\n",
              "      <td>Yes</td>\n",
              "      <td>1.0</td>\n",
              "      <td>2.0</td>\n",
              "      <td>5.0</td>\n",
              "      <td>0.36</td>\n",
              "    </tr>\n",
              "    <tr>\n",
              "      <th>2</th>\n",
              "      <td>fffe31003300320037003900</td>\n",
              "      <td>2008-03-10</td>\n",
              "      <td>Female</td>\n",
              "      <td>Product</td>\n",
              "      <td>Yes</td>\n",
              "      <td>2.0</td>\n",
              "      <td>NaN</td>\n",
              "      <td>5.8</td>\n",
              "      <td>0.49</td>\n",
              "    </tr>\n",
              "    <tr>\n",
              "      <th>3</th>\n",
              "      <td>fffe32003400380032003900</td>\n",
              "      <td>2008-11-03</td>\n",
              "      <td>Male</td>\n",
              "      <td>Service</td>\n",
              "      <td>Yes</td>\n",
              "      <td>1.0</td>\n",
              "      <td>1.0</td>\n",
              "      <td>2.6</td>\n",
              "      <td>0.20</td>\n",
              "    </tr>\n",
              "    <tr>\n",
              "      <th>4</th>\n",
              "      <td>fffe31003900340031003600</td>\n",
              "      <td>2008-07-24</td>\n",
              "      <td>Female</td>\n",
              "      <td>Service</td>\n",
              "      <td>No</td>\n",
              "      <td>3.0</td>\n",
              "      <td>7.0</td>\n",
              "      <td>6.9</td>\n",
              "      <td>0.52</td>\n",
              "    </tr>\n",
              "    <tr>\n",
              "      <th>...</th>\n",
              "      <td>...</td>\n",
              "      <td>...</td>\n",
              "      <td>...</td>\n",
              "      <td>...</td>\n",
              "      <td>...</td>\n",
              "      <td>...</td>\n",
              "      <td>...</td>\n",
              "      <td>...</td>\n",
              "      <td>...</td>\n",
              "    </tr>\n",
              "    <tr>\n",
              "      <th>22745</th>\n",
              "      <td>fffe31003500370039003100</td>\n",
              "      <td>2008-12-30</td>\n",
              "      <td>Female</td>\n",
              "      <td>Service</td>\n",
              "      <td>No</td>\n",
              "      <td>1.0</td>\n",
              "      <td>3.0</td>\n",
              "      <td>NaN</td>\n",
              "      <td>0.41</td>\n",
              "    </tr>\n",
              "    <tr>\n",
              "      <th>22746</th>\n",
              "      <td>fffe33003000350031003800</td>\n",
              "      <td>2008-01-19</td>\n",
              "      <td>Female</td>\n",
              "      <td>Product</td>\n",
              "      <td>Yes</td>\n",
              "      <td>3.0</td>\n",
              "      <td>6.0</td>\n",
              "      <td>6.7</td>\n",
              "      <td>0.59</td>\n",
              "    </tr>\n",
              "    <tr>\n",
              "      <th>22747</th>\n",
              "      <td>fffe390032003000</td>\n",
              "      <td>2008-11-05</td>\n",
              "      <td>Male</td>\n",
              "      <td>Service</td>\n",
              "      <td>Yes</td>\n",
              "      <td>3.0</td>\n",
              "      <td>7.0</td>\n",
              "      <td>NaN</td>\n",
              "      <td>0.72</td>\n",
              "    </tr>\n",
              "    <tr>\n",
              "      <th>22748</th>\n",
              "      <td>fffe33003300320036003900</td>\n",
              "      <td>2008-01-10</td>\n",
              "      <td>Female</td>\n",
              "      <td>Service</td>\n",
              "      <td>No</td>\n",
              "      <td>2.0</td>\n",
              "      <td>5.0</td>\n",
              "      <td>5.9</td>\n",
              "      <td>0.52</td>\n",
              "    </tr>\n",
              "    <tr>\n",
              "      <th>22749</th>\n",
              "      <td>fffe3400350031003800</td>\n",
              "      <td>2008-01-06</td>\n",
              "      <td>Male</td>\n",
              "      <td>Product</td>\n",
              "      <td>No</td>\n",
              "      <td>3.0</td>\n",
              "      <td>6.0</td>\n",
              "      <td>7.8</td>\n",
              "      <td>0.61</td>\n",
              "    </tr>\n",
              "  </tbody>\n",
              "</table>\n",
              "<p>21626 rows × 9 columns</p>\n",
              "</div>"
            ],
            "text/plain": [
              "                    Employee ID Date of Joining  Gender Company Type  \\\n",
              "0      fffe32003000360033003200      2008-09-30  Female      Service   \n",
              "1          fffe3700360033003500      2008-11-30    Male      Service   \n",
              "2      fffe31003300320037003900      2008-03-10  Female      Product   \n",
              "3      fffe32003400380032003900      2008-11-03    Male      Service   \n",
              "4      fffe31003900340031003600      2008-07-24  Female      Service   \n",
              "...                         ...             ...     ...          ...   \n",
              "22745  fffe31003500370039003100      2008-12-30  Female      Service   \n",
              "22746  fffe33003000350031003800      2008-01-19  Female      Product   \n",
              "22747          fffe390032003000      2008-11-05    Male      Service   \n",
              "22748  fffe33003300320036003900      2008-01-10  Female      Service   \n",
              "22749      fffe3400350031003800      2008-01-06    Male      Product   \n",
              "\n",
              "      WFH Setup Available  Designation  Resource Allocation  \\\n",
              "0                      No          2.0                  3.0   \n",
              "1                     Yes          1.0                  2.0   \n",
              "2                     Yes          2.0                  NaN   \n",
              "3                     Yes          1.0                  1.0   \n",
              "4                      No          3.0                  7.0   \n",
              "...                   ...          ...                  ...   \n",
              "22745                  No          1.0                  3.0   \n",
              "22746                 Yes          3.0                  6.0   \n",
              "22747                 Yes          3.0                  7.0   \n",
              "22748                  No          2.0                  5.0   \n",
              "22749                  No          3.0                  6.0   \n",
              "\n",
              "       Mental Fatigue Score  Burn Rate  \n",
              "0                       3.8       0.16  \n",
              "1                       5.0       0.36  \n",
              "2                       5.8       0.49  \n",
              "3                       2.6       0.20  \n",
              "4                       6.9       0.52  \n",
              "...                     ...        ...  \n",
              "22745                   NaN       0.41  \n",
              "22746                   6.7       0.59  \n",
              "22747                   NaN       0.72  \n",
              "22748                   5.9       0.52  \n",
              "22749                   7.8       0.61  \n",
              "\n",
              "[21626 rows x 9 columns]"
            ]
          },
          "execution_count": 32,
          "metadata": {},
          "output_type": "execute_result"
        }
      ],
      "source": [
        "data"
      ]
    },
    {
      "cell_type": "code",
      "execution_count": 33,
      "metadata": {},
      "outputs": [
        {
          "data": {
            "text/html": [
              "<div>\n",
              "<style scoped>\n",
              "    .dataframe tbody tr th:only-of-type {\n",
              "        vertical-align: middle;\n",
              "    }\n",
              "\n",
              "    .dataframe tbody tr th {\n",
              "        vertical-align: top;\n",
              "    }\n",
              "\n",
              "    .dataframe thead th {\n",
              "        text-align: right;\n",
              "    }\n",
              "</style>\n",
              "<table border=\"1\" class=\"dataframe\">\n",
              "  <thead>\n",
              "    <tr style=\"text-align: right;\">\n",
              "      <th></th>\n",
              "      <th>Employee ID</th>\n",
              "      <th>Date of Joining</th>\n",
              "      <th>Gender</th>\n",
              "      <th>Company Type</th>\n",
              "      <th>WFH Setup Available</th>\n",
              "      <th>Designation</th>\n",
              "      <th>Resource Allocation</th>\n",
              "      <th>Mental Fatigue Score</th>\n",
              "      <th>Burn Rate</th>\n",
              "    </tr>\n",
              "  </thead>\n",
              "  <tbody>\n",
              "    <tr>\n",
              "      <th>1611</th>\n",
              "      <td>fffe33003400350030003300</td>\n",
              "      <td>2008-02-10</td>\n",
              "      <td>Female</td>\n",
              "      <td>Service</td>\n",
              "      <td>Yes</td>\n",
              "      <td>1.0</td>\n",
              "      <td>2.0</td>\n",
              "      <td>1.9</td>\n",
              "      <td>0.14</td>\n",
              "    </tr>\n",
              "    <tr>\n",
              "      <th>20952</th>\n",
              "      <td>fffe3700320037003700</td>\n",
              "      <td>2008-09-10</td>\n",
              "      <td>Female</td>\n",
              "      <td>Service</td>\n",
              "      <td>No</td>\n",
              "      <td>3.0</td>\n",
              "      <td>7.0</td>\n",
              "      <td>9.0</td>\n",
              "      <td>0.79</td>\n",
              "    </tr>\n",
              "    <tr>\n",
              "      <th>7766</th>\n",
              "      <td>fffe32003700390034003700</td>\n",
              "      <td>2008-11-23</td>\n",
              "      <td>Female</td>\n",
              "      <td>Service</td>\n",
              "      <td>No</td>\n",
              "      <td>4.0</td>\n",
              "      <td>7.0</td>\n",
              "      <td>6.8</td>\n",
              "      <td>0.68</td>\n",
              "    </tr>\n",
              "    <tr>\n",
              "      <th>15886</th>\n",
              "      <td>fffe340038003000</td>\n",
              "      <td>2008-08-31</td>\n",
              "      <td>Female</td>\n",
              "      <td>Service</td>\n",
              "      <td>Yes</td>\n",
              "      <td>2.0</td>\n",
              "      <td>4.0</td>\n",
              "      <td>5.7</td>\n",
              "      <td>0.37</td>\n",
              "    </tr>\n",
              "    <tr>\n",
              "      <th>15841</th>\n",
              "      <td>fffe31003000380035003100</td>\n",
              "      <td>2008-11-02</td>\n",
              "      <td>Male</td>\n",
              "      <td>Service</td>\n",
              "      <td>No</td>\n",
              "      <td>3.0</td>\n",
              "      <td>6.0</td>\n",
              "      <td>5.7</td>\n",
              "      <td>0.55</td>\n",
              "    </tr>\n",
              "    <tr>\n",
              "      <th>1241</th>\n",
              "      <td>fffe3900370030003400</td>\n",
              "      <td>2008-09-24</td>\n",
              "      <td>Male</td>\n",
              "      <td>Service</td>\n",
              "      <td>No</td>\n",
              "      <td>5.0</td>\n",
              "      <td>10.0</td>\n",
              "      <td>9.4</td>\n",
              "      <td>1.00</td>\n",
              "    </tr>\n",
              "    <tr>\n",
              "      <th>11666</th>\n",
              "      <td>fffe3700350034003200</td>\n",
              "      <td>2008-04-02</td>\n",
              "      <td>Female</td>\n",
              "      <td>Product</td>\n",
              "      <td>Yes</td>\n",
              "      <td>3.0</td>\n",
              "      <td>5.0</td>\n",
              "      <td>6.2</td>\n",
              "      <td>0.48</td>\n",
              "    </tr>\n",
              "    <tr>\n",
              "      <th>472</th>\n",
              "      <td>fffe31003600340037003100</td>\n",
              "      <td>2008-01-14</td>\n",
              "      <td>Male</td>\n",
              "      <td>Service</td>\n",
              "      <td>Yes</td>\n",
              "      <td>1.0</td>\n",
              "      <td>3.0</td>\n",
              "      <td>4.9</td>\n",
              "      <td>0.43</td>\n",
              "    </tr>\n",
              "  </tbody>\n",
              "</table>\n",
              "</div>"
            ],
            "text/plain": [
              "                    Employee ID Date of Joining  Gender Company Type  \\\n",
              "1611   fffe33003400350030003300      2008-02-10  Female      Service   \n",
              "20952      fffe3700320037003700      2008-09-10  Female      Service   \n",
              "7766   fffe32003700390034003700      2008-11-23  Female      Service   \n",
              "15886          fffe340038003000      2008-08-31  Female      Service   \n",
              "15841  fffe31003000380035003100      2008-11-02    Male      Service   \n",
              "1241       fffe3900370030003400      2008-09-24    Male      Service   \n",
              "11666      fffe3700350034003200      2008-04-02  Female      Product   \n",
              "472    fffe31003600340037003100      2008-01-14    Male      Service   \n",
              "\n",
              "      WFH Setup Available  Designation  Resource Allocation  \\\n",
              "1611                  Yes          1.0                  2.0   \n",
              "20952                  No          3.0                  7.0   \n",
              "7766                   No          4.0                  7.0   \n",
              "15886                 Yes          2.0                  4.0   \n",
              "15841                  No          3.0                  6.0   \n",
              "1241                   No          5.0                 10.0   \n",
              "11666                 Yes          3.0                  5.0   \n",
              "472                   Yes          1.0                  3.0   \n",
              "\n",
              "       Mental Fatigue Score  Burn Rate  \n",
              "1611                    1.9       0.14  \n",
              "20952                   9.0       0.79  \n",
              "7766                    6.8       0.68  \n",
              "15886                   5.7       0.37  \n",
              "15841                   5.7       0.55  \n",
              "1241                    9.4       1.00  \n",
              "11666                   6.2       0.48  \n",
              "472                     4.9       0.43  "
            ]
          },
          "execution_count": 33,
          "metadata": {},
          "output_type": "execute_result"
        }
      ],
      "source": [
        "# Get Data for Model Inference\n",
        "\n",
        "data_inf = data.sample(10, random_state= 18)\n",
        "data_inf_clear = data_inf.dropna()\n",
        "data_inf_clear"
      ]
    },
    {
      "cell_type": "code",
      "execution_count": 34,
      "metadata": {},
      "outputs": [
        {
          "data": {
            "text/html": [
              "<div>\n",
              "<style scoped>\n",
              "    .dataframe tbody tr th:only-of-type {\n",
              "        vertical-align: middle;\n",
              "    }\n",
              "\n",
              "    .dataframe tbody tr th {\n",
              "        vertical-align: top;\n",
              "    }\n",
              "\n",
              "    .dataframe thead th {\n",
              "        text-align: right;\n",
              "    }\n",
              "</style>\n",
              "<table border=\"1\" class=\"dataframe\">\n",
              "  <thead>\n",
              "    <tr style=\"text-align: right;\">\n",
              "      <th></th>\n",
              "      <th>Employee ID</th>\n",
              "      <th>Date of Joining</th>\n",
              "      <th>Gender</th>\n",
              "      <th>Company Type</th>\n",
              "      <th>WFH Setup Available</th>\n",
              "      <th>Designation</th>\n",
              "      <th>Resource Allocation</th>\n",
              "      <th>Mental Fatigue Score</th>\n",
              "      <th>Burn Rate</th>\n",
              "    </tr>\n",
              "  </thead>\n",
              "  <tbody>\n",
              "    <tr>\n",
              "      <th>0</th>\n",
              "      <td>fffe32003000360033003200</td>\n",
              "      <td>2008-09-30</td>\n",
              "      <td>Female</td>\n",
              "      <td>Service</td>\n",
              "      <td>No</td>\n",
              "      <td>2.0</td>\n",
              "      <td>3.0</td>\n",
              "      <td>3.8</td>\n",
              "      <td>0.16</td>\n",
              "    </tr>\n",
              "    <tr>\n",
              "      <th>1</th>\n",
              "      <td>fffe3700360033003500</td>\n",
              "      <td>2008-11-30</td>\n",
              "      <td>Male</td>\n",
              "      <td>Service</td>\n",
              "      <td>Yes</td>\n",
              "      <td>1.0</td>\n",
              "      <td>2.0</td>\n",
              "      <td>5.0</td>\n",
              "      <td>0.36</td>\n",
              "    </tr>\n",
              "    <tr>\n",
              "      <th>2</th>\n",
              "      <td>fffe31003300320037003900</td>\n",
              "      <td>2008-03-10</td>\n",
              "      <td>Female</td>\n",
              "      <td>Product</td>\n",
              "      <td>Yes</td>\n",
              "      <td>2.0</td>\n",
              "      <td>NaN</td>\n",
              "      <td>5.8</td>\n",
              "      <td>0.49</td>\n",
              "    </tr>\n",
              "    <tr>\n",
              "      <th>3</th>\n",
              "      <td>fffe32003400380032003900</td>\n",
              "      <td>2008-11-03</td>\n",
              "      <td>Male</td>\n",
              "      <td>Service</td>\n",
              "      <td>Yes</td>\n",
              "      <td>1.0</td>\n",
              "      <td>1.0</td>\n",
              "      <td>2.6</td>\n",
              "      <td>0.20</td>\n",
              "    </tr>\n",
              "    <tr>\n",
              "      <th>4</th>\n",
              "      <td>fffe31003900340031003600</td>\n",
              "      <td>2008-07-24</td>\n",
              "      <td>Female</td>\n",
              "      <td>Service</td>\n",
              "      <td>No</td>\n",
              "      <td>3.0</td>\n",
              "      <td>7.0</td>\n",
              "      <td>6.9</td>\n",
              "      <td>0.52</td>\n",
              "    </tr>\n",
              "    <tr>\n",
              "      <th>...</th>\n",
              "      <td>...</td>\n",
              "      <td>...</td>\n",
              "      <td>...</td>\n",
              "      <td>...</td>\n",
              "      <td>...</td>\n",
              "      <td>...</td>\n",
              "      <td>...</td>\n",
              "      <td>...</td>\n",
              "      <td>...</td>\n",
              "    </tr>\n",
              "    <tr>\n",
              "      <th>22745</th>\n",
              "      <td>fffe31003500370039003100</td>\n",
              "      <td>2008-12-30</td>\n",
              "      <td>Female</td>\n",
              "      <td>Service</td>\n",
              "      <td>No</td>\n",
              "      <td>1.0</td>\n",
              "      <td>3.0</td>\n",
              "      <td>NaN</td>\n",
              "      <td>0.41</td>\n",
              "    </tr>\n",
              "    <tr>\n",
              "      <th>22746</th>\n",
              "      <td>fffe33003000350031003800</td>\n",
              "      <td>2008-01-19</td>\n",
              "      <td>Female</td>\n",
              "      <td>Product</td>\n",
              "      <td>Yes</td>\n",
              "      <td>3.0</td>\n",
              "      <td>6.0</td>\n",
              "      <td>6.7</td>\n",
              "      <td>0.59</td>\n",
              "    </tr>\n",
              "    <tr>\n",
              "      <th>22747</th>\n",
              "      <td>fffe390032003000</td>\n",
              "      <td>2008-11-05</td>\n",
              "      <td>Male</td>\n",
              "      <td>Service</td>\n",
              "      <td>Yes</td>\n",
              "      <td>3.0</td>\n",
              "      <td>7.0</td>\n",
              "      <td>NaN</td>\n",
              "      <td>0.72</td>\n",
              "    </tr>\n",
              "    <tr>\n",
              "      <th>22748</th>\n",
              "      <td>fffe33003300320036003900</td>\n",
              "      <td>2008-01-10</td>\n",
              "      <td>Female</td>\n",
              "      <td>Service</td>\n",
              "      <td>No</td>\n",
              "      <td>2.0</td>\n",
              "      <td>5.0</td>\n",
              "      <td>5.9</td>\n",
              "      <td>0.52</td>\n",
              "    </tr>\n",
              "    <tr>\n",
              "      <th>22749</th>\n",
              "      <td>fffe3400350031003800</td>\n",
              "      <td>2008-01-06</td>\n",
              "      <td>Male</td>\n",
              "      <td>Product</td>\n",
              "      <td>No</td>\n",
              "      <td>3.0</td>\n",
              "      <td>6.0</td>\n",
              "      <td>7.8</td>\n",
              "      <td>0.61</td>\n",
              "    </tr>\n",
              "  </tbody>\n",
              "</table>\n",
              "<p>21618 rows × 9 columns</p>\n",
              "</div>"
            ],
            "text/plain": [
              "                    Employee ID Date of Joining  Gender Company Type  \\\n",
              "0      fffe32003000360033003200      2008-09-30  Female      Service   \n",
              "1          fffe3700360033003500      2008-11-30    Male      Service   \n",
              "2      fffe31003300320037003900      2008-03-10  Female      Product   \n",
              "3      fffe32003400380032003900      2008-11-03    Male      Service   \n",
              "4      fffe31003900340031003600      2008-07-24  Female      Service   \n",
              "...                         ...             ...     ...          ...   \n",
              "22745  fffe31003500370039003100      2008-12-30  Female      Service   \n",
              "22746  fffe33003000350031003800      2008-01-19  Female      Product   \n",
              "22747          fffe390032003000      2008-11-05    Male      Service   \n",
              "22748  fffe33003300320036003900      2008-01-10  Female      Service   \n",
              "22749      fffe3400350031003800      2008-01-06    Male      Product   \n",
              "\n",
              "      WFH Setup Available  Designation  Resource Allocation  \\\n",
              "0                      No          2.0                  3.0   \n",
              "1                     Yes          1.0                  2.0   \n",
              "2                     Yes          2.0                  NaN   \n",
              "3                     Yes          1.0                  1.0   \n",
              "4                      No          3.0                  7.0   \n",
              "...                   ...          ...                  ...   \n",
              "22745                  No          1.0                  3.0   \n",
              "22746                 Yes          3.0                  6.0   \n",
              "22747                 Yes          3.0                  7.0   \n",
              "22748                  No          2.0                  5.0   \n",
              "22749                  No          3.0                  6.0   \n",
              "\n",
              "       Mental Fatigue Score  Burn Rate  \n",
              "0                       3.8       0.16  \n",
              "1                       5.0       0.36  \n",
              "2                       5.8       0.49  \n",
              "3                       2.6       0.20  \n",
              "4                       6.9       0.52  \n",
              "...                     ...        ...  \n",
              "22745                   NaN       0.41  \n",
              "22746                   6.7       0.59  \n",
              "22747                   NaN       0.72  \n",
              "22748                   5.9       0.52  \n",
              "22749                   7.8       0.61  \n",
              "\n",
              "[21618 rows x 9 columns]"
            ]
          },
          "execution_count": 34,
          "metadata": {},
          "output_type": "execute_result"
        }
      ],
      "source": [
        "# Remove Inference-Set from Dataset\n",
        "\n",
        "data_new = data.drop(data_inf_clear.index)\n",
        "data_new"
      ]
    },
    {
      "cell_type": "code",
      "execution_count": 35,
      "metadata": {},
      "outputs": [
        {
          "data": {
            "text/html": [
              "<div>\n",
              "<style scoped>\n",
              "    .dataframe tbody tr th:only-of-type {\n",
              "        vertical-align: middle;\n",
              "    }\n",
              "\n",
              "    .dataframe tbody tr th {\n",
              "        vertical-align: top;\n",
              "    }\n",
              "\n",
              "    .dataframe thead th {\n",
              "        text-align: right;\n",
              "    }\n",
              "</style>\n",
              "<table border=\"1\" class=\"dataframe\">\n",
              "  <thead>\n",
              "    <tr style=\"text-align: right;\">\n",
              "      <th></th>\n",
              "      <th>Employee ID</th>\n",
              "      <th>Date of Joining</th>\n",
              "      <th>Gender</th>\n",
              "      <th>Company Type</th>\n",
              "      <th>WFH Setup Available</th>\n",
              "      <th>Designation</th>\n",
              "      <th>Resource Allocation</th>\n",
              "      <th>Mental Fatigue Score</th>\n",
              "      <th>Burn Rate</th>\n",
              "    </tr>\n",
              "  </thead>\n",
              "  <tbody>\n",
              "    <tr>\n",
              "      <th>0</th>\n",
              "      <td>fffe33003400350030003300</td>\n",
              "      <td>2008-02-10</td>\n",
              "      <td>Female</td>\n",
              "      <td>Service</td>\n",
              "      <td>Yes</td>\n",
              "      <td>1.0</td>\n",
              "      <td>2.0</td>\n",
              "      <td>1.9</td>\n",
              "      <td>0.14</td>\n",
              "    </tr>\n",
              "    <tr>\n",
              "      <th>1</th>\n",
              "      <td>fffe3700320037003700</td>\n",
              "      <td>2008-09-10</td>\n",
              "      <td>Female</td>\n",
              "      <td>Service</td>\n",
              "      <td>No</td>\n",
              "      <td>3.0</td>\n",
              "      <td>7.0</td>\n",
              "      <td>9.0</td>\n",
              "      <td>0.79</td>\n",
              "    </tr>\n",
              "    <tr>\n",
              "      <th>2</th>\n",
              "      <td>fffe32003700390034003700</td>\n",
              "      <td>2008-11-23</td>\n",
              "      <td>Female</td>\n",
              "      <td>Service</td>\n",
              "      <td>No</td>\n",
              "      <td>4.0</td>\n",
              "      <td>7.0</td>\n",
              "      <td>6.8</td>\n",
              "      <td>0.68</td>\n",
              "    </tr>\n",
              "    <tr>\n",
              "      <th>3</th>\n",
              "      <td>fffe340038003000</td>\n",
              "      <td>2008-08-31</td>\n",
              "      <td>Female</td>\n",
              "      <td>Service</td>\n",
              "      <td>Yes</td>\n",
              "      <td>2.0</td>\n",
              "      <td>4.0</td>\n",
              "      <td>5.7</td>\n",
              "      <td>0.37</td>\n",
              "    </tr>\n",
              "    <tr>\n",
              "      <th>4</th>\n",
              "      <td>fffe31003000380035003100</td>\n",
              "      <td>2008-11-02</td>\n",
              "      <td>Male</td>\n",
              "      <td>Service</td>\n",
              "      <td>No</td>\n",
              "      <td>3.0</td>\n",
              "      <td>6.0</td>\n",
              "      <td>5.7</td>\n",
              "      <td>0.55</td>\n",
              "    </tr>\n",
              "    <tr>\n",
              "      <th>5</th>\n",
              "      <td>fffe3900370030003400</td>\n",
              "      <td>2008-09-24</td>\n",
              "      <td>Male</td>\n",
              "      <td>Service</td>\n",
              "      <td>No</td>\n",
              "      <td>5.0</td>\n",
              "      <td>10.0</td>\n",
              "      <td>9.4</td>\n",
              "      <td>1.00</td>\n",
              "    </tr>\n",
              "    <tr>\n",
              "      <th>6</th>\n",
              "      <td>fffe3700350034003200</td>\n",
              "      <td>2008-04-02</td>\n",
              "      <td>Female</td>\n",
              "      <td>Product</td>\n",
              "      <td>Yes</td>\n",
              "      <td>3.0</td>\n",
              "      <td>5.0</td>\n",
              "      <td>6.2</td>\n",
              "      <td>0.48</td>\n",
              "    </tr>\n",
              "    <tr>\n",
              "      <th>7</th>\n",
              "      <td>fffe31003600340037003100</td>\n",
              "      <td>2008-01-14</td>\n",
              "      <td>Male</td>\n",
              "      <td>Service</td>\n",
              "      <td>Yes</td>\n",
              "      <td>1.0</td>\n",
              "      <td>3.0</td>\n",
              "      <td>4.9</td>\n",
              "      <td>0.43</td>\n",
              "    </tr>\n",
              "  </tbody>\n",
              "</table>\n",
              "</div>"
            ],
            "text/plain": [
              "                Employee ID Date of Joining  Gender Company Type  \\\n",
              "0  fffe33003400350030003300      2008-02-10  Female      Service   \n",
              "1      fffe3700320037003700      2008-09-10  Female      Service   \n",
              "2  fffe32003700390034003700      2008-11-23  Female      Service   \n",
              "3          fffe340038003000      2008-08-31  Female      Service   \n",
              "4  fffe31003000380035003100      2008-11-02    Male      Service   \n",
              "5      fffe3900370030003400      2008-09-24    Male      Service   \n",
              "6      fffe3700350034003200      2008-04-02  Female      Product   \n",
              "7  fffe31003600340037003100      2008-01-14    Male      Service   \n",
              "\n",
              "  WFH Setup Available  Designation  Resource Allocation  Mental Fatigue Score  \\\n",
              "0                 Yes          1.0                  2.0                   1.9   \n",
              "1                  No          3.0                  7.0                   9.0   \n",
              "2                  No          4.0                  7.0                   6.8   \n",
              "3                 Yes          2.0                  4.0                   5.7   \n",
              "4                  No          3.0                  6.0                   5.7   \n",
              "5                  No          5.0                 10.0                   9.4   \n",
              "6                 Yes          3.0                  5.0                   6.2   \n",
              "7                 Yes          1.0                  3.0                   4.9   \n",
              "\n",
              "   Burn Rate  \n",
              "0       0.14  \n",
              "1       0.79  \n",
              "2       0.68  \n",
              "3       0.37  \n",
              "4       0.55  \n",
              "5       1.00  \n",
              "6       0.48  \n",
              "7       0.43  "
            ]
          },
          "execution_count": 35,
          "metadata": {},
          "output_type": "execute_result"
        }
      ],
      "source": [
        "# Reset Index\n",
        "\n",
        "data_new.reset_index(drop=True, inplace=True)\n",
        "data_inf_clear.reset_index(drop=True, inplace=True)\n",
        "data_inf_clear"
      ]
    },
    {
      "cell_type": "markdown",
      "metadata": {
        "id": "uM0NHiW6R7_n"
      },
      "source": [
        "## Splitting Dataset"
      ]
    },
    {
      "cell_type": "code",
      "execution_count": 36,
      "metadata": {
        "colab": {
          "base_uri": "https://localhost:8080/",
          "height": 539
        },
        "id": "wYcgxGFiR9w3",
        "outputId": "95058189-5db7-438a-acc8-d55d24dd6f37"
      },
      "outputs": [
        {
          "data": {
            "text/html": [
              "<div>\n",
              "<style scoped>\n",
              "    .dataframe tbody tr th:only-of-type {\n",
              "        vertical-align: middle;\n",
              "    }\n",
              "\n",
              "    .dataframe tbody tr th {\n",
              "        vertical-align: top;\n",
              "    }\n",
              "\n",
              "    .dataframe thead th {\n",
              "        text-align: right;\n",
              "    }\n",
              "</style>\n",
              "<table border=\"1\" class=\"dataframe\">\n",
              "  <thead>\n",
              "    <tr style=\"text-align: right;\">\n",
              "      <th></th>\n",
              "      <th>Employee ID</th>\n",
              "      <th>Date of Joining</th>\n",
              "      <th>Gender</th>\n",
              "      <th>Company Type</th>\n",
              "      <th>WFH Setup Available</th>\n",
              "      <th>Designation</th>\n",
              "      <th>Resource Allocation</th>\n",
              "      <th>Mental Fatigue Score</th>\n",
              "    </tr>\n",
              "  </thead>\n",
              "  <tbody>\n",
              "    <tr>\n",
              "      <th>0</th>\n",
              "      <td>fffe32003000360033003200</td>\n",
              "      <td>2008-09-30</td>\n",
              "      <td>Female</td>\n",
              "      <td>Service</td>\n",
              "      <td>No</td>\n",
              "      <td>2.0</td>\n",
              "      <td>3.0</td>\n",
              "      <td>3.8</td>\n",
              "    </tr>\n",
              "    <tr>\n",
              "      <th>1</th>\n",
              "      <td>fffe3700360033003500</td>\n",
              "      <td>2008-11-30</td>\n",
              "      <td>Male</td>\n",
              "      <td>Service</td>\n",
              "      <td>Yes</td>\n",
              "      <td>1.0</td>\n",
              "      <td>2.0</td>\n",
              "      <td>5.0</td>\n",
              "    </tr>\n",
              "    <tr>\n",
              "      <th>2</th>\n",
              "      <td>fffe31003300320037003900</td>\n",
              "      <td>2008-03-10</td>\n",
              "      <td>Female</td>\n",
              "      <td>Product</td>\n",
              "      <td>Yes</td>\n",
              "      <td>2.0</td>\n",
              "      <td>NaN</td>\n",
              "      <td>5.8</td>\n",
              "    </tr>\n",
              "    <tr>\n",
              "      <th>3</th>\n",
              "      <td>fffe32003400380032003900</td>\n",
              "      <td>2008-11-03</td>\n",
              "      <td>Male</td>\n",
              "      <td>Service</td>\n",
              "      <td>Yes</td>\n",
              "      <td>1.0</td>\n",
              "      <td>1.0</td>\n",
              "      <td>2.6</td>\n",
              "    </tr>\n",
              "    <tr>\n",
              "      <th>4</th>\n",
              "      <td>fffe31003900340031003600</td>\n",
              "      <td>2008-07-24</td>\n",
              "      <td>Female</td>\n",
              "      <td>Service</td>\n",
              "      <td>No</td>\n",
              "      <td>3.0</td>\n",
              "      <td>7.0</td>\n",
              "      <td>6.9</td>\n",
              "    </tr>\n",
              "    <tr>\n",
              "      <th>...</th>\n",
              "      <td>...</td>\n",
              "      <td>...</td>\n",
              "      <td>...</td>\n",
              "      <td>...</td>\n",
              "      <td>...</td>\n",
              "      <td>...</td>\n",
              "      <td>...</td>\n",
              "      <td>...</td>\n",
              "    </tr>\n",
              "    <tr>\n",
              "      <th>21613</th>\n",
              "      <td>fffe31003500370039003100</td>\n",
              "      <td>2008-12-30</td>\n",
              "      <td>Female</td>\n",
              "      <td>Service</td>\n",
              "      <td>No</td>\n",
              "      <td>1.0</td>\n",
              "      <td>3.0</td>\n",
              "      <td>NaN</td>\n",
              "    </tr>\n",
              "    <tr>\n",
              "      <th>21614</th>\n",
              "      <td>fffe33003000350031003800</td>\n",
              "      <td>2008-01-19</td>\n",
              "      <td>Female</td>\n",
              "      <td>Product</td>\n",
              "      <td>Yes</td>\n",
              "      <td>3.0</td>\n",
              "      <td>6.0</td>\n",
              "      <td>6.7</td>\n",
              "    </tr>\n",
              "    <tr>\n",
              "      <th>21615</th>\n",
              "      <td>fffe390032003000</td>\n",
              "      <td>2008-11-05</td>\n",
              "      <td>Male</td>\n",
              "      <td>Service</td>\n",
              "      <td>Yes</td>\n",
              "      <td>3.0</td>\n",
              "      <td>7.0</td>\n",
              "      <td>NaN</td>\n",
              "    </tr>\n",
              "    <tr>\n",
              "      <th>21616</th>\n",
              "      <td>fffe33003300320036003900</td>\n",
              "      <td>2008-01-10</td>\n",
              "      <td>Female</td>\n",
              "      <td>Service</td>\n",
              "      <td>No</td>\n",
              "      <td>2.0</td>\n",
              "      <td>5.0</td>\n",
              "      <td>5.9</td>\n",
              "    </tr>\n",
              "    <tr>\n",
              "      <th>21617</th>\n",
              "      <td>fffe3400350031003800</td>\n",
              "      <td>2008-01-06</td>\n",
              "      <td>Male</td>\n",
              "      <td>Product</td>\n",
              "      <td>No</td>\n",
              "      <td>3.0</td>\n",
              "      <td>6.0</td>\n",
              "      <td>7.8</td>\n",
              "    </tr>\n",
              "  </tbody>\n",
              "</table>\n",
              "<p>21618 rows × 8 columns</p>\n",
              "</div>"
            ],
            "text/plain": [
              "                    Employee ID Date of Joining  Gender Company Type  \\\n",
              "0      fffe32003000360033003200      2008-09-30  Female      Service   \n",
              "1          fffe3700360033003500      2008-11-30    Male      Service   \n",
              "2      fffe31003300320037003900      2008-03-10  Female      Product   \n",
              "3      fffe32003400380032003900      2008-11-03    Male      Service   \n",
              "4      fffe31003900340031003600      2008-07-24  Female      Service   \n",
              "...                         ...             ...     ...          ...   \n",
              "21613  fffe31003500370039003100      2008-12-30  Female      Service   \n",
              "21614  fffe33003000350031003800      2008-01-19  Female      Product   \n",
              "21615          fffe390032003000      2008-11-05    Male      Service   \n",
              "21616  fffe33003300320036003900      2008-01-10  Female      Service   \n",
              "21617      fffe3400350031003800      2008-01-06    Male      Product   \n",
              "\n",
              "      WFH Setup Available  Designation  Resource Allocation  \\\n",
              "0                      No          2.0                  3.0   \n",
              "1                     Yes          1.0                  2.0   \n",
              "2                     Yes          2.0                  NaN   \n",
              "3                     Yes          1.0                  1.0   \n",
              "4                      No          3.0                  7.0   \n",
              "...                   ...          ...                  ...   \n",
              "21613                  No          1.0                  3.0   \n",
              "21614                 Yes          3.0                  6.0   \n",
              "21615                 Yes          3.0                  7.0   \n",
              "21616                  No          2.0                  5.0   \n",
              "21617                  No          3.0                  6.0   \n",
              "\n",
              "       Mental Fatigue Score  \n",
              "0                       3.8  \n",
              "1                       5.0  \n",
              "2                       5.8  \n",
              "3                       2.6  \n",
              "4                       6.9  \n",
              "...                     ...  \n",
              "21613                   NaN  \n",
              "21614                   6.7  \n",
              "21615                   NaN  \n",
              "21616                   5.9  \n",
              "21617                   7.8  \n",
              "\n",
              "[21618 rows x 8 columns]"
            ]
          },
          "execution_count": 36,
          "metadata": {},
          "output_type": "execute_result"
        }
      ],
      "source": [
        "# Split between X (features) and y (target)\n",
        "\n",
        "X = data_new.drop('Burn Rate', axis=1)\n",
        "y = data_new['Burn Rate']\n",
        "X"
      ]
    },
    {
      "cell_type": "code",
      "execution_count": 37,
      "metadata": {},
      "outputs": [
        {
          "data": {
            "text/plain": [
              "0        0.16\n",
              "1        0.36\n",
              "2        0.49\n",
              "3        0.20\n",
              "4        0.52\n",
              "         ... \n",
              "21613    0.41\n",
              "21614    0.59\n",
              "21615    0.72\n",
              "21616    0.52\n",
              "21617    0.61\n",
              "Name: Burn Rate, Length: 21618, dtype: float64"
            ]
          },
          "execution_count": 37,
          "metadata": {},
          "output_type": "execute_result"
        }
      ],
      "source": [
        "y"
      ]
    },
    {
      "cell_type": "code",
      "execution_count": 38,
      "metadata": {
        "colab": {
          "base_uri": "https://localhost:8080/"
        },
        "id": "n4A8_aFPS3_I",
        "outputId": "53509ca9-369a-4da6-a79f-8478f600298a"
      },
      "outputs": [
        {
          "name": "stdout",
          "output_type": "stream",
          "text": [
            "X Train Size :  (17294, 8)\n",
            "X Test Size  :  (4324, 8)\n",
            "y Train Size :  (17294,)\n",
            "y Test Size  :  (4324,)\n"
          ]
        }
      ],
      "source": [
        "# Split between Train-Set and Test-Set\n",
        "\n",
        "\n",
        "X_train, X_test, y_train, y_test = train_test_split(X, y, test_size=0.2, random_state=18)\n",
        "\n",
        "print('X Train Size : ', X_train.shape)\n",
        "print('X Test Size  : ', X_test.shape)\n",
        "print('y Train Size : ', y_train.shape)\n",
        "print('y Test Size  : ', y_test.shape)"
      ]
    },
    {
      "cell_type": "markdown",
      "metadata": {
        "id": "aYKlxTPcUxQF"
      },
      "source": [
        "---\n",
        "## Handling Outlier"
      ]
    },
    {
      "cell_type": "code",
      "execution_count": 39,
      "metadata": {},
      "outputs": [
        {
          "data": {
            "image/png": "[encoded data removed]",
            "text/plain": [
              "<Figure size 1440x1080 with 4 Axes>"
            ]
          },
          "metadata": {
            "needs_background": "light"
          },
          "output_type": "display_data"
        }
      ],
      "source": [
        "# Mencari tahu distribusi data dan visualisasi\n",
        "\n",
        "X_train.hist(bins=50, figsize=(20,15))\n",
        "plt.show()"
      ]
    },
    {
      "cell_type": "code",
      "execution_count": 40,
      "metadata": {},
      "outputs": [],
      "source": [
        "def skew_func (data, column):\n",
        "    skewness = data[column].skew(axis = 0, skipna = True)\n",
        "    print(f'Skewness of {column} = ', skewness)"
      ]
    },
    {
      "cell_type": "code",
      "execution_count": 41,
      "metadata": {},
      "outputs": [],
      "source": [
        "num_columns = X_train.select_dtypes(include= np.number).columns.tolist()"
      ]
    },
    {
      "cell_type": "code",
      "execution_count": 42,
      "metadata": {},
      "outputs": [
        {
          "name": "stdout",
          "output_type": "stream",
          "text": [
            "Skewness of Designation =  0.0894438025648196\n",
            "Skewness of Resource Allocation =  0.2019218152163508\n",
            "Skewness of Mental Fatigue Score =  -0.4326392073866475\n"
          ]
        }
      ],
      "source": [
        "for column in num_columns:\n",
        "    skew_func(data, column)"
      ]
    },
    {
      "cell_type": "code",
      "execution_count": 43,
      "metadata": {},
      "outputs": [],
      "source": [
        "def outiers_val(data, column):\n",
        "    skewness = data[column].skew(axis = 0, skipna = True)\n",
        "    if skewness <= 0.5 and skewness >= -0.5:\n",
        "        batas_atas = data[column].mean() + 3 * data[column].std()\n",
        "        batas_bawah =  data[column].mean() - 3 * data[column].std()\n",
        "        print('[Normal]')\n",
        "        print(f'Batas atas {column} = {batas_atas}')\n",
        "        print(f'Batas bawah {column} = {batas_bawah}')\n",
        "        print('Total data melebihi batas atas : {}'.format(len(data[data[column] > batas_atas])))\n",
        "        print('Total data kurang dari batas bawah : {}'.format(len(data[data[column] < batas_bawah])))\n",
        "        print('% melebihi batas atas : {}'.format(len(data[data[column] > batas_atas]) / len(data) * 100 ))\n",
        "        print('% kurang dari batas bawah : {}'.format(len(data[data[column] < batas_bawah]) / len(data) * 100 ))\n",
        "        print('-'*100)\n",
        "    else:\n",
        "        IQR = data[column].quantile(0.75) - data[column].quantile(0.25)\n",
        "        batas_bawah = data[column].quantile(0.25) - (IQR * 1.5)\n",
        "        batas_atas = data[column].quantile(0.75) + (IQR * 1.5)\n",
        "        print('[Skewed]')\n",
        "        print(f'Batas atas dari {column} = {batas_atas}')\n",
        "        print(f'Batas bawah dari {column} = {batas_bawah}')\n",
        "        print('Total data melebihi batas atas : {}'.format(len(data[data[column] > batas_atas])))\n",
        "        print('Total data kurang dari batas bawah : {}'.format(len(data[data[column] < batas_bawah])))\n",
        "        print('% melebihi batas atas : {}'.format(len(data[data[column] > batas_atas]) / len(data) * 100 ))\n",
        "        print('% kurang dari batas bawah : {}'.format(len(data[data[column] < batas_bawah]) / len(data) * 100 ))\n",
        "        print('-'*100)"
      ]
    },
    {
      "cell_type": "code",
      "execution_count": 44,
      "metadata": {},
      "outputs": [],
      "source": [
        "num_data_outlier = X_train.select_dtypes(include= np.number).columns.tolist()"
      ]
    },
    {
      "cell_type": "code",
      "execution_count": 45,
      "metadata": {},
      "outputs": [
        {
          "name": "stdout",
          "output_type": "stream",
          "text": [
            "[Normal]\n",
            "Batas atas Designation = 5.587463996481671\n",
            "Batas bawah Designation = -1.2234070981354241\n",
            "Total data melebihi batas atas : 0\n",
            "Total data kurang dari batas bawah : 0\n",
            "% melebihi batas atas : 0.0\n",
            "% kurang dari batas bawah : 0.0\n",
            "----------------------------------------------------------------------------------------------------\n",
            "[Normal]\n",
            "Batas atas Resource Allocation = 10.630811133746311\n",
            "Batas bawah Resource Allocation = -1.6472206967725551\n",
            "Total data melebihi batas atas : 0\n",
            "Total data kurang dari batas bawah : 0\n",
            "% melebihi batas atas : 0.0\n",
            "% kurang dari batas bawah : 0.0\n",
            "----------------------------------------------------------------------------------------------------\n",
            "[Normal]\n",
            "Batas atas Mental Fatigue Score = 11.49738751007342\n",
            "Batas bawah Mental Fatigue Score = -0.03186720550488076\n",
            "Total data melebihi batas atas : 0\n",
            "Total data kurang dari batas bawah : 0\n",
            "% melebihi batas atas : 0.0\n",
            "% kurang dari batas bawah : 0.0\n",
            "----------------------------------------------------------------------------------------------------\n"
          ]
        }
      ],
      "source": [
        "for features in num_data_outlier:\n",
        "    outiers_val(X_train, features)"
      ]
    },
    {
      "cell_type": "markdown",
      "metadata": {},
      "source": [
        "Dari hasil analisa outlier di atas tidak terdapat nilai outlier pada semua kolom, sehingga tidak akan dilakukan trimming ataupun caping pada dataset"
      ]
    },
    {
      "cell_type": "code",
      "execution_count": 46,
      "metadata": {},
      "outputs": [
        {
          "data": {
            "text/html": [
              "<div>\n",
              "<style scoped>\n",
              "    .dataframe tbody tr th:only-of-type {\n",
              "        vertical-align: middle;\n",
              "    }\n",
              "\n",
              "    .dataframe tbody tr th {\n",
              "        vertical-align: top;\n",
              "    }\n",
              "\n",
              "    .dataframe thead th {\n",
              "        text-align: right;\n",
              "    }\n",
              "</style>\n",
              "<table border=\"1\" class=\"dataframe\">\n",
              "  <thead>\n",
              "    <tr style=\"text-align: right;\">\n",
              "      <th></th>\n",
              "      <th>Employee ID</th>\n",
              "      <th>Date of Joining</th>\n",
              "      <th>Gender</th>\n",
              "      <th>Company Type</th>\n",
              "      <th>WFH Setup Available</th>\n",
              "      <th>Designation</th>\n",
              "      <th>Resource Allocation</th>\n",
              "      <th>Mental Fatigue Score</th>\n",
              "    </tr>\n",
              "  </thead>\n",
              "  <tbody>\n",
              "    <tr>\n",
              "      <th>17315</th>\n",
              "      <td>fffe31003400360032003900</td>\n",
              "      <td>2008-09-27</td>\n",
              "      <td>Male</td>\n",
              "      <td>Product</td>\n",
              "      <td>Yes</td>\n",
              "      <td>2.0</td>\n",
              "      <td>5.0</td>\n",
              "      <td>6.3</td>\n",
              "    </tr>\n",
              "    <tr>\n",
              "      <th>3444</th>\n",
              "      <td>fffe33003200370037003000</td>\n",
              "      <td>2008-04-02</td>\n",
              "      <td>Female</td>\n",
              "      <td>Service</td>\n",
              "      <td>Yes</td>\n",
              "      <td>2.0</td>\n",
              "      <td>3.0</td>\n",
              "      <td>4.8</td>\n",
              "    </tr>\n",
              "    <tr>\n",
              "      <th>9309</th>\n",
              "      <td>fffe31003200320036003500</td>\n",
              "      <td>2008-05-14</td>\n",
              "      <td>Male</td>\n",
              "      <td>Product</td>\n",
              "      <td>Yes</td>\n",
              "      <td>4.0</td>\n",
              "      <td>6.0</td>\n",
              "      <td>7.7</td>\n",
              "    </tr>\n",
              "    <tr>\n",
              "      <th>4784</th>\n",
              "      <td>fffe32003300380039003900</td>\n",
              "      <td>2008-12-01</td>\n",
              "      <td>Female</td>\n",
              "      <td>Product</td>\n",
              "      <td>Yes</td>\n",
              "      <td>1.0</td>\n",
              "      <td>1.0</td>\n",
              "      <td>0.0</td>\n",
              "    </tr>\n",
              "    <tr>\n",
              "      <th>8907</th>\n",
              "      <td>fffe31003100390037003400</td>\n",
              "      <td>2008-06-28</td>\n",
              "      <td>Male</td>\n",
              "      <td>Service</td>\n",
              "      <td>Yes</td>\n",
              "      <td>3.0</td>\n",
              "      <td>4.0</td>\n",
              "      <td>7.0</td>\n",
              "    </tr>\n",
              "    <tr>\n",
              "      <th>...</th>\n",
              "      <td>...</td>\n",
              "      <td>...</td>\n",
              "      <td>...</td>\n",
              "      <td>...</td>\n",
              "      <td>...</td>\n",
              "      <td>...</td>\n",
              "      <td>...</td>\n",
              "      <td>...</td>\n",
              "    </tr>\n",
              "    <tr>\n",
              "      <th>18674</th>\n",
              "      <td>fffe3800370035003300</td>\n",
              "      <td>2008-02-18</td>\n",
              "      <td>Male</td>\n",
              "      <td>Product</td>\n",
              "      <td>No</td>\n",
              "      <td>3.0</td>\n",
              "      <td>5.0</td>\n",
              "      <td>5.3</td>\n",
              "    </tr>\n",
              "    <tr>\n",
              "      <th>5294</th>\n",
              "      <td>fffe32003900350038003100</td>\n",
              "      <td>2008-06-28</td>\n",
              "      <td>Male</td>\n",
              "      <td>Service</td>\n",
              "      <td>No</td>\n",
              "      <td>4.0</td>\n",
              "      <td>8.0</td>\n",
              "      <td>8.0</td>\n",
              "    </tr>\n",
              "    <tr>\n",
              "      <th>16305</th>\n",
              "      <td>fffe32003800370036003600</td>\n",
              "      <td>2008-01-06</td>\n",
              "      <td>Female</td>\n",
              "      <td>Service</td>\n",
              "      <td>No</td>\n",
              "      <td>2.0</td>\n",
              "      <td>4.0</td>\n",
              "      <td>7.5</td>\n",
              "    </tr>\n",
              "    <tr>\n",
              "      <th>1726</th>\n",
              "      <td>fffe32003100320036003900</td>\n",
              "      <td>2008-04-19</td>\n",
              "      <td>Male</td>\n",
              "      <td>Service</td>\n",
              "      <td>Yes</td>\n",
              "      <td>1.0</td>\n",
              "      <td>2.0</td>\n",
              "      <td>4.9</td>\n",
              "    </tr>\n",
              "    <tr>\n",
              "      <th>2885</th>\n",
              "      <td>fffe32003200360037003700</td>\n",
              "      <td>2008-11-26</td>\n",
              "      <td>Male</td>\n",
              "      <td>Service</td>\n",
              "      <td>Yes</td>\n",
              "      <td>1.0</td>\n",
              "      <td>4.0</td>\n",
              "      <td>5.3</td>\n",
              "    </tr>\n",
              "  </tbody>\n",
              "</table>\n",
              "<p>17294 rows × 8 columns</p>\n",
              "</div>"
            ],
            "text/plain": [
              "                    Employee ID Date of Joining  Gender Company Type  \\\n",
              "17315  fffe31003400360032003900      2008-09-27    Male      Product   \n",
              "3444   fffe33003200370037003000      2008-04-02  Female      Service   \n",
              "9309   fffe31003200320036003500      2008-05-14    Male      Product   \n",
              "4784   fffe32003300380039003900      2008-12-01  Female      Product   \n",
              "8907   fffe31003100390037003400      2008-06-28    Male      Service   \n",
              "...                         ...             ...     ...          ...   \n",
              "18674      fffe3800370035003300      2008-02-18    Male      Product   \n",
              "5294   fffe32003900350038003100      2008-06-28    Male      Service   \n",
              "16305  fffe32003800370036003600      2008-01-06  Female      Service   \n",
              "1726   fffe32003100320036003900      2008-04-19    Male      Service   \n",
              "2885   fffe32003200360037003700      2008-11-26    Male      Service   \n",
              "\n",
              "      WFH Setup Available  Designation  Resource Allocation  \\\n",
              "17315                 Yes          2.0                  5.0   \n",
              "3444                  Yes          2.0                  3.0   \n",
              "9309                  Yes          4.0                  6.0   \n",
              "4784                  Yes          1.0                  1.0   \n",
              "8907                  Yes          3.0                  4.0   \n",
              "...                   ...          ...                  ...   \n",
              "18674                  No          3.0                  5.0   \n",
              "5294                   No          4.0                  8.0   \n",
              "16305                  No          2.0                  4.0   \n",
              "1726                  Yes          1.0                  2.0   \n",
              "2885                  Yes          1.0                  4.0   \n",
              "\n",
              "       Mental Fatigue Score  \n",
              "17315                   6.3  \n",
              "3444                    4.8  \n",
              "9309                    7.7  \n",
              "4784                    0.0  \n",
              "8907                    7.0  \n",
              "...                     ...  \n",
              "18674                   5.3  \n",
              "5294                    8.0  \n",
              "16305                   7.5  \n",
              "1726                    4.9  \n",
              "2885                    5.3  \n",
              "\n",
              "[17294 rows x 8 columns]"
            ]
          },
          "execution_count": 46,
          "metadata": {},
          "output_type": "execute_result"
        }
      ],
      "source": [
        "X_train"
      ]
    },
    {
      "cell_type": "code",
      "execution_count": 47,
      "metadata": {},
      "outputs": [
        {
          "data": {
            "text/plain": [
              "(17294,)"
            ]
          },
          "execution_count": 47,
          "metadata": {},
          "output_type": "execute_result"
        }
      ],
      "source": [
        "y_train_new = y_train[X_train.index]\n",
        "y_train_new.shape"
      ]
    },
    {
      "cell_type": "markdown",
      "metadata": {
        "id": "Jbj7zYHMU44K"
      },
      "source": [
        "---\n",
        "## Handling Missing Values"
      ]
    },
    {
      "cell_type": "code",
      "execution_count": 48,
      "metadata": {},
      "outputs": [
        {
          "name": "stdout",
          "output_type": "stream",
          "text": [
            "<class 'pandas.core.frame.DataFrame'>\n",
            "Int64Index: 17294 entries, 17315 to 2885\n",
            "Data columns (total 8 columns):\n",
            " #   Column                Non-Null Count  Dtype  \n",
            "---  ------                --------------  -----  \n",
            " 0   Employee ID           17294 non-null  object \n",
            " 1   Date of Joining       17294 non-null  object \n",
            " 2   Gender                17294 non-null  object \n",
            " 3   Company Type          17294 non-null  object \n",
            " 4   WFH Setup Available   17294 non-null  object \n",
            " 5   Designation           17294 non-null  float64\n",
            " 6   Resource Allocation   16271 non-null  float64\n",
            " 7   Mental Fatigue Score  15760 non-null  float64\n",
            "dtypes: float64(3), object(5)\n",
            "memory usage: 1.2+ MB\n"
          ]
        }
      ],
      "source": [
        "X_train.info()"
      ]
    },
    {
      "cell_type": "code",
      "execution_count": 49,
      "metadata": {
        "colab": {
          "base_uri": "https://localhost:8080/"
        },
        "id": "RJVbDSwlU-12",
        "outputId": "a3a26462-9aca-4598-b1bc-2e845887a332"
      },
      "outputs": [
        {
          "data": {
            "text/plain": [
              "Employee ID                0\n",
              "Date of Joining            0\n",
              "Gender                     0\n",
              "Company Type               0\n",
              "WFH Setup Available        0\n",
              "Designation                0\n",
              "Resource Allocation     1023\n",
              "Mental Fatigue Score    1534\n",
              "dtype: int64"
            ]
          },
          "execution_count": 49,
          "metadata": {},
          "output_type": "execute_result"
        }
      ],
      "source": [
        "# Check missing values on X_train\n",
        "\n",
        "X_train.isnull().sum()"
      ]
    },
    {
      "cell_type": "code",
      "execution_count": 50,
      "metadata": {},
      "outputs": [],
      "source": [
        "# handling missing value pada kolom numerical\n",
        "# karena data pada kolom numerical terdistribusi normal, maka proses imputasi nilai pada kolom yang terdapat missing value menggunakan nilai mean\n",
        "\n",
        "miss_num = MeanMedianImputer(imputation_method= 'mean',\n",
        "                              variables= ['Resource Allocation',\n",
        "                                          'Mental Fatigue Score'])\n",
        "miss_num.fit(X_train)\n",
        "X_train_handled = miss_num.transform(X_train)\n",
        "X_test = miss_num.transform(X_test)"
      ]
    },
    {
      "cell_type": "code",
      "execution_count": 51,
      "metadata": {},
      "outputs": [
        {
          "data": {
            "text/plain": [
              "Employee ID             0\n",
              "Date of Joining         0\n",
              "Gender                  0\n",
              "Company Type            0\n",
              "WFH Setup Available     0\n",
              "Designation             0\n",
              "Resource Allocation     0\n",
              "Mental Fatigue Score    0\n",
              "dtype: int64"
            ]
          },
          "execution_count": 51,
          "metadata": {},
          "output_type": "execute_result"
        }
      ],
      "source": [
        "X_train_handled.isnull().sum()"
      ]
    },
    {
      "cell_type": "code",
      "execution_count": 52,
      "metadata": {},
      "outputs": [
        {
          "data": {
            "text/plain": [
              "Employee ID             0\n",
              "Date of Joining         0\n",
              "Gender                  0\n",
              "Company Type            0\n",
              "WFH Setup Available     0\n",
              "Designation             0\n",
              "Resource Allocation     0\n",
              "Mental Fatigue Score    0\n",
              "dtype: int64"
            ]
          },
          "execution_count": 52,
          "metadata": {},
          "output_type": "execute_result"
        }
      ],
      "source": [
        "# Check missing values on X_test\n",
        "\n",
        "X_test.isnull().sum()"
      ]
    },
    {
      "cell_type": "code",
      "execution_count": 53,
      "metadata": {
        "colab": {
          "base_uri": "https://localhost:8080/"
        },
        "id": "kjA0qHYdVTDO",
        "outputId": "d6c80465-6d70-4e65-cc3d-8636c5937f88"
      },
      "outputs": [
        {
          "data": {
            "text/plain": [
              "0"
            ]
          },
          "execution_count": 53,
          "metadata": {},
          "output_type": "execute_result"
        }
      ],
      "source": [
        "# Check missing values on y_train\n",
        "\n",
        "y_train_new.isnull().sum()"
      ]
    },
    {
      "cell_type": "code",
      "execution_count": 54,
      "metadata": {
        "colab": {
          "base_uri": "https://localhost:8080/"
        },
        "id": "MhVcQiK0VZ9H",
        "outputId": "7aa78dc9-9539-417c-cd81-5b17269b96dc"
      },
      "outputs": [
        {
          "data": {
            "text/plain": [
              "0"
            ]
          },
          "execution_count": 54,
          "metadata": {},
          "output_type": "execute_result"
        }
      ],
      "source": [
        "# Check missing values on y_test\n",
        "\n",
        "y_test.isnull().sum()"
      ]
    },
    {
      "cell_type": "markdown",
      "metadata": {
        "id": "Cvp33WdhVZS5"
      },
      "source": [
        "---\n",
        "## Feature Selection"
      ]
    },
    {
      "cell_type": "code",
      "execution_count": 55,
      "metadata": {
        "colab": {
          "base_uri": "https://localhost:8080/",
          "height": 609
        },
        "id": "WM2saWa_VlHb",
        "outputId": "8547c3bc-0627-45eb-c790-bdc7d525d221"
      },
      "outputs": [
        {
          "data": {
            "text/html": [
              "<div>\n",
              "<style scoped>\n",
              "    .dataframe tbody tr th:only-of-type {\n",
              "        vertical-align: middle;\n",
              "    }\n",
              "\n",
              "    .dataframe tbody tr th {\n",
              "        vertical-align: top;\n",
              "    }\n",
              "\n",
              "    .dataframe thead th {\n",
              "        text-align: right;\n",
              "    }\n",
              "</style>\n",
              "<table border=\"1\" class=\"dataframe\">\n",
              "  <thead>\n",
              "    <tr style=\"text-align: right;\">\n",
              "      <th></th>\n",
              "      <th>Employee ID</th>\n",
              "      <th>Date of Joining</th>\n",
              "      <th>Gender</th>\n",
              "      <th>Company Type</th>\n",
              "      <th>WFH Setup Available</th>\n",
              "      <th>Designation</th>\n",
              "      <th>Resource Allocation</th>\n",
              "      <th>Mental Fatigue Score</th>\n",
              "    </tr>\n",
              "  </thead>\n",
              "  <tbody>\n",
              "    <tr>\n",
              "      <th>17315</th>\n",
              "      <td>fffe31003400360032003900</td>\n",
              "      <td>2008-09-27</td>\n",
              "      <td>Male</td>\n",
              "      <td>Product</td>\n",
              "      <td>Yes</td>\n",
              "      <td>2.0</td>\n",
              "      <td>5.0</td>\n",
              "      <td>6.3</td>\n",
              "    </tr>\n",
              "    <tr>\n",
              "      <th>3444</th>\n",
              "      <td>fffe33003200370037003000</td>\n",
              "      <td>2008-04-02</td>\n",
              "      <td>Female</td>\n",
              "      <td>Service</td>\n",
              "      <td>Yes</td>\n",
              "      <td>2.0</td>\n",
              "      <td>3.0</td>\n",
              "      <td>4.8</td>\n",
              "    </tr>\n",
              "    <tr>\n",
              "      <th>9309</th>\n",
              "      <td>fffe31003200320036003500</td>\n",
              "      <td>2008-05-14</td>\n",
              "      <td>Male</td>\n",
              "      <td>Product</td>\n",
              "      <td>Yes</td>\n",
              "      <td>4.0</td>\n",
              "      <td>6.0</td>\n",
              "      <td>7.7</td>\n",
              "    </tr>\n",
              "    <tr>\n",
              "      <th>4784</th>\n",
              "      <td>fffe32003300380039003900</td>\n",
              "      <td>2008-12-01</td>\n",
              "      <td>Female</td>\n",
              "      <td>Product</td>\n",
              "      <td>Yes</td>\n",
              "      <td>1.0</td>\n",
              "      <td>1.0</td>\n",
              "      <td>0.0</td>\n",
              "    </tr>\n",
              "    <tr>\n",
              "      <th>8907</th>\n",
              "      <td>fffe31003100390037003400</td>\n",
              "      <td>2008-06-28</td>\n",
              "      <td>Male</td>\n",
              "      <td>Service</td>\n",
              "      <td>Yes</td>\n",
              "      <td>3.0</td>\n",
              "      <td>4.0</td>\n",
              "      <td>7.0</td>\n",
              "    </tr>\n",
              "    <tr>\n",
              "      <th>...</th>\n",
              "      <td>...</td>\n",
              "      <td>...</td>\n",
              "      <td>...</td>\n",
              "      <td>...</td>\n",
              "      <td>...</td>\n",
              "      <td>...</td>\n",
              "      <td>...</td>\n",
              "      <td>...</td>\n",
              "    </tr>\n",
              "    <tr>\n",
              "      <th>18674</th>\n",
              "      <td>fffe3800370035003300</td>\n",
              "      <td>2008-02-18</td>\n",
              "      <td>Male</td>\n",
              "      <td>Product</td>\n",
              "      <td>No</td>\n",
              "      <td>3.0</td>\n",
              "      <td>5.0</td>\n",
              "      <td>5.3</td>\n",
              "    </tr>\n",
              "    <tr>\n",
              "      <th>5294</th>\n",
              "      <td>fffe32003900350038003100</td>\n",
              "      <td>2008-06-28</td>\n",
              "      <td>Male</td>\n",
              "      <td>Service</td>\n",
              "      <td>No</td>\n",
              "      <td>4.0</td>\n",
              "      <td>8.0</td>\n",
              "      <td>8.0</td>\n",
              "    </tr>\n",
              "    <tr>\n",
              "      <th>16305</th>\n",
              "      <td>fffe32003800370036003600</td>\n",
              "      <td>2008-01-06</td>\n",
              "      <td>Female</td>\n",
              "      <td>Service</td>\n",
              "      <td>No</td>\n",
              "      <td>2.0</td>\n",
              "      <td>4.0</td>\n",
              "      <td>7.5</td>\n",
              "    </tr>\n",
              "    <tr>\n",
              "      <th>1726</th>\n",
              "      <td>fffe32003100320036003900</td>\n",
              "      <td>2008-04-19</td>\n",
              "      <td>Male</td>\n",
              "      <td>Service</td>\n",
              "      <td>Yes</td>\n",
              "      <td>1.0</td>\n",
              "      <td>2.0</td>\n",
              "      <td>4.9</td>\n",
              "    </tr>\n",
              "    <tr>\n",
              "      <th>2885</th>\n",
              "      <td>fffe32003200360037003700</td>\n",
              "      <td>2008-11-26</td>\n",
              "      <td>Male</td>\n",
              "      <td>Service</td>\n",
              "      <td>Yes</td>\n",
              "      <td>1.0</td>\n",
              "      <td>4.0</td>\n",
              "      <td>5.3</td>\n",
              "    </tr>\n",
              "  </tbody>\n",
              "</table>\n",
              "<p>17294 rows × 8 columns</p>\n",
              "</div>"
            ],
            "text/plain": [
              "                    Employee ID Date of Joining  Gender Company Type  \\\n",
              "17315  fffe31003400360032003900      2008-09-27    Male      Product   \n",
              "3444   fffe33003200370037003000      2008-04-02  Female      Service   \n",
              "9309   fffe31003200320036003500      2008-05-14    Male      Product   \n",
              "4784   fffe32003300380039003900      2008-12-01  Female      Product   \n",
              "8907   fffe31003100390037003400      2008-06-28    Male      Service   \n",
              "...                         ...             ...     ...          ...   \n",
              "18674      fffe3800370035003300      2008-02-18    Male      Product   \n",
              "5294   fffe32003900350038003100      2008-06-28    Male      Service   \n",
              "16305  fffe32003800370036003600      2008-01-06  Female      Service   \n",
              "1726   fffe32003100320036003900      2008-04-19    Male      Service   \n",
              "2885   fffe32003200360037003700      2008-11-26    Male      Service   \n",
              "\n",
              "      WFH Setup Available  Designation  Resource Allocation  \\\n",
              "17315                 Yes          2.0                  5.0   \n",
              "3444                  Yes          2.0                  3.0   \n",
              "9309                  Yes          4.0                  6.0   \n",
              "4784                  Yes          1.0                  1.0   \n",
              "8907                  Yes          3.0                  4.0   \n",
              "...                   ...          ...                  ...   \n",
              "18674                  No          3.0                  5.0   \n",
              "5294                   No          4.0                  8.0   \n",
              "16305                  No          2.0                  4.0   \n",
              "1726                  Yes          1.0                  2.0   \n",
              "2885                  Yes          1.0                  4.0   \n",
              "\n",
              "       Mental Fatigue Score  \n",
              "17315                   6.3  \n",
              "3444                    4.8  \n",
              "9309                    7.7  \n",
              "4784                    0.0  \n",
              "8907                    7.0  \n",
              "...                     ...  \n",
              "18674                   5.3  \n",
              "5294                    8.0  \n",
              "16305                   7.5  \n",
              "1726                    4.9  \n",
              "2885                    5.3  \n",
              "\n",
              "[17294 rows x 8 columns]"
            ]
          },
          "execution_count": 55,
          "metadata": {},
          "output_type": "execute_result"
        }
      ],
      "source": [
        "# Display X_train_handled\n",
        "\n",
        "X_train_handled"
      ]
    },
    {
      "cell_type": "code",
      "execution_count": 56,
      "metadata": {},
      "outputs": [
        {
          "data": {
            "text/html": [
              "<div>\n",
              "<style scoped>\n",
              "    .dataframe tbody tr th:only-of-type {\n",
              "        vertical-align: middle;\n",
              "    }\n",
              "\n",
              "    .dataframe tbody tr th {\n",
              "        vertical-align: top;\n",
              "    }\n",
              "\n",
              "    .dataframe thead th {\n",
              "        text-align: right;\n",
              "    }\n",
              "</style>\n",
              "<table border=\"1\" class=\"dataframe\">\n",
              "  <thead>\n",
              "    <tr style=\"text-align: right;\">\n",
              "      <th></th>\n",
              "      <th>Employee ID</th>\n",
              "      <th>Date of Joining</th>\n",
              "      <th>Gender</th>\n",
              "      <th>Company Type</th>\n",
              "      <th>WFH Setup Available</th>\n",
              "      <th>Designation</th>\n",
              "      <th>Resource Allocation</th>\n",
              "      <th>Mental Fatigue Score</th>\n",
              "    </tr>\n",
              "  </thead>\n",
              "  <tbody>\n",
              "    <tr>\n",
              "      <th>18169</th>\n",
              "      <td>fffe3400330032003900</td>\n",
              "      <td>2008-03-15</td>\n",
              "      <td>Female</td>\n",
              "      <td>Service</td>\n",
              "      <td>No</td>\n",
              "      <td>2.0</td>\n",
              "      <td>3.000000</td>\n",
              "      <td>3.7</td>\n",
              "    </tr>\n",
              "    <tr>\n",
              "      <th>7422</th>\n",
              "      <td>fffe32003400370035003000</td>\n",
              "      <td>2008-01-17</td>\n",
              "      <td>Male</td>\n",
              "      <td>Service</td>\n",
              "      <td>No</td>\n",
              "      <td>2.0</td>\n",
              "      <td>3.000000</td>\n",
              "      <td>3.7</td>\n",
              "    </tr>\n",
              "    <tr>\n",
              "      <th>18739</th>\n",
              "      <td>fffe32003000380032003400</td>\n",
              "      <td>2008-01-26</td>\n",
              "      <td>Male</td>\n",
              "      <td>Product</td>\n",
              "      <td>No</td>\n",
              "      <td>4.0</td>\n",
              "      <td>4.491795</td>\n",
              "      <td>8.2</td>\n",
              "    </tr>\n",
              "    <tr>\n",
              "      <th>10921</th>\n",
              "      <td>fffe3800390032003100</td>\n",
              "      <td>2008-09-18</td>\n",
              "      <td>Female</td>\n",
              "      <td>Service</td>\n",
              "      <td>No</td>\n",
              "      <td>1.0</td>\n",
              "      <td>2.000000</td>\n",
              "      <td>2.9</td>\n",
              "    </tr>\n",
              "    <tr>\n",
              "      <th>8642</th>\n",
              "      <td>fffe32003800380036003000</td>\n",
              "      <td>2008-05-10</td>\n",
              "      <td>Male</td>\n",
              "      <td>Service</td>\n",
              "      <td>No</td>\n",
              "      <td>2.0</td>\n",
              "      <td>5.000000</td>\n",
              "      <td>7.2</td>\n",
              "    </tr>\n",
              "    <tr>\n",
              "      <th>...</th>\n",
              "      <td>...</td>\n",
              "      <td>...</td>\n",
              "      <td>...</td>\n",
              "      <td>...</td>\n",
              "      <td>...</td>\n",
              "      <td>...</td>\n",
              "      <td>...</td>\n",
              "      <td>...</td>\n",
              "    </tr>\n",
              "    <tr>\n",
              "      <th>3663</th>\n",
              "      <td>fffe31003100370031003000</td>\n",
              "      <td>2008-07-18</td>\n",
              "      <td>Female</td>\n",
              "      <td>Service</td>\n",
              "      <td>Yes</td>\n",
              "      <td>1.0</td>\n",
              "      <td>2.000000</td>\n",
              "      <td>4.6</td>\n",
              "    </tr>\n",
              "    <tr>\n",
              "      <th>9665</th>\n",
              "      <td>fffe31003900350033003600</td>\n",
              "      <td>2008-05-19</td>\n",
              "      <td>Male</td>\n",
              "      <td>Product</td>\n",
              "      <td>No</td>\n",
              "      <td>2.0</td>\n",
              "      <td>4.000000</td>\n",
              "      <td>6.2</td>\n",
              "    </tr>\n",
              "    <tr>\n",
              "      <th>17011</th>\n",
              "      <td>fffe32003200360038003100</td>\n",
              "      <td>2008-04-13</td>\n",
              "      <td>Male</td>\n",
              "      <td>Service</td>\n",
              "      <td>No</td>\n",
              "      <td>1.0</td>\n",
              "      <td>4.000000</td>\n",
              "      <td>4.0</td>\n",
              "    </tr>\n",
              "    <tr>\n",
              "      <th>13786</th>\n",
              "      <td>fffe32003900320030003500</td>\n",
              "      <td>2008-02-23</td>\n",
              "      <td>Female</td>\n",
              "      <td>Service</td>\n",
              "      <td>Yes</td>\n",
              "      <td>2.0</td>\n",
              "      <td>4.000000</td>\n",
              "      <td>5.7</td>\n",
              "    </tr>\n",
              "    <tr>\n",
              "      <th>2836</th>\n",
              "      <td>fffe31003800340036003100</td>\n",
              "      <td>2008-04-09</td>\n",
              "      <td>Female</td>\n",
              "      <td>Service</td>\n",
              "      <td>No</td>\n",
              "      <td>3.0</td>\n",
              "      <td>7.000000</td>\n",
              "      <td>7.5</td>\n",
              "    </tr>\n",
              "  </tbody>\n",
              "</table>\n",
              "<p>4324 rows × 8 columns</p>\n",
              "</div>"
            ],
            "text/plain": [
              "                    Employee ID Date of Joining  Gender Company Type  \\\n",
              "18169      fffe3400330032003900      2008-03-15  Female      Service   \n",
              "7422   fffe32003400370035003000      2008-01-17    Male      Service   \n",
              "18739  fffe32003000380032003400      2008-01-26    Male      Product   \n",
              "10921      fffe3800390032003100      2008-09-18  Female      Service   \n",
              "8642   fffe32003800380036003000      2008-05-10    Male      Service   \n",
              "...                         ...             ...     ...          ...   \n",
              "3663   fffe31003100370031003000      2008-07-18  Female      Service   \n",
              "9665   fffe31003900350033003600      2008-05-19    Male      Product   \n",
              "17011  fffe32003200360038003100      2008-04-13    Male      Service   \n",
              "13786  fffe32003900320030003500      2008-02-23  Female      Service   \n",
              "2836   fffe31003800340036003100      2008-04-09  Female      Service   \n",
              "\n",
              "      WFH Setup Available  Designation  Resource Allocation  \\\n",
              "18169                  No          2.0             3.000000   \n",
              "7422                   No          2.0             3.000000   \n",
              "18739                  No          4.0             4.491795   \n",
              "10921                  No          1.0             2.000000   \n",
              "8642                   No          2.0             5.000000   \n",
              "...                   ...          ...                  ...   \n",
              "3663                  Yes          1.0             2.000000   \n",
              "9665                   No          2.0             4.000000   \n",
              "17011                  No          1.0             4.000000   \n",
              "13786                 Yes          2.0             4.000000   \n",
              "2836                   No          3.0             7.000000   \n",
              "\n",
              "       Mental Fatigue Score  \n",
              "18169                   3.7  \n",
              "7422                    3.7  \n",
              "18739                   8.2  \n",
              "10921                   2.9  \n",
              "8642                    7.2  \n",
              "...                     ...  \n",
              "3663                    4.6  \n",
              "9665                    6.2  \n",
              "17011                   4.0  \n",
              "13786                   5.7  \n",
              "2836                    7.5  \n",
              "\n",
              "[4324 rows x 8 columns]"
            ]
          },
          "execution_count": 56,
          "metadata": {},
          "output_type": "execute_result"
        }
      ],
      "source": [
        "X_test_handled = X_test.copy()\n",
        "X_test_handled"
      ]
    },
    {
      "cell_type": "code",
      "execution_count": 57,
      "metadata": {},
      "outputs": [
        {
          "data": {
            "text/html": [
              "<div>\n",
              "<style scoped>\n",
              "    .dataframe tbody tr th:only-of-type {\n",
              "        vertical-align: middle;\n",
              "    }\n",
              "\n",
              "    .dataframe tbody tr th {\n",
              "        vertical-align: top;\n",
              "    }\n",
              "\n",
              "    .dataframe thead th {\n",
              "        text-align: right;\n",
              "    }\n",
              "</style>\n",
              "<table border=\"1\" class=\"dataframe\">\n",
              "  <thead>\n",
              "    <tr style=\"text-align: right;\">\n",
              "      <th></th>\n",
              "      <th>Burn Rate</th>\n",
              "    </tr>\n",
              "  </thead>\n",
              "  <tbody>\n",
              "    <tr>\n",
              "      <th>17315</th>\n",
              "      <td>0.56</td>\n",
              "    </tr>\n",
              "    <tr>\n",
              "      <th>3444</th>\n",
              "      <td>0.26</td>\n",
              "    </tr>\n",
              "    <tr>\n",
              "      <th>9309</th>\n",
              "      <td>0.64</td>\n",
              "    </tr>\n",
              "    <tr>\n",
              "      <th>4784</th>\n",
              "      <td>0.00</td>\n",
              "    </tr>\n",
              "    <tr>\n",
              "      <th>8907</th>\n",
              "      <td>0.48</td>\n",
              "    </tr>\n",
              "    <tr>\n",
              "      <th>...</th>\n",
              "      <td>...</td>\n",
              "    </tr>\n",
              "    <tr>\n",
              "      <th>18674</th>\n",
              "      <td>0.44</td>\n",
              "    </tr>\n",
              "    <tr>\n",
              "      <th>5294</th>\n",
              "      <td>0.77</td>\n",
              "    </tr>\n",
              "    <tr>\n",
              "      <th>16305</th>\n",
              "      <td>0.64</td>\n",
              "    </tr>\n",
              "    <tr>\n",
              "      <th>1726</th>\n",
              "      <td>0.38</td>\n",
              "    </tr>\n",
              "    <tr>\n",
              "      <th>2885</th>\n",
              "      <td>0.32</td>\n",
              "    </tr>\n",
              "  </tbody>\n",
              "</table>\n",
              "<p>17294 rows × 1 columns</p>\n",
              "</div>"
            ],
            "text/plain": [
              "       Burn Rate\n",
              "17315       0.56\n",
              "3444        0.26\n",
              "9309        0.64\n",
              "4784        0.00\n",
              "8907        0.48\n",
              "...          ...\n",
              "18674       0.44\n",
              "5294        0.77\n",
              "16305       0.64\n",
              "1726        0.38\n",
              "2885        0.32\n",
              "\n",
              "[17294 rows x 1 columns]"
            ]
          },
          "execution_count": 57,
          "metadata": {},
          "output_type": "execute_result"
        }
      ],
      "source": [
        "y_train_table = pd.DataFrame(y_train_new, columns= ['Burn Rate'])\n",
        "y_train_table"
      ]
    },
    {
      "cell_type": "code",
      "execution_count": 58,
      "metadata": {},
      "outputs": [
        {
          "data": {
            "text/plain": [
              "(17294, 9)"
            ]
          },
          "execution_count": 58,
          "metadata": {},
          "output_type": "execute_result"
        }
      ],
      "source": [
        "# menggabungkan X_train_handled dan y_train_table\n",
        "\n",
        "data_kor = X_train_handled.copy()\n",
        "data_kor['Burn Rate'] = y_train_table['Burn Rate']\n",
        "data_kor.shape"
      ]
    },
    {
      "cell_type": "code",
      "execution_count": 59,
      "metadata": {},
      "outputs": [
        {
          "data": {
            "text/plain": [
              "<AxesSubplot:>"
            ]
          },
          "execution_count": 59,
          "metadata": {},
          "output_type": "execute_result"
        },
        {
          "data": {
            "image/png": "[encoded data removed]",
            "text/plain": [
              "<Figure size 1440x432 with 2 Axes>"
            ]
          },
          "metadata": {
            "needs_background": "light"
          },
          "output_type": "display_data"
        }
      ],
      "source": [
        "plt.figure(figsize=(20,6))\n",
        "sns.heatmap(data_kor.corr(),annot=True, mask=np.triu(data_kor.corr()))"
      ]
    },
    {
      "cell_type": "markdown",
      "metadata": {},
      "source": [
        "- Kolom numerical dengan tingkat korelasi tertinggi yaitu kolom `Mental Fatigue Score`, sedangkan kolom numerical dengan korelasi terkecil adalah kolom `Designation`\n",
        "- Karena setiap kolom numerical yang terdapat pada dataset memiliki nilai korelasi yang tinggi, maka tidak akan dilakukan drop terhadap kolom numerical"
      ]
    },
    {
      "cell_type": "code",
      "execution_count": 60,
      "metadata": {},
      "outputs": [
        {
          "name": "stdout",
          "output_type": "stream",
          "text": [
            "Kolom bertype numeric pada dataset : ['Designation', 'Resource Allocation', 'Mental Fatigue Score']\n",
            "Kolom bertype catagorical pada dataset : ['Employee ID', 'Date of Joining', 'Gender', 'Company Type', 'WFH Setup Available']\n"
          ]
        }
      ],
      "source": [
        "num_col = X_train_handled.select_dtypes(include= np.number).columns.tolist()\n",
        "cat_col = X_train_handled.select_dtypes(include=['object']).columns.tolist()\n",
        "\n",
        "print('Kolom bertype numeric pada dataset :', num_col)\n",
        "print('Kolom bertype catagorical pada dataset :', cat_col)"
      ]
    },
    {
      "cell_type": "markdown",
      "metadata": {},
      "source": [
        "- Pada kolom `Employee ID` data tersebut merupakan ID dari karyawan yang tidak memiliki kaitan dengan tingkat Burn Rate\n",
        "- Pada kolom `Date of Joining` data tersebut merupakan tanggal mulai bekerja karyawan tersebut, setelah dilakukan pengecekan terhadap kolom `Burn Rate` ternyata nilai pada kolom `Date of Joining` tidak berpengaruh, karena terdapat karyawan yang memiliki Burn Rate yang tinggi saat mulai masuk pekerjaan terlebih dahulu, tapi terdapat karyawan yang memiliki Burn Rate yang lebih tinggi juga saat baru saja masuk pekerjaan\n",
        "- Karena hal tersebut, maka kolom  `Employee ID` dan kolom `Date of Joining` akan dilakukan drop terhadap kolom tersebut"
      ]
    },
    {
      "cell_type": "code",
      "execution_count": 61,
      "metadata": {},
      "outputs": [],
      "source": [
        "X_train_handled.drop(['Employee ID', 'Date of Joining'], axis = 1, inplace= True)\n",
        "X_test_handled.drop(['Employee ID', 'Date of Joining'], axis = 1, inplace= True)"
      ]
    },
    {
      "cell_type": "markdown",
      "metadata": {
        "id": "N5TTpAjrXwDt"
      },
      "source": [
        "---\n",
        "## Split between numerical and categorical columns\n"
      ]
    },
    {
      "cell_type": "code",
      "execution_count": 62,
      "metadata": {},
      "outputs": [
        {
          "data": {
            "text/html": [
              "<div>\n",
              "<style scoped>\n",
              "    .dataframe tbody tr th:only-of-type {\n",
              "        vertical-align: middle;\n",
              "    }\n",
              "\n",
              "    .dataframe tbody tr th {\n",
              "        vertical-align: top;\n",
              "    }\n",
              "\n",
              "    .dataframe thead th {\n",
              "        text-align: right;\n",
              "    }\n",
              "</style>\n",
              "<table border=\"1\" class=\"dataframe\">\n",
              "  <thead>\n",
              "    <tr style=\"text-align: right;\">\n",
              "      <th></th>\n",
              "      <th>Gender</th>\n",
              "      <th>Company Type</th>\n",
              "      <th>WFH Setup Available</th>\n",
              "      <th>Designation</th>\n",
              "      <th>Resource Allocation</th>\n",
              "      <th>Mental Fatigue Score</th>\n",
              "    </tr>\n",
              "  </thead>\n",
              "  <tbody>\n",
              "    <tr>\n",
              "      <th>17315</th>\n",
              "      <td>Male</td>\n",
              "      <td>Product</td>\n",
              "      <td>Yes</td>\n",
              "      <td>2.0</td>\n",
              "      <td>5.0</td>\n",
              "      <td>6.3</td>\n",
              "    </tr>\n",
              "    <tr>\n",
              "      <th>3444</th>\n",
              "      <td>Female</td>\n",
              "      <td>Service</td>\n",
              "      <td>Yes</td>\n",
              "      <td>2.0</td>\n",
              "      <td>3.0</td>\n",
              "      <td>4.8</td>\n",
              "    </tr>\n",
              "    <tr>\n",
              "      <th>9309</th>\n",
              "      <td>Male</td>\n",
              "      <td>Product</td>\n",
              "      <td>Yes</td>\n",
              "      <td>4.0</td>\n",
              "      <td>6.0</td>\n",
              "      <td>7.7</td>\n",
              "    </tr>\n",
              "    <tr>\n",
              "      <th>4784</th>\n",
              "      <td>Female</td>\n",
              "      <td>Product</td>\n",
              "      <td>Yes</td>\n",
              "      <td>1.0</td>\n",
              "      <td>1.0</td>\n",
              "      <td>0.0</td>\n",
              "    </tr>\n",
              "    <tr>\n",
              "      <th>8907</th>\n",
              "      <td>Male</td>\n",
              "      <td>Service</td>\n",
              "      <td>Yes</td>\n",
              "      <td>3.0</td>\n",
              "      <td>4.0</td>\n",
              "      <td>7.0</td>\n",
              "    </tr>\n",
              "    <tr>\n",
              "      <th>...</th>\n",
              "      <td>...</td>\n",
              "      <td>...</td>\n",
              "      <td>...</td>\n",
              "      <td>...</td>\n",
              "      <td>...</td>\n",
              "      <td>...</td>\n",
              "    </tr>\n",
              "    <tr>\n",
              "      <th>18674</th>\n",
              "      <td>Male</td>\n",
              "      <td>Product</td>\n",
              "      <td>No</td>\n",
              "      <td>3.0</td>\n",
              "      <td>5.0</td>\n",
              "      <td>5.3</td>\n",
              "    </tr>\n",
              "    <tr>\n",
              "      <th>5294</th>\n",
              "      <td>Male</td>\n",
              "      <td>Service</td>\n",
              "      <td>No</td>\n",
              "      <td>4.0</td>\n",
              "      <td>8.0</td>\n",
              "      <td>8.0</td>\n",
              "    </tr>\n",
              "    <tr>\n",
              "      <th>16305</th>\n",
              "      <td>Female</td>\n",
              "      <td>Service</td>\n",
              "      <td>No</td>\n",
              "      <td>2.0</td>\n",
              "      <td>4.0</td>\n",
              "      <td>7.5</td>\n",
              "    </tr>\n",
              "    <tr>\n",
              "      <th>1726</th>\n",
              "      <td>Male</td>\n",
              "      <td>Service</td>\n",
              "      <td>Yes</td>\n",
              "      <td>1.0</td>\n",
              "      <td>2.0</td>\n",
              "      <td>4.9</td>\n",
              "    </tr>\n",
              "    <tr>\n",
              "      <th>2885</th>\n",
              "      <td>Male</td>\n",
              "      <td>Service</td>\n",
              "      <td>Yes</td>\n",
              "      <td>1.0</td>\n",
              "      <td>4.0</td>\n",
              "      <td>5.3</td>\n",
              "    </tr>\n",
              "  </tbody>\n",
              "</table>\n",
              "<p>17294 rows × 6 columns</p>\n",
              "</div>"
            ],
            "text/plain": [
              "       Gender Company Type WFH Setup Available  Designation  \\\n",
              "17315    Male      Product                 Yes          2.0   \n",
              "3444   Female      Service                 Yes          2.0   \n",
              "9309     Male      Product                 Yes          4.0   \n",
              "4784   Female      Product                 Yes          1.0   \n",
              "8907     Male      Service                 Yes          3.0   \n",
              "...       ...          ...                 ...          ...   \n",
              "18674    Male      Product                  No          3.0   \n",
              "5294     Male      Service                  No          4.0   \n",
              "16305  Female      Service                  No          2.0   \n",
              "1726     Male      Service                 Yes          1.0   \n",
              "2885     Male      Service                 Yes          1.0   \n",
              "\n",
              "       Resource Allocation  Mental Fatigue Score  \n",
              "17315                  5.0                   6.3  \n",
              "3444                   3.0                   4.8  \n",
              "9309                   6.0                   7.7  \n",
              "4784                   1.0                   0.0  \n",
              "8907                   4.0                   7.0  \n",
              "...                    ...                   ...  \n",
              "18674                  5.0                   5.3  \n",
              "5294                   8.0                   8.0  \n",
              "16305                  4.0                   7.5  \n",
              "1726                   2.0                   4.9  \n",
              "2885                   4.0                   5.3  \n",
              "\n",
              "[17294 rows x 6 columns]"
            ]
          },
          "execution_count": 62,
          "metadata": {},
          "output_type": "execute_result"
        }
      ],
      "source": [
        "X_train_handled"
      ]
    },
    {
      "cell_type": "code",
      "execution_count": 63,
      "metadata": {
        "colab": {
          "base_uri": "https://localhost:8080/"
        },
        "id": "BMJSwH3RXpbK",
        "outputId": "b649f571-8f77-45eb-f350-5905f81b34d5"
      },
      "outputs": [
        {
          "name": "stdout",
          "output_type": "stream",
          "text": [
            "Numerical Columns :  ['Designation', 'Resource Allocation', 'Mental Fatigue Score']\n",
            "Categorical Columns :  ['Gender', 'Company Type', 'WFH Setup Available']\n"
          ]
        }
      ],
      "source": [
        "# Get Numerical Columns and Categorical Columns\n",
        "\n",
        "num_columns = X_train_handled.select_dtypes(include=np.number).columns.tolist()\n",
        "cat_columns= X_train_handled.select_dtypes(include=['object']).columns.tolist()\n",
        "\n",
        "print('Numerical Columns : ', num_columns)\n",
        "print('Categorical Columns : ', cat_columns)"
      ]
    },
    {
      "cell_type": "code",
      "execution_count": 64,
      "metadata": {
        "id": "GqgVmfNeYrjw"
      },
      "outputs": [],
      "source": [
        "# Split Train-Set and Test-Set based on Column Type (Numerical/Categorical)\n",
        "\n",
        "X_train_num = X_train_handled[num_columns]\n",
        "X_train_cat = X_train_handled[cat_columns]\n",
        "\n",
        "X_test_num = X_test_handled[num_columns]\n",
        "X_test_cat = X_test_handled[cat_columns]"
      ]
    },
    {
      "cell_type": "markdown",
      "metadata": {
        "id": "t15ve41sZULO"
      },
      "source": [
        "---\n",
        "## Feature Scaling"
      ]
    },
    {
      "cell_type": "code",
      "execution_count": 65,
      "metadata": {
        "colab": {
          "base_uri": "https://localhost:8080/",
          "height": 423
        },
        "id": "5LO7gS_0ZXVj",
        "outputId": "daf07dba-9b44-4e6f-9b8a-c2831fa83834"
      },
      "outputs": [
        {
          "data": {
            "text/html": [
              "<div>\n",
              "<style scoped>\n",
              "    .dataframe tbody tr th:only-of-type {\n",
              "        vertical-align: middle;\n",
              "    }\n",
              "\n",
              "    .dataframe tbody tr th {\n",
              "        vertical-align: top;\n",
              "    }\n",
              "\n",
              "    .dataframe thead th {\n",
              "        text-align: right;\n",
              "    }\n",
              "</style>\n",
              "<table border=\"1\" class=\"dataframe\">\n",
              "  <thead>\n",
              "    <tr style=\"text-align: right;\">\n",
              "      <th></th>\n",
              "      <th>Designation</th>\n",
              "      <th>Resource Allocation</th>\n",
              "      <th>Mental Fatigue Score</th>\n",
              "    </tr>\n",
              "  </thead>\n",
              "  <tbody>\n",
              "    <tr>\n",
              "      <th>17315</th>\n",
              "      <td>2.0</td>\n",
              "      <td>5.0</td>\n",
              "      <td>6.3</td>\n",
              "    </tr>\n",
              "    <tr>\n",
              "      <th>3444</th>\n",
              "      <td>2.0</td>\n",
              "      <td>3.0</td>\n",
              "      <td>4.8</td>\n",
              "    </tr>\n",
              "    <tr>\n",
              "      <th>9309</th>\n",
              "      <td>4.0</td>\n",
              "      <td>6.0</td>\n",
              "      <td>7.7</td>\n",
              "    </tr>\n",
              "    <tr>\n",
              "      <th>4784</th>\n",
              "      <td>1.0</td>\n",
              "      <td>1.0</td>\n",
              "      <td>0.0</td>\n",
              "    </tr>\n",
              "    <tr>\n",
              "      <th>8907</th>\n",
              "      <td>3.0</td>\n",
              "      <td>4.0</td>\n",
              "      <td>7.0</td>\n",
              "    </tr>\n",
              "    <tr>\n",
              "      <th>...</th>\n",
              "      <td>...</td>\n",
              "      <td>...</td>\n",
              "      <td>...</td>\n",
              "    </tr>\n",
              "    <tr>\n",
              "      <th>18674</th>\n",
              "      <td>3.0</td>\n",
              "      <td>5.0</td>\n",
              "      <td>5.3</td>\n",
              "    </tr>\n",
              "    <tr>\n",
              "      <th>5294</th>\n",
              "      <td>4.0</td>\n",
              "      <td>8.0</td>\n",
              "      <td>8.0</td>\n",
              "    </tr>\n",
              "    <tr>\n",
              "      <th>16305</th>\n",
              "      <td>2.0</td>\n",
              "      <td>4.0</td>\n",
              "      <td>7.5</td>\n",
              "    </tr>\n",
              "    <tr>\n",
              "      <th>1726</th>\n",
              "      <td>1.0</td>\n",
              "      <td>2.0</td>\n",
              "      <td>4.9</td>\n",
              "    </tr>\n",
              "    <tr>\n",
              "      <th>2885</th>\n",
              "      <td>1.0</td>\n",
              "      <td>4.0</td>\n",
              "      <td>5.3</td>\n",
              "    </tr>\n",
              "  </tbody>\n",
              "</table>\n",
              "<p>17294 rows × 3 columns</p>\n",
              "</div>"
            ],
            "text/plain": [
              "       Designation  Resource Allocation  Mental Fatigue Score\n",
              "17315          2.0                  5.0                   6.3\n",
              "3444           2.0                  3.0                   4.8\n",
              "9309           4.0                  6.0                   7.7\n",
              "4784           1.0                  1.0                   0.0\n",
              "8907           3.0                  4.0                   7.0\n",
              "...            ...                  ...                   ...\n",
              "18674          3.0                  5.0                   5.3\n",
              "5294           4.0                  8.0                   8.0\n",
              "16305          2.0                  4.0                   7.5\n",
              "1726           1.0                  2.0                   4.9\n",
              "2885           1.0                  4.0                   5.3\n",
              "\n",
              "[17294 rows x 3 columns]"
            ]
          },
          "execution_count": 65,
          "metadata": {},
          "output_type": "execute_result"
        }
      ],
      "source": [
        "# Display X_train_num\n",
        "\n",
        "X_train_num"
      ]
    },
    {
      "cell_type": "code",
      "execution_count": 66,
      "metadata": {
        "colab": {
          "base_uri": "https://localhost:8080/"
        },
        "id": "PjTDb3yeZbBv",
        "outputId": "ba1273c1-0c59-4fcf-dc9c-7202e1a0e0e6"
      },
      "outputs": [
        {
          "data": {
            "text/plain": [
              "array([[-0.16036161,  0.25604435,  0.30924319],\n",
              "       [-0.16036161, -0.75159807, -0.50851457],\n",
              "       [ 1.6015785 ,  0.75986556,  1.07248377],\n",
              "       ...,\n",
              "       [-0.16036161, -0.24777686,  0.9634494 ],\n",
              "       [-1.04133167, -1.25541928, -0.45399739],\n",
              "       [-1.04133167, -0.24777686, -0.23592865]])"
            ]
          },
          "execution_count": 66,
          "metadata": {},
          "output_type": "execute_result"
        }
      ],
      "source": [
        "# Feature Scaling using StandardScaler\n",
        "\n",
        "scaler = StandardScaler()\n",
        "scaler.fit(X_train_num)\n",
        "\n",
        "X_train_num_scaled = scaler.transform(X_train_num)\n",
        "X_test_num_scaled = scaler.transform(X_test_num)\n",
        "\n",
        "X_train_num_scaled"
      ]
    },
    {
      "cell_type": "markdown",
      "metadata": {
        "id": "rOQSfNZdbpZf"
      },
      "source": [
        "---\n",
        "## Feature Encoding"
      ]
    },
    {
      "cell_type": "code",
      "execution_count": 67,
      "metadata": {
        "colab": {
          "base_uri": "https://localhost:8080/",
          "height": 423
        },
        "id": "f2MaaAdqc5bL",
        "outputId": "48559b77-b7bf-436f-9553-7b00a3f26784"
      },
      "outputs": [
        {
          "data": {
            "text/html": [
              "<div>\n",
              "<style scoped>\n",
              "    .dataframe tbody tr th:only-of-type {\n",
              "        vertical-align: middle;\n",
              "    }\n",
              "\n",
              "    .dataframe tbody tr th {\n",
              "        vertical-align: top;\n",
              "    }\n",
              "\n",
              "    .dataframe thead th {\n",
              "        text-align: right;\n",
              "    }\n",
              "</style>\n",
              "<table border=\"1\" class=\"dataframe\">\n",
              "  <thead>\n",
              "    <tr style=\"text-align: right;\">\n",
              "      <th></th>\n",
              "      <th>Gender</th>\n",
              "      <th>Company Type</th>\n",
              "      <th>WFH Setup Available</th>\n",
              "    </tr>\n",
              "  </thead>\n",
              "  <tbody>\n",
              "    <tr>\n",
              "      <th>17315</th>\n",
              "      <td>Male</td>\n",
              "      <td>Product</td>\n",
              "      <td>Yes</td>\n",
              "    </tr>\n",
              "    <tr>\n",
              "      <th>3444</th>\n",
              "      <td>Female</td>\n",
              "      <td>Service</td>\n",
              "      <td>Yes</td>\n",
              "    </tr>\n",
              "    <tr>\n",
              "      <th>9309</th>\n",
              "      <td>Male</td>\n",
              "      <td>Product</td>\n",
              "      <td>Yes</td>\n",
              "    </tr>\n",
              "    <tr>\n",
              "      <th>4784</th>\n",
              "      <td>Female</td>\n",
              "      <td>Product</td>\n",
              "      <td>Yes</td>\n",
              "    </tr>\n",
              "    <tr>\n",
              "      <th>8907</th>\n",
              "      <td>Male</td>\n",
              "      <td>Service</td>\n",
              "      <td>Yes</td>\n",
              "    </tr>\n",
              "    <tr>\n",
              "      <th>...</th>\n",
              "      <td>...</td>\n",
              "      <td>...</td>\n",
              "      <td>...</td>\n",
              "    </tr>\n",
              "    <tr>\n",
              "      <th>18674</th>\n",
              "      <td>Male</td>\n",
              "      <td>Product</td>\n",
              "      <td>No</td>\n",
              "    </tr>\n",
              "    <tr>\n",
              "      <th>5294</th>\n",
              "      <td>Male</td>\n",
              "      <td>Service</td>\n",
              "      <td>No</td>\n",
              "    </tr>\n",
              "    <tr>\n",
              "      <th>16305</th>\n",
              "      <td>Female</td>\n",
              "      <td>Service</td>\n",
              "      <td>No</td>\n",
              "    </tr>\n",
              "    <tr>\n",
              "      <th>1726</th>\n",
              "      <td>Male</td>\n",
              "      <td>Service</td>\n",
              "      <td>Yes</td>\n",
              "    </tr>\n",
              "    <tr>\n",
              "      <th>2885</th>\n",
              "      <td>Male</td>\n",
              "      <td>Service</td>\n",
              "      <td>Yes</td>\n",
              "    </tr>\n",
              "  </tbody>\n",
              "</table>\n",
              "<p>17294 rows × 3 columns</p>\n",
              "</div>"
            ],
            "text/plain": [
              "       Gender Company Type WFH Setup Available\n",
              "17315    Male      Product                 Yes\n",
              "3444   Female      Service                 Yes\n",
              "9309     Male      Product                 Yes\n",
              "4784   Female      Product                 Yes\n",
              "8907     Male      Service                 Yes\n",
              "...       ...          ...                 ...\n",
              "18674    Male      Product                  No\n",
              "5294     Male      Service                  No\n",
              "16305  Female      Service                  No\n",
              "1726     Male      Service                 Yes\n",
              "2885     Male      Service                 Yes\n",
              "\n",
              "[17294 rows x 3 columns]"
            ]
          },
          "execution_count": 67,
          "metadata": {},
          "output_type": "execute_result"
        }
      ],
      "source": [
        "# Display X_train_cat\n",
        "\n",
        "X_train_cat"
      ]
    },
    {
      "cell_type": "code",
      "execution_count": 68,
      "metadata": {
        "colab": {
          "base_uri": "https://localhost:8080/"
        },
        "id": "6g57I1rkbuL-",
        "outputId": "ec4faa48-ab6a-4ade-e993-c67be5c64084"
      },
      "outputs": [
        {
          "data": {
            "text/plain": [
              "array([[0., 1., 1., 0., 0., 1.],\n",
              "       [1., 0., 0., 1., 0., 1.],\n",
              "       [0., 1., 1., 0., 0., 1.],\n",
              "       ...,\n",
              "       [1., 0., 0., 1., 1., 0.],\n",
              "       [0., 1., 0., 1., 0., 1.],\n",
              "       [0., 1., 0., 1., 0., 1.]])"
            ]
          },
          "execution_count": 68,
          "metadata": {},
          "output_type": "execute_result"
        }
      ],
      "source": [
        "# Karena data pada kolom catagorical berfiat nominal, maka proses encoding akan menggunakan OneHotEncoder\n",
        "# Feature Encoding using OneHotEncoder\n",
        "\n",
        "encoder = OneHotEncoder(handle_unknown='ignore', sparse= False)\n",
        "\n",
        "X_train_cat_enc = encoder.fit_transform(X_train_cat)\n",
        "X_test_cat_enc = encoder.transform(X_test_cat)\n",
        "X_train_cat_enc"
      ]
    },
    {
      "cell_type": "markdown",
      "metadata": {
        "id": "C0PP-0spdeee"
      },
      "source": [
        "---\n",
        "## Concat between Numerical Columns and Categorical Columns"
      ]
    },
    {
      "cell_type": "code",
      "execution_count": 69,
      "metadata": {
        "colab": {
          "base_uri": "https://localhost:8080/"
        },
        "id": "KNaP-yhzdkQP",
        "outputId": "bbc137f0-ba88-43ce-d0ea-50f61ff6b019"
      },
      "outputs": [
        {
          "data": {
            "text/plain": [
              "array([[-0.16036161,  0.25604435,  0.30924319, ...,  0.        ,\n",
              "         0.        ,  1.        ],\n",
              "       [-0.16036161, -0.75159807, -0.50851457, ...,  1.        ,\n",
              "         0.        ,  1.        ],\n",
              "       [ 1.6015785 ,  0.75986556,  1.07248377, ...,  0.        ,\n",
              "         0.        ,  1.        ],\n",
              "       ...,\n",
              "       [-0.16036161, -0.24777686,  0.9634494 , ...,  1.        ,\n",
              "         1.        ,  0.        ],\n",
              "       [-1.04133167, -1.25541928, -0.45399739, ...,  1.        ,\n",
              "         0.        ,  1.        ],\n",
              "       [-1.04133167, -0.24777686, -0.23592865, ...,  1.        ,\n",
              "         0.        ,  1.        ]])"
            ]
          },
          "execution_count": 69,
          "metadata": {},
          "output_type": "execute_result"
        }
      ],
      "source": [
        "# Concate Columns\n",
        "\n",
        "X_train_final = np.concatenate([X_train_num_scaled, X_train_cat_enc], axis=1)\n",
        "X_test_final = np.concatenate([X_test_num_scaled, X_test_cat_enc], axis=1)\n",
        "X_train_final"
      ]
    },
    {
      "cell_type": "code",
      "execution_count": 70,
      "metadata": {},
      "outputs": [
        {
          "data": {
            "text/plain": [
              "(17294, 9)"
            ]
          },
          "execution_count": 70,
          "metadata": {},
          "output_type": "execute_result"
        }
      ],
      "source": [
        "X_train_final.shape"
      ]
    },
    {
      "cell_type": "markdown",
      "metadata": {
        "id": "J-bRMz1teacx"
      },
      "source": [
        "# Model Definition"
      ]
    },
    {
      "cell_type": "markdown",
      "metadata": {},
      "source": [
        "## Linear Regression"
      ]
    },
    {
      "cell_type": "code",
      "execution_count": 71,
      "metadata": {
        "id": "T_xaMB3iec33"
      },
      "outputs": [],
      "source": [
        "# Training using Linear Regression\n",
        "\n",
        "model_lin_reg = LinearRegression()"
      ]
    },
    {
      "cell_type": "markdown",
      "metadata": {},
      "source": [
        "## SVM"
      ]
    },
    {
      "cell_type": "code",
      "execution_count": 72,
      "metadata": {},
      "outputs": [],
      "source": [
        "# Training using SVM\n",
        "\n",
        "model_svm = SVR()"
      ]
    },
    {
      "cell_type": "markdown",
      "metadata": {},
      "source": [
        "## Decission Tree"
      ]
    },
    {
      "cell_type": "code",
      "execution_count": 73,
      "metadata": {},
      "outputs": [],
      "source": [
        "# Training using Decission Tree\n",
        "\n",
        "model_dt = DecisionTreeRegressor()"
      ]
    },
    {
      "cell_type": "markdown",
      "metadata": {},
      "source": [
        "## Random Forest"
      ]
    },
    {
      "cell_type": "code",
      "execution_count": 74,
      "metadata": {},
      "outputs": [],
      "source": [
        "# Training using Random Forest\n",
        "\n",
        "model_rf = RandomForestRegressor()"
      ]
    },
    {
      "cell_type": "markdown",
      "metadata": {},
      "source": [
        "## KNN"
      ]
    },
    {
      "cell_type": "code",
      "execution_count": 75,
      "metadata": {},
      "outputs": [],
      "source": [
        "# Training using KNN\n",
        "\n",
        "model_knn = KNeighborsRegressor()"
      ]
    },
    {
      "cell_type": "markdown",
      "metadata": {},
      "source": [
        "## XGBoost"
      ]
    },
    {
      "cell_type": "code",
      "execution_count": 76,
      "metadata": {},
      "outputs": [],
      "source": [
        "# Training using XGBoost\n",
        "\n",
        "model_xgb = XGBRegressor()"
      ]
    },
    {
      "cell_type": "markdown",
      "metadata": {
        "id": "_ljzK9oWfe_H"
      },
      "source": [
        "# Model Training"
      ]
    },
    {
      "cell_type": "markdown",
      "metadata": {},
      "source": [
        "## Logistic Regression"
      ]
    },
    {
      "cell_type": "code",
      "execution_count": 77,
      "metadata": {
        "colab": {
          "base_uri": "https://localhost:8080/"
        },
        "id": "7VLXwbw2fnzy",
        "outputId": "d77320af-d7b0-4419-f036-3911f9d222ca"
      },
      "outputs": [
        {
          "data": {
            "text/plain": [
              "LinearRegression()"
            ]
          },
          "execution_count": 77,
          "metadata": {},
          "output_type": "execute_result"
        }
      ],
      "source": [
        "# Train the Model\n",
        "\n",
        "model_lin_reg.fit(X_train_final, y_train_new)"
      ]
    },
    {
      "cell_type": "markdown",
      "metadata": {},
      "source": [
        "## SVM"
      ]
    },
    {
      "cell_type": "code",
      "execution_count": 78,
      "metadata": {},
      "outputs": [
        {
          "data": {
            "text/plain": [
              "SVR()"
            ]
          },
          "execution_count": 78,
          "metadata": {},
          "output_type": "execute_result"
        }
      ],
      "source": [
        "model_svm.fit(X_train_final, y_train_new)"
      ]
    },
    {
      "cell_type": "markdown",
      "metadata": {},
      "source": [
        "## Decission Tree"
      ]
    },
    {
      "cell_type": "code",
      "execution_count": 79,
      "metadata": {},
      "outputs": [
        {
          "data": {
            "text/plain": [
              "DecisionTreeRegressor()"
            ]
          },
          "execution_count": 79,
          "metadata": {},
          "output_type": "execute_result"
        }
      ],
      "source": [
        "model_dt.fit(X_train_final, y_train_new)"
      ]
    },
    {
      "cell_type": "markdown",
      "metadata": {},
      "source": [
        "## Random Forest"
      ]
    },
    {
      "cell_type": "code",
      "execution_count": 80,
      "metadata": {},
      "outputs": [
        {
          "data": {
            "text/plain": [
              "RandomForestRegressor()"
            ]
          },
          "execution_count": 80,
          "metadata": {},
          "output_type": "execute_result"
        }
      ],
      "source": [
        "model_rf.fit(X_train_final, y_train_new)"
      ]
    },
    {
      "cell_type": "markdown",
      "metadata": {},
      "source": [
        "## KNN"
      ]
    },
    {
      "cell_type": "code",
      "execution_count": 81,
      "metadata": {},
      "outputs": [
        {
          "data": {
            "text/plain": [
              "KNeighborsRegressor()"
            ]
          },
          "execution_count": 81,
          "metadata": {},
          "output_type": "execute_result"
        }
      ],
      "source": [
        "model_knn.fit(X_train_final, y_train_new)"
      ]
    },
    {
      "cell_type": "markdown",
      "metadata": {},
      "source": [
        "## XGBoost"
      ]
    },
    {
      "cell_type": "code",
      "execution_count": 82,
      "metadata": {},
      "outputs": [
        {
          "data": {
            "text/plain": [
              "XGBRegressor(base_score=0.5, booster='gbtree', callbacks=None,\n",
              "             colsample_bylevel=1, colsample_bynode=1, colsample_bytree=1,\n",
              "             early_stopping_rounds=None, enable_categorical=False,\n",
              "             eval_metric=None, gamma=0, gpu_id=-1, grow_policy='depthwise',\n",
              "             importance_type=None, interaction_constraints='',\n",
              "             learning_rate=0.300000012, max_bin=256, max_cat_to_onehot=4,\n",
              "             max_delta_step=0, max_depth=6, max_leaves=0, min_child_weight=1,\n",
              "             missing=nan, monotone_constraints='()', n_estimators=100, n_jobs=0,\n",
              "             num_parallel_tree=1, predictor='auto', random_state=0, reg_alpha=0,\n",
              "             reg_lambda=1, ...)"
            ]
          },
          "execution_count": 82,
          "metadata": {},
          "output_type": "execute_result"
        }
      ],
      "source": [
        "model_xgb.fit(X_train_final, y_train_new)"
      ]
    },
    {
      "cell_type": "markdown",
      "metadata": {
        "id": "HlyAVit0fzJC"
      },
      "source": [
        "# Model Evaluation"
      ]
    },
    {
      "cell_type": "markdown",
      "metadata": {},
      "source": [
        "## Linear Regression"
      ]
    },
    {
      "cell_type": "code",
      "execution_count": 83,
      "metadata": {
        "id": "LjwBVvi5f452"
      },
      "outputs": [],
      "source": [
        "# Get Prediction of Train-Set and Test-Set\n",
        "\n",
        "y_pred_train_linreg = model_lin_reg.predict(X_train_final)\n",
        "y_pred_test_linreg = model_lin_reg.predict(X_test_final)"
      ]
    },
    {
      "cell_type": "markdown",
      "metadata": {},
      "source": [
        "## SVM"
      ]
    },
    {
      "cell_type": "code",
      "execution_count": 84,
      "metadata": {},
      "outputs": [],
      "source": [
        "y_pred_train_svm = model_svm.predict(X_train_final)\n",
        "y_pred_test_svm = model_svm.predict(X_test_final)"
      ]
    },
    {
      "cell_type": "markdown",
      "metadata": {},
      "source": [
        "## Decission Tree"
      ]
    },
    {
      "cell_type": "code",
      "execution_count": 85,
      "metadata": {},
      "outputs": [],
      "source": [
        "y_pred_train_dt = model_dt.predict(X_train_final)\n",
        "y_pred_test_dt = model_dt.predict(X_test_final)"
      ]
    },
    {
      "cell_type": "markdown",
      "metadata": {},
      "source": [
        "## Random Forest"
      ]
    },
    {
      "cell_type": "code",
      "execution_count": 86,
      "metadata": {},
      "outputs": [],
      "source": [
        "y_pred_train_rf = model_rf.predict(X_train_final)\n",
        "y_pred_test_rf = model_rf.predict(X_test_final)"
      ]
    },
    {
      "cell_type": "markdown",
      "metadata": {},
      "source": [
        "## KNN"
      ]
    },
    {
      "cell_type": "code",
      "execution_count": 87,
      "metadata": {},
      "outputs": [],
      "source": [
        "y_pred_train_knn = model_knn.predict(X_train_final)\n",
        "y_pred_test_knn = model_knn.predict(X_test_final)"
      ]
    },
    {
      "cell_type": "markdown",
      "metadata": {},
      "source": [
        "## XGBoost"
      ]
    },
    {
      "cell_type": "code",
      "execution_count": 88,
      "metadata": {},
      "outputs": [],
      "source": [
        "y_pred_train_xgb = model_xgb.predict(X_train_final)\n",
        "y_pred_test_xgb = model_xgb.predict(X_test_final)"
      ]
    },
    {
      "cell_type": "markdown",
      "metadata": {},
      "source": [
        "## Evaluate model"
      ]
    },
    {
      "cell_type": "markdown",
      "metadata": {},
      "source": [
        "### Linear Regression"
      ]
    },
    {
      "cell_type": "code",
      "execution_count": 89,
      "metadata": {
        "colab": {
          "base_uri": "https://localhost:8080/"
        },
        "id": "5G08AKHvgGo2",
        "outputId": "5a631877-7814-4820-db3a-1314551b8d88"
      },
      "outputs": [
        {
          "name": "stdout",
          "output_type": "stream",
          "text": [
            "R2 Score - Train :  87.18035547632203\n",
            "R2 Score - Test  :  86.72645794156996\n",
            "Mean Absolute Error - Train :  0.053621653343633904\n",
            "Mean Absolute Error - Test  :  0.054450045505350764\n",
            "Mean Square Error - Train :  0.005050525400888049\n",
            "Mean Square Error - Test  :  0.00515142268452121\n",
            "Root Mean Square Error - Train :  0.07106704862936161\n",
            "Root Mean Square Error - Test  :  0.07177341210031198\n"
          ]
        }
      ],
      "source": [
        "# R2 score\n",
        "\n",
        "print('R2 Score - Train : ', r2_score(y_train_new, y_pred_train_linreg)*100)\n",
        "print('R2 Score - Test  : ', r2_score(y_test, y_pred_test_linreg)*100)\n",
        "\n",
        "# Mean Absolute Error\n",
        "\n",
        "print('Mean Absolute Error - Train : ', mae(y_train_new, y_pred_train_linreg))\n",
        "print('Mean Absolute Error - Test  : ', mae(y_test, y_pred_test_linreg))\n",
        "\n",
        "# Mean Square Error\n",
        "\n",
        "print('Mean Square Error - Train : ', mse(y_train_new, y_pred_train_linreg))\n",
        "print('Mean Square Error - Test  : ', mse(y_test, y_pred_test_linreg))\n",
        "\n",
        "# Root Mean Square Error\n",
        "\n",
        "print('Root Mean Square Error - Train : ', rmse(y_train_new, y_pred_train_linreg))\n",
        "print('Root Mean Square Error - Test  : ', rmse(y_test, y_pred_test_linreg))"
      ]
    },
    {
      "cell_type": "markdown",
      "metadata": {},
      "source": [
        "### SVM"
      ]
    },
    {
      "cell_type": "code",
      "execution_count": 90,
      "metadata": {},
      "outputs": [
        {
          "name": "stdout",
          "output_type": "stream",
          "text": [
            "R2 Score - Train :  89.2327504059614\n",
            "R2 Score - Test  :  88.7515936651105\n",
            "Mean Absolute Error - Train :  0.052516404593240064\n",
            "Mean Absolute Error - Test  :  0.053468739784263995\n",
            "Mean Square Error - Train :  0.00424194816571964\n",
            "Mean Square Error - Test  :  0.004365473458643292\n",
            "Root Mean Square Error - Train :  0.06513024002504243\n",
            "Root Mean Square Error - Test  :  0.0660717296477343\n"
          ]
        }
      ],
      "source": [
        "# R2 score\n",
        "\n",
        "print('R2 Score - Train : ', r2_score(y_train_new, y_pred_train_svm)*100)\n",
        "print('R2 Score - Test  : ', r2_score(y_test, y_pred_test_svm)*100)\n",
        "\n",
        "# Mean Absolute Error\n",
        "\n",
        "print('Mean Absolute Error - Train : ', mae(y_train_new, y_pred_train_svm))\n",
        "print('Mean Absolute Error - Test  : ', mae(y_test, y_pred_test_svm))\n",
        "\n",
        "# Mean Square Error\n",
        "\n",
        "print('Mean Square Error - Train : ', mse(y_train_new, y_pred_train_svm))\n",
        "print('Mean Square Error - Test  : ', mse(y_test, y_pred_test_svm))\n",
        "\n",
        "# Root Mean Square Error\n",
        "\n",
        "print('Root Mean Square Error - Train : ', rmse(y_train_new, y_pred_train_svm))\n",
        "print('Root Mean Square Error - Test  : ', rmse(y_test, y_pred_test_svm))"
      ]
    },
    {
      "cell_type": "markdown",
      "metadata": {},
      "source": [
        "### Decission Tree"
      ]
    },
    {
      "cell_type": "code",
      "execution_count": 91,
      "metadata": {},
      "outputs": [
        {
          "name": "stdout",
          "output_type": "stream",
          "text": [
            "R2 Score - Train :  93.85794231765297\n",
            "R2 Score - Test  :  88.09256507765923\n",
            "Mean Absolute Error - Train :  0.03429501114383793\n",
            "Mean Absolute Error - Test  :  0.05279988458024379\n",
            "Mean Square Error - Train :  0.0024197721146727537\n",
            "Mean Square Error - Test  :  0.004621240517669438\n",
            "Root Mean Square Error - Train :  0.049191179236452075\n",
            "Root Mean Square Error - Test  :  0.06797970666066042\n"
          ]
        }
      ],
      "source": [
        "# R2 score\n",
        "\n",
        "print('R2 Score - Train : ', r2_score(y_train_new, y_pred_train_dt)*100)\n",
        "print('R2 Score - Test  : ', r2_score(y_test, y_pred_test_dt)*100)\n",
        "\n",
        "# Mean Absolute Error\n",
        "\n",
        "print('Mean Absolute Error - Train : ', mae(y_train_new, y_pred_train_dt))\n",
        "print('Mean Absolute Error - Test  : ', mae(y_test, y_pred_test_dt))\n",
        "\n",
        "# Mean Square Error\n",
        "\n",
        "print('Mean Square Error - Train : ', mse(y_train_new, y_pred_train_dt))\n",
        "print('Mean Square Error - Test  : ', mse(y_test, y_pred_test_dt))\n",
        "\n",
        "# Root Mean Square Error\n",
        "\n",
        "print('Root Mean Square Error - Train : ', rmse(y_train_new, y_pred_train_dt))\n",
        "print('Root Mean Square Error - Test  : ', rmse(y_test, y_pred_test_dt))"
      ]
    },
    {
      "cell_type": "markdown",
      "metadata": {},
      "source": [
        "### Random Forest"
      ]
    },
    {
      "cell_type": "code",
      "execution_count": 92,
      "metadata": {},
      "outputs": [
        {
          "name": "stdout",
          "output_type": "stream",
          "text": [
            "R2 Score - Train :  93.68587754797437\n",
            "R2 Score - Test  :  89.4069285638789\n",
            "Mean Absolute Error - Train :  0.03669283920296413\n",
            "Mean Absolute Error - Test  :  0.049957219075526534\n",
            "Mean Square Error - Train :  0.0024875600699670415\n",
            "Mean Square Error - Test  :  0.004111139909345506\n",
            "Root Mean Square Error - Train :  0.049875445561589134\n",
            "Root Mean Square Error - Test  :  0.06411817144418192\n"
          ]
        }
      ],
      "source": [
        "# R2 score\n",
        "\n",
        "print('R2 Score - Train : ', r2_score(y_train_new, y_pred_train_rf)*100)\n",
        "print('R2 Score - Test  : ', r2_score(y_test, y_pred_test_rf)*100)\n",
        "\n",
        "# Mean Absolute Error\n",
        "\n",
        "print('Mean Absolute Error - Train : ', mae(y_train_new, y_pred_train_rf))\n",
        "print('Mean Absolute Error - Test  : ', mae(y_test, y_pred_test_rf))\n",
        "\n",
        "# Mean Square Error\n",
        "\n",
        "print('Mean Square Error - Train : ', mse(y_train_new, y_pred_train_rf))\n",
        "print('Mean Square Error - Test  : ', mse(y_test, y_pred_test_rf))\n",
        "\n",
        "# Root Mean Square Error\n",
        "\n",
        "print('Root Mean Square Error - Train : ', rmse(y_train_new, y_pred_train_rf))\n",
        "print('Root Mean Square Error - Test  : ', rmse(y_test, y_pred_test_rf))"
      ]
    },
    {
      "cell_type": "markdown",
      "metadata": {},
      "source": [
        "### KNN"
      ]
    },
    {
      "cell_type": "code",
      "execution_count": 93,
      "metadata": {},
      "outputs": [
        {
          "name": "stdout",
          "output_type": "stream",
          "text": [
            "R2 Score - Train :  91.85573904578726\n",
            "R2 Score - Test  :  88.52759887076674\n",
            "Mean Absolute Error - Train :  0.04294321730079797\n",
            "Mean Absolute Error - Test  :  0.05172432932469936\n",
            "Mean Square Error - Train :  0.0032085754596970044\n",
            "Mean Square Error - Test  :  0.004452405180388529\n",
            "Root Mean Square Error - Train :  0.0566442888533081\n",
            "Root Mean Square Error - Test  :  0.06672634547454648\n"
          ]
        }
      ],
      "source": [
        "# R2 score\n",
        "\n",
        "print('R2 Score - Train : ', r2_score(y_train_new, y_pred_train_knn)*100)\n",
        "print('R2 Score - Test  : ', r2_score(y_test, y_pred_test_knn)*100)\n",
        "\n",
        "# Mean Absolute Error\n",
        "\n",
        "print('Mean Absolute Error - Train : ', mae(y_train_new, y_pred_train_knn))\n",
        "print('Mean Absolute Error - Test  : ', mae(y_test, y_pred_test_knn))\n",
        "\n",
        "# Mean Square Error\n",
        "\n",
        "print('Mean Square Error - Train : ', mse(y_train_new, y_pred_train_knn))\n",
        "print('Mean Square Error - Test  : ', mse(y_test, y_pred_test_knn))\n",
        "\n",
        "# Root Mean Square Error\n",
        "\n",
        "print('Root Mean Square Error - Train : ', rmse(y_train_new, y_pred_train_knn))\n",
        "print('Root Mean Square Error - Test  : ', rmse(y_test, y_pred_test_knn))"
      ]
    },
    {
      "cell_type": "markdown",
      "metadata": {},
      "source": [
        "### XGBoost"
      ]
    },
    {
      "cell_type": "code",
      "execution_count": 94,
      "metadata": {},
      "outputs": [
        {
          "name": "stdout",
          "output_type": "stream",
          "text": [
            "R2 Score - Train :  92.31619123734642\n",
            "R2 Score - Test  :  90.84752077629567\n",
            "Mean Absolute Error - Train :  0.042604328631171466\n",
            "Mean Absolute Error - Test  :  0.0469317731741083\n",
            "Mean Square Error - Train :  0.0030271721855992836\n",
            "Mean Square Error - Test  :  0.003552050303155941\n",
            "Root Mean Square Error - Train :  0.05501974359808744\n",
            "Root Mean Square Error - Test  :  0.05959907971735756\n"
          ]
        }
      ],
      "source": [
        "# R2 score\n",
        "\n",
        "print('R2 Score - Train : ', r2_score(y_train_new, y_pred_train_xgb)*100)\n",
        "print('R2 Score - Test  : ', r2_score(y_test, y_pred_test_xgb)*100)\n",
        "\n",
        "# Mean Absolute Error\n",
        "\n",
        "print('Mean Absolute Error - Train : ', mae(y_train_new, y_pred_train_xgb))\n",
        "print('Mean Absolute Error - Test  : ', mae(y_test, y_pred_test_xgb))\n",
        "\n",
        "# Mean Square Error\n",
        "\n",
        "print('Mean Square Error - Train : ', mse(y_train_new, y_pred_train_xgb))\n",
        "print('Mean Square Error - Test  : ', mse(y_test, y_pred_test_xgb))\n",
        "\n",
        "# Root Mean Square Error\n",
        "\n",
        "print('Root Mean Square Error - Train : ', rmse(y_train_new, y_pred_train_xgb))\n",
        "print('Root Mean Square Error - Test  : ', rmse(y_test, y_pred_test_xgb))"
      ]
    },
    {
      "cell_type": "markdown",
      "metadata": {},
      "source": [
        "- Setelah dilakukan pemodelan dengan menggunakan Linear regression, SVM, Decisson tree, Random forest, kNN, dan XGBoost didapatkan hasil sebagai berikut :\n",
        "    - R2 score train terbesar terdapat pada Decission tree dengan nilai : 93.857\n",
        "    - R2 score test terbesar terdapat pada XGBoost dengan nilai : 90.847\n",
        "    - Mean Absolute Error train terkecil terdapat pada Decission tree dengan nilai : 0,0342\n",
        "    - Mean Absolute Error test terkecil terdapat pada XGBoost dengan nilai : 0,0469\n",
        "    - Mean Square Error train terkecil terdapat pada Decission tree dengan nilai : 0,00241\n",
        "    - Mean Square Error test terkecil terdapat pada XGBoost dengan nilai : 0,00355\n",
        "    - Root Mean Square Error train terkecil terdapat pada Decission tree dengan nilai : 0,0491\n",
        "    - Root Mean Square Error test terkecil terdapat pada XGBoost dengan nilai : 0,0595\n",
        "- Kemudia dilakukan perbandingan untuk nilai R2 score, MAE, MSE, dan RMSE pada pemodelan Decission tree dan XGBoost untuk mencari perbedaan terkecil pada masing-masing nilainya\n",
        "- Didapatkan perbedaan terkecil antara nilai R2, MAE, MSE, dan RMSE pada pemodelan XGBoost, sehingga pemodelan XGBoost lah yang akan digunakan "
      ]
    },
    {
      "cell_type": "markdown",
      "metadata": {},
      "source": [
        "### Hyperparameter tunning"
      ]
    },
    {
      "cell_type": "code",
      "execution_count": 95,
      "metadata": {},
      "outputs": [
        {
          "data": {
            "text/plain": [
              "['objective']"
            ]
          },
          "execution_count": 95,
          "metadata": {},
          "output_type": "execute_result"
        }
      ],
      "source": [
        "XGBRegressor._get_param_names()"
      ]
    },
    {
      "cell_type": "code",
      "execution_count": 96,
      "metadata": {},
      "outputs": [
        {
          "name": "stdout",
          "output_type": "stream",
          "text": [
            "Fitting 3 folds for each of 324 candidates, totalling 972 fits\n"
          ]
        },
        {
          "data": {
            "text/plain": [
              "GridSearchCV(cv=3,\n",
              "             estimator=XGBRegressor(base_score=None, booster=None,\n",
              "                                    callbacks=None, colsample_bylevel=None,\n",
              "                                    colsample_bynode=None,\n",
              "                                    colsample_bytree=None,\n",
              "                                    early_stopping_rounds=None,\n",
              "                                    enable_categorical=False, eval_metric=None,\n",
              "                                    gamma=None, gpu_id=None, grow_policy=None,\n",
              "                                    importance_type=None,\n",
              "                                    interaction_constraints=None,\n",
              "                                    learning_rate=None, max_bin=None,\n",
              "                                    max_cat...\n",
              "                                    max_depth=None, max_leaves=None,\n",
              "                                    min_child_weight=None, missing=nan,\n",
              "                                    monotone_constraints=None, n_estimators=100,\n",
              "                                    n_jobs=None, num_parallel_tree=None,\n",
              "                                    predictor=None, random_state=None,\n",
              "                                    reg_alpha=None, reg_lambda=None, ...),\n",
              "             n_jobs=-1,\n",
              "             param_grid={'colsample_bytree': [0.6, 0.8, 1.0],\n",
              "                         'gamma': [0.5, 1, 1.5, 2], 'max_depth': [3, 4, 5],\n",
              "                         'min_child_weight': [1, 5, 10],\n",
              "                         'subsample': [0.6, 0.8, 1.0]},\n",
              "             verbose=2)"
            ]
          },
          "execution_count": 96,
          "metadata": {},
          "output_type": "execute_result"
        }
      ],
      "source": [
        "param_grid = {\n",
        "        'min_child_weight': [1, 5, 10],\n",
        "        'gamma': [0.5, 1, 1.5, 2],\n",
        "        'subsample': [0.6, 0.8, 1.0],\n",
        "        'colsample_bytree': [0.6, 0.8, 1.0],\n",
        "        'max_depth': [3, 4, 5]\n",
        "        }\n",
        "\n",
        "xgboost_gridcv = GridSearchCV(estimator=XGBRegressor(),\n",
        "                         param_grid=param_grid,\n",
        "                         cv=3,\n",
        "                         n_jobs=-1,\n",
        "                         verbose=2)\n",
        "\n",
        "xgboost_gridcv.fit(X_train_final, y_train_new)"
      ]
    },
    {
      "cell_type": "code",
      "execution_count": 97,
      "metadata": {},
      "outputs": [
        {
          "data": {
            "text/plain": [
              "{'colsample_bytree': 1.0,\n",
              " 'gamma': 0.5,\n",
              " 'max_depth': 5,\n",
              " 'min_child_weight': 1,\n",
              " 'subsample': 1.0}"
            ]
          },
          "execution_count": 97,
          "metadata": {},
          "output_type": "execute_result"
        }
      ],
      "source": [
        "# Get Best Hyperparameters\n",
        "\n",
        "xgboost_gridcv.best_params_"
      ]
    },
    {
      "cell_type": "code",
      "execution_count": 98,
      "metadata": {},
      "outputs": [],
      "source": [
        "# Get Best Estimator\n",
        "\n",
        "xgboost_gridcv_best = xgboost_gridcv.best_estimator_"
      ]
    },
    {
      "cell_type": "code",
      "execution_count": 99,
      "metadata": {},
      "outputs": [],
      "source": [
        "y_pred_train_xgboost_best = xgboost_gridcv_best.predict(X_train_final)"
      ]
    },
    {
      "cell_type": "code",
      "execution_count": 100,
      "metadata": {},
      "outputs": [],
      "source": [
        "# Check Performance Model against Test-Set\n",
        "\n",
        "y_pred_test_xgboost_best = xgboost_gridcv_best.predict(X_test_final)"
      ]
    },
    {
      "cell_type": "code",
      "execution_count": 101,
      "metadata": {},
      "outputs": [
        {
          "name": "stdout",
          "output_type": "stream",
          "text": [
            "R2 Score - Train before tuning :  92.31619123734642\n",
            "R2 Score - Train after tuning :  90.01326560767858\n",
            "R2 Score - Test before tuning :  90.84752077629567\n",
            "R2 Score - Test after tuning :  89.67172000564958\n",
            "Mean Absolute Error - Train before tuning :  0.042604328631171466\n",
            "Mean Absolute Error - Train after tuning :  0.04903467009150115\n",
            "Mean Absolute Error - Test before tuning :  0.0469317731741083\n",
            "Mean Absolute Error - Test after tuning :  0.04985551596335743\n",
            "Mean Square Error - Train before tuning :  0.0030271721855992836\n",
            "Mean Square Error - Train after tuning :  0.003934450415312362\n",
            "Mean Square Error - Test before tuning :  0.003552050303155941\n",
            "Mean Square Error - Test after tuning :  0.004008375128565819\n",
            "Root Mean Square Error - Train before tuning :  0.05501974359808744\n",
            "Root Mean Square Error - Train after tuning :  0.06272519761078765\n",
            "Root Mean Square Error - Test before tuning :  0.05959907971735756\n",
            "Root Mean Square Error - Test after tuning :  0.0633117297865555\n"
          ]
        }
      ],
      "source": [
        "# R2 score\n",
        "\n",
        "print('R2 Score - Train before tuning : ', r2_score(y_train_new, y_pred_train_xgb)*100)\n",
        "print('R2 Score - Train after tuning : ', r2_score(y_train_new, y_pred_train_xgboost_best)*100)\n",
        "print('R2 Score - Test before tuning : ', r2_score(y_test, y_pred_test_xgb)*100)\n",
        "print('R2 Score - Test after tuning : ', r2_score(y_test, y_pred_test_xgboost_best)*100)\n",
        "\n",
        "# Mean Absolute Error\n",
        "\n",
        "print('Mean Absolute Error - Train before tuning : ', mae(y_train_new, y_pred_train_xgb))\n",
        "print('Mean Absolute Error - Train after tuning : ', mae(y_train_new, y_pred_train_xgboost_best))\n",
        "print('Mean Absolute Error - Test before tuning : ', mae(y_test, y_pred_test_xgb))\n",
        "print('Mean Absolute Error - Test after tuning : ', mae(y_test, y_pred_test_xgboost_best))\n",
        "\n",
        "# Mean Square Error\n",
        "\n",
        "print('Mean Square Error - Train before tuning : ', mse(y_train_new, y_pred_train_xgb))\n",
        "print('Mean Square Error - Train after tuning : ', mse(y_train_new, y_pred_train_xgboost_best))\n",
        "print('Mean Square Error - Test before tuning : ', mse(y_test, y_pred_test_xgb))\n",
        "print('Mean Square Error - Test after tuning : ', mse(y_test, y_pred_test_xgboost_best))\n",
        "\n",
        "# Root Mean Square Error\n",
        "\n",
        "print('Root Mean Square Error - Train before tuning : ', rmse(y_train_new, y_pred_train_xgb))\n",
        "print('Root Mean Square Error - Train after tuning : ', rmse(y_train_new, y_pred_train_xgboost_best))\n",
        "print('Root Mean Square Error - Test before tuning : ', rmse(y_test, y_pred_test_xgb))\n",
        "print('Root Mean Square Error - Test after tuning : ', rmse(y_test, y_pred_test_xgboost_best))"
      ]
    },
    {
      "cell_type": "markdown",
      "metadata": {},
      "source": [
        "- Setelah dilakukan pencarian hyperparameter menggunakan GridSearchCV dan melakukan pengujian kembali terhadap train - set dan test -set, ternyata didapatkan hasil yang tidak sebagus menggunakan hyperparameter pada bseline\n",
        "- Maka hyperparameter yang akan digunakan adalah hyperparameter baseline"
      ]
    },
    {
      "cell_type": "markdown",
      "metadata": {},
      "source": [
        "# Making Pipeline"
      ]
    },
    {
      "cell_type": "code",
      "execution_count": 102,
      "metadata": {},
      "outputs": [],
      "source": [
        "num_pipeline = make_pipeline(MeanMedianImputer(imputation_method= 'mean',\n",
        "                              variables= ['Resource Allocation',\n",
        "                                          'Mental Fatigue Score']),\n",
        "                             StandardScaler())\n",
        "\n",
        "cat_pipeline = make_pipeline(OneHotEncoder())\n",
        "\n",
        "data_pipeline = ColumnTransformer([\n",
        "    ('pipe_num', num_pipeline, ['Designation', 'Resource Allocation', 'Mental Fatigue Score']),\n",
        "    ('pipe_cat', cat_pipeline, ['Gender', 'Company Type', 'WFH Setup Available'])\n",
        "])\n",
        "\n",
        "# final pipeline\n",
        "final_pipeline = make_pipeline(data_pipeline, XGBRegressor())"
      ]
    },
    {
      "cell_type": "code",
      "execution_count": 103,
      "metadata": {},
      "outputs": [
        {
          "name": "stdout",
          "output_type": "stream",
          "text": [
            "0.9084752077629566\n"
          ]
        }
      ],
      "source": [
        "X_train_pipe = X_train.copy()\n",
        "X_test_pipe = X_test.copy()\n",
        "\n",
        "X_train_pipe.drop(['Employee ID', 'Date of Joining'], axis = 1, inplace= True)\n",
        "X_test_pipe.drop(['Employee ID', 'Date of Joining'], axis = 1, inplace= True)\n",
        "\n",
        "final_pipeline.fit(X_train_pipe, y_train_new)\n",
        "\n",
        "y_pred = final_pipeline.predict(X_test_pipe)\n",
        "print(r2_score(y_test, y_pred))"
      ]
    },
    {
      "cell_type": "code",
      "execution_count": 104,
      "metadata": {},
      "outputs": [],
      "source": [
        "# simpan  pipeline\n",
        "\n",
        "with open('burnout_pipe.pkl', 'wb') as f:\n",
        "  pickle.dump(final_pipeline, f)"
      ]
    },
    {
      "cell_type": "markdown",
      "metadata": {
        "id": "RWJ6uKfPhH8B"
      },
      "source": [
        "# Model Inference"
      ]
    },
    {
      "cell_type": "code",
      "execution_count": 105,
      "metadata": {},
      "outputs": [
        {
          "data": {
            "text/html": [
              "<div>\n",
              "<style scoped>\n",
              "    .dataframe tbody tr th:only-of-type {\n",
              "        vertical-align: middle;\n",
              "    }\n",
              "\n",
              "    .dataframe tbody tr th {\n",
              "        vertical-align: top;\n",
              "    }\n",
              "\n",
              "    .dataframe thead th {\n",
              "        text-align: right;\n",
              "    }\n",
              "</style>\n",
              "<table border=\"1\" class=\"dataframe\">\n",
              "  <thead>\n",
              "    <tr style=\"text-align: right;\">\n",
              "      <th></th>\n",
              "      <th>Employee ID</th>\n",
              "      <th>Date of Joining</th>\n",
              "      <th>Gender</th>\n",
              "      <th>Company Type</th>\n",
              "      <th>WFH Setup Available</th>\n",
              "      <th>Designation</th>\n",
              "      <th>Resource Allocation</th>\n",
              "      <th>Mental Fatigue Score</th>\n",
              "      <th>Burn Rate</th>\n",
              "    </tr>\n",
              "  </thead>\n",
              "  <tbody>\n",
              "    <tr>\n",
              "      <th>0</th>\n",
              "      <td>fffe33003400350030003300</td>\n",
              "      <td>2008-02-10</td>\n",
              "      <td>Female</td>\n",
              "      <td>Service</td>\n",
              "      <td>Yes</td>\n",
              "      <td>1.0</td>\n",
              "      <td>2.0</td>\n",
              "      <td>1.9</td>\n",
              "      <td>0.14</td>\n",
              "    </tr>\n",
              "    <tr>\n",
              "      <th>1</th>\n",
              "      <td>fffe3700320037003700</td>\n",
              "      <td>2008-09-10</td>\n",
              "      <td>Female</td>\n",
              "      <td>Service</td>\n",
              "      <td>No</td>\n",
              "      <td>3.0</td>\n",
              "      <td>7.0</td>\n",
              "      <td>9.0</td>\n",
              "      <td>0.79</td>\n",
              "    </tr>\n",
              "    <tr>\n",
              "      <th>2</th>\n",
              "      <td>fffe32003700390034003700</td>\n",
              "      <td>2008-11-23</td>\n",
              "      <td>Female</td>\n",
              "      <td>Service</td>\n",
              "      <td>No</td>\n",
              "      <td>4.0</td>\n",
              "      <td>7.0</td>\n",
              "      <td>6.8</td>\n",
              "      <td>0.68</td>\n",
              "    </tr>\n",
              "    <tr>\n",
              "      <th>3</th>\n",
              "      <td>fffe340038003000</td>\n",
              "      <td>2008-08-31</td>\n",
              "      <td>Female</td>\n",
              "      <td>Service</td>\n",
              "      <td>Yes</td>\n",
              "      <td>2.0</td>\n",
              "      <td>4.0</td>\n",
              "      <td>5.7</td>\n",
              "      <td>0.37</td>\n",
              "    </tr>\n",
              "    <tr>\n",
              "      <th>4</th>\n",
              "      <td>fffe31003000380035003100</td>\n",
              "      <td>2008-11-02</td>\n",
              "      <td>Male</td>\n",
              "      <td>Service</td>\n",
              "      <td>No</td>\n",
              "      <td>3.0</td>\n",
              "      <td>6.0</td>\n",
              "      <td>5.7</td>\n",
              "      <td>0.55</td>\n",
              "    </tr>\n",
              "    <tr>\n",
              "      <th>5</th>\n",
              "      <td>fffe3900370030003400</td>\n",
              "      <td>2008-09-24</td>\n",
              "      <td>Male</td>\n",
              "      <td>Service</td>\n",
              "      <td>No</td>\n",
              "      <td>5.0</td>\n",
              "      <td>10.0</td>\n",
              "      <td>9.4</td>\n",
              "      <td>1.00</td>\n",
              "    </tr>\n",
              "    <tr>\n",
              "      <th>6</th>\n",
              "      <td>fffe3700350034003200</td>\n",
              "      <td>2008-04-02</td>\n",
              "      <td>Female</td>\n",
              "      <td>Product</td>\n",
              "      <td>Yes</td>\n",
              "      <td>3.0</td>\n",
              "      <td>5.0</td>\n",
              "      <td>6.2</td>\n",
              "      <td>0.48</td>\n",
              "    </tr>\n",
              "    <tr>\n",
              "      <th>7</th>\n",
              "      <td>fffe31003600340037003100</td>\n",
              "      <td>2008-01-14</td>\n",
              "      <td>Male</td>\n",
              "      <td>Service</td>\n",
              "      <td>Yes</td>\n",
              "      <td>1.0</td>\n",
              "      <td>3.0</td>\n",
              "      <td>4.9</td>\n",
              "      <td>0.43</td>\n",
              "    </tr>\n",
              "  </tbody>\n",
              "</table>\n",
              "</div>"
            ],
            "text/plain": [
              "                Employee ID Date of Joining  Gender Company Type  \\\n",
              "0  fffe33003400350030003300      2008-02-10  Female      Service   \n",
              "1      fffe3700320037003700      2008-09-10  Female      Service   \n",
              "2  fffe32003700390034003700      2008-11-23  Female      Service   \n",
              "3          fffe340038003000      2008-08-31  Female      Service   \n",
              "4  fffe31003000380035003100      2008-11-02    Male      Service   \n",
              "5      fffe3900370030003400      2008-09-24    Male      Service   \n",
              "6      fffe3700350034003200      2008-04-02  Female      Product   \n",
              "7  fffe31003600340037003100      2008-01-14    Male      Service   \n",
              "\n",
              "  WFH Setup Available  Designation  Resource Allocation  Mental Fatigue Score  \\\n",
              "0                 Yes          1.0                  2.0                   1.9   \n",
              "1                  No          3.0                  7.0                   9.0   \n",
              "2                  No          4.0                  7.0                   6.8   \n",
              "3                 Yes          2.0                  4.0                   5.7   \n",
              "4                  No          3.0                  6.0                   5.7   \n",
              "5                  No          5.0                 10.0                   9.4   \n",
              "6                 Yes          3.0                  5.0                   6.2   \n",
              "7                 Yes          1.0                  3.0                   4.9   \n",
              "\n",
              "   Burn Rate  \n",
              "0       0.14  \n",
              "1       0.79  \n",
              "2       0.68  \n",
              "3       0.37  \n",
              "4       0.55  \n",
              "5       1.00  \n",
              "6       0.48  \n",
              "7       0.43  "
            ]
          },
          "execution_count": 105,
          "metadata": {},
          "output_type": "execute_result"
        }
      ],
      "source": [
        "# Display Inference-Set\n",
        "data_inf_clear"
      ]
    },
    {
      "cell_type": "code",
      "execution_count": 106,
      "metadata": {
        "colab": {
          "base_uri": "https://localhost:8080/",
          "height": 461
        },
        "id": "M7GJPfKAhLVo",
        "outputId": "9452f235-2a88-4354-9ee4-6843cb7775c6"
      },
      "outputs": [],
      "source": [
        "data_inf_clear_new = data_inf_clear.drop('Burn Rate', axis = 1)"
      ]
    },
    {
      "cell_type": "code",
      "execution_count": 107,
      "metadata": {
        "id": "0Cxa6LJ6hGAJ"
      },
      "outputs": [],
      "source": [
        "# Split between Numerical Columns and Categorical Columns\n",
        "\n",
        "data_inf_num = data_inf_clear_new[num_columns]\n",
        "data_inf_cat = data_inf_clear_new[cat_columns]"
      ]
    },
    {
      "cell_type": "code",
      "execution_count": 108,
      "metadata": {
        "id": "OsCVhsyqhdKi"
      },
      "outputs": [],
      "source": [
        "# Feature Scaling and Feature Encoding\n",
        "\n",
        "data_inf_num_scaled = scaler.transform(data_inf_num)\n",
        "data_inf_cat_scaled = encoder.transform(data_inf_cat)"
      ]
    },
    {
      "cell_type": "code",
      "execution_count": 109,
      "metadata": {
        "colab": {
          "base_uri": "https://localhost:8080/",
          "height": 407
        },
        "id": "lr9Nlxdoh706",
        "outputId": "c4eccd81-4785-4978-a299-f2540a271f34"
      },
      "outputs": [],
      "source": [
        "# Merge Numerical Data and Categorical Data\n",
        "\n",
        "data_inf_final = np.concatenate([data_inf_num_scaled, data_inf_cat_scaled], axis=1)"
      ]
    },
    {
      "cell_type": "code",
      "execution_count": 110,
      "metadata": {
        "colab": {
          "base_uri": "https://localhost:8080/",
          "height": 362
        },
        "id": "7c-IJxDoieJz",
        "outputId": "984af52f-73c4-465e-99d8-ecdcdf874de1"
      },
      "outputs": [],
      "source": [
        "# Predict Inference-Set\n",
        "\n",
        "y_pred_inf = model_xgb.predict(data_inf_final)\n",
        "y_pred_inf_df = pd.DataFrame(y_pred_inf, columns=['Burn Rate Prediction'])"
      ]
    },
    {
      "cell_type": "code",
      "execution_count": 111,
      "metadata": {},
      "outputs": [
        {
          "data": {
            "text/html": [
              "<div>\n",
              "<style scoped>\n",
              "    .dataframe tbody tr th:only-of-type {\n",
              "        vertical-align: middle;\n",
              "    }\n",
              "\n",
              "    .dataframe tbody tr th {\n",
              "        vertical-align: top;\n",
              "    }\n",
              "\n",
              "    .dataframe thead th {\n",
              "        text-align: right;\n",
              "    }\n",
              "</style>\n",
              "<table border=\"1\" class=\"dataframe\">\n",
              "  <thead>\n",
              "    <tr style=\"text-align: right;\">\n",
              "      <th></th>\n",
              "      <th>Employee ID</th>\n",
              "      <th>Date of Joining</th>\n",
              "      <th>Gender</th>\n",
              "      <th>Company Type</th>\n",
              "      <th>WFH Setup Available</th>\n",
              "      <th>Designation</th>\n",
              "      <th>Resource Allocation</th>\n",
              "      <th>Mental Fatigue Score</th>\n",
              "      <th>Burn Rate</th>\n",
              "    </tr>\n",
              "  </thead>\n",
              "  <tbody>\n",
              "    <tr>\n",
              "      <th>0</th>\n",
              "      <td>fffe33003400350030003300</td>\n",
              "      <td>2008-02-10</td>\n",
              "      <td>Female</td>\n",
              "      <td>Service</td>\n",
              "      <td>Yes</td>\n",
              "      <td>1.0</td>\n",
              "      <td>2.0</td>\n",
              "      <td>1.9</td>\n",
              "      <td>0.14</td>\n",
              "    </tr>\n",
              "    <tr>\n",
              "      <th>1</th>\n",
              "      <td>fffe3700320037003700</td>\n",
              "      <td>2008-09-10</td>\n",
              "      <td>Female</td>\n",
              "      <td>Service</td>\n",
              "      <td>No</td>\n",
              "      <td>3.0</td>\n",
              "      <td>7.0</td>\n",
              "      <td>9.0</td>\n",
              "      <td>0.79</td>\n",
              "    </tr>\n",
              "    <tr>\n",
              "      <th>2</th>\n",
              "      <td>fffe32003700390034003700</td>\n",
              "      <td>2008-11-23</td>\n",
              "      <td>Female</td>\n",
              "      <td>Service</td>\n",
              "      <td>No</td>\n",
              "      <td>4.0</td>\n",
              "      <td>7.0</td>\n",
              "      <td>6.8</td>\n",
              "      <td>0.68</td>\n",
              "    </tr>\n",
              "    <tr>\n",
              "      <th>3</th>\n",
              "      <td>fffe340038003000</td>\n",
              "      <td>2008-08-31</td>\n",
              "      <td>Female</td>\n",
              "      <td>Service</td>\n",
              "      <td>Yes</td>\n",
              "      <td>2.0</td>\n",
              "      <td>4.0</td>\n",
              "      <td>5.7</td>\n",
              "      <td>0.37</td>\n",
              "    </tr>\n",
              "    <tr>\n",
              "      <th>4</th>\n",
              "      <td>fffe31003000380035003100</td>\n",
              "      <td>2008-11-02</td>\n",
              "      <td>Male</td>\n",
              "      <td>Service</td>\n",
              "      <td>No</td>\n",
              "      <td>3.0</td>\n",
              "      <td>6.0</td>\n",
              "      <td>5.7</td>\n",
              "      <td>0.55</td>\n",
              "    </tr>\n",
              "    <tr>\n",
              "      <th>5</th>\n",
              "      <td>fffe3900370030003400</td>\n",
              "      <td>2008-09-24</td>\n",
              "      <td>Male</td>\n",
              "      <td>Service</td>\n",
              "      <td>No</td>\n",
              "      <td>5.0</td>\n",
              "      <td>10.0</td>\n",
              "      <td>9.4</td>\n",
              "      <td>1.00</td>\n",
              "    </tr>\n",
              "    <tr>\n",
              "      <th>6</th>\n",
              "      <td>fffe3700350034003200</td>\n",
              "      <td>2008-04-02</td>\n",
              "      <td>Female</td>\n",
              "      <td>Product</td>\n",
              "      <td>Yes</td>\n",
              "      <td>3.0</td>\n",
              "      <td>5.0</td>\n",
              "      <td>6.2</td>\n",
              "      <td>0.48</td>\n",
              "    </tr>\n",
              "    <tr>\n",
              "      <th>7</th>\n",
              "      <td>fffe31003600340037003100</td>\n",
              "      <td>2008-01-14</td>\n",
              "      <td>Male</td>\n",
              "      <td>Service</td>\n",
              "      <td>Yes</td>\n",
              "      <td>1.0</td>\n",
              "      <td>3.0</td>\n",
              "      <td>4.9</td>\n",
              "      <td>0.43</td>\n",
              "    </tr>\n",
              "  </tbody>\n",
              "</table>\n",
              "</div>"
            ],
            "text/plain": [
              "                Employee ID Date of Joining  Gender Company Type  \\\n",
              "0  fffe33003400350030003300      2008-02-10  Female      Service   \n",
              "1      fffe3700320037003700      2008-09-10  Female      Service   \n",
              "2  fffe32003700390034003700      2008-11-23  Female      Service   \n",
              "3          fffe340038003000      2008-08-31  Female      Service   \n",
              "4  fffe31003000380035003100      2008-11-02    Male      Service   \n",
              "5      fffe3900370030003400      2008-09-24    Male      Service   \n",
              "6      fffe3700350034003200      2008-04-02  Female      Product   \n",
              "7  fffe31003600340037003100      2008-01-14    Male      Service   \n",
              "\n",
              "  WFH Setup Available  Designation  Resource Allocation  Mental Fatigue Score  \\\n",
              "0                 Yes          1.0                  2.0                   1.9   \n",
              "1                  No          3.0                  7.0                   9.0   \n",
              "2                  No          4.0                  7.0                   6.8   \n",
              "3                 Yes          2.0                  4.0                   5.7   \n",
              "4                  No          3.0                  6.0                   5.7   \n",
              "5                  No          5.0                 10.0                   9.4   \n",
              "6                 Yes          3.0                  5.0                   6.2   \n",
              "7                 Yes          1.0                  3.0                   4.9   \n",
              "\n",
              "   Burn Rate  \n",
              "0       0.14  \n",
              "1       0.79  \n",
              "2       0.68  \n",
              "3       0.37  \n",
              "4       0.55  \n",
              "5       1.00  \n",
              "6       0.48  \n",
              "7       0.43  "
            ]
          },
          "execution_count": 111,
          "metadata": {},
          "output_type": "execute_result"
        }
      ],
      "source": [
        "data_inf_clear"
      ]
    },
    {
      "cell_type": "code",
      "execution_count": 115,
      "metadata": {
        "colab": {
          "base_uri": "https://localhost:8080/",
          "height": 479
        },
        "id": "QTK8sb8Wi5Ct",
        "outputId": "9046b2b6-bebc-4560-ed89-f351599ad624"
      },
      "outputs": [
        {
          "data": {
            "text/html": [
              "<div>\n",
              "<style scoped>\n",
              "    .dataframe tbody tr th:only-of-type {\n",
              "        vertical-align: middle;\n",
              "    }\n",
              "\n",
              "    .dataframe tbody tr th {\n",
              "        vertical-align: top;\n",
              "    }\n",
              "\n",
              "    .dataframe thead th {\n",
              "        text-align: right;\n",
              "    }\n",
              "</style>\n",
              "<table border=\"1\" class=\"dataframe\">\n",
              "  <thead>\n",
              "    <tr style=\"text-align: right;\">\n",
              "      <th></th>\n",
              "      <th>Employee ID</th>\n",
              "      <th>Date of Joining</th>\n",
              "      <th>Gender</th>\n",
              "      <th>Company Type</th>\n",
              "      <th>WFH Setup Available</th>\n",
              "      <th>Designation</th>\n",
              "      <th>Resource Allocation</th>\n",
              "      <th>Mental Fatigue Score</th>\n",
              "      <th>Burn Rate Prediction</th>\n",
              "    </tr>\n",
              "  </thead>\n",
              "  <tbody>\n",
              "    <tr>\n",
              "      <th>0</th>\n",
              "      <td>fffe33003400350030003300</td>\n",
              "      <td>2008-02-10</td>\n",
              "      <td>Female</td>\n",
              "      <td>Service</td>\n",
              "      <td>Yes</td>\n",
              "      <td>1.0</td>\n",
              "      <td>2.0</td>\n",
              "      <td>1.9</td>\n",
              "      <td>0.096296</td>\n",
              "    </tr>\n",
              "    <tr>\n",
              "      <th>1</th>\n",
              "      <td>fffe3700320037003700</td>\n",
              "      <td>2008-09-10</td>\n",
              "      <td>Female</td>\n",
              "      <td>Service</td>\n",
              "      <td>No</td>\n",
              "      <td>3.0</td>\n",
              "      <td>7.0</td>\n",
              "      <td>9.0</td>\n",
              "      <td>0.776099</td>\n",
              "    </tr>\n",
              "    <tr>\n",
              "      <th>2</th>\n",
              "      <td>fffe32003700390034003700</td>\n",
              "      <td>2008-11-23</td>\n",
              "      <td>Female</td>\n",
              "      <td>Service</td>\n",
              "      <td>No</td>\n",
              "      <td>4.0</td>\n",
              "      <td>7.0</td>\n",
              "      <td>6.8</td>\n",
              "      <td>0.608435</td>\n",
              "    </tr>\n",
              "    <tr>\n",
              "      <th>3</th>\n",
              "      <td>fffe340038003000</td>\n",
              "      <td>2008-08-31</td>\n",
              "      <td>Female</td>\n",
              "      <td>Service</td>\n",
              "      <td>Yes</td>\n",
              "      <td>2.0</td>\n",
              "      <td>4.0</td>\n",
              "      <td>5.7</td>\n",
              "      <td>0.414935</td>\n",
              "    </tr>\n",
              "    <tr>\n",
              "      <th>4</th>\n",
              "      <td>fffe31003000380035003100</td>\n",
              "      <td>2008-11-02</td>\n",
              "      <td>Male</td>\n",
              "      <td>Service</td>\n",
              "      <td>No</td>\n",
              "      <td>3.0</td>\n",
              "      <td>6.0</td>\n",
              "      <td>5.7</td>\n",
              "      <td>0.495160</td>\n",
              "    </tr>\n",
              "    <tr>\n",
              "      <th>5</th>\n",
              "      <td>fffe3900370030003400</td>\n",
              "      <td>2008-09-24</td>\n",
              "      <td>Male</td>\n",
              "      <td>Service</td>\n",
              "      <td>No</td>\n",
              "      <td>5.0</td>\n",
              "      <td>10.0</td>\n",
              "      <td>9.4</td>\n",
              "      <td>0.824266</td>\n",
              "    </tr>\n",
              "    <tr>\n",
              "      <th>6</th>\n",
              "      <td>fffe3700350034003200</td>\n",
              "      <td>2008-04-02</td>\n",
              "      <td>Female</td>\n",
              "      <td>Product</td>\n",
              "      <td>Yes</td>\n",
              "      <td>3.0</td>\n",
              "      <td>5.0</td>\n",
              "      <td>6.2</td>\n",
              "      <td>0.465451</td>\n",
              "    </tr>\n",
              "    <tr>\n",
              "      <th>7</th>\n",
              "      <td>fffe31003600340037003100</td>\n",
              "      <td>2008-01-14</td>\n",
              "      <td>Male</td>\n",
              "      <td>Service</td>\n",
              "      <td>Yes</td>\n",
              "      <td>1.0</td>\n",
              "      <td>3.0</td>\n",
              "      <td>4.9</td>\n",
              "      <td>0.357322</td>\n",
              "    </tr>\n",
              "  </tbody>\n",
              "</table>\n",
              "</div>"
            ],
            "text/plain": [
              "                Employee ID Date of Joining  Gender Company Type  \\\n",
              "0  fffe33003400350030003300      2008-02-10  Female      Service   \n",
              "1      fffe3700320037003700      2008-09-10  Female      Service   \n",
              "2  fffe32003700390034003700      2008-11-23  Female      Service   \n",
              "3          fffe340038003000      2008-08-31  Female      Service   \n",
              "4  fffe31003000380035003100      2008-11-02    Male      Service   \n",
              "5      fffe3900370030003400      2008-09-24    Male      Service   \n",
              "6      fffe3700350034003200      2008-04-02  Female      Product   \n",
              "7  fffe31003600340037003100      2008-01-14    Male      Service   \n",
              "\n",
              "  WFH Setup Available  Designation  Resource Allocation  Mental Fatigue Score  \\\n",
              "0                 Yes          1.0                  2.0                   1.9   \n",
              "1                  No          3.0                  7.0                   9.0   \n",
              "2                  No          4.0                  7.0                   6.8   \n",
              "3                 Yes          2.0                  4.0                   5.7   \n",
              "4                  No          3.0                  6.0                   5.7   \n",
              "5                  No          5.0                 10.0                   9.4   \n",
              "6                 Yes          3.0                  5.0                   6.2   \n",
              "7                 Yes          1.0                  3.0                   4.9   \n",
              "\n",
              "   Burn Rate Prediction  \n",
              "0              0.096296  \n",
              "1              0.776099  \n",
              "2              0.608435  \n",
              "3              0.414935  \n",
              "4              0.495160  \n",
              "5              0.824266  \n",
              "6              0.465451  \n",
              "7              0.357322  "
            ]
          },
          "execution_count": 115,
          "metadata": {},
          "output_type": "execute_result"
        }
      ],
      "source": [
        "# Concat Inference-Set with Prediction\n",
        "\n",
        "pd.concat([data_inf_clear_new, y_pred_inf_df], axis=1)"
      ]
    },
    {
      "cell_type": "markdown",
      "metadata": {
        "id": "K4tqPWDJjU3S"
      },
      "source": [
        "# Pengambilan Kesimpulan"
      ]
    },
    {
      "cell_type": "markdown",
      "metadata": {},
      "source": [
        "- Pada dataset ini dilakukan pemodelan menggunakan 6 type pemodelan, yaitu LinearRegression, SVM, Decission tree, random forest, kNN, dan XGBoost\n",
        "- Dari hasil pemodelan yang sudah dilakukan  pemodelan terdapat nilai overfit antara train-set dengan test-set nya\n",
        "- Dari hasil pemodelan yang sudah dilakukan didapati nilai R2 score train set terbesar pada Decission tree dengan nilai : 93.857 dan nilai R2 score test set terbesar pada XGBoost dengan nilai 90.847\n",
        "- Sedangkan didapati nilai R2 score terkecil pada train set dan test set terdapat pada pemodelan LinearRegression dengan nilai : 87.180 dan 86.726\n",
        "- Pada pemodelan XGBoost dilakukan Hyperparameter tunning menggunakan GridSearchCV untuk menentukan parameter terbaik yang dapat digunakan untuk meningkatkan akurasi dari pemodelan tersebut\n",
        "- Setelah dilakukan Hyperparameter tunning, akurasi R2 score pada train set dan test-set yang sebelumnya bernilai : 92.31619123734642 dan 90.84752077629567 mengalami penurunan menjadi 90.01326560767858 dan 89.67172000564958\n",
        "- Sehingga pemodelan yang digunakan untuk memprediksi dataset ini menggunakan XGBoost dengan hyperparameter baseline"
      ]
    }
  ],
  "metadata": {
    "colab": {
      "collapsed_sections": [],
      "name": "h8dsft_P1W1Reg_pramudya_adi_nugraha.ipynb",
      "provenance": [],
      "toc_visible": true
    },
    "interpreter": {
      "hash": "6952929d4dcd0c6575c658c04f5c0742a0ef0370b77b7240455d92649572fbf7"
    },
    "kernelspec": {
      "display_name": "Python 3.9.7 ('base')",
      "language": "python",
      "name": "python3"
    },
    "language_info": {
      "codemirror_mode": {
        "name": "ipython",
        "version": 3
      },
      "file_extension": ".py",
      "mimetype": "text/x-python",
      "name": "python",
      "nbconvert_exporter": "python",
      "pygments_lexer": "ipython3",
      "version": "3.9.7"
    }
  },
  "nbformat": 4,
  "nbformat_minor": 0
}
