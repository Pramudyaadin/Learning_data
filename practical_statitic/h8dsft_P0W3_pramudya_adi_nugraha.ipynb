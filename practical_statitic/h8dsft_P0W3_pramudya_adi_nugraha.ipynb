{
 "cells": [
  {
   "cell_type": "markdown",
   "metadata": {},
   "source": [
    "# Graded Challenge 3\n",
    "\n",
    "- Nama  : Pramudya Adi Nugraha\n",
    "- Batch : 10"
   ]
  },
  {
   "cell_type": "markdown",
   "metadata": {},
   "source": [
    "## Description\n",
    "\n",
    "### Objective\n",
    "\n",
    "Graded Challenge 3 ini dibuat guna mengevaluasi kPractical Statistics sebagai berikut:\n",
    "\n",
    "- Mampu memuat data dengan Pandas\n",
    "- Mampu menangani missing values pada dataset\n",
    "- Mampu melakukan manipulasi kolom\n",
    "- Mampu membuat query terhadap dataset\n",
    "- Mampu melakukan grouping terhadap dataset\n",
    "- Mampu melakukan visualisasi sederhana menggunakan Pandas\n",
    "\n",
    "### Problem Statement\n",
    "\n",
    "Cari tahu measure of tendency, measure of variance, dan lakukan Hyphotesis testing dari dataset yang sudah diberikan"
   ]
  },
  {
   "cell_type": "markdown",
   "metadata": {},
   "source": [
    "## Working Area"
   ]
  },
  {
   "cell_type": "markdown",
   "metadata": {},
   "source": [
    "### Import Pustaka"
   ]
  },
  {
   "cell_type": "code",
   "execution_count": 1,
   "metadata": {},
   "outputs": [],
   "source": [
    "import pandas as pd\n",
    "import numpy as np\n",
    "import matplotlib.pyplot as plt\n",
    "import scipy.stats as stats\n",
    "from scipy.stats import norm"
   ]
  },
  {
   "cell_type": "markdown",
   "metadata": {},
   "source": [
    "### Data Loading"
   ]
  },
  {
   "cell_type": "code",
   "execution_count": 2,
   "metadata": {},
   "outputs": [
    {
     "data": {
      "text/html": [
       "<div>\n",
       "<style scoped>\n",
       "    .dataframe tbody tr th:only-of-type {\n",
       "        vertical-align: middle;\n",
       "    }\n",
       "\n",
       "    .dataframe tbody tr th {\n",
       "        vertical-align: top;\n",
       "    }\n",
       "\n",
       "    .dataframe thead th {\n",
       "        text-align: right;\n",
       "    }\n",
       "</style>\n",
       "<table border=\"1\" class=\"dataframe\">\n",
       "  <thead>\n",
       "    <tr style=\"text-align: right;\">\n",
       "      <th></th>\n",
       "      <th>ID</th>\n",
       "      <th>name</th>\n",
       "      <th>category</th>\n",
       "      <th>main_category</th>\n",
       "      <th>currency</th>\n",
       "      <th>deadline</th>\n",
       "      <th>goal</th>\n",
       "      <th>launched</th>\n",
       "      <th>pledged</th>\n",
       "      <th>state</th>\n",
       "      <th>backers</th>\n",
       "      <th>country</th>\n",
       "      <th>usd pledged</th>\n",
       "      <th>usd_pledged_real</th>\n",
       "      <th>usd_goal_real</th>\n",
       "    </tr>\n",
       "  </thead>\n",
       "  <tbody>\n",
       "    <tr>\n",
       "      <th>0</th>\n",
       "      <td>1000002330</td>\n",
       "      <td>The Songs of Adelaide &amp; Abullah</td>\n",
       "      <td>Poetry</td>\n",
       "      <td>Publishing</td>\n",
       "      <td>GBP</td>\n",
       "      <td>2015-10-09</td>\n",
       "      <td>1000.0</td>\n",
       "      <td>2015-08-11 12:12:28</td>\n",
       "      <td>0.0</td>\n",
       "      <td>failed</td>\n",
       "      <td>0</td>\n",
       "      <td>GB</td>\n",
       "      <td>0.0</td>\n",
       "      <td>0.0</td>\n",
       "      <td>1533.95</td>\n",
       "    </tr>\n",
       "    <tr>\n",
       "      <th>1</th>\n",
       "      <td>1000003930</td>\n",
       "      <td>Greeting From Earth: ZGAC Arts Capsule For ET</td>\n",
       "      <td>Narrative Film</td>\n",
       "      <td>Film &amp; Video</td>\n",
       "      <td>USD</td>\n",
       "      <td>2017-11-01</td>\n",
       "      <td>30000.0</td>\n",
       "      <td>2017-09-02 04:43:57</td>\n",
       "      <td>2421.0</td>\n",
       "      <td>failed</td>\n",
       "      <td>15</td>\n",
       "      <td>US</td>\n",
       "      <td>100.0</td>\n",
       "      <td>2421.0</td>\n",
       "      <td>30000.00</td>\n",
       "    </tr>\n",
       "    <tr>\n",
       "      <th>2</th>\n",
       "      <td>1000004038</td>\n",
       "      <td>Where is Hank?</td>\n",
       "      <td>Narrative Film</td>\n",
       "      <td>Film &amp; Video</td>\n",
       "      <td>USD</td>\n",
       "      <td>2013-02-26</td>\n",
       "      <td>45000.0</td>\n",
       "      <td>2013-01-12 00:20:50</td>\n",
       "      <td>220.0</td>\n",
       "      <td>failed</td>\n",
       "      <td>3</td>\n",
       "      <td>US</td>\n",
       "      <td>220.0</td>\n",
       "      <td>220.0</td>\n",
       "      <td>45000.00</td>\n",
       "    </tr>\n",
       "    <tr>\n",
       "      <th>3</th>\n",
       "      <td>1000007540</td>\n",
       "      <td>ToshiCapital Rekordz Needs Help to Complete Album</td>\n",
       "      <td>Music</td>\n",
       "      <td>Music</td>\n",
       "      <td>USD</td>\n",
       "      <td>2012-04-16</td>\n",
       "      <td>5000.0</td>\n",
       "      <td>2012-03-17 03:24:11</td>\n",
       "      <td>1.0</td>\n",
       "      <td>failed</td>\n",
       "      <td>1</td>\n",
       "      <td>US</td>\n",
       "      <td>1.0</td>\n",
       "      <td>1.0</td>\n",
       "      <td>5000.00</td>\n",
       "    </tr>\n",
       "    <tr>\n",
       "      <th>4</th>\n",
       "      <td>1000011046</td>\n",
       "      <td>Community Film Project: The Art of Neighborhoo...</td>\n",
       "      <td>Film &amp; Video</td>\n",
       "      <td>Film &amp; Video</td>\n",
       "      <td>USD</td>\n",
       "      <td>2015-08-29</td>\n",
       "      <td>19500.0</td>\n",
       "      <td>2015-07-04 08:35:03</td>\n",
       "      <td>1283.0</td>\n",
       "      <td>canceled</td>\n",
       "      <td>14</td>\n",
       "      <td>US</td>\n",
       "      <td>1283.0</td>\n",
       "      <td>1283.0</td>\n",
       "      <td>19500.00</td>\n",
       "    </tr>\n",
       "    <tr>\n",
       "      <th>...</th>\n",
       "      <td>...</td>\n",
       "      <td>...</td>\n",
       "      <td>...</td>\n",
       "      <td>...</td>\n",
       "      <td>...</td>\n",
       "      <td>...</td>\n",
       "      <td>...</td>\n",
       "      <td>...</td>\n",
       "      <td>...</td>\n",
       "      <td>...</td>\n",
       "      <td>...</td>\n",
       "      <td>...</td>\n",
       "      <td>...</td>\n",
       "      <td>...</td>\n",
       "      <td>...</td>\n",
       "    </tr>\n",
       "    <tr>\n",
       "      <th>378656</th>\n",
       "      <td>999976400</td>\n",
       "      <td>ChknTruk Nationwide Charity Drive 2014 (Canceled)</td>\n",
       "      <td>Documentary</td>\n",
       "      <td>Film &amp; Video</td>\n",
       "      <td>USD</td>\n",
       "      <td>2014-10-17</td>\n",
       "      <td>50000.0</td>\n",
       "      <td>2014-09-17 02:35:30</td>\n",
       "      <td>25.0</td>\n",
       "      <td>canceled</td>\n",
       "      <td>1</td>\n",
       "      <td>US</td>\n",
       "      <td>25.0</td>\n",
       "      <td>25.0</td>\n",
       "      <td>50000.00</td>\n",
       "    </tr>\n",
       "    <tr>\n",
       "      <th>378657</th>\n",
       "      <td>999977640</td>\n",
       "      <td>The Tribe</td>\n",
       "      <td>Narrative Film</td>\n",
       "      <td>Film &amp; Video</td>\n",
       "      <td>USD</td>\n",
       "      <td>2011-07-19</td>\n",
       "      <td>1500.0</td>\n",
       "      <td>2011-06-22 03:35:14</td>\n",
       "      <td>155.0</td>\n",
       "      <td>failed</td>\n",
       "      <td>5</td>\n",
       "      <td>US</td>\n",
       "      <td>155.0</td>\n",
       "      <td>155.0</td>\n",
       "      <td>1500.00</td>\n",
       "    </tr>\n",
       "    <tr>\n",
       "      <th>378658</th>\n",
       "      <td>999986353</td>\n",
       "      <td>Walls of Remedy- New lesbian Romantic Comedy f...</td>\n",
       "      <td>Narrative Film</td>\n",
       "      <td>Film &amp; Video</td>\n",
       "      <td>USD</td>\n",
       "      <td>2010-08-16</td>\n",
       "      <td>15000.0</td>\n",
       "      <td>2010-07-01 19:40:30</td>\n",
       "      <td>20.0</td>\n",
       "      <td>failed</td>\n",
       "      <td>1</td>\n",
       "      <td>US</td>\n",
       "      <td>20.0</td>\n",
       "      <td>20.0</td>\n",
       "      <td>15000.00</td>\n",
       "    </tr>\n",
       "    <tr>\n",
       "      <th>378659</th>\n",
       "      <td>999987933</td>\n",
       "      <td>BioDefense Education Kit</td>\n",
       "      <td>Technology</td>\n",
       "      <td>Technology</td>\n",
       "      <td>USD</td>\n",
       "      <td>2016-02-13</td>\n",
       "      <td>15000.0</td>\n",
       "      <td>2016-01-13 18:13:53</td>\n",
       "      <td>200.0</td>\n",
       "      <td>failed</td>\n",
       "      <td>6</td>\n",
       "      <td>US</td>\n",
       "      <td>200.0</td>\n",
       "      <td>200.0</td>\n",
       "      <td>15000.00</td>\n",
       "    </tr>\n",
       "    <tr>\n",
       "      <th>378660</th>\n",
       "      <td>999988282</td>\n",
       "      <td>Nou Renmen Ayiti!  We Love Haiti!</td>\n",
       "      <td>Performance Art</td>\n",
       "      <td>Art</td>\n",
       "      <td>USD</td>\n",
       "      <td>2011-08-16</td>\n",
       "      <td>2000.0</td>\n",
       "      <td>2011-07-19 09:07:47</td>\n",
       "      <td>524.0</td>\n",
       "      <td>failed</td>\n",
       "      <td>17</td>\n",
       "      <td>US</td>\n",
       "      <td>524.0</td>\n",
       "      <td>524.0</td>\n",
       "      <td>2000.00</td>\n",
       "    </tr>\n",
       "  </tbody>\n",
       "</table>\n",
       "<p>378661 rows × 15 columns</p>\n",
       "</div>"
      ],
      "text/plain": [
       "                ID                                               name  \\\n",
       "0       1000002330                    The Songs of Adelaide & Abullah   \n",
       "1       1000003930      Greeting From Earth: ZGAC Arts Capsule For ET   \n",
       "2       1000004038                                     Where is Hank?   \n",
       "3       1000007540  ToshiCapital Rekordz Needs Help to Complete Album   \n",
       "4       1000011046  Community Film Project: The Art of Neighborhoo...   \n",
       "...            ...                                                ...   \n",
       "378656   999976400  ChknTruk Nationwide Charity Drive 2014 (Canceled)   \n",
       "378657   999977640                                          The Tribe   \n",
       "378658   999986353  Walls of Remedy- New lesbian Romantic Comedy f...   \n",
       "378659   999987933                           BioDefense Education Kit   \n",
       "378660   999988282                  Nou Renmen Ayiti!  We Love Haiti!   \n",
       "\n",
       "               category main_category currency    deadline     goal  \\\n",
       "0                Poetry    Publishing      GBP  2015-10-09   1000.0   \n",
       "1        Narrative Film  Film & Video      USD  2017-11-01  30000.0   \n",
       "2        Narrative Film  Film & Video      USD  2013-02-26  45000.0   \n",
       "3                 Music         Music      USD  2012-04-16   5000.0   \n",
       "4          Film & Video  Film & Video      USD  2015-08-29  19500.0   \n",
       "...                 ...           ...      ...         ...      ...   \n",
       "378656      Documentary  Film & Video      USD  2014-10-17  50000.0   \n",
       "378657   Narrative Film  Film & Video      USD  2011-07-19   1500.0   \n",
       "378658   Narrative Film  Film & Video      USD  2010-08-16  15000.0   \n",
       "378659       Technology    Technology      USD  2016-02-13  15000.0   \n",
       "378660  Performance Art           Art      USD  2011-08-16   2000.0   \n",
       "\n",
       "                   launched  pledged     state  backers country  usd pledged  \\\n",
       "0       2015-08-11 12:12:28      0.0    failed        0      GB          0.0   \n",
       "1       2017-09-02 04:43:57   2421.0    failed       15      US        100.0   \n",
       "2       2013-01-12 00:20:50    220.0    failed        3      US        220.0   \n",
       "3       2012-03-17 03:24:11      1.0    failed        1      US          1.0   \n",
       "4       2015-07-04 08:35:03   1283.0  canceled       14      US       1283.0   \n",
       "...                     ...      ...       ...      ...     ...          ...   \n",
       "378656  2014-09-17 02:35:30     25.0  canceled        1      US         25.0   \n",
       "378657  2011-06-22 03:35:14    155.0    failed        5      US        155.0   \n",
       "378658  2010-07-01 19:40:30     20.0    failed        1      US         20.0   \n",
       "378659  2016-01-13 18:13:53    200.0    failed        6      US        200.0   \n",
       "378660  2011-07-19 09:07:47    524.0    failed       17      US        524.0   \n",
       "\n",
       "        usd_pledged_real  usd_goal_real  \n",
       "0                    0.0        1533.95  \n",
       "1                 2421.0       30000.00  \n",
       "2                  220.0       45000.00  \n",
       "3                    1.0        5000.00  \n",
       "4                 1283.0       19500.00  \n",
       "...                  ...            ...  \n",
       "378656              25.0       50000.00  \n",
       "378657             155.0        1500.00  \n",
       "378658              20.0       15000.00  \n",
       "378659             200.0       15000.00  \n",
       "378660             524.0        2000.00  \n",
       "\n",
       "[378661 rows x 15 columns]"
      ]
     },
     "execution_count": 2,
     "metadata": {},
     "output_type": "execute_result"
    }
   ],
   "source": [
    "data = pd.read_csv('ks-projects-201801.csv')\n",
    "data"
   ]
  },
  {
   "cell_type": "markdown",
   "metadata": {},
   "source": [
    "### Data Cleaning"
   ]
  },
  {
   "cell_type": "code",
   "execution_count": 3,
   "metadata": {},
   "outputs": [
    {
     "name": "stdout",
     "output_type": "stream",
     "text": [
      "<class 'pandas.core.frame.DataFrame'>\n",
      "RangeIndex: 378661 entries, 0 to 378660\n",
      "Data columns (total 15 columns):\n",
      " #   Column            Non-Null Count   Dtype  \n",
      "---  ------            --------------   -----  \n",
      " 0   ID                378661 non-null  int64  \n",
      " 1   name              378657 non-null  object \n",
      " 2   category          378661 non-null  object \n",
      " 3   main_category     378661 non-null  object \n",
      " 4   currency          378661 non-null  object \n",
      " 5   deadline          378661 non-null  object \n",
      " 6   goal              378661 non-null  float64\n",
      " 7   launched          378661 non-null  object \n",
      " 8   pledged           378661 non-null  float64\n",
      " 9   state             378661 non-null  object \n",
      " 10  backers           378661 non-null  int64  \n",
      " 11  country           378661 non-null  object \n",
      " 12  usd pledged       374864 non-null  float64\n",
      " 13  usd_pledged_real  378661 non-null  float64\n",
      " 14  usd_goal_real     378661 non-null  float64\n",
      "dtypes: float64(5), int64(2), object(8)\n",
      "memory usage: 43.3+ MB\n"
     ]
    }
   ],
   "source": [
    "data.info()"
   ]
  },
  {
   "cell_type": "markdown",
   "metadata": {},
   "source": [
    "### Explorasi Data"
   ]
  },
  {
   "cell_type": "code",
   "execution_count": 4,
   "metadata": {},
   "outputs": [
    {
     "name": "stdout",
     "output_type": "stream",
     "text": [
      "<class 'pandas.core.frame.DataFrame'>\n",
      "RangeIndex: 378661 entries, 0 to 378660\n",
      "Data columns (total 15 columns):\n",
      " #   Column            Non-Null Count   Dtype  \n",
      "---  ------            --------------   -----  \n",
      " 0   ID                378661 non-null  int64  \n",
      " 1   name              378657 non-null  object \n",
      " 2   category          378661 non-null  object \n",
      " 3   main_category     378661 non-null  object \n",
      " 4   currency          378661 non-null  object \n",
      " 5   deadline          378661 non-null  object \n",
      " 6   goal              378661 non-null  float64\n",
      " 7   launched          378661 non-null  object \n",
      " 8   pledged           378661 non-null  float64\n",
      " 9   state             378661 non-null  object \n",
      " 10  backers           378661 non-null  int64  \n",
      " 11  country           378661 non-null  object \n",
      " 12  usd pledged       374864 non-null  float64\n",
      " 13  usd_pledged_real  378661 non-null  float64\n",
      " 14  usd_goal_real     378661 non-null  float64\n",
      "dtypes: float64(5), int64(2), object(8)\n",
      "memory usage: 43.3+ MB\n"
     ]
    }
   ],
   "source": [
    "data.info()"
   ]
  },
  {
   "cell_type": "code",
   "execution_count": 5,
   "metadata": {},
   "outputs": [
    {
     "data": {
      "text/plain": [
       "5000.00     24173\n",
       "10000.00    20786\n",
       "1000.00     13029\n",
       "3000.00     12699\n",
       "2000.00     11915\n",
       "            ...  \n",
       "2812.37         1\n",
       "5511.57         1\n",
       "34837.14        1\n",
       "21.56           1\n",
       "25566.05        1\n",
       "Name: usd_goal_real, Length: 50339, dtype: int64"
      ]
     },
     "execution_count": 5,
     "metadata": {},
     "output_type": "execute_result"
    }
   ],
   "source": [
    "data['usd_goal_real'].value_counts()"
   ]
  },
  {
   "cell_type": "code",
   "execution_count": 6,
   "metadata": {},
   "outputs": [
    {
     "data": {
      "text/plain": [
       "Film & Video    63585\n",
       "Music           51918\n",
       "Publishing      39874\n",
       "Games           35231\n",
       "Technology      32569\n",
       "Design          30070\n",
       "Art             28153\n",
       "Food            24602\n",
       "Fashion         22816\n",
       "Theater         10913\n",
       "Comics          10819\n",
       "Photography     10779\n",
       "Crafts           8809\n",
       "Journalism       4755\n",
       "Dance            3768\n",
       "Name: main_category, dtype: int64"
      ]
     },
     "execution_count": 6,
     "metadata": {},
     "output_type": "execute_result"
    }
   ],
   "source": [
    "data['main_category'].value_counts()"
   ]
  },
  {
   "cell_type": "code",
   "execution_count": 7,
   "metadata": {},
   "outputs": [
    {
     "data": {
      "text/html": [
       "<div>\n",
       "<style scoped>\n",
       "    .dataframe tbody tr th:only-of-type {\n",
       "        vertical-align: middle;\n",
       "    }\n",
       "\n",
       "    .dataframe tbody tr th {\n",
       "        vertical-align: top;\n",
       "    }\n",
       "\n",
       "    .dataframe thead th {\n",
       "        text-align: right;\n",
       "    }\n",
       "</style>\n",
       "<table border=\"1\" class=\"dataframe\">\n",
       "  <thead>\n",
       "    <tr style=\"text-align: right;\">\n",
       "      <th></th>\n",
       "      <th>name</th>\n",
       "      <th>main_category</th>\n",
       "      <th>usd_goal_real</th>\n",
       "    </tr>\n",
       "  </thead>\n",
       "  <tbody>\n",
       "    <tr>\n",
       "      <th>33</th>\n",
       "      <td>BB130A</td>\n",
       "      <td>Art</td>\n",
       "      <td>25000.0</td>\n",
       "    </tr>\n",
       "    <tr>\n",
       "      <th>38</th>\n",
       "      <td>Galaxy: Winnie and Friends</td>\n",
       "      <td>Art</td>\n",
       "      <td>3000.0</td>\n",
       "    </tr>\n",
       "    <tr>\n",
       "      <th>49</th>\n",
       "      <td>(In)visible Empire Tees</td>\n",
       "      <td>Art</td>\n",
       "      <td>1200.0</td>\n",
       "    </tr>\n",
       "    <tr>\n",
       "      <th>52</th>\n",
       "      <td>SkateFrames-Photo frame made from recycled ska...</td>\n",
       "      <td>Art</td>\n",
       "      <td>7500.0</td>\n",
       "    </tr>\n",
       "    <tr>\n",
       "      <th>62</th>\n",
       "      <td>TO RUSSIA WITH LOVE AND SIMON</td>\n",
       "      <td>Art</td>\n",
       "      <td>5000.0</td>\n",
       "    </tr>\n",
       "    <tr>\n",
       "      <th>...</th>\n",
       "      <td>...</td>\n",
       "      <td>...</td>\n",
       "      <td>...</td>\n",
       "    </tr>\n",
       "    <tr>\n",
       "      <th>378570</th>\n",
       "      <td>Fathers of cosplay</td>\n",
       "      <td>Art</td>\n",
       "      <td>20000.0</td>\n",
       "    </tr>\n",
       "    <tr>\n",
       "      <th>378574</th>\n",
       "      <td>Art Culture and development. building an art/m...</td>\n",
       "      <td>Art</td>\n",
       "      <td>20000.0</td>\n",
       "    </tr>\n",
       "    <tr>\n",
       "      <th>378612</th>\n",
       "      <td>31•13: Thesis Exhibition</td>\n",
       "      <td>Art</td>\n",
       "      <td>8000.0</td>\n",
       "    </tr>\n",
       "    <tr>\n",
       "      <th>378630</th>\n",
       "      <td>PookieCat rune cards - funny oracle cards for ...</td>\n",
       "      <td>Art</td>\n",
       "      <td>1695.6</td>\n",
       "    </tr>\n",
       "    <tr>\n",
       "      <th>378660</th>\n",
       "      <td>Nou Renmen Ayiti!  We Love Haiti!</td>\n",
       "      <td>Art</td>\n",
       "      <td>2000.0</td>\n",
       "    </tr>\n",
       "  </tbody>\n",
       "</table>\n",
       "<p>28153 rows × 3 columns</p>\n",
       "</div>"
      ],
      "text/plain": [
       "                                                     name main_category  \\\n",
       "33                                                 BB130A           Art   \n",
       "38                             Galaxy: Winnie and Friends           Art   \n",
       "49                                (In)visible Empire Tees           Art   \n",
       "52      SkateFrames-Photo frame made from recycled ska...           Art   \n",
       "62                          TO RUSSIA WITH LOVE AND SIMON           Art   \n",
       "...                                                   ...           ...   \n",
       "378570                                 Fathers of cosplay           Art   \n",
       "378574  Art Culture and development. building an art/m...           Art   \n",
       "378612                           31•13: Thesis Exhibition           Art   \n",
       "378630  PookieCat rune cards - funny oracle cards for ...           Art   \n",
       "378660                  Nou Renmen Ayiti!  We Love Haiti!           Art   \n",
       "\n",
       "        usd_goal_real  \n",
       "33            25000.0  \n",
       "38             3000.0  \n",
       "49             1200.0  \n",
       "52             7500.0  \n",
       "62             5000.0  \n",
       "...               ...  \n",
       "378570        20000.0  \n",
       "378574        20000.0  \n",
       "378612         8000.0  \n",
       "378630         1695.6  \n",
       "378660         2000.0  \n",
       "\n",
       "[28153 rows x 3 columns]"
      ]
     },
     "execution_count": 7,
     "metadata": {},
     "output_type": "execute_result"
    }
   ],
   "source": [
    "data2 = data.query(\"main_category == 'Art'\")[['name', 'main_category', 'usd_goal_real']]\n",
    "data2"
   ]
  },
  {
   "cell_type": "markdown",
   "metadata": {},
   "source": [
    "### Measure of Central Tendency"
   ]
  },
  {
   "cell_type": "code",
   "execution_count": 8,
   "metadata": {},
   "outputs": [
    {
     "name": "stdout",
     "output_type": "stream",
     "text": [
      "Nilai mean : 39198.57587894709\n",
      "Nilai median : 3000.0\n",
      "Nilai modus : 5000.0\n"
     ]
    }
   ],
   "source": [
    "data_mean =  data2['usd_goal_real'].mean()\n",
    "data_median = data2['usd_goal_real'].median()\n",
    "data_modus = data2['usd_goal_real'].mode()\n",
    "\n",
    "print('Nilai mean :', data_mean)\n",
    "print('Nilai median :', data_median)\n",
    "print('Nilai modus :', data_modus[0])"
   ]
  },
  {
   "cell_type": "code",
   "execution_count": 9,
   "metadata": {},
   "outputs": [],
   "source": [
    "def print_skewness(data2):\n",
    "    print(f'\\'{data2.name}\\' skewness: {data2.skew()}')\n",
    "    print(f'\\'{data2.name}\\' kurtosis: {data2.kurt()}')\n",
    "    if data2.skew() > 0.5:\n",
    "        print('right skewed')\n",
    "    elif data2.skew() < -0.5:\n",
    "        print('left skewed')\n",
    "    else:\n",
    "        print('normal distribution')"
   ]
  },
  {
   "cell_type": "code",
   "execution_count": 10,
   "metadata": {},
   "outputs": [],
   "source": [
    "#fungsi untuk visualisasi\n",
    "def visualize_data(data2):\n",
    "    print_skewness(data2) #panggil fungsi print_skewness\n",
    "    \n",
    "    plt.hist(data2, bins=20, rwidth=0.9, density=True) #histogram\n",
    "    plt.xlabel(f'{data2.name}')\n",
    "    plt.ylabel('Count')\n",
    "    \n",
    "    rng= np.arange(data2.min(), data2.max(), 10000)\n",
    "    plt.plot(rng, norm.pdf(rng, data2.mean(), data2.std())) #pdf normal\n",
    "    plt.legend(['Normal Distribution (PDF)', 'Histogram'])\n",
    "    plt.axvline(data2.mean(), color='magenta', linestyle='dashed', linewidth=2) #mean\n",
    "    plt.axvline(data2.median(), color='green', linestyle='dashed', linewidth=2) #median\n",
    "    plt.axvline(data2.mode()[0], color='red', linestyle='dashed', linewidth=2) #mode\n",
    "\n",
    "    plt.show()"
   ]
  },
  {
   "cell_type": "code",
   "execution_count": 11,
   "metadata": {},
   "outputs": [
    {
     "name": "stdout",
     "output_type": "stream",
     "text": [
      "'usd_goal_real' skewness: 61.03128941575268\n",
      "'usd_goal_real' kurtosis: 4035.983898831817\n",
      "right skewed\n"
     ]
    },
    {
     "data": {
      "image/png": "[encoded data removed]",
      "text/plain": [
       "<Figure size 432x288 with 1 Axes>"
      ]
     },
     "metadata": {
      "needs_background": "light"
     },
     "output_type": "display_data"
    }
   ],
   "source": [
    "visualize_data(data2['usd_goal_real'])"
   ]
  },
  {
   "cell_type": "markdown",
   "metadata": {},
   "source": [
    "### Measure of Variance*"
   ]
  },
  {
   "cell_type": "code",
   "execution_count": 17,
   "metadata": {},
   "outputs": [
    {
     "name": "stdout",
     "output_type": "stream",
     "text": [
      "Nilai range : 99999999.99\n",
      "Nilai variance : 1720720075991.3699\n",
      "Nilai Standard deviation : 1311762.2025319107\n",
      "Nilai quantile :  0.25    1000.0\n",
      "0.50    3000.0\n",
      "0.75    7500.0\n",
      "Name: usd_goal_real, dtype: float64\n"
     ]
    }
   ],
   "source": [
    "data_range = data2['usd_goal_real'].max() - data2['usd_goal_real'].min()\n",
    "data_var = data2['usd_goal_real'].var()\n",
    "data_std = data2['usd_goal_real'].std()\n",
    "data_quantile = data2['usd_goal_real'].quantile([0.25, 0.5, 0.75])\n",
    "\n",
    "print('Nilai range :', data_range)\n",
    "print('Nilai variance :', data_var)\n",
    "print('Nilai Standard deviation :', data_std)\n",
    "print('Nilai quantile : ', data_quantile)"
   ]
  },
  {
   "cell_type": "code",
   "execution_count": 18,
   "metadata": {},
   "outputs": [
    {
     "data": {
      "image/png": "[encoded data removed]",
      "text/plain": [
       "<Figure size 720x432 with 1 Axes>"
      ]
     },
     "metadata": {
      "needs_background": "light"
     },
     "output_type": "display_data"
    }
   ],
   "source": [
    "data2['usd_goal_real'].plot(kind='box', figsize=(10, 6))\n",
    "plt.show()"
   ]
  },
  {
   "cell_type": "code",
   "execution_count": 19,
   "metadata": {},
   "outputs": [
    {
     "data": {
      "text/plain": [
       "(-8750.0, 17250.0)"
      ]
     },
     "execution_count": 19,
     "metadata": {},
     "output_type": "execute_result"
    }
   ],
   "source": [
    "Q1= data2.usd_goal_real.quantile(0.25)\n",
    "Q3= data2.usd_goal_real.quantile(0.75)\n",
    "\n",
    "IQR= Q3-Q1\n",
    "\n",
    "lower_limit= Q1 - 1.5*IQR\n",
    "upper_limit= Q3 + 1.5*IQR\n",
    "lower_limit, upper_limit"
   ]
  },
  {
   "cell_type": "code",
   "execution_count": 20,
   "metadata": {},
   "outputs": [
    {
     "data": {
      "text/html": [
       "<div>\n",
       "<style scoped>\n",
       "    .dataframe tbody tr th:only-of-type {\n",
       "        vertical-align: middle;\n",
       "    }\n",
       "\n",
       "    .dataframe tbody tr th {\n",
       "        vertical-align: top;\n",
       "    }\n",
       "\n",
       "    .dataframe thead th {\n",
       "        text-align: right;\n",
       "    }\n",
       "</style>\n",
       "<table border=\"1\" class=\"dataframe\">\n",
       "  <thead>\n",
       "    <tr style=\"text-align: right;\">\n",
       "      <th></th>\n",
       "      <th>name</th>\n",
       "      <th>main_category</th>\n",
       "      <th>usd_goal_real</th>\n",
       "    </tr>\n",
       "  </thead>\n",
       "  <tbody>\n",
       "    <tr>\n",
       "      <th>33</th>\n",
       "      <td>BB130A</td>\n",
       "      <td>Art</td>\n",
       "      <td>25000.00</td>\n",
       "    </tr>\n",
       "    <tr>\n",
       "      <th>284</th>\n",
       "      <td>A Portrait a Day 365 Challenge</td>\n",
       "      <td>Art</td>\n",
       "      <td>30000.00</td>\n",
       "    </tr>\n",
       "    <tr>\n",
       "      <th>327</th>\n",
       "      <td>Dream Project</td>\n",
       "      <td>Art</td>\n",
       "      <td>233081.22</td>\n",
       "    </tr>\n",
       "    <tr>\n",
       "      <th>461</th>\n",
       "      <td>Mongol Art World Tour _ Save The Art</td>\n",
       "      <td>Art</td>\n",
       "      <td>25000.00</td>\n",
       "    </tr>\n",
       "    <tr>\n",
       "      <th>540</th>\n",
       "      <td>Painting an entire favela in Rio de Janeiro</td>\n",
       "      <td>Art</td>\n",
       "      <td>100000.00</td>\n",
       "    </tr>\n",
       "    <tr>\n",
       "      <th>...</th>\n",
       "      <td>...</td>\n",
       "      <td>...</td>\n",
       "      <td>...</td>\n",
       "    </tr>\n",
       "    <tr>\n",
       "      <th>378398</th>\n",
       "      <td>Wild Times</td>\n",
       "      <td>Art</td>\n",
       "      <td>20000.00</td>\n",
       "    </tr>\n",
       "    <tr>\n",
       "      <th>378468</th>\n",
       "      <td>Teaching Millenials how to drive Manual cars!</td>\n",
       "      <td>Art</td>\n",
       "      <td>35000.00</td>\n",
       "    </tr>\n",
       "    <tr>\n",
       "      <th>378499</th>\n",
       "      <td>100 Drawings/John Raimondi, Sculptor (Canceled)</td>\n",
       "      <td>Art</td>\n",
       "      <td>45000.00</td>\n",
       "    </tr>\n",
       "    <tr>\n",
       "      <th>378570</th>\n",
       "      <td>Fathers of cosplay</td>\n",
       "      <td>Art</td>\n",
       "      <td>20000.00</td>\n",
       "    </tr>\n",
       "    <tr>\n",
       "      <th>378574</th>\n",
       "      <td>Art Culture and development. building an art/m...</td>\n",
       "      <td>Art</td>\n",
       "      <td>20000.00</td>\n",
       "    </tr>\n",
       "  </tbody>\n",
       "</table>\n",
       "<p>3192 rows × 3 columns</p>\n",
       "</div>"
      ],
      "text/plain": [
       "                                                     name main_category  \\\n",
       "33                                                 BB130A           Art   \n",
       "284                        A Portrait a Day 365 Challenge           Art   \n",
       "327                                         Dream Project           Art   \n",
       "461                  Mongol Art World Tour _ Save The Art           Art   \n",
       "540           Painting an entire favela in Rio de Janeiro           Art   \n",
       "...                                                   ...           ...   \n",
       "378398                                         Wild Times           Art   \n",
       "378468      Teaching Millenials how to drive Manual cars!           Art   \n",
       "378499    100 Drawings/John Raimondi, Sculptor (Canceled)           Art   \n",
       "378570                                 Fathers of cosplay           Art   \n",
       "378574  Art Culture and development. building an art/m...           Art   \n",
       "\n",
       "        usd_goal_real  \n",
       "33           25000.00  \n",
       "284          30000.00  \n",
       "327         233081.22  \n",
       "461          25000.00  \n",
       "540         100000.00  \n",
       "...               ...  \n",
       "378398       20000.00  \n",
       "378468       35000.00  \n",
       "378499       45000.00  \n",
       "378570       20000.00  \n",
       "378574       20000.00  \n",
       "\n",
       "[3192 rows x 3 columns]"
      ]
     },
     "execution_count": 20,
     "metadata": {},
     "output_type": "execute_result"
    }
   ],
   "source": [
    "outlier_iqr= data2[(data2.usd_goal_real > upper_limit) | (data2.usd_goal_real < lower_limit)]\n",
    "outlier_iqr"
   ]
  },
  {
   "cell_type": "code",
   "execution_count": 21,
   "metadata": {},
   "outputs": [
    {
     "data": {
      "text/html": [
       "<div>\n",
       "<style scoped>\n",
       "    .dataframe tbody tr th:only-of-type {\n",
       "        vertical-align: middle;\n",
       "    }\n",
       "\n",
       "    .dataframe tbody tr th {\n",
       "        vertical-align: top;\n",
       "    }\n",
       "\n",
       "    .dataframe thead th {\n",
       "        text-align: right;\n",
       "    }\n",
       "</style>\n",
       "<table border=\"1\" class=\"dataframe\">\n",
       "  <thead>\n",
       "    <tr style=\"text-align: right;\">\n",
       "      <th></th>\n",
       "      <th>name</th>\n",
       "      <th>main_category</th>\n",
       "      <th>usd_goal_real</th>\n",
       "    </tr>\n",
       "  </thead>\n",
       "  <tbody>\n",
       "    <tr>\n",
       "      <th>38</th>\n",
       "      <td>Galaxy: Winnie and Friends</td>\n",
       "      <td>Art</td>\n",
       "      <td>3000.00</td>\n",
       "    </tr>\n",
       "    <tr>\n",
       "      <th>49</th>\n",
       "      <td>(In)visible Empire Tees</td>\n",
       "      <td>Art</td>\n",
       "      <td>1200.00</td>\n",
       "    </tr>\n",
       "    <tr>\n",
       "      <th>52</th>\n",
       "      <td>SkateFrames-Photo frame made from recycled ska...</td>\n",
       "      <td>Art</td>\n",
       "      <td>7500.00</td>\n",
       "    </tr>\n",
       "    <tr>\n",
       "      <th>62</th>\n",
       "      <td>TO RUSSIA WITH LOVE AND SIMON</td>\n",
       "      <td>Art</td>\n",
       "      <td>5000.00</td>\n",
       "    </tr>\n",
       "    <tr>\n",
       "      <th>116</th>\n",
       "      <td>Carriage</td>\n",
       "      <td>Art</td>\n",
       "      <td>8000.00</td>\n",
       "    </tr>\n",
       "    <tr>\n",
       "      <th>...</th>\n",
       "      <td>...</td>\n",
       "      <td>...</td>\n",
       "      <td>...</td>\n",
       "    </tr>\n",
       "    <tr>\n",
       "      <th>378557</th>\n",
       "      <td>Blade of Marmora (Voltron: Legendary Defender)...</td>\n",
       "      <td>Art</td>\n",
       "      <td>381.71</td>\n",
       "    </tr>\n",
       "    <tr>\n",
       "      <th>378560</th>\n",
       "      <td>HYBRID a Local Art Productions group Art Show</td>\n",
       "      <td>Art</td>\n",
       "      <td>4300.00</td>\n",
       "    </tr>\n",
       "    <tr>\n",
       "      <th>378612</th>\n",
       "      <td>31•13: Thesis Exhibition</td>\n",
       "      <td>Art</td>\n",
       "      <td>8000.00</td>\n",
       "    </tr>\n",
       "    <tr>\n",
       "      <th>378630</th>\n",
       "      <td>PookieCat rune cards - funny oracle cards for ...</td>\n",
       "      <td>Art</td>\n",
       "      <td>1695.60</td>\n",
       "    </tr>\n",
       "    <tr>\n",
       "      <th>378660</th>\n",
       "      <td>Nou Renmen Ayiti!  We Love Haiti!</td>\n",
       "      <td>Art</td>\n",
       "      <td>2000.00</td>\n",
       "    </tr>\n",
       "  </tbody>\n",
       "</table>\n",
       "<p>24961 rows × 3 columns</p>\n",
       "</div>"
      ],
      "text/plain": [
       "                                                     name main_category  \\\n",
       "38                             Galaxy: Winnie and Friends           Art   \n",
       "49                                (In)visible Empire Tees           Art   \n",
       "52      SkateFrames-Photo frame made from recycled ska...           Art   \n",
       "62                          TO RUSSIA WITH LOVE AND SIMON           Art   \n",
       "116                                              Carriage           Art   \n",
       "...                                                   ...           ...   \n",
       "378557  Blade of Marmora (Voltron: Legendary Defender)...           Art   \n",
       "378560      HYBRID a Local Art Productions group Art Show           Art   \n",
       "378612                           31•13: Thesis Exhibition           Art   \n",
       "378630  PookieCat rune cards - funny oracle cards for ...           Art   \n",
       "378660                  Nou Renmen Ayiti!  We Love Haiti!           Art   \n",
       "\n",
       "        usd_goal_real  \n",
       "38            3000.00  \n",
       "49            1200.00  \n",
       "52            7500.00  \n",
       "62            5000.00  \n",
       "116           8000.00  \n",
       "...               ...  \n",
       "378557         381.71  \n",
       "378560        4300.00  \n",
       "378612        8000.00  \n",
       "378630        1695.60  \n",
       "378660        2000.00  \n",
       "\n",
       "[24961 rows x 3 columns]"
      ]
     },
     "execution_count": 21,
     "metadata": {},
     "output_type": "execute_result"
    }
   ],
   "source": [
    "data_new = data2[~(data2.usd_goal_real > upper_limit) & ~(data2.usd_goal_real < lower_limit)]\n",
    "data_new"
   ]
  },
  {
   "cell_type": "markdown",
   "metadata": {},
   "source": [
    "### Hyphotesis Testing*"
   ]
  },
  {
   "cell_type": "markdown",
   "metadata": {},
   "source": [
    "Our hypothesis on this case:\n",
    "\n",
    "**H0: μ data awal = μ data tanpa outlier**\n",
    "\n",
    "**H1: μ data awal != μ data tanpa outlier**"
   ]
  },
  {
   "cell_type": "code",
   "execution_count": 22,
   "metadata": {},
   "outputs": [
    {
     "data": {
      "text/plain": [
       "3617.46787708825"
      ]
     },
     "execution_count": 22,
     "metadata": {},
     "output_type": "execute_result"
    }
   ],
   "source": [
    "data_new['usd_goal_real'].mean()"
   ]
  },
  {
   "cell_type": "code",
   "execution_count": 23,
   "metadata": {},
   "outputs": [
    {
     "data": {
      "text/plain": [
       "39198.57587894709"
      ]
     },
     "execution_count": 23,
     "metadata": {},
     "output_type": "execute_result"
    }
   ],
   "source": [
    "data_mean"
   ]
  },
  {
   "cell_type": "code",
   "execution_count": 25,
   "metadata": {},
   "outputs": [
    {
     "name": "stdout",
     "output_type": "stream",
     "text": [
      "P-value: 0.0\n",
      "t-statistics: -1497.786178635619\n"
     ]
    }
   ],
   "source": [
    "t_stat,p_val = stats.ttest_1samp(data_new.usd_goal_real, data_mean)\n",
    "print('P-value:',p_val) \n",
    "print('t-statistics:',t_stat)"
   ]
  },
  {
   "cell_type": "markdown",
   "metadata": {},
   "source": [
    "## Conclusions, Assumptions, Overall Analysis\n",
    "\n",
    "- Data yang digunakan merupakan pengambilan sample usd_goal_real dari projek dengan main kategori Art\n",
    "- Dari hasil perhitungan central tendency diketahui nilai mean : 39198.57587894709, median : 3000.0, dan modus : 5000.0\n",
    "- Diperoleh nilai skewness sebesar 61.03128941575268, karena ilai skewness lebih dari 0.5, maka data tergolong right-skewed\n",
    "- Dari hasil perhitungan variance, diperoleh nilai range : 99999999.99, variance : 1720720075991.3699, Standard deviation : 1311762.2025319107\n",
    "- Diperoleh nilai quantile 0.25 : 1000.0, 0.5 : 3000.0, dan 0.75 : 7500.0\n",
    "- Karena data tidak terdistribusi secara normal, maka dilakukan pencarian outlier dan diperoleh outlier sebanyak : 3192\n",
    "- Kemudian outlier tersebut dilakukan cleaning, lalu dilakukan hyphotesis testing dengan menggunakan metode 1 sample test, untuk mengetahui apakah nilai rata-rata dari data usd_goal_real awal sebelum dilakukan cleaning sama dengan rata-rata dari data usd_goal_real setelah dilakukan cleaning\n",
    "- Didapatkan nilai P-value : 0.0, karena nilai P-value lebih kecil dari 0.05 atau 5%, maka H0 gagal ditolak, sehingga ada kemungkinan rata-rata dari data usd_goal_real awal sebelum dilakukan cleaning tidak sama dengan rata-rata dari data usd_goal_real setelah dilakukan cleaning"
   ]
  }
 ],
 "metadata": {
  "interpreter": {
   "hash": "1db582576cf1a7865b18dc5d02f6c506c0f252f646be269542e059032415341a"
  },
  "kernelspec": {
   "display_name": "Python 3.9.7 ('base')",
   "language": "python",
   "name": "python3"
  },
  "language_info": {
   "codemirror_mode": {
    "name": "ipython",
    "version": 3
   },
   "file_extension": ".py",
   "mimetype": "text/x-python",
   "name": "python",
   "nbconvert_exporter": "python",
   "pygments_lexer": "ipython3",
   "version": "3.9.7"
  },
  "orig_nbformat": 4
 },
 "nbformat": 4,
 "nbformat_minor": 2
}
